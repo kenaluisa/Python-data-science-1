{
  "cells": [
    {
      "cell_type": "markdown",
      "metadata": {
        "id": "view-in-github",
        "colab_type": "text"
      },
      "source": [
        "<a href=\"https://colab.research.google.com/github/kenaluisa/Python-data-science-1/blob/main/Python_para_Data_Science_Pandas.ipynb\" target=\"_parent\"><img src=\"https://colab.research.google.com/assets/colab-badge.svg\" alt=\"Open In Colab\"/></a>"
      ]
    },
    {
      "cell_type": "markdown",
      "metadata": {
        "id": "W4bTJkJED0-t"
      },
      "source": [
        "# <font color=green> PYTHON PARA DATA SCIENCE - PANDAS\n",
        "---"
      ]
    },
    {
      "cell_type": "markdown",
      "metadata": {
        "id": "GOEcCc62D0-x"
      },
      "source": [
        "# <font color=green> 1. INTRODUCCIÓN A PYTHON\n",
        "---"
      ]
    },
    {
      "cell_type": "markdown",
      "metadata": {
        "id": "oGvoOJ-XD0-y"
      },
      "source": [
        "# 1.1 Introducción"
      ]
    },
    {
      "cell_type": "markdown",
      "metadata": {
        "id": "fam3BM0aD0-z"
      },
      "source": [
        "> Python es un lenguaje de programación de alto nivel con soporte a múltiples paradigmas de programación. Es un proyecto *open source* y desde su aparición en 1991, viene convirtiéndose en uno de los lenguajes de programación interpretados más populares. \n",
        ">\n",
        "> En los últimos años Python ha desarrollado una comunidad activa de procesamiento científico y análisis de datos y viene destacándose como uno de los lenguajes más relevantes cuando el asunto es ciencia de datos y machine learning, tanto en el entorno académico como también en el entorno laboral."
      ]
    },
    {
      "cell_type": "markdown",
      "metadata": {
        "id": "6kH5DY-vD0-1"
      },
      "source": [
        "# 1.2 Instalación y entorno de trabajo"
      ]
    },
    {
      "cell_type": "markdown",
      "metadata": {
        "id": "BTpm79I2D0-2"
      },
      "source": [
        "### Instalación Local\n",
        "\n",
        "### https://www.python.org/downloads/\n",
        "### o\n",
        "### https://www.anaconda.com/distribution/"
      ]
    },
    {
      "cell_type": "markdown",
      "metadata": {
        "id": "AuPS_XwRD0-3"
      },
      "source": [
        "### Google Colaboratory\n",
        "\n",
        "### https://colab.research.google.com"
      ]
    },
    {
      "cell_type": "markdown",
      "metadata": {
        "id": "4rUYsPrXD0-4"
      },
      "source": [
        "### Verificando versión"
      ]
    },
    {
      "cell_type": "code",
      "execution_count": null,
      "metadata": {
        "id": "PgTCVRB2D0-5"
      },
      "outputs": [],
      "source": []
    },
    {
      "cell_type": "markdown",
      "metadata": {
        "id": "lTtI6so4D0-9"
      },
      "source": [
        "# 1.3 Trabajando con datos"
      ]
    },
    {
      "cell_type": "code",
      "execution_count": null,
      "metadata": {
        "id": "E_n4FUUWD0-9"
      },
      "outputs": [],
      "source": [
        "import pandas as pd\n",
        "pd.set_option('display.max_rows', 10)\n",
        "pd.set_option('display.max_columns', 10)"
      ]
    },
    {
      "cell_type": "code",
      "execution_count": null,
      "metadata": {
        "id": "Kq-JdRHFD0-_"
      },
      "outputs": [],
      "source": [
        "dataset = pd.read_csv('db.csv', sep=';')"
      ]
    },
    {
      "cell_type": "code",
      "source": [
        "from google.colab import drive\n",
        "drive.mount('/content/drive')"
      ],
      "metadata": {
        "id": "HxtG7tW8iurK",
        "colab": {
          "base_uri": "https://localhost:8080/"
        },
        "outputId": "40fab6ed-cc34-4392-8191-647e97b84aa9"
      },
      "execution_count": null,
      "outputs": [
        {
          "output_type": "stream",
          "name": "stdout",
          "text": [
            "Mounted at /content/drive\n"
          ]
        }
      ]
    },
    {
      "cell_type": "code",
      "execution_count": null,
      "metadata": {
        "colab": {
          "base_uri": "https://localhost:8080/",
          "height": 423
        },
        "id": "mOV1rCA6D0_A",
        "scrolled": true,
        "outputId": "c02e302a-6933-4ee3-929b-500a941de9cc"
      },
      "outputs": [
        {
          "output_type": "execute_result",
          "data": {
            "text/plain": [
              "                    Nombre                  Motor   Año  Kilometraje  Cero_km  \\\n",
              "0            Jetta Variant        Motor 4.0 Turbo  2003      44410.0    False   \n",
              "1                   Passat           Motor Diesel  1991       5712.0    False   \n",
              "2                 Crossfox        Motor Diesel V8  1990      37123.0    False   \n",
              "3                      DS5        Motor 2.4 Turbo  2019          NaN     True   \n",
              "4         Aston Martin DB4        Motor 2.4 Turbo  2006      25757.0    False   \n",
              "..                     ...                    ...   ...          ...      ...   \n",
              "253           Phantom 2013               Motor V8  2014      27505.0    False   \n",
              "254  Cadillac Ciel concept               Motor V8  1991      29981.0    False   \n",
              "255             Classe GLK  Motor 5.0 V8 Bi-Turbo  2002      52637.0    False   \n",
              "256       Aston Martin DB5           Motor Diesel  1996       7685.0    False   \n",
              "257                  Macan        Motor Diesel V6  1992      50188.0    False   \n",
              "\n",
              "                                            Accesorios      Valor  \n",
              "0    ['Llantas de aleación', 'Cerraduras electricas...   88078.64  \n",
              "1    ['Central multimedia', 'Techo panorámico', 'Fr...  106161.94  \n",
              "2    ['Piloto automático', 'Control de estabilidad'...   72832.16  \n",
              "3    ['Cerraduras electricas', '4 X 4', 'Ventanas e...  124549.07  \n",
              "4    ['Llantas de aleación', '4 X 4', 'Central mult...   92612.10  \n",
              "..                                                 ...        ...  \n",
              "253  ['Control de estabilidad', 'Piloto automático'...   51759.58  \n",
              "254  ['Asientos de cuero', 'Panel digital', 'Sensor...   51667.06  \n",
              "255  ['Llantas de aleación', 'Control de tracción',...   68934.03  \n",
              "256  ['Aire condicionado', '4 X 4', 'Transmisión au...  122110.90  \n",
              "257  ['Central multimedia', 'Techo panorámico', 'Ve...   90381.47  \n",
              "\n",
              "[258 rows x 7 columns]"
            ],
            "text/html": [
              "\n",
              "  <div id=\"df-24aec587-b82c-4490-9645-2521f4b3dc80\">\n",
              "    <div class=\"colab-df-container\">\n",
              "      <div>\n",
              "<style scoped>\n",
              "    .dataframe tbody tr th:only-of-type {\n",
              "        vertical-align: middle;\n",
              "    }\n",
              "\n",
              "    .dataframe tbody tr th {\n",
              "        vertical-align: top;\n",
              "    }\n",
              "\n",
              "    .dataframe thead th {\n",
              "        text-align: right;\n",
              "    }\n",
              "</style>\n",
              "<table border=\"1\" class=\"dataframe\">\n",
              "  <thead>\n",
              "    <tr style=\"text-align: right;\">\n",
              "      <th></th>\n",
              "      <th>Nombre</th>\n",
              "      <th>Motor</th>\n",
              "      <th>Año</th>\n",
              "      <th>Kilometraje</th>\n",
              "      <th>Cero_km</th>\n",
              "      <th>Accesorios</th>\n",
              "      <th>Valor</th>\n",
              "    </tr>\n",
              "  </thead>\n",
              "  <tbody>\n",
              "    <tr>\n",
              "      <th>0</th>\n",
              "      <td>Jetta Variant</td>\n",
              "      <td>Motor 4.0 Turbo</td>\n",
              "      <td>2003</td>\n",
              "      <td>44410.0</td>\n",
              "      <td>False</td>\n",
              "      <td>['Llantas de aleación', 'Cerraduras electricas...</td>\n",
              "      <td>88078.64</td>\n",
              "    </tr>\n",
              "    <tr>\n",
              "      <th>1</th>\n",
              "      <td>Passat</td>\n",
              "      <td>Motor Diesel</td>\n",
              "      <td>1991</td>\n",
              "      <td>5712.0</td>\n",
              "      <td>False</td>\n",
              "      <td>['Central multimedia', 'Techo panorámico', 'Fr...</td>\n",
              "      <td>106161.94</td>\n",
              "    </tr>\n",
              "    <tr>\n",
              "      <th>2</th>\n",
              "      <td>Crossfox</td>\n",
              "      <td>Motor Diesel V8</td>\n",
              "      <td>1990</td>\n",
              "      <td>37123.0</td>\n",
              "      <td>False</td>\n",
              "      <td>['Piloto automático', 'Control de estabilidad'...</td>\n",
              "      <td>72832.16</td>\n",
              "    </tr>\n",
              "    <tr>\n",
              "      <th>3</th>\n",
              "      <td>DS5</td>\n",
              "      <td>Motor 2.4 Turbo</td>\n",
              "      <td>2019</td>\n",
              "      <td>NaN</td>\n",
              "      <td>True</td>\n",
              "      <td>['Cerraduras electricas', '4 X 4', 'Ventanas e...</td>\n",
              "      <td>124549.07</td>\n",
              "    </tr>\n",
              "    <tr>\n",
              "      <th>4</th>\n",
              "      <td>Aston Martin DB4</td>\n",
              "      <td>Motor 2.4 Turbo</td>\n",
              "      <td>2006</td>\n",
              "      <td>25757.0</td>\n",
              "      <td>False</td>\n",
              "      <td>['Llantas de aleación', '4 X 4', 'Central mult...</td>\n",
              "      <td>92612.10</td>\n",
              "    </tr>\n",
              "    <tr>\n",
              "      <th>...</th>\n",
              "      <td>...</td>\n",
              "      <td>...</td>\n",
              "      <td>...</td>\n",
              "      <td>...</td>\n",
              "      <td>...</td>\n",
              "      <td>...</td>\n",
              "      <td>...</td>\n",
              "    </tr>\n",
              "    <tr>\n",
              "      <th>253</th>\n",
              "      <td>Phantom 2013</td>\n",
              "      <td>Motor V8</td>\n",
              "      <td>2014</td>\n",
              "      <td>27505.0</td>\n",
              "      <td>False</td>\n",
              "      <td>['Control de estabilidad', 'Piloto automático'...</td>\n",
              "      <td>51759.58</td>\n",
              "    </tr>\n",
              "    <tr>\n",
              "      <th>254</th>\n",
              "      <td>Cadillac Ciel concept</td>\n",
              "      <td>Motor V8</td>\n",
              "      <td>1991</td>\n",
              "      <td>29981.0</td>\n",
              "      <td>False</td>\n",
              "      <td>['Asientos de cuero', 'Panel digital', 'Sensor...</td>\n",
              "      <td>51667.06</td>\n",
              "    </tr>\n",
              "    <tr>\n",
              "      <th>255</th>\n",
              "      <td>Classe GLK</td>\n",
              "      <td>Motor 5.0 V8 Bi-Turbo</td>\n",
              "      <td>2002</td>\n",
              "      <td>52637.0</td>\n",
              "      <td>False</td>\n",
              "      <td>['Llantas de aleación', 'Control de tracción',...</td>\n",
              "      <td>68934.03</td>\n",
              "    </tr>\n",
              "    <tr>\n",
              "      <th>256</th>\n",
              "      <td>Aston Martin DB5</td>\n",
              "      <td>Motor Diesel</td>\n",
              "      <td>1996</td>\n",
              "      <td>7685.0</td>\n",
              "      <td>False</td>\n",
              "      <td>['Aire condicionado', '4 X 4', 'Transmisión au...</td>\n",
              "      <td>122110.90</td>\n",
              "    </tr>\n",
              "    <tr>\n",
              "      <th>257</th>\n",
              "      <td>Macan</td>\n",
              "      <td>Motor Diesel V6</td>\n",
              "      <td>1992</td>\n",
              "      <td>50188.0</td>\n",
              "      <td>False</td>\n",
              "      <td>['Central multimedia', 'Techo panorámico', 'Ve...</td>\n",
              "      <td>90381.47</td>\n",
              "    </tr>\n",
              "  </tbody>\n",
              "</table>\n",
              "<p>258 rows × 7 columns</p>\n",
              "</div>\n",
              "      <button class=\"colab-df-convert\" onclick=\"convertToInteractive('df-24aec587-b82c-4490-9645-2521f4b3dc80')\"\n",
              "              title=\"Convert this dataframe to an interactive table.\"\n",
              "              style=\"display:none;\">\n",
              "        \n",
              "  <svg xmlns=\"http://www.w3.org/2000/svg\" height=\"24px\"viewBox=\"0 0 24 24\"\n",
              "       width=\"24px\">\n",
              "    <path d=\"M0 0h24v24H0V0z\" fill=\"none\"/>\n",
              "    <path d=\"M18.56 5.44l.94 2.06.94-2.06 2.06-.94-2.06-.94-.94-2.06-.94 2.06-2.06.94zm-11 1L8.5 8.5l.94-2.06 2.06-.94-2.06-.94L8.5 2.5l-.94 2.06-2.06.94zm10 10l.94 2.06.94-2.06 2.06-.94-2.06-.94-.94-2.06-.94 2.06-2.06.94z\"/><path d=\"M17.41 7.96l-1.37-1.37c-.4-.4-.92-.59-1.43-.59-.52 0-1.04.2-1.43.59L10.3 9.45l-7.72 7.72c-.78.78-.78 2.05 0 2.83L4 21.41c.39.39.9.59 1.41.59.51 0 1.02-.2 1.41-.59l7.78-7.78 2.81-2.81c.8-.78.8-2.07 0-2.86zM5.41 20L4 18.59l7.72-7.72 1.47 1.35L5.41 20z\"/>\n",
              "  </svg>\n",
              "      </button>\n",
              "      \n",
              "  <style>\n",
              "    .colab-df-container {\n",
              "      display:flex;\n",
              "      flex-wrap:wrap;\n",
              "      gap: 12px;\n",
              "    }\n",
              "\n",
              "    .colab-df-convert {\n",
              "      background-color: #E8F0FE;\n",
              "      border: none;\n",
              "      border-radius: 50%;\n",
              "      cursor: pointer;\n",
              "      display: none;\n",
              "      fill: #1967D2;\n",
              "      height: 32px;\n",
              "      padding: 0 0 0 0;\n",
              "      width: 32px;\n",
              "    }\n",
              "\n",
              "    .colab-df-convert:hover {\n",
              "      background-color: #E2EBFA;\n",
              "      box-shadow: 0px 1px 2px rgba(60, 64, 67, 0.3), 0px 1px 3px 1px rgba(60, 64, 67, 0.15);\n",
              "      fill: #174EA6;\n",
              "    }\n",
              "\n",
              "    [theme=dark] .colab-df-convert {\n",
              "      background-color: #3B4455;\n",
              "      fill: #D2E3FC;\n",
              "    }\n",
              "\n",
              "    [theme=dark] .colab-df-convert:hover {\n",
              "      background-color: #434B5C;\n",
              "      box-shadow: 0px 1px 3px 1px rgba(0, 0, 0, 0.15);\n",
              "      filter: drop-shadow(0px 1px 2px rgba(0, 0, 0, 0.3));\n",
              "      fill: #FFFFFF;\n",
              "    }\n",
              "  </style>\n",
              "\n",
              "      <script>\n",
              "        const buttonEl =\n",
              "          document.querySelector('#df-24aec587-b82c-4490-9645-2521f4b3dc80 button.colab-df-convert');\n",
              "        buttonEl.style.display =\n",
              "          google.colab.kernel.accessAllowed ? 'block' : 'none';\n",
              "\n",
              "        async function convertToInteractive(key) {\n",
              "          const element = document.querySelector('#df-24aec587-b82c-4490-9645-2521f4b3dc80');\n",
              "          const dataTable =\n",
              "            await google.colab.kernel.invokeFunction('convertToInteractive',\n",
              "                                                     [key], {});\n",
              "          if (!dataTable) return;\n",
              "\n",
              "          const docLinkHtml = 'Like what you see? Visit the ' +\n",
              "            '<a target=\"_blank\" href=https://colab.research.google.com/notebooks/data_table.ipynb>data table notebook</a>'\n",
              "            + ' to learn more about interactive tables.';\n",
              "          element.innerHTML = '';\n",
              "          dataTable['output_type'] = 'display_data';\n",
              "          await google.colab.output.renderOutput(dataTable, element);\n",
              "          const docLink = document.createElement('div');\n",
              "          docLink.innerHTML = docLinkHtml;\n",
              "          element.appendChild(docLink);\n",
              "        }\n",
              "      </script>\n",
              "    </div>\n",
              "  </div>\n",
              "  "
            ]
          },
          "metadata": {},
          "execution_count": 21
        }
      ],
      "source": [
        "dataset"
      ]
    },
    {
      "cell_type": "code",
      "execution_count": null,
      "metadata": {
        "colab": {
          "base_uri": "https://localhost:8080/"
        },
        "id": "5D739PzJD0_B",
        "outputId": "c9f74b58-d672-4175-bd58-630e6b6def5d"
      },
      "outputs": [
        {
          "output_type": "execute_result",
          "data": {
            "text/plain": [
              "Nombre          object\n",
              "Motor           object\n",
              "Año              int64\n",
              "Kilometraje    float64\n",
              "Cero_km           bool\n",
              "Accesorios      object\n",
              "Valor          float64\n",
              "dtype: object"
            ]
          },
          "metadata": {},
          "execution_count": 22
        }
      ],
      "source": [
        "dataset.dtypes"
      ]
    },
    {
      "cell_type": "code",
      "execution_count": null,
      "metadata": {
        "colab": {
          "base_uri": "https://localhost:8080/",
          "height": 300
        },
        "id": "r_qUf16LD0_D",
        "outputId": "2719bcf3-3029-43e8-9f2e-59dddc6403d0"
      },
      "outputs": [
        {
          "output_type": "execute_result",
          "data": {
            "text/plain": [
              "         Kilometraje          Valor\n",
              "count     197.000000     258.000000\n",
              "mean    58278.421320   98960.513101\n",
              "std     35836.733259   29811.932305\n",
              "min       107.000000   50742.100000\n",
              "25%     27505.000000   70743.512500\n",
              "50%     55083.000000   97724.380000\n",
              "75%     90495.000000  124633.302500\n",
              "max    119945.000000  149489.920000"
            ],
            "text/html": [
              "\n",
              "  <div id=\"df-e6a41193-a1c4-4d14-839f-e5375aaac4c0\">\n",
              "    <div class=\"colab-df-container\">\n",
              "      <div>\n",
              "<style scoped>\n",
              "    .dataframe tbody tr th:only-of-type {\n",
              "        vertical-align: middle;\n",
              "    }\n",
              "\n",
              "    .dataframe tbody tr th {\n",
              "        vertical-align: top;\n",
              "    }\n",
              "\n",
              "    .dataframe thead th {\n",
              "        text-align: right;\n",
              "    }\n",
              "</style>\n",
              "<table border=\"1\" class=\"dataframe\">\n",
              "  <thead>\n",
              "    <tr style=\"text-align: right;\">\n",
              "      <th></th>\n",
              "      <th>Kilometraje</th>\n",
              "      <th>Valor</th>\n",
              "    </tr>\n",
              "  </thead>\n",
              "  <tbody>\n",
              "    <tr>\n",
              "      <th>count</th>\n",
              "      <td>197.000000</td>\n",
              "      <td>258.000000</td>\n",
              "    </tr>\n",
              "    <tr>\n",
              "      <th>mean</th>\n",
              "      <td>58278.421320</td>\n",
              "      <td>98960.513101</td>\n",
              "    </tr>\n",
              "    <tr>\n",
              "      <th>std</th>\n",
              "      <td>35836.733259</td>\n",
              "      <td>29811.932305</td>\n",
              "    </tr>\n",
              "    <tr>\n",
              "      <th>min</th>\n",
              "      <td>107.000000</td>\n",
              "      <td>50742.100000</td>\n",
              "    </tr>\n",
              "    <tr>\n",
              "      <th>25%</th>\n",
              "      <td>27505.000000</td>\n",
              "      <td>70743.512500</td>\n",
              "    </tr>\n",
              "    <tr>\n",
              "      <th>50%</th>\n",
              "      <td>55083.000000</td>\n",
              "      <td>97724.380000</td>\n",
              "    </tr>\n",
              "    <tr>\n",
              "      <th>75%</th>\n",
              "      <td>90495.000000</td>\n",
              "      <td>124633.302500</td>\n",
              "    </tr>\n",
              "    <tr>\n",
              "      <th>max</th>\n",
              "      <td>119945.000000</td>\n",
              "      <td>149489.920000</td>\n",
              "    </tr>\n",
              "  </tbody>\n",
              "</table>\n",
              "</div>\n",
              "      <button class=\"colab-df-convert\" onclick=\"convertToInteractive('df-e6a41193-a1c4-4d14-839f-e5375aaac4c0')\"\n",
              "              title=\"Convert this dataframe to an interactive table.\"\n",
              "              style=\"display:none;\">\n",
              "        \n",
              "  <svg xmlns=\"http://www.w3.org/2000/svg\" height=\"24px\"viewBox=\"0 0 24 24\"\n",
              "       width=\"24px\">\n",
              "    <path d=\"M0 0h24v24H0V0z\" fill=\"none\"/>\n",
              "    <path d=\"M18.56 5.44l.94 2.06.94-2.06 2.06-.94-2.06-.94-.94-2.06-.94 2.06-2.06.94zm-11 1L8.5 8.5l.94-2.06 2.06-.94-2.06-.94L8.5 2.5l-.94 2.06-2.06.94zm10 10l.94 2.06.94-2.06 2.06-.94-2.06-.94-.94-2.06-.94 2.06-2.06.94z\"/><path d=\"M17.41 7.96l-1.37-1.37c-.4-.4-.92-.59-1.43-.59-.52 0-1.04.2-1.43.59L10.3 9.45l-7.72 7.72c-.78.78-.78 2.05 0 2.83L4 21.41c.39.39.9.59 1.41.59.51 0 1.02-.2 1.41-.59l7.78-7.78 2.81-2.81c.8-.78.8-2.07 0-2.86zM5.41 20L4 18.59l7.72-7.72 1.47 1.35L5.41 20z\"/>\n",
              "  </svg>\n",
              "      </button>\n",
              "      \n",
              "  <style>\n",
              "    .colab-df-container {\n",
              "      display:flex;\n",
              "      flex-wrap:wrap;\n",
              "      gap: 12px;\n",
              "    }\n",
              "\n",
              "    .colab-df-convert {\n",
              "      background-color: #E8F0FE;\n",
              "      border: none;\n",
              "      border-radius: 50%;\n",
              "      cursor: pointer;\n",
              "      display: none;\n",
              "      fill: #1967D2;\n",
              "      height: 32px;\n",
              "      padding: 0 0 0 0;\n",
              "      width: 32px;\n",
              "    }\n",
              "\n",
              "    .colab-df-convert:hover {\n",
              "      background-color: #E2EBFA;\n",
              "      box-shadow: 0px 1px 2px rgba(60, 64, 67, 0.3), 0px 1px 3px 1px rgba(60, 64, 67, 0.15);\n",
              "      fill: #174EA6;\n",
              "    }\n",
              "\n",
              "    [theme=dark] .colab-df-convert {\n",
              "      background-color: #3B4455;\n",
              "      fill: #D2E3FC;\n",
              "    }\n",
              "\n",
              "    [theme=dark] .colab-df-convert:hover {\n",
              "      background-color: #434B5C;\n",
              "      box-shadow: 0px 1px 3px 1px rgba(0, 0, 0, 0.15);\n",
              "      filter: drop-shadow(0px 1px 2px rgba(0, 0, 0, 0.3));\n",
              "      fill: #FFFFFF;\n",
              "    }\n",
              "  </style>\n",
              "\n",
              "      <script>\n",
              "        const buttonEl =\n",
              "          document.querySelector('#df-e6a41193-a1c4-4d14-839f-e5375aaac4c0 button.colab-df-convert');\n",
              "        buttonEl.style.display =\n",
              "          google.colab.kernel.accessAllowed ? 'block' : 'none';\n",
              "\n",
              "        async function convertToInteractive(key) {\n",
              "          const element = document.querySelector('#df-e6a41193-a1c4-4d14-839f-e5375aaac4c0');\n",
              "          const dataTable =\n",
              "            await google.colab.kernel.invokeFunction('convertToInteractive',\n",
              "                                                     [key], {});\n",
              "          if (!dataTable) return;\n",
              "\n",
              "          const docLinkHtml = 'Like what you see? Visit the ' +\n",
              "            '<a target=\"_blank\" href=https://colab.research.google.com/notebooks/data_table.ipynb>data table notebook</a>'\n",
              "            + ' to learn more about interactive tables.';\n",
              "          element.innerHTML = '';\n",
              "          dataTable['output_type'] = 'display_data';\n",
              "          await google.colab.output.renderOutput(dataTable, element);\n",
              "          const docLink = document.createElement('div');\n",
              "          docLink.innerHTML = docLinkHtml;\n",
              "          element.appendChild(docLink);\n",
              "        }\n",
              "      </script>\n",
              "    </div>\n",
              "  </div>\n",
              "  "
            ]
          },
          "metadata": {},
          "execution_count": 23
        }
      ],
      "source": [
        "dataset[['Kilometraje', 'Valor']].describe()"
      ]
    },
    {
      "cell_type": "code",
      "execution_count": null,
      "metadata": {
        "id": "0R-_7PH5D0_E"
      },
      "outputs": [],
      "source": []
    },
    {
      "cell_type": "markdown",
      "metadata": {
        "id": "htjoBLwiD0_F"
      },
      "source": [
        "# <font color=green> 2. TRABAJANDO CON TUPLAS\n",
        "---"
      ]
    },
    {
      "cell_type": "markdown",
      "metadata": {
        "id": "MZH5_QnYD0_G"
      },
      "source": [
        "# 2.1 Creando tuplas\n",
        "\n",
        "Tuplas son secuencias **inmutables** que son utilizadas para guardar colecciones de objetos, geralmente heterogéneos. Pueden ser construídas de varias formas:\n",
        "```\n",
        "- Utilizando un par de paréntesis: ( )\n",
        "- Utilizando una coma a la derecha: x,\n",
        "- Utilizando un par de paréntesis con objetos separados por comas: ( x, y, z )\n",
        "- Utilizando: tuple() o tuple(iterador)\n",
        "```"
      ]
    },
    {
      "cell_type": "code",
      "execution_count": null,
      "metadata": {
        "colab": {
          "base_uri": "https://localhost:8080/"
        },
        "id": "xzcs9fzeD0_G",
        "outputId": "f279e2b0-054d-494d-d38e-370acd1d4feb"
      },
      "outputs": [
        {
          "output_type": "execute_result",
          "data": {
            "text/plain": [
              "()"
            ]
          },
          "metadata": {},
          "execution_count": 16
        }
      ],
      "source": [
        "()"
      ]
    },
    {
      "cell_type": "code",
      "execution_count": null,
      "metadata": {
        "colab": {
          "base_uri": "https://localhost:8080/"
        },
        "id": "qJq7a2qTD0_I",
        "outputId": "76a11450-c530-4550-d7f2-292259176e49"
      },
      "outputs": [
        {
          "output_type": "execute_result",
          "data": {
            "text/plain": [
              "(1, 2, 3)"
            ]
          },
          "metadata": {},
          "execution_count": 17
        }
      ],
      "source": [
        "1,2,3"
      ]
    },
    {
      "cell_type": "code",
      "execution_count": null,
      "metadata": {
        "colab": {
          "base_uri": "https://localhost:8080/"
        },
        "id": "sg7LdvptD0_J",
        "outputId": "7009c33a-0766-44bd-dff2-a82432ec6426"
      },
      "outputs": [
        {
          "output_type": "execute_result",
          "data": {
            "text/plain": [
              "('Passat', 150300)"
            ]
          },
          "metadata": {},
          "execution_count": 18
        }
      ],
      "source": [
        "nombre = 'Passat'\n",
        "valor = 150300\n",
        "(nombre, valor)"
      ]
    },
    {
      "cell_type": "code",
      "execution_count": null,
      "metadata": {
        "colab": {
          "base_uri": "https://localhost:8080/"
        },
        "id": "XSSMebXjD0_K",
        "outputId": "57d0311c-a6b0-42d0-ee54-75bf6200c153"
      },
      "outputs": [
        {
          "output_type": "execute_result",
          "data": {
            "text/plain": [
              "('Jetta Variant', 'Passat', 'Crossfox', 'DS5')"
            ]
          },
          "metadata": {},
          "execution_count": 20
        }
      ],
      "source": [
        "nombre_carros = tuple(['Jetta Variant', 'Passat', 'Crossfox', 'DS5'])\n",
        "nombre_carros"
      ]
    },
    {
      "cell_type": "code",
      "execution_count": null,
      "metadata": {
        "colab": {
          "base_uri": "https://localhost:8080/"
        },
        "id": "dpkdzrzRD0_M",
        "outputId": "769a95ff-fc37-43d4-9827-e8184475cdf7"
      },
      "outputs": [
        {
          "output_type": "execute_result",
          "data": {
            "text/plain": [
              "tuple"
            ]
          },
          "metadata": {},
          "execution_count": 22
        }
      ],
      "source": [
        "type(nombre_carros)"
      ]
    },
    {
      "cell_type": "markdown",
      "metadata": {
        "id": "iKUY2DOUD0_N"
      },
      "source": [
        "# 2.2 Selecciones en tuplas"
      ]
    },
    {
      "cell_type": "code",
      "execution_count": null,
      "metadata": {
        "id": "hBEeAM7_D0_N",
        "colab": {
          "base_uri": "https://localhost:8080/"
        },
        "outputId": "fa5e65f1-ec40-41a1-8acb-15533e192d0b"
      },
      "outputs": [
        {
          "output_type": "execute_result",
          "data": {
            "text/plain": [
              "('Jetta Variant', 'Passat', 'Crossfox', 'DS5')"
            ]
          },
          "metadata": {},
          "execution_count": 24
        }
      ],
      "source": [
        "nombre_carros = tuple(['Jetta Variant', 'Passat', 'Crossfox', 'DS5'])\n",
        "nombre_carros"
      ]
    },
    {
      "cell_type": "code",
      "execution_count": null,
      "metadata": {
        "id": "-mx_1E_tD0_P",
        "colab": {
          "base_uri": "https://localhost:8080/",
          "height": 35
        },
        "outputId": "5af37ca2-2001-408c-df29-df2ae79f0ed1"
      },
      "outputs": [
        {
          "output_type": "execute_result",
          "data": {
            "text/plain": [
              "'Jetta Variant'"
            ],
            "application/vnd.google.colaboratory.intrinsic+json": {
              "type": "string"
            }
          },
          "metadata": {},
          "execution_count": 25
        }
      ],
      "source": [
        "nombre_carros[0]"
      ]
    },
    {
      "cell_type": "code",
      "execution_count": null,
      "metadata": {
        "id": "LMhyqnFID0_Q",
        "colab": {
          "base_uri": "https://localhost:8080/"
        },
        "outputId": "0e2281d7-93b6-44de-9bd9-4e35ecf9e947"
      },
      "outputs": [
        {
          "output_type": "execute_result",
          "data": {
            "text/plain": [
              "('Passat', 'Crossfox')"
            ]
          },
          "metadata": {},
          "execution_count": 26
        }
      ],
      "source": [
        "nombre_carros[1:3]"
      ]
    },
    {
      "cell_type": "code",
      "execution_count": null,
      "metadata": {
        "id": "6btHff4BD0_T"
      },
      "outputs": [],
      "source": []
    },
    {
      "cell_type": "code",
      "execution_count": null,
      "metadata": {
        "id": "K_Dc12xBD0_U"
      },
      "outputs": [],
      "source": []
    },
    {
      "cell_type": "code",
      "execution_count": null,
      "metadata": {
        "id": "zvrWYkkeD0_W",
        "colab": {
          "base_uri": "https://localhost:8080/"
        },
        "outputId": "555021c0-cfde-4b9b-8cae-5743b045a0de"
      },
      "outputs": [
        {
          "output_type": "execute_result",
          "data": {
            "text/plain": [
              "('Jetta Variant', 'Passat', 'Crossfox', 'DS5', ('Fusca', 'Gol', 'C4'))"
            ]
          },
          "metadata": {},
          "execution_count": 27
        }
      ],
      "source": [
        "nombres_carros = ('Jetta Variant', 'Passat', 'Crossfox', 'DS5', ('Fusca', 'Gol', 'C4'))\n",
        "nombres_carros"
      ]
    },
    {
      "cell_type": "code",
      "execution_count": null,
      "metadata": {
        "id": "Dw7tbM2ED0_Z",
        "colab": {
          "base_uri": "https://localhost:8080/"
        },
        "outputId": "a4bdbac6-3e8a-480a-84bc-0ed807c8966d"
      },
      "outputs": [
        {
          "output_type": "execute_result",
          "data": {
            "text/plain": [
              "('Fusca', 'Gol', 'C4')"
            ]
          },
          "metadata": {},
          "execution_count": 29
        }
      ],
      "source": [
        "nombres_carros[-1]\n"
      ]
    },
    {
      "cell_type": "code",
      "execution_count": null,
      "metadata": {
        "id": "SAMD3BtXD0_b",
        "colab": {
          "base_uri": "https://localhost:8080/",
          "height": 35
        },
        "outputId": "9ee3e8db-46aa-4a89-b26e-fae19ff7327f"
      },
      "outputs": [
        {
          "output_type": "execute_result",
          "data": {
            "text/plain": [
              "'Gol'"
            ],
            "application/vnd.google.colaboratory.intrinsic+json": {
              "type": "string"
            }
          },
          "metadata": {},
          "execution_count": 30
        }
      ],
      "source": [
        "nombres_carros[-1][1]\n"
      ]
    },
    {
      "cell_type": "markdown",
      "metadata": {
        "id": "KLMxh4-0D0_c"
      },
      "source": [
        "# 2.3 Iterando en tuplas"
      ]
    },
    {
      "cell_type": "code",
      "execution_count": null,
      "metadata": {
        "id": "K53elKsYD0_c",
        "colab": {
          "base_uri": "https://localhost:8080/"
        },
        "outputId": "8e453d18-cf72-4d83-cc38-fa10eaac744b"
      },
      "outputs": [
        {
          "output_type": "execute_result",
          "data": {
            "text/plain": [
              "('Jetta Variant', 'Passat', 'Crossfox', 'DS5')"
            ]
          },
          "metadata": {},
          "execution_count": 31
        }
      ],
      "source": [
        "nombres_carros = ('Jetta Variant', 'Passat', 'Crossfox', 'DS5')\n",
        "nombres_carros"
      ]
    },
    {
      "cell_type": "code",
      "execution_count": null,
      "metadata": {
        "id": "igZhZ5zdD0_d"
      },
      "outputs": [],
      "source": []
    },
    {
      "cell_type": "markdown",
      "metadata": {
        "id": "AOBjxBk8D0_f"
      },
      "source": [
        "### Desempacando tuplas"
      ]
    },
    {
      "cell_type": "code",
      "execution_count": null,
      "metadata": {
        "id": "UoEFnumhD0_f",
        "colab": {
          "base_uri": "https://localhost:8080/"
        },
        "outputId": "b54b9403-1a86-4e53-cdf7-ee744b3f315d"
      },
      "outputs": [
        {
          "output_type": "execute_result",
          "data": {
            "text/plain": [
              "('Jetta Variant', 'Passat', 'Crossfox', 'DS5')"
            ]
          },
          "metadata": {},
          "execution_count": 32
        }
      ],
      "source": [
        "nombres_carros = ('Jetta Variant', 'Passat', 'Crossfox', 'DS5')\n",
        "nombres_carros"
      ]
    },
    {
      "cell_type": "code",
      "execution_count": null,
      "metadata": {
        "id": "AaCLcNYTD0_g"
      },
      "outputs": [],
      "source": [
        "carro_1, carro_2, carro_3, carro_4 = nombres_carros"
      ]
    },
    {
      "cell_type": "code",
      "execution_count": null,
      "metadata": {
        "id": "TA71S9egD0_h",
        "colab": {
          "base_uri": "https://localhost:8080/",
          "height": 35
        },
        "outputId": "0b84cb88-8af4-4b40-e4c4-67fbd9094723"
      },
      "outputs": [
        {
          "output_type": "execute_result",
          "data": {
            "text/plain": [
              "'Jetta Variant'"
            ],
            "application/vnd.google.colaboratory.intrinsic+json": {
              "type": "string"
            }
          },
          "metadata": {},
          "execution_count": 34
        }
      ],
      "source": [
        "carro_1"
      ]
    },
    {
      "cell_type": "code",
      "execution_count": null,
      "metadata": {
        "id": "CHoJ034MD0_i",
        "colab": {
          "base_uri": "https://localhost:8080/",
          "height": 35
        },
        "outputId": "88c0da98-88f8-432f-cdaa-57212c80aca4"
      },
      "outputs": [
        {
          "output_type": "execute_result",
          "data": {
            "text/plain": [
              "'DS5'"
            ],
            "application/vnd.google.colaboratory.intrinsic+json": {
              "type": "string"
            }
          },
          "metadata": {},
          "execution_count": 35
        }
      ],
      "source": [
        "carro_4"
      ]
    },
    {
      "cell_type": "code",
      "execution_count": null,
      "metadata": {
        "id": "oxJrOuCSD0_j"
      },
      "outputs": [],
      "source": [
        "_, A, _, B = nombres_carros"
      ]
    },
    {
      "cell_type": "code",
      "execution_count": null,
      "metadata": {
        "id": "BbR9sB4BD0_k",
        "colab": {
          "base_uri": "https://localhost:8080/",
          "height": 35
        },
        "outputId": "1647974c-a5e6-4a56-c629-26e5a0c87c5b"
      },
      "outputs": [
        {
          "output_type": "execute_result",
          "data": {
            "text/plain": [
              "'Passat'"
            ],
            "application/vnd.google.colaboratory.intrinsic+json": {
              "type": "string"
            }
          },
          "metadata": {},
          "execution_count": 37
        }
      ],
      "source": [
        "A"
      ]
    },
    {
      "cell_type": "code",
      "execution_count": null,
      "metadata": {
        "id": "aZvokrjPD0_m"
      },
      "outputs": [],
      "source": [
        "_, C, *_, = nombres_carros"
      ]
    },
    {
      "cell_type": "code",
      "execution_count": null,
      "metadata": {
        "id": "wZXDbVg0D0_o",
        "colab": {
          "base_uri": "https://localhost:8080/",
          "height": 35
        },
        "outputId": "31c03bca-e5a9-4656-b0a1-b03c95ef7a1c"
      },
      "outputs": [
        {
          "output_type": "execute_result",
          "data": {
            "text/plain": [
              "'Passat'"
            ],
            "application/vnd.google.colaboratory.intrinsic+json": {
              "type": "string"
            }
          },
          "metadata": {},
          "execution_count": 39
        }
      ],
      "source": [
        "C"
      ]
    },
    {
      "cell_type": "code",
      "execution_count": null,
      "metadata": {
        "id": "aWgDMBXiD0_p"
      },
      "outputs": [],
      "source": []
    },
    {
      "cell_type": "code",
      "execution_count": null,
      "metadata": {
        "id": "OdpgNh-ND0_q"
      },
      "outputs": [],
      "source": []
    },
    {
      "cell_type": "code",
      "execution_count": null,
      "metadata": {
        "id": "upVYFnMdD0_r"
      },
      "outputs": [],
      "source": []
    },
    {
      "cell_type": "markdown",
      "metadata": {
        "id": "u85Aou8WD0_s"
      },
      "source": [
        "## *zip()*\n",
        "\n",
        "https://docs.python.org/3.6/library/functions.html#zip"
      ]
    },
    {
      "cell_type": "code",
      "execution_count": null,
      "metadata": {
        "id": "PaC2oXGED0_t",
        "colab": {
          "base_uri": "https://localhost:8080/"
        },
        "outputId": "55c2e092-9a5b-496d-ffe9-847ff4a0ec1a"
      },
      "outputs": [
        {
          "output_type": "execute_result",
          "data": {
            "text/plain": [
              "['Jetta Variant', 'Passat', 'Crossfox', 'DS5']"
            ]
          },
          "metadata": {},
          "execution_count": 40
        }
      ],
      "source": [
        "carros = ['Jetta Variant', 'Passat', 'Crossfox', 'DS5']\n",
        "carros"
      ]
    },
    {
      "cell_type": "code",
      "execution_count": null,
      "metadata": {
        "id": "_02O1VnHD0_u",
        "colab": {
          "base_uri": "https://localhost:8080/"
        },
        "outputId": "661871be-f2b2-4a61-bb48-bf5ea23ee8af"
      },
      "outputs": [
        {
          "output_type": "execute_result",
          "data": {
            "text/plain": [
              "[88078.64, 106161.94, 72832.16, 124549.07]"
            ]
          },
          "metadata": {},
          "execution_count": 41
        }
      ],
      "source": [
        "valores = [88078.64, 106161.94, 72832.16, 124549.07]\n",
        "valores"
      ]
    },
    {
      "cell_type": "code",
      "execution_count": null,
      "metadata": {
        "id": "roQK5nYRD0_v",
        "colab": {
          "base_uri": "https://localhost:8080/"
        },
        "outputId": "6bf89b9a-8afe-41bd-b0e7-50f17442e958"
      },
      "outputs": [
        {
          "output_type": "execute_result",
          "data": {
            "text/plain": [
              "[('Jetta Variant', 88078.64),\n",
              " ('Passat', 106161.94),\n",
              " ('Crossfox', 72832.16),\n",
              " ('DS5', 124549.07)]"
            ]
          },
          "metadata": {},
          "execution_count": 43
        }
      ],
      "source": [
        "list(zip(carros, valores))"
      ]
    },
    {
      "cell_type": "code",
      "execution_count": null,
      "metadata": {
        "id": "_WRxIRHrD0_w",
        "colab": {
          "base_uri": "https://localhost:8080/"
        },
        "outputId": "e492b9d0-9a04-4f98-da4a-206ae40e15c5"
      },
      "outputs": [
        {
          "output_type": "stream",
          "name": "stdout",
          "text": [
            "('Jetta Variant', 88078.64)\n",
            "('Passat', 106161.94)\n",
            "('Crossfox', 72832.16)\n",
            "('DS5', 124549.07)\n"
          ]
        }
      ],
      "source": [
        "for item in zip(carros, valores):\n",
        "  print(item)"
      ]
    },
    {
      "cell_type": "code",
      "execution_count": null,
      "metadata": {
        "id": "2zIuhIILD0_x",
        "colab": {
          "base_uri": "https://localhost:8080/"
        },
        "outputId": "e2d6cc57-4642-4ed6-e185-d58bd204c247"
      },
      "outputs": [
        {
          "output_type": "stream",
          "name": "stdout",
          "text": [
            "Jetta Variant 88078.64\n",
            "Passat 106161.94\n",
            "Crossfox 72832.16\n",
            "DS5 124549.07\n"
          ]
        }
      ],
      "source": [
        "for carro, valor in zip(carros, valores):\n",
        "  print(carro, valor)"
      ]
    },
    {
      "cell_type": "code",
      "execution_count": null,
      "metadata": {
        "id": "ZJaL62IpD0_y",
        "colab": {
          "base_uri": "https://localhost:8080/"
        },
        "outputId": "61de1302-43fa-497c-9c59-9f9b05267951"
      },
      "outputs": [
        {
          "output_type": "stream",
          "name": "stdout",
          "text": [
            "Passat\n",
            "DS5\n"
          ]
        }
      ],
      "source": [
        "for carro, valor in zip(carros, valores):\n",
        "  if valor>100000:\n",
        "    print(carro)"
      ]
    },
    {
      "cell_type": "markdown",
      "metadata": {
        "id": "xo76nR8rD0_0"
      },
      "source": [
        "# <font color=green> 3. TRABAJANDO CON DICCIONARIOS\n",
        "---"
      ]
    },
    {
      "cell_type": "markdown",
      "metadata": {
        "id": "wfWzOuztD0_0"
      },
      "source": [
        "# 3.1 Creando diccionarios\n",
        "\n",
        "Listas son colecciones secuenciales, es decir, los elementos de estas secuencias están ordenados y utilizan índices (números enteros) para acceder a los valores.\n",
        "\n",
        "Los diccionarios son colecciones ligeramente diferentes. Son estructuras de datos que representan un tipo de mapeo. Los mapeos son colecciones de asociaciones entre pares de valores donde el primer elemento del par se conoce como llave (*key*) y el segundo como valor (*value*).\n",
        "\n",
        "```\n",
        "diccionario = {key_1: value_1, key_2: value_2, ..., key_n: value_n}\n",
        "```\n",
        "\n",
        "https://docs.python.org/3.6/library/stdtypes.html#typesmapping"
      ]
    },
    {
      "cell_type": "code",
      "execution_count": null,
      "metadata": {
        "id": "SuPcV9v6D0_0"
      },
      "outputs": [],
      "source": []
    },
    {
      "cell_type": "code",
      "execution_count": null,
      "metadata": {
        "id": "YIFVkWT6D0_1",
        "colab": {
          "base_uri": "https://localhost:8080/"
        },
        "outputId": "b94320bc-febb-4784-f44b-ea8822d9194e"
      },
      "outputs": [
        {
          "output_type": "execute_result",
          "data": {
            "text/plain": [
              "['Jetta Variant', 'Passat', 'Crossfox']"
            ]
          },
          "metadata": {},
          "execution_count": 4
        }
      ],
      "source": [
        "carros = ['Jetta Variant', 'Passat', 'Crossfox']\n",
        "carros"
      ]
    },
    {
      "cell_type": "code",
      "execution_count": null,
      "metadata": {
        "id": "2LHiBn3-D0_2",
        "colab": {
          "base_uri": "https://localhost:8080/"
        },
        "outputId": "7045d81f-ffd5-4587-a5a5-502db1bb8bec"
      },
      "outputs": [
        {
          "output_type": "execute_result",
          "data": {
            "text/plain": [
              "[88078.64, 106161.94, 72832.16]"
            ]
          },
          "metadata": {},
          "execution_count": 5
        }
      ],
      "source": [
        "valores = [88078.64, 106161.94, 72832.16]\n",
        "valores"
      ]
    },
    {
      "cell_type": "code",
      "execution_count": null,
      "metadata": {
        "id": "YxLAx_sqD0_4",
        "colab": {
          "base_uri": "https://localhost:8080/"
        },
        "outputId": "31e55479-593b-4778-c0e0-2e9cf4503e67"
      },
      "outputs": [
        {
          "output_type": "execute_result",
          "data": {
            "text/plain": [
              "1"
            ]
          },
          "metadata": {},
          "execution_count": 50
        }
      ],
      "source": [
        "carros.index('Passat')"
      ]
    },
    {
      "cell_type": "code",
      "execution_count": null,
      "metadata": {
        "id": "WITNWExID0_7",
        "colab": {
          "base_uri": "https://localhost:8080/"
        },
        "outputId": "f0696315-c74b-4fb4-830b-e608aa383467"
      },
      "outputs": [
        {
          "output_type": "execute_result",
          "data": {
            "text/plain": [
              "106161.94"
            ]
          },
          "metadata": {},
          "execution_count": 52
        }
      ],
      "source": [
        "valores[carros.index('Passat')]"
      ]
    },
    {
      "cell_type": "code",
      "execution_count": null,
      "metadata": {
        "id": "bHNqoDbTD0_8",
        "colab": {
          "base_uri": "https://localhost:8080/"
        },
        "outputId": "728c38b4-780a-4879-ec10-f07fd195bc77"
      },
      "outputs": [
        {
          "output_type": "execute_result",
          "data": {
            "text/plain": [
              "{'Jetta Variant': 88078.64, 'Passat': 106161.94, 'Crossfox': 72832.16}"
            ]
          },
          "metadata": {},
          "execution_count": 2
        }
      ],
      "source": [
        "datos = {'Jetta Variant':88078.64,'Passat':106161.94, 'Crossfox':72832.16}\n",
        "datos"
      ]
    },
    {
      "cell_type": "code",
      "execution_count": null,
      "metadata": {
        "id": "4FyQgmcAD0_9",
        "colab": {
          "base_uri": "https://localhost:8080/"
        },
        "outputId": "300fc63b-fa83-4f79-fae3-cd006fcd88d3"
      },
      "outputs": [
        {
          "output_type": "execute_result",
          "data": {
            "text/plain": [
              "dict"
            ]
          },
          "metadata": {},
          "execution_count": 55
        }
      ],
      "source": [
        "type(datos)"
      ]
    },
    {
      "cell_type": "markdown",
      "metadata": {
        "id": "PQg-MLkGD0_-"
      },
      "source": [
        "### Creando diccionarios con *zip()*"
      ]
    },
    {
      "cell_type": "code",
      "execution_count": null,
      "metadata": {
        "id": "iB4Q_gbND0__",
        "colab": {
          "base_uri": "https://localhost:8080/"
        },
        "outputId": "7f2b7362-4802-46c3-bded-189b697589d6"
      },
      "outputs": [
        {
          "output_type": "execute_result",
          "data": {
            "text/plain": [
              "[('Jetta Variant', 88078.64), ('Passat', 106161.94), ('Crossfox', 72832.16)]"
            ]
          },
          "metadata": {},
          "execution_count": 6
        }
      ],
      "source": [
        "list(zip(carros, valores))"
      ]
    },
    {
      "cell_type": "code",
      "execution_count": null,
      "metadata": {
        "id": "mIgZqdKKD1AA",
        "colab": {
          "base_uri": "https://localhost:8080/"
        },
        "outputId": "23d9d37a-5610-487f-f79a-9035b3e14cb7"
      },
      "outputs": [
        {
          "output_type": "execute_result",
          "data": {
            "text/plain": [
              "{'Jetta Variant': 88078.64, 'Passat': 106161.94, 'Crossfox': 72832.16}"
            ]
          },
          "metadata": {},
          "execution_count": 7
        }
      ],
      "source": [
        "datos = dict(zip(carros, valores))\n",
        "datos"
      ]
    },
    {
      "cell_type": "markdown",
      "metadata": {
        "id": "KYeRqavFD1AD"
      },
      "source": [
        "# 3.2 Operaciones con diccionarios"
      ]
    },
    {
      "cell_type": "markdown",
      "metadata": {
        "id": "KzmWbEltD1AD"
      },
      "source": [
        "## *dict[ key ]*\n",
        "\n",
        "Devuelve el valor correspondiente a la llave (*key*) en el diccionario."
      ]
    },
    {
      "cell_type": "code",
      "execution_count": null,
      "metadata": {
        "id": "hFFDz6wKD1AD",
        "colab": {
          "base_uri": "https://localhost:8080/"
        },
        "outputId": "85a5927b-94f1-43ff-cf27-9986eecc7384"
      },
      "outputs": [
        {
          "output_type": "execute_result",
          "data": {
            "text/plain": [
              "106161.94"
            ]
          },
          "metadata": {},
          "execution_count": 8
        }
      ],
      "source": [
        "datos['Passat']"
      ]
    },
    {
      "cell_type": "markdown",
      "metadata": {
        "id": "SWlE6VTBD1AE"
      },
      "source": [
        "## *key in dict*\n",
        "\n",
        "Devuelve **True** si la llave (*key*) es encontrada en el diccionario."
      ]
    },
    {
      "cell_type": "code",
      "execution_count": null,
      "metadata": {
        "id": "Iy88SxBtD1AE",
        "colab": {
          "base_uri": "https://localhost:8080/"
        },
        "outputId": "dd8a7da5-11aa-4ec1-e34b-969b12b223ad"
      },
      "outputs": [
        {
          "output_type": "execute_result",
          "data": {
            "text/plain": [
              "True"
            ]
          },
          "metadata": {},
          "execution_count": 10
        }
      ],
      "source": [
        "'Passat' in datos"
      ]
    },
    {
      "cell_type": "code",
      "execution_count": null,
      "metadata": {
        "id": "Oma56NkAD1AF",
        "colab": {
          "base_uri": "https://localhost:8080/"
        },
        "outputId": "5165655c-dcf5-4731-88a7-356054d23ab6"
      },
      "outputs": [
        {
          "output_type": "execute_result",
          "data": {
            "text/plain": [
              "False"
            ]
          },
          "metadata": {},
          "execution_count": 11
        }
      ],
      "source": [
        "'Fusca' in datos"
      ]
    },
    {
      "cell_type": "code",
      "execution_count": null,
      "metadata": {
        "id": "yS2U-_8gD1AG",
        "colab": {
          "base_uri": "https://localhost:8080/"
        },
        "outputId": "9094e997-ce38-43ca-e7df-b69a815781d7"
      },
      "outputs": [
        {
          "output_type": "execute_result",
          "data": {
            "text/plain": [
              "3"
            ]
          },
          "metadata": {},
          "execution_count": 12
        }
      ],
      "source": [
        "len(datos)"
      ]
    },
    {
      "cell_type": "markdown",
      "metadata": {
        "id": "oWbWyDd0D1AI"
      },
      "source": [
        "## *len(dict)*\n",
        "\n",
        "Devuelve el número de itens del diccionario."
      ]
    },
    {
      "cell_type": "code",
      "execution_count": null,
      "metadata": {
        "id": "k08YkCc1D1AJ"
      },
      "outputs": [],
      "source": []
    },
    {
      "cell_type": "markdown",
      "metadata": {
        "id": "yYNqIHJBD1AK"
      },
      "source": [
        "## *dict[ key ] = value*\n",
        "\n",
        "Incluye un item al diccionario."
      ]
    },
    {
      "cell_type": "code",
      "execution_count": null,
      "metadata": {
        "id": "5jj3i52bD1AK"
      },
      "outputs": [],
      "source": [
        "datos['DS5']=12300.45"
      ]
    },
    {
      "cell_type": "code",
      "execution_count": null,
      "metadata": {
        "id": "y6rso5hLD1AL",
        "colab": {
          "base_uri": "https://localhost:8080/"
        },
        "outputId": "061a3b8a-1216-4706-df0c-cd4f316125dc"
      },
      "outputs": [
        {
          "output_type": "execute_result",
          "data": {
            "text/plain": [
              "{'Jetta Variant': 88078.64,\n",
              " 'Passat': 106161.94,\n",
              " 'Crossfox': 72832.16,\n",
              " 'DS5': 12300.45}"
            ]
          },
          "metadata": {},
          "execution_count": 15
        }
      ],
      "source": [
        "len(datos)\n",
        "datos"
      ]
    },
    {
      "cell_type": "markdown",
      "metadata": {
        "id": "_z0JySuqD1AL"
      },
      "source": [
        "## *del dict[ key ]*\n",
        "\n",
        "Borra el item de llave (*key*) del diccionario."
      ]
    },
    {
      "cell_type": "code",
      "execution_count": null,
      "metadata": {
        "id": "PPfh6sfID1AM"
      },
      "outputs": [],
      "source": [
        "del datos['Passat']"
      ]
    },
    {
      "cell_type": "code",
      "execution_count": null,
      "metadata": {
        "id": "BtjGpXtGD1AN",
        "colab": {
          "base_uri": "https://localhost:8080/"
        },
        "outputId": "54092e7a-77c4-4d5c-d5be-30ca7eddeb0a"
      },
      "outputs": [
        {
          "output_type": "execute_result",
          "data": {
            "text/plain": [
              "{'Jetta Variant': 88078.64, 'Crossfox': 72832.16, 'DS5': 12300.45}"
            ]
          },
          "metadata": {},
          "execution_count": 17
        }
      ],
      "source": [
        "datos"
      ]
    },
    {
      "cell_type": "markdown",
      "metadata": {
        "id": "FodJVx5sD1AP"
      },
      "source": [
        "# 3.3 Métodos de diccionarios"
      ]
    },
    {
      "cell_type": "markdown",
      "metadata": {
        "id": "7pqdPOkYD1AP"
      },
      "source": [
        "## *dict.update()*\n",
        "\n",
        "Actualiza el diccionario."
      ]
    },
    {
      "cell_type": "code",
      "execution_count": null,
      "metadata": {
        "id": "DUySYxKQD1AQ",
        "colab": {
          "base_uri": "https://localhost:8080/"
        },
        "outputId": "1e0b3f81-fd00-4d6f-81e0-5247b6f8e819"
      },
      "outputs": [
        {
          "output_type": "execute_result",
          "data": {
            "text/plain": [
              "{'Jetta Variant': 88078.64, 'Crossfox': 72832.16, 'DS5': 12300.45}"
            ]
          },
          "metadata": {},
          "execution_count": 18
        }
      ],
      "source": [
        "datos\n"
      ]
    },
    {
      "cell_type": "code",
      "execution_count": null,
      "metadata": {
        "id": "DLsqp71cD1AR",
        "colab": {
          "base_uri": "https://localhost:8080/"
        },
        "outputId": "40ba23c6-0b66-46d9-c878-838dbd18aa32"
      },
      "outputs": [
        {
          "output_type": "execute_result",
          "data": {
            "text/plain": [
              "{'Jetta Variant': 88078.64,\n",
              " 'Crossfox': 72832.16,\n",
              " 'DS5': 12300.45,\n",
              " 'Passat': 106161.94}"
            ]
          },
          "metadata": {},
          "execution_count": 19
        }
      ],
      "source": [
        "datos.update({ 'Passat': 106161.94})\n",
        "datos"
      ]
    },
    {
      "cell_type": "code",
      "source": [
        "datos.update({ 'Passat': 106162.34, 'Fusca': 54908.89})\n",
        "datos"
      ],
      "metadata": {
        "colab": {
          "base_uri": "https://localhost:8080/"
        },
        "id": "79cTguji3-GT",
        "outputId": "9ef829a1-148a-41de-be41-a78bfc55c6d9"
      },
      "execution_count": null,
      "outputs": [
        {
          "output_type": "execute_result",
          "data": {
            "text/plain": [
              "{'Jetta Variant': 88078.64,\n",
              " 'Crossfox': 72832.16,\n",
              " 'DS5': 12300.45,\n",
              " 'Passat': 106162.34,\n",
              " 'Fusca': 54908.89}"
            ]
          },
          "metadata": {},
          "execution_count": 20
        }
      ]
    },
    {
      "cell_type": "markdown",
      "metadata": {
        "id": "JLs5c0DeD1AR"
      },
      "source": [
        "## *dict.copy()*\n",
        "\n",
        "Crea una copia del diccionario."
      ]
    },
    {
      "cell_type": "code",
      "execution_count": null,
      "metadata": {
        "id": "X9F7OB3eD1AS"
      },
      "outputs": [],
      "source": [
        "datos_copy = datos.copy()"
      ]
    },
    {
      "cell_type": "code",
      "execution_count": null,
      "metadata": {
        "id": "v0rL0bveD1AS",
        "colab": {
          "base_uri": "https://localhost:8080/"
        },
        "outputId": "3097f6df-5841-4b33-bc80-cc410aedc063"
      },
      "outputs": [
        {
          "output_type": "execute_result",
          "data": {
            "text/plain": [
              "{'Jetta Variant': 88078.64,\n",
              " 'Crossfox': 72832.16,\n",
              " 'DS5': 12300.45,\n",
              " 'Passat': 106162.34,\n",
              " 'Fusca': 54908.89}"
            ]
          },
          "metadata": {},
          "execution_count": 23
        }
      ],
      "source": [
        "datos_copy"
      ]
    },
    {
      "cell_type": "code",
      "execution_count": null,
      "metadata": {
        "id": "M-abRGGrD1AT",
        "colab": {
          "base_uri": "https://localhost:8080/"
        },
        "outputId": "4a07da56-7b3b-4a8d-c861-348991cc05c2"
      },
      "outputs": [
        {
          "output_type": "execute_result",
          "data": {
            "text/plain": [
              "{'Jetta Variant': 88078.64,\n",
              " 'Crossfox': 72832.16,\n",
              " 'DS5': 12300.45,\n",
              " 'Passat': 106162.34}"
            ]
          },
          "metadata": {},
          "execution_count": 24
        }
      ],
      "source": [
        "del datos_copy['Fusca']\n",
        "datos_copy"
      ]
    },
    {
      "cell_type": "code",
      "execution_count": null,
      "metadata": {
        "id": "ETBD0TkND1AU",
        "colab": {
          "base_uri": "https://localhost:8080/"
        },
        "outputId": "16dc8b5e-5510-424b-a15c-e9e831f2f430"
      },
      "outputs": [
        {
          "output_type": "execute_result",
          "data": {
            "text/plain": [
              "{'Jetta Variant': 88078.64,\n",
              " 'Crossfox': 72832.16,\n",
              " 'DS5': 12300.45,\n",
              " 'Passat': 106162.34,\n",
              " 'Fusca': 54908.89}"
            ]
          },
          "metadata": {},
          "execution_count": 25
        }
      ],
      "source": [
        "datos"
      ]
    },
    {
      "cell_type": "markdown",
      "metadata": {
        "id": "mNODkmHCD1AV"
      },
      "source": [
        "## *dict.pop(key[, default ])*\n",
        "\n",
        "Si la llave se encuentra en el diccionario, el elemento se elimina y se devuelve su valor. De lo contrario, se devuelve el valor especificado como *default*. Si no se proporciona el valor *default* y la llave no se encuentra en el diccionario, se generará un error."
      ]
    },
    {
      "cell_type": "code",
      "execution_count": null,
      "metadata": {
        "id": "_4QEPwScD1AW",
        "colab": {
          "base_uri": "https://localhost:8080/"
        },
        "outputId": "6f6561a5-ce2b-4428-bfb9-e5f4bdf0d23f"
      },
      "outputs": [
        {
          "output_type": "execute_result",
          "data": {
            "text/plain": [
              "{'Jetta Variant': 88078.64,\n",
              " 'Crossfox': 72832.16,\n",
              " 'DS5': 12300.45,\n",
              " 'Passat': 106162.34}"
            ]
          },
          "metadata": {},
          "execution_count": 26
        }
      ],
      "source": [
        "datos_copy"
      ]
    },
    {
      "cell_type": "code",
      "execution_count": null,
      "metadata": {
        "id": "Hjh0MuymD1AX",
        "colab": {
          "base_uri": "https://localhost:8080/"
        },
        "outputId": "99dde0a2-2442-4ee2-b7dd-c88176ed31d3"
      },
      "outputs": [
        {
          "output_type": "execute_result",
          "data": {
            "text/plain": [
              "106162.34"
            ]
          },
          "metadata": {},
          "execution_count": 27
        }
      ],
      "source": [
        "datos_copy.pop('Passat')"
      ]
    },
    {
      "cell_type": "code",
      "execution_count": null,
      "metadata": {
        "id": "f51rKjkuD1AX",
        "colab": {
          "base_uri": "https://localhost:8080/"
        },
        "outputId": "65bdedc0-edbf-4e2a-be32-3c17c16e10eb"
      },
      "outputs": [
        {
          "output_type": "execute_result",
          "data": {
            "text/plain": [
              "{'Jetta Variant': 88078.64, 'Crossfox': 72832.16, 'DS5': 12300.45}"
            ]
          },
          "metadata": {},
          "execution_count": 28
        }
      ],
      "source": [
        "datos_copy"
      ]
    },
    {
      "cell_type": "code",
      "execution_count": null,
      "metadata": {
        "id": "Ah4sZ7axD1AZ",
        "colab": {
          "base_uri": "https://localhost:8080/",
          "height": 166
        },
        "outputId": "565481ee-8d28-43f3-d09a-f05bc291ba71"
      },
      "outputs": [
        {
          "output_type": "error",
          "ename": "KeyError",
          "evalue": "ignored",
          "traceback": [
            "\u001b[0;31m---------------------------------------------------------------------------\u001b[0m",
            "\u001b[0;31mKeyError\u001b[0m                                  Traceback (most recent call last)",
            "\u001b[0;32m<ipython-input-29-a9b71be76753>\u001b[0m in \u001b[0;36m<cell line: 1>\u001b[0;34m()\u001b[0m\n\u001b[0;32m----> 1\u001b[0;31m \u001b[0mdatos_copy\u001b[0m\u001b[0;34m.\u001b[0m\u001b[0mpop\u001b[0m\u001b[0;34m(\u001b[0m\u001b[0;34m'Passat'\u001b[0m\u001b[0;34m)\u001b[0m\u001b[0;34m\u001b[0m\u001b[0;34m\u001b[0m\u001b[0m\n\u001b[0m",
            "\u001b[0;31mKeyError\u001b[0m: 'Passat'"
          ]
        }
      ],
      "source": [
        "datos_copy.pop('Passat')"
      ]
    },
    {
      "cell_type": "code",
      "execution_count": null,
      "metadata": {
        "id": "SJATRY8RD1Aa",
        "colab": {
          "base_uri": "https://localhost:8080/",
          "height": 35
        },
        "outputId": "f50c600c-fbb4-4eff-eb5d-6ac4c2511cdb"
      },
      "outputs": [
        {
          "output_type": "execute_result",
          "data": {
            "text/plain": [
              "'la llave no fue encontrada'"
            ],
            "application/vnd.google.colaboratory.intrinsic+json": {
              "type": "string"
            }
          },
          "metadata": {},
          "execution_count": 30
        }
      ],
      "source": [
        "datos_copy.pop('Passat', 'la llave no fue encontrada')"
      ]
    },
    {
      "cell_type": "code",
      "execution_count": null,
      "metadata": {
        "id": "V36wHdzmD1Ab",
        "colab": {
          "base_uri": "https://localhost:8080/",
          "height": 35
        },
        "outputId": "60fd7ffa-9c2b-40ab-bc89-cbcb57fd6b5f"
      },
      "outputs": [
        {
          "output_type": "execute_result",
          "data": {
            "text/plain": [
              "'la llave no fue encontrada'"
            ],
            "application/vnd.google.colaboratory.intrinsic+json": {
              "type": "string"
            }
          },
          "metadata": {},
          "execution_count": 32
        }
      ],
      "source": [
        "datos_copy.pop('DS5' , 'la llave no fue encontrada')"
      ]
    },
    {
      "cell_type": "code",
      "execution_count": null,
      "metadata": {
        "id": "LJ0lQIrdD1Ac",
        "colab": {
          "base_uri": "https://localhost:8080/"
        },
        "outputId": "c1ea3f01-7415-4cdc-af01-324d8ce20ced"
      },
      "outputs": [
        {
          "output_type": "execute_result",
          "data": {
            "text/plain": [
              "{'Jetta Variant': 88078.64, 'Crossfox': 72832.16}"
            ]
          },
          "metadata": {},
          "execution_count": 33
        }
      ],
      "source": [
        "datos_copy"
      ]
    },
    {
      "cell_type": "code",
      "execution_count": null,
      "metadata": {
        "id": "yKGu-fYkD1Ad"
      },
      "outputs": [],
      "source": []
    },
    {
      "cell_type": "code",
      "execution_count": null,
      "metadata": {
        "id": "x-h8nVyhD1Af"
      },
      "outputs": [],
      "source": []
    },
    {
      "cell_type": "markdown",
      "metadata": {
        "id": "Q5J0R7d3D1Ag"
      },
      "source": [
        "## *dict.clear()*\n",
        "\n",
        "Borra todos los itens del diccionario."
      ]
    },
    {
      "cell_type": "code",
      "execution_count": null,
      "metadata": {
        "id": "AvkP_8mND1Ag"
      },
      "outputs": [],
      "source": [
        "datos_copy.clear()"
      ]
    },
    {
      "cell_type": "code",
      "execution_count": null,
      "metadata": {
        "id": "S69pMYboD1Ah",
        "colab": {
          "base_uri": "https://localhost:8080/"
        },
        "outputId": "de734c03-dfc1-4304-90d2-103d1f4a3928"
      },
      "outputs": [
        {
          "output_type": "execute_result",
          "data": {
            "text/plain": [
              "{}"
            ]
          },
          "metadata": {},
          "execution_count": 35
        }
      ],
      "source": [
        "datos_copy"
      ]
    },
    {
      "cell_type": "markdown",
      "metadata": {
        "id": "QhoSRfPsD1Ai"
      },
      "source": [
        "# 3.4 Iterando en diccionarios"
      ]
    },
    {
      "cell_type": "markdown",
      "metadata": {
        "id": "E-agaqakD1Ai"
      },
      "source": [
        "## *dict.keys()*\n",
        "\n",
        "Devuelve una lista con las llaves (*keys*) del diccionario."
      ]
    },
    {
      "cell_type": "code",
      "execution_count": null,
      "metadata": {
        "id": "qFADEYmBD1Aj",
        "colab": {
          "base_uri": "https://localhost:8080/"
        },
        "outputId": "d9a6d2d0-8fd9-4a88-e454-3fbcead727fa"
      },
      "outputs": [
        {
          "output_type": "execute_result",
          "data": {
            "text/plain": [
              "dict_keys(['Jetta Variant', 'Crossfox', 'DS5', 'Passat', 'Fusca'])"
            ]
          },
          "metadata": {},
          "execution_count": 36
        }
      ],
      "source": [
        "datos.keys()"
      ]
    },
    {
      "cell_type": "code",
      "execution_count": null,
      "metadata": {
        "id": "niwh9AgDD1Aj",
        "colab": {
          "base_uri": "https://localhost:8080/"
        },
        "outputId": "27b99f72-0a60-45a6-a9bc-1d19b8a22e36"
      },
      "outputs": [
        {
          "output_type": "stream",
          "name": "stdout",
          "text": [
            "Jetta Variant\n",
            "Crossfox\n",
            "DS5\n",
            "Passat\n",
            "Fusca\n"
          ]
        }
      ],
      "source": [
        "for key in datos.keys():\n",
        "  print(key)"
      ]
    },
    {
      "cell_type": "markdown",
      "metadata": {
        "id": "qFj6Cc7dD1Ak"
      },
      "source": [
        "## *dict.values()*\n",
        "\n",
        "Devuelve una lista con todos los valores (*values*) del diccionario."
      ]
    },
    {
      "cell_type": "code",
      "execution_count": null,
      "metadata": {
        "id": "nfpLxrQVD1Al",
        "colab": {
          "base_uri": "https://localhost:8080/"
        },
        "outputId": "c2212c22-2a0b-47e0-9a7e-a656a741f906"
      },
      "outputs": [
        {
          "output_type": "execute_result",
          "data": {
            "text/plain": [
              "dict_values([88078.64, 72832.16, 12300.45, 106162.34, 54908.89])"
            ]
          },
          "metadata": {},
          "execution_count": 38
        }
      ],
      "source": [
        "datos.values()"
      ]
    },
    {
      "cell_type": "markdown",
      "metadata": {
        "id": "-NGRwX0AD1Al"
      },
      "source": [
        "## *dict.items()*\n",
        "\n",
        "Devuelve una lista con una tupla para cada par llave-valor (*key-value*) del diccionario."
      ]
    },
    {
      "cell_type": "code",
      "execution_count": null,
      "metadata": {
        "id": "Q2I9_6YvD1Am",
        "colab": {
          "base_uri": "https://localhost:8080/"
        },
        "outputId": "121f38c0-91a8-42e4-9019-52e0dd7f0bc8"
      },
      "outputs": [
        {
          "output_type": "execute_result",
          "data": {
            "text/plain": [
              "dict_items([('Jetta Variant', 88078.64), ('Crossfox', 72832.16), ('DS5', 12300.45), ('Passat', 106162.34), ('Fusca', 54908.89)])"
            ]
          },
          "metadata": {},
          "execution_count": 39
        }
      ],
      "source": [
        "datos.items()"
      ]
    },
    {
      "cell_type": "code",
      "execution_count": null,
      "metadata": {
        "id": "0j41ZqgQD1Am",
        "colab": {
          "base_uri": "https://localhost:8080/"
        },
        "outputId": "3a635d97-3e5f-4407-dbb5-f6e1cbb49ed3"
      },
      "outputs": [
        {
          "output_type": "stream",
          "name": "stdout",
          "text": [
            "Jetta Variant -> 88078.64\n",
            "Crossfox -> 72832.16\n",
            "DS5 -> 12300.45\n",
            "Passat -> 106162.34\n",
            "Fusca -> 54908.89\n"
          ]
        }
      ],
      "source": [
        "for key, value in datos.items():\n",
        "  print( key, '->', value)"
      ]
    },
    {
      "cell_type": "code",
      "execution_count": null,
      "metadata": {
        "id": "OVY9rIwFD1An",
        "colab": {
          "base_uri": "https://localhost:8080/"
        },
        "outputId": "14c95611-8690-4ec4-e1f3-f749c576ac2f"
      },
      "outputs": [
        {
          "output_type": "stream",
          "name": "stdout",
          "text": [
            "Passat\n"
          ]
        }
      ],
      "source": [
        "for key, value in datos.items():\n",
        "  if(value>90000):\n",
        "    print( key)"
      ]
    },
    {
      "cell_type": "code",
      "execution_count": null,
      "metadata": {
        "id": "ma2Ol8vcD1Ap"
      },
      "outputs": [],
      "source": []
    },
    {
      "cell_type": "markdown",
      "metadata": {
        "id": "-q3AlSg3D1Aq"
      },
      "source": [
        "# <font color=green> 4. FUNCIONES Y PAQUETES\n",
        "---\n",
        "\n",
        "Funciones son unidades de código reutilizables que realizan una tarea específica, pueden recibir alguna entrada y también pueden devolver algún resultado."
      ]
    },
    {
      "cell_type": "markdown",
      "metadata": {
        "id": "5CfEcU58D1Aq"
      },
      "source": [
        "# 4.1 Built-in function\n",
        "\n",
        "El lenguaje Python tiene varias funciones integradas que siempre están accesibles. Algunas ya las usamos en nuestro entrenamiento:\n",
        "type(), print(), zip(), len(), set() etc.\n",
        "\n",
        "https://docs.python.org/3.6/library/functions.html"
      ]
    },
    {
      "cell_type": "code",
      "execution_count": null,
      "metadata": {
        "id": "DP7cmY7xD1Aq",
        "colab": {
          "base_uri": "https://localhost:8080/"
        },
        "outputId": "3df58ac5-bfb0-427c-9a7b-05bbb7d8c63d"
      },
      "outputs": [
        {
          "output_type": "execute_result",
          "data": {
            "text/plain": [
              "{'Jetta Variant': 88078.64, 'Passat': 106161.94, 'Crossfox': 72832.16}"
            ]
          },
          "metadata": {},
          "execution_count": 44
        }
      ],
      "source": [
        "datos = {'Jetta Variant': 88078.64, 'Passat': 106161.94, 'Crossfox': 72832.16}\n",
        "datos"
      ]
    },
    {
      "cell_type": "code",
      "execution_count": null,
      "metadata": {
        "id": "5zAcGSCbD1Ar",
        "colab": {
          "base_uri": "https://localhost:8080/"
        },
        "outputId": "ca8302d8-8ce8-4039-8f40-af2d078168a0"
      },
      "outputs": [
        {
          "output_type": "execute_result",
          "data": {
            "text/plain": [
              "[88078.64, 106161.94, 72832.16]"
            ]
          },
          "metadata": {},
          "execution_count": 45
        }
      ],
      "source": [
        "valores = []\n",
        "for valor in datos.values():\n",
        "  valores.append(valor)\n",
        "valores"
      ]
    },
    {
      "cell_type": "code",
      "execution_count": null,
      "metadata": {
        "id": "zG9_jU_1D1At",
        "colab": {
          "base_uri": "https://localhost:8080/"
        },
        "outputId": "59edb05c-568b-45ea-eab3-c0d286854ce3"
      },
      "outputs": [
        {
          "output_type": "execute_result",
          "data": {
            "text/plain": [
              "267072.74"
            ]
          },
          "metadata": {},
          "execution_count": 46
        }
      ],
      "source": [
        "suma = 0\n",
        "for valor in datos.values():\n",
        "  suma+=valor\n",
        "suma"
      ]
    },
    {
      "cell_type": "code",
      "execution_count": null,
      "metadata": {
        "id": "jn0O3uXZD1Au",
        "colab": {
          "base_uri": "https://localhost:8080/"
        },
        "outputId": "acb6a047-4ff7-41e0-dd17-7111d5ec6abb"
      },
      "outputs": [
        {
          "output_type": "execute_result",
          "data": {
            "text/plain": [
              "[88078.64, 106161.94, 72832.16]"
            ]
          },
          "metadata": {},
          "execution_count": 47
        }
      ],
      "source": [
        "list(datos.values())"
      ]
    },
    {
      "cell_type": "code",
      "execution_count": null,
      "metadata": {
        "id": "lnUjKVnoD1Aw",
        "colab": {
          "base_uri": "https://localhost:8080/"
        },
        "outputId": "e8ea6d4d-e88a-48c9-cff1-727bc2620191"
      },
      "outputs": [
        {
          "output_type": "execute_result",
          "data": {
            "text/plain": [
              "267072.74"
            ]
          },
          "metadata": {},
          "execution_count": 48
        }
      ],
      "source": [
        "sum(datos.values())"
      ]
    },
    {
      "cell_type": "code",
      "execution_count": null,
      "metadata": {
        "id": "WdEuYXe2D1Ay",
        "scrolled": false,
        "colab": {
          "base_uri": "https://localhost:8080/"
        },
        "outputId": "719b4fba-def6-40d3-955f-d8533c5da4a5"
      },
      "outputs": [
        {
          "output_type": "stream",
          "name": "stdout",
          "text": [
            "Help on built-in function print in module builtins:\n",
            "\n",
            "print(...)\n",
            "    print(value, ..., sep=' ', end='\\n', file=sys.stdout, flush=False)\n",
            "    \n",
            "    Prints the values to a stream, or to sys.stdout by default.\n",
            "    Optional keyword arguments:\n",
            "    file:  a file-like object (stream); defaults to the current sys.stdout.\n",
            "    sep:   string inserted between values, default a space.\n",
            "    end:   string appended after the last value, default a newline.\n",
            "    flush: whether to forcibly flush the stream.\n",
            "\n"
          ]
        }
      ],
      "source": [
        "help(print)"
      ]
    },
    {
      "cell_type": "code",
      "execution_count": null,
      "metadata": {
        "id": "hIA29O3tD1Az"
      },
      "outputs": [],
      "source": [
        "print?"
      ]
    },
    {
      "cell_type": "markdown",
      "metadata": {
        "id": "6w62Sl5ZD1A0"
      },
      "source": [
        "# 4.2 Definiendo funciones sin y con parámetros"
      ]
    },
    {
      "cell_type": "markdown",
      "metadata": {
        "id": "OADZiBP2D1A0"
      },
      "source": [
        "### Funciones sin parámetros\n",
        "\n",
        "#### Formato estándar\n",
        "\n",
        "```\n",
        "def <nombre>():\n",
        "    <instrucciones>\n",
        "```"
      ]
    },
    {
      "cell_type": "code",
      "execution_count": null,
      "metadata": {
        "id": "uCkplEpQD1A0"
      },
      "outputs": [],
      "source": []
    },
    {
      "cell_type": "code",
      "execution_count": null,
      "metadata": {
        "id": "fOCEGq5VD1A1"
      },
      "outputs": [],
      "source": []
    },
    {
      "cell_type": "markdown",
      "metadata": {
        "id": "PwSlYSVAD1A2"
      },
      "source": [
        "### Funciones con parámetros\n",
        "\n",
        "#### Formato estándar\n",
        "\n",
        "```\n",
        "def <nombre>(<param_1>, <param_2>, ..., <param_n>):\n",
        "    <instrucciones>\n",
        "```"
      ]
    },
    {
      "cell_type": "code",
      "execution_count": null,
      "metadata": {
        "id": "A3YnBUduD1A3"
      },
      "outputs": [],
      "source": [
        "def media(numero1, numero2, numero3):\n",
        "  valor = (numero1 + numero2 +numero3)/3\n",
        "  print(valor)\n"
      ]
    },
    {
      "cell_type": "code",
      "execution_count": null,
      "metadata": {
        "id": "rGUZbRERD1A3",
        "colab": {
          "base_uri": "https://localhost:8080/"
        },
        "outputId": "f78a4272-4059-4e1f-dc91-ed8d7c564f14"
      },
      "outputs": [
        {
          "output_type": "stream",
          "name": "stdout",
          "text": [
            "3.0\n"
          ]
        }
      ],
      "source": [
        "media(1,3,5)"
      ]
    },
    {
      "cell_type": "code",
      "execution_count": null,
      "metadata": {
        "id": "B9WDlRE7D1A5"
      },
      "outputs": [],
      "source": [
        "def media(lista):\n",
        "  valor = sum(lista)/len(lista)\n",
        "  return(valor)\n"
      ]
    },
    {
      "cell_type": "code",
      "execution_count": null,
      "metadata": {
        "id": "1HAy8OK_D1A6"
      },
      "outputs": [],
      "source": [
        "resultado = media([1,6,88,4,3])"
      ]
    },
    {
      "cell_type": "code",
      "execution_count": null,
      "metadata": {
        "id": "_CDa4oOfD1A6",
        "colab": {
          "base_uri": "https://localhost:8080/"
        },
        "outputId": "93338278-735a-417f-92ca-1402ce5da921"
      },
      "outputs": [
        {
          "output_type": "execute_result",
          "data": {
            "text/plain": [
              "20.4"
            ]
          },
          "metadata": {},
          "execution_count": 11
        }
      ],
      "source": [
        "resultado"
      ]
    },
    {
      "cell_type": "code",
      "execution_count": null,
      "metadata": {
        "id": "xH-mxqYAD1A8"
      },
      "outputs": [],
      "source": []
    },
    {
      "cell_type": "code",
      "execution_count": null,
      "metadata": {
        "id": "WXXC_UidD1A8"
      },
      "outputs": [],
      "source": []
    },
    {
      "cell_type": "markdown",
      "metadata": {
        "id": "8zNYrmFbD1A9"
      },
      "source": [
        "# 4.3 Definiendo funciones que devuelven valores"
      ]
    },
    {
      "cell_type": "markdown",
      "metadata": {
        "id": "J44K-dMOD1A9"
      },
      "source": [
        "### Funciones que devuelven un valor\n",
        "\n",
        "#### Formato estándar\n",
        "\n",
        "```\n",
        "def <nombre>(<param_1>, <param_2>, ..., <param_n>):\n",
        "    <instrucciones>\n",
        "    return <resultado>\n",
        "```"
      ]
    },
    {
      "cell_type": "code",
      "execution_count": null,
      "metadata": {
        "id": "-UG42RQJD1A9"
      },
      "outputs": [],
      "source": [
        "def media(lista):\n",
        "  valor = sum(lista)/len(lista)\n",
        "  return(valor, len(lista))\n"
      ]
    },
    {
      "cell_type": "code",
      "execution_count": null,
      "metadata": {
        "id": "VJwdvoT5D1A-"
      },
      "outputs": [],
      "source": [
        "resultado = media([1,6,88,4,3])"
      ]
    },
    {
      "cell_type": "code",
      "execution_count": null,
      "metadata": {
        "id": "AgAeJkpND1A-",
        "colab": {
          "base_uri": "https://localhost:8080/"
        },
        "outputId": "aaba492a-8a27-4d8f-be60-8b6a55681484"
      },
      "outputs": [
        {
          "output_type": "execute_result",
          "data": {
            "text/plain": [
              "(20.4, 5)"
            ]
          },
          "metadata": {},
          "execution_count": 14
        }
      ],
      "source": [
        "resultado"
      ]
    },
    {
      "cell_type": "code",
      "execution_count": null,
      "metadata": {
        "id": "_r616TevD1A_"
      },
      "outputs": [],
      "source": [
        "resultado , n = media([1,6,88,4,3])"
      ]
    },
    {
      "cell_type": "code",
      "source": [
        "n"
      ],
      "metadata": {
        "colab": {
          "base_uri": "https://localhost:8080/"
        },
        "id": "H3TnmfMp5w-b",
        "outputId": "9881d97e-2163-4600-c992-2e53c35f9cd4"
      },
      "execution_count": null,
      "outputs": [
        {
          "output_type": "execute_result",
          "data": {
            "text/plain": [
              "5"
            ]
          },
          "metadata": {},
          "execution_count": 17
        }
      ]
    },
    {
      "cell_type": "code",
      "source": [
        "resultado"
      ],
      "metadata": {
        "colab": {
          "base_uri": "https://localhost:8080/"
        },
        "id": "gKXhGEjd5ugv",
        "outputId": "cf8d711f-5af4-4d24-d0ba-3baca133c7dc"
      },
      "execution_count": null,
      "outputs": [
        {
          "output_type": "execute_result",
          "data": {
            "text/plain": [
              "20.4"
            ]
          },
          "metadata": {},
          "execution_count": 16
        }
      ]
    },
    {
      "cell_type": "markdown",
      "metadata": {
        "id": "MQaK8GV5D1BA"
      },
      "source": [
        "### Funciones que devuelven más de un valor\n",
        "\n",
        "#### Formato estándar\n",
        "\n",
        "```\n",
        "def <nombre>(<param_1>, <param_2>, ..., <param_n>):\n",
        "    <instrucciones>\n",
        "    return (<resultado_1>, <resultado_2>, ..., <resultado_n>)\n",
        "```"
      ]
    },
    {
      "cell_type": "code",
      "execution_count": null,
      "metadata": {
        "id": "v0PUMegVD1BA"
      },
      "outputs": [],
      "source": []
    },
    {
      "cell_type": "code",
      "execution_count": null,
      "metadata": {
        "id": "Ys-etom8D1BA"
      },
      "outputs": [],
      "source": []
    },
    {
      "cell_type": "code",
      "execution_count": null,
      "metadata": {
        "id": "LERrvkMHD1BC"
      },
      "outputs": [],
      "source": []
    },
    {
      "cell_type": "code",
      "execution_count": null,
      "metadata": {
        "id": "sqoFOWSsD1BC"
      },
      "outputs": [],
      "source": []
    },
    {
      "cell_type": "code",
      "execution_count": null,
      "metadata": {
        "id": "NdB_Jyw_D1BD"
      },
      "outputs": [],
      "source": []
    },
    {
      "cell_type": "markdown",
      "metadata": {
        "id": "uQ5lNnKrD1BD"
      },
      "source": [
        "# <font color=green> 5. PANDAS BÁSICO\n",
        "---\n",
        "\n",
        "**versión: 1.1.0**\n",
        "\n",
        "Pandas es una herramienta de manipulación de datos de alto nivel, construida sobre la base del paquete Numpy. El paquete pandas tiene estructuras de datos muy interesantes para la manipulación de datos y, por esto, es ampliamente utilizado por los científicos de datos.\n",
        "\n",
        "\n",
        "## Estructuras de Datos\n",
        "\n",
        "### Series\n",
        "\n",
        "Series son arrays unidimensionales etiquetados capaces de almacenar cualquier tipo de dato. Las etiquetas de las líneas se denominan **index**. La forma básica de crear una Series es la siguiente:\n",
        "\n",
        "\n",
        "```\n",
        "    s = pd.Series(datos, index = index)\n",
        "```\n",
        "\n",
        "El argumento *datos* puede ser un diccionario, una lista, un array Numpy o una constante.\n",
        "\n",
        "### DataFrames\n",
        "\n",
        "DataFrame es una estructura de datos tabular bidimensional con etiquetas de fila y columna. Como la Series, los DataFrames son capaces de almacenar cualquier tipo de datos.\n",
        "\n",
        "\n",
        "```\n",
        "    df = pd.DataFrame(datos, index = index, columns = columns)\n",
        "```\n",
        "\n",
        "El argumento *datos* puede ser un diccionario, una lista, un array Numpy, una Series y otro DataFrame.\n",
        "\n",
        "**Documentación:** https://pandas.pydata.org/pandas-docs/version/1.1.0/"
      ]
    },
    {
      "cell_type": "markdown",
      "metadata": {
        "id": "2qa7RC03D1BD"
      },
      "source": [
        "# 5.1 Estructuras de datos"
      ]
    },
    {
      "cell_type": "code",
      "execution_count": null,
      "metadata": {
        "id": "4QyFDeS4D1BD"
      },
      "outputs": [],
      "source": [
        "import pandas as pd"
      ]
    },
    {
      "cell_type": "markdown",
      "metadata": {
        "id": "kIey8_OcD1BF"
      },
      "source": [
        "### Creando una Series a partir de una lista"
      ]
    },
    {
      "cell_type": "code",
      "execution_count": null,
      "metadata": {
        "id": "yEZR6DWiD1BF",
        "colab": {
          "base_uri": "https://localhost:8080/"
        },
        "outputId": "d2520227-1047-427f-d61f-0efd4d75679b"
      },
      "outputs": [
        {
          "output_type": "execute_result",
          "data": {
            "text/plain": [
              "['Jetta Variant', 'Passat', 'Crossfox']"
            ]
          },
          "metadata": {},
          "execution_count": 2
        }
      ],
      "source": [
        "carros = ['Jetta Variant', 'Passat', 'Crossfox']\n",
        "carros"
      ]
    },
    {
      "cell_type": "code",
      "execution_count": null,
      "metadata": {
        "id": "rLudWKZ_D1BF",
        "colab": {
          "base_uri": "https://localhost:8080/"
        },
        "outputId": "692975ee-f6f5-4ee6-9045-6f999fa353fc"
      },
      "outputs": [
        {
          "output_type": "execute_result",
          "data": {
            "text/plain": [
              "0    Jetta Variant\n",
              "1           Passat\n",
              "2         Crossfox\n",
              "dtype: object"
            ]
          },
          "metadata": {},
          "execution_count": 3
        }
      ],
      "source": [
        "pd.Series(carros)"
      ]
    },
    {
      "cell_type": "markdown",
      "metadata": {
        "id": "VYVIKd1-D1BG"
      },
      "source": [
        "### Creando un DataFrame a partir de una lista de diccionarios"
      ]
    },
    {
      "cell_type": "code",
      "execution_count": null,
      "metadata": {
        "id": "QFNS9PckD1BG"
      },
      "outputs": [],
      "source": [
        "datos = [\n",
        "    {'Nombre': 'Jetta Variant', 'Motor': 'Motor 4.0 Turbo', 'Año': 2003, 'Kilometraje': 44410.0, 'Cero_km': False, 'Valor': 88078.64},\n",
        "    {'Nombre': 'Passat', 'Motor': 'Motor Diesel', 'Año': 1991, 'Kilometraje': 5712.0, 'Cero_km': False, 'Valor': 106161.94},\n",
        "    {'Nombre': 'Crossfox', 'Motor': 'Motor Diesel V8', 'Año': 1990, 'Kilometraje': 37123.0, 'Cero_km': False, 'Valor': 72832.16}\n",
        "]"
      ]
    },
    {
      "cell_type": "code",
      "execution_count": null,
      "metadata": {
        "id": "WDQb9AnKD1BH",
        "colab": {
          "base_uri": "https://localhost:8080/",
          "height": 143
        },
        "outputId": "bd9a9e3d-f711-412c-e8b9-0d1991be7272"
      },
      "outputs": [
        {
          "output_type": "execute_result",
          "data": {
            "text/plain": [
              "          Nombre            Motor   Año  Kilometraje  Cero_km      Valor\n",
              "0  Jetta Variant  Motor 4.0 Turbo  2003      44410.0    False   88078.64\n",
              "1         Passat     Motor Diesel  1991       5712.0    False  106161.94\n",
              "2       Crossfox  Motor Diesel V8  1990      37123.0    False   72832.16"
            ],
            "text/html": [
              "\n",
              "  <div id=\"df-cebc2228-73b9-4ebb-bd4c-8c59bc7c909a\">\n",
              "    <div class=\"colab-df-container\">\n",
              "      <div>\n",
              "<style scoped>\n",
              "    .dataframe tbody tr th:only-of-type {\n",
              "        vertical-align: middle;\n",
              "    }\n",
              "\n",
              "    .dataframe tbody tr th {\n",
              "        vertical-align: top;\n",
              "    }\n",
              "\n",
              "    .dataframe thead th {\n",
              "        text-align: right;\n",
              "    }\n",
              "</style>\n",
              "<table border=\"1\" class=\"dataframe\">\n",
              "  <thead>\n",
              "    <tr style=\"text-align: right;\">\n",
              "      <th></th>\n",
              "      <th>Nombre</th>\n",
              "      <th>Motor</th>\n",
              "      <th>Año</th>\n",
              "      <th>Kilometraje</th>\n",
              "      <th>Cero_km</th>\n",
              "      <th>Valor</th>\n",
              "    </tr>\n",
              "  </thead>\n",
              "  <tbody>\n",
              "    <tr>\n",
              "      <th>0</th>\n",
              "      <td>Jetta Variant</td>\n",
              "      <td>Motor 4.0 Turbo</td>\n",
              "      <td>2003</td>\n",
              "      <td>44410.0</td>\n",
              "      <td>False</td>\n",
              "      <td>88078.64</td>\n",
              "    </tr>\n",
              "    <tr>\n",
              "      <th>1</th>\n",
              "      <td>Passat</td>\n",
              "      <td>Motor Diesel</td>\n",
              "      <td>1991</td>\n",
              "      <td>5712.0</td>\n",
              "      <td>False</td>\n",
              "      <td>106161.94</td>\n",
              "    </tr>\n",
              "    <tr>\n",
              "      <th>2</th>\n",
              "      <td>Crossfox</td>\n",
              "      <td>Motor Diesel V8</td>\n",
              "      <td>1990</td>\n",
              "      <td>37123.0</td>\n",
              "      <td>False</td>\n",
              "      <td>72832.16</td>\n",
              "    </tr>\n",
              "  </tbody>\n",
              "</table>\n",
              "</div>\n",
              "      <button class=\"colab-df-convert\" onclick=\"convertToInteractive('df-cebc2228-73b9-4ebb-bd4c-8c59bc7c909a')\"\n",
              "              title=\"Convert this dataframe to an interactive table.\"\n",
              "              style=\"display:none;\">\n",
              "        \n",
              "  <svg xmlns=\"http://www.w3.org/2000/svg\" height=\"24px\"viewBox=\"0 0 24 24\"\n",
              "       width=\"24px\">\n",
              "    <path d=\"M0 0h24v24H0V0z\" fill=\"none\"/>\n",
              "    <path d=\"M18.56 5.44l.94 2.06.94-2.06 2.06-.94-2.06-.94-.94-2.06-.94 2.06-2.06.94zm-11 1L8.5 8.5l.94-2.06 2.06-.94-2.06-.94L8.5 2.5l-.94 2.06-2.06.94zm10 10l.94 2.06.94-2.06 2.06-.94-2.06-.94-.94-2.06-.94 2.06-2.06.94z\"/><path d=\"M17.41 7.96l-1.37-1.37c-.4-.4-.92-.59-1.43-.59-.52 0-1.04.2-1.43.59L10.3 9.45l-7.72 7.72c-.78.78-.78 2.05 0 2.83L4 21.41c.39.39.9.59 1.41.59.51 0 1.02-.2 1.41-.59l7.78-7.78 2.81-2.81c.8-.78.8-2.07 0-2.86zM5.41 20L4 18.59l7.72-7.72 1.47 1.35L5.41 20z\"/>\n",
              "  </svg>\n",
              "      </button>\n",
              "      \n",
              "  <style>\n",
              "    .colab-df-container {\n",
              "      display:flex;\n",
              "      flex-wrap:wrap;\n",
              "      gap: 12px;\n",
              "    }\n",
              "\n",
              "    .colab-df-convert {\n",
              "      background-color: #E8F0FE;\n",
              "      border: none;\n",
              "      border-radius: 50%;\n",
              "      cursor: pointer;\n",
              "      display: none;\n",
              "      fill: #1967D2;\n",
              "      height: 32px;\n",
              "      padding: 0 0 0 0;\n",
              "      width: 32px;\n",
              "    }\n",
              "\n",
              "    .colab-df-convert:hover {\n",
              "      background-color: #E2EBFA;\n",
              "      box-shadow: 0px 1px 2px rgba(60, 64, 67, 0.3), 0px 1px 3px 1px rgba(60, 64, 67, 0.15);\n",
              "      fill: #174EA6;\n",
              "    }\n",
              "\n",
              "    [theme=dark] .colab-df-convert {\n",
              "      background-color: #3B4455;\n",
              "      fill: #D2E3FC;\n",
              "    }\n",
              "\n",
              "    [theme=dark] .colab-df-convert:hover {\n",
              "      background-color: #434B5C;\n",
              "      box-shadow: 0px 1px 3px 1px rgba(0, 0, 0, 0.15);\n",
              "      filter: drop-shadow(0px 1px 2px rgba(0, 0, 0, 0.3));\n",
              "      fill: #FFFFFF;\n",
              "    }\n",
              "  </style>\n",
              "\n",
              "      <script>\n",
              "        const buttonEl =\n",
              "          document.querySelector('#df-cebc2228-73b9-4ebb-bd4c-8c59bc7c909a button.colab-df-convert');\n",
              "        buttonEl.style.display =\n",
              "          google.colab.kernel.accessAllowed ? 'block' : 'none';\n",
              "\n",
              "        async function convertToInteractive(key) {\n",
              "          const element = document.querySelector('#df-cebc2228-73b9-4ebb-bd4c-8c59bc7c909a');\n",
              "          const dataTable =\n",
              "            await google.colab.kernel.invokeFunction('convertToInteractive',\n",
              "                                                     [key], {});\n",
              "          if (!dataTable) return;\n",
              "\n",
              "          const docLinkHtml = 'Like what you see? Visit the ' +\n",
              "            '<a target=\"_blank\" href=https://colab.research.google.com/notebooks/data_table.ipynb>data table notebook</a>'\n",
              "            + ' to learn more about interactive tables.';\n",
              "          element.innerHTML = '';\n",
              "          dataTable['output_type'] = 'display_data';\n",
              "          await google.colab.output.renderOutput(dataTable, element);\n",
              "          const docLink = document.createElement('div');\n",
              "          docLink.innerHTML = docLinkHtml;\n",
              "          element.appendChild(docLink);\n",
              "        }\n",
              "      </script>\n",
              "    </div>\n",
              "  </div>\n",
              "  "
            ]
          },
          "metadata": {},
          "execution_count": 5
        }
      ],
      "source": [
        "dataset = pd.DataFrame(datos)\n",
        "dataset"
      ]
    },
    {
      "cell_type": "code",
      "execution_count": null,
      "metadata": {
        "id": "-2-jGvmGD1BI",
        "colab": {
          "base_uri": "https://localhost:8080/",
          "height": 143
        },
        "outputId": "7694525e-2112-4464-9d75-d53ea28ea3e2"
      },
      "outputs": [
        {
          "output_type": "execute_result",
          "data": {
            "text/plain": [
              "          Nombre   Año            Motor  Kilometraje  Cero_km      Valor\n",
              "0  Jetta Variant  2003  Motor 4.0 Turbo      44410.0    False   88078.64\n",
              "1         Passat  1991     Motor Diesel       5712.0    False  106161.94\n",
              "2       Crossfox  1990  Motor Diesel V8      37123.0    False   72832.16"
            ],
            "text/html": [
              "\n",
              "  <div id=\"df-19eddb23-0a92-45ee-ba6b-44c54beefff8\">\n",
              "    <div class=\"colab-df-container\">\n",
              "      <div>\n",
              "<style scoped>\n",
              "    .dataframe tbody tr th:only-of-type {\n",
              "        vertical-align: middle;\n",
              "    }\n",
              "\n",
              "    .dataframe tbody tr th {\n",
              "        vertical-align: top;\n",
              "    }\n",
              "\n",
              "    .dataframe thead th {\n",
              "        text-align: right;\n",
              "    }\n",
              "</style>\n",
              "<table border=\"1\" class=\"dataframe\">\n",
              "  <thead>\n",
              "    <tr style=\"text-align: right;\">\n",
              "      <th></th>\n",
              "      <th>Nombre</th>\n",
              "      <th>Año</th>\n",
              "      <th>Motor</th>\n",
              "      <th>Kilometraje</th>\n",
              "      <th>Cero_km</th>\n",
              "      <th>Valor</th>\n",
              "    </tr>\n",
              "  </thead>\n",
              "  <tbody>\n",
              "    <tr>\n",
              "      <th>0</th>\n",
              "      <td>Jetta Variant</td>\n",
              "      <td>2003</td>\n",
              "      <td>Motor 4.0 Turbo</td>\n",
              "      <td>44410.0</td>\n",
              "      <td>False</td>\n",
              "      <td>88078.64</td>\n",
              "    </tr>\n",
              "    <tr>\n",
              "      <th>1</th>\n",
              "      <td>Passat</td>\n",
              "      <td>1991</td>\n",
              "      <td>Motor Diesel</td>\n",
              "      <td>5712.0</td>\n",
              "      <td>False</td>\n",
              "      <td>106161.94</td>\n",
              "    </tr>\n",
              "    <tr>\n",
              "      <th>2</th>\n",
              "      <td>Crossfox</td>\n",
              "      <td>1990</td>\n",
              "      <td>Motor Diesel V8</td>\n",
              "      <td>37123.0</td>\n",
              "      <td>False</td>\n",
              "      <td>72832.16</td>\n",
              "    </tr>\n",
              "  </tbody>\n",
              "</table>\n",
              "</div>\n",
              "      <button class=\"colab-df-convert\" onclick=\"convertToInteractive('df-19eddb23-0a92-45ee-ba6b-44c54beefff8')\"\n",
              "              title=\"Convert this dataframe to an interactive table.\"\n",
              "              style=\"display:none;\">\n",
              "        \n",
              "  <svg xmlns=\"http://www.w3.org/2000/svg\" height=\"24px\"viewBox=\"0 0 24 24\"\n",
              "       width=\"24px\">\n",
              "    <path d=\"M0 0h24v24H0V0z\" fill=\"none\"/>\n",
              "    <path d=\"M18.56 5.44l.94 2.06.94-2.06 2.06-.94-2.06-.94-.94-2.06-.94 2.06-2.06.94zm-11 1L8.5 8.5l.94-2.06 2.06-.94-2.06-.94L8.5 2.5l-.94 2.06-2.06.94zm10 10l.94 2.06.94-2.06 2.06-.94-2.06-.94-.94-2.06-.94 2.06-2.06.94z\"/><path d=\"M17.41 7.96l-1.37-1.37c-.4-.4-.92-.59-1.43-.59-.52 0-1.04.2-1.43.59L10.3 9.45l-7.72 7.72c-.78.78-.78 2.05 0 2.83L4 21.41c.39.39.9.59 1.41.59.51 0 1.02-.2 1.41-.59l7.78-7.78 2.81-2.81c.8-.78.8-2.07 0-2.86zM5.41 20L4 18.59l7.72-7.72 1.47 1.35L5.41 20z\"/>\n",
              "  </svg>\n",
              "      </button>\n",
              "      \n",
              "  <style>\n",
              "    .colab-df-container {\n",
              "      display:flex;\n",
              "      flex-wrap:wrap;\n",
              "      gap: 12px;\n",
              "    }\n",
              "\n",
              "    .colab-df-convert {\n",
              "      background-color: #E8F0FE;\n",
              "      border: none;\n",
              "      border-radius: 50%;\n",
              "      cursor: pointer;\n",
              "      display: none;\n",
              "      fill: #1967D2;\n",
              "      height: 32px;\n",
              "      padding: 0 0 0 0;\n",
              "      width: 32px;\n",
              "    }\n",
              "\n",
              "    .colab-df-convert:hover {\n",
              "      background-color: #E2EBFA;\n",
              "      box-shadow: 0px 1px 2px rgba(60, 64, 67, 0.3), 0px 1px 3px 1px rgba(60, 64, 67, 0.15);\n",
              "      fill: #174EA6;\n",
              "    }\n",
              "\n",
              "    [theme=dark] .colab-df-convert {\n",
              "      background-color: #3B4455;\n",
              "      fill: #D2E3FC;\n",
              "    }\n",
              "\n",
              "    [theme=dark] .colab-df-convert:hover {\n",
              "      background-color: #434B5C;\n",
              "      box-shadow: 0px 1px 3px 1px rgba(0, 0, 0, 0.15);\n",
              "      filter: drop-shadow(0px 1px 2px rgba(0, 0, 0, 0.3));\n",
              "      fill: #FFFFFF;\n",
              "    }\n",
              "  </style>\n",
              "\n",
              "      <script>\n",
              "        const buttonEl =\n",
              "          document.querySelector('#df-19eddb23-0a92-45ee-ba6b-44c54beefff8 button.colab-df-convert');\n",
              "        buttonEl.style.display =\n",
              "          google.colab.kernel.accessAllowed ? 'block' : 'none';\n",
              "\n",
              "        async function convertToInteractive(key) {\n",
              "          const element = document.querySelector('#df-19eddb23-0a92-45ee-ba6b-44c54beefff8');\n",
              "          const dataTable =\n",
              "            await google.colab.kernel.invokeFunction('convertToInteractive',\n",
              "                                                     [key], {});\n",
              "          if (!dataTable) return;\n",
              "\n",
              "          const docLinkHtml = 'Like what you see? Visit the ' +\n",
              "            '<a target=\"_blank\" href=https://colab.research.google.com/notebooks/data_table.ipynb>data table notebook</a>'\n",
              "            + ' to learn more about interactive tables.';\n",
              "          element.innerHTML = '';\n",
              "          dataTable['output_type'] = 'display_data';\n",
              "          await google.colab.output.renderOutput(dataTable, element);\n",
              "          const docLink = document.createElement('div');\n",
              "          docLink.innerHTML = docLinkHtml;\n",
              "          element.appendChild(docLink);\n",
              "        }\n",
              "      </script>\n",
              "    </div>\n",
              "  </div>\n",
              "  "
            ]
          },
          "metadata": {},
          "execution_count": 6
        }
      ],
      "source": [
        "dataset[['Nombre', 'Año', 'Motor', 'Kilometraje', 'Cero_km', 'Valor']]"
      ]
    },
    {
      "cell_type": "code",
      "execution_count": null,
      "metadata": {
        "id": "2kbyOThiD1BJ"
      },
      "outputs": [],
      "source": []
    },
    {
      "cell_type": "markdown",
      "metadata": {
        "id": "pJK2tQgYD1BK"
      },
      "source": [
        "### Creando un DataFrame a partir de un diccionario"
      ]
    },
    {
      "cell_type": "code",
      "execution_count": null,
      "metadata": {
        "id": "WKNQwKucD1BK"
      },
      "outputs": [],
      "source": [
        "datos = {\n",
        "    'Nombre': ['Jetta Variant', 'Passat', 'Crossfox'], \n",
        "    'Motor': ['Motor 4.0 Turbo', 'Motor Diesel', 'Motor Diesel V8'],\n",
        "    'Año': [2003, 1991, 1990],\n",
        "    'Kilometraje': [44410.0, 5712.0, 37123.0],\n",
        "    'Cero_km': [False, False, False],\n",
        "    'Valor': [88078.64, 106161.94, 72832.16]\n",
        "}"
      ]
    },
    {
      "cell_type": "code",
      "execution_count": null,
      "metadata": {
        "id": "lKnuZfzcD1BK"
      },
      "outputs": [],
      "source": []
    },
    {
      "cell_type": "code",
      "execution_count": null,
      "metadata": {
        "id": "PNqTytC-D1BL"
      },
      "outputs": [],
      "source": []
    },
    {
      "cell_type": "markdown",
      "metadata": {
        "id": "fCCXs0reD1BL"
      },
      "source": [
        "### Creando un DataFrame a partir de un archivo externo"
      ]
    },
    {
      "cell_type": "code",
      "execution_count": null,
      "metadata": {
        "id": "78PRHGeZD1BL"
      },
      "outputs": [],
      "source": [
        "dataset = pd.read_csv('db.csv', sep=';')\n",
        " "
      ]
    },
    {
      "cell_type": "code",
      "execution_count": null,
      "metadata": {
        "id": "1o1YlnVPD1BM",
        "scrolled": true,
        "colab": {
          "base_uri": "https://localhost:8080/",
          "height": 423
        },
        "outputId": "fef7a16c-bb62-4d8c-a22b-8333bdc8a4b4"
      },
      "outputs": [
        {
          "output_type": "execute_result",
          "data": {
            "text/plain": [
              "                    Nombre                  Motor   Año  Kilometraje  Cero_km  \\\n",
              "0            Jetta Variant        Motor 4.0 Turbo  2003      44410.0    False   \n",
              "1                   Passat           Motor Diesel  1991       5712.0    False   \n",
              "2                 Crossfox        Motor Diesel V8  1990      37123.0    False   \n",
              "3                      DS5        Motor 2.4 Turbo  2019          NaN     True   \n",
              "4         Aston Martin DB4        Motor 2.4 Turbo  2006      25757.0    False   \n",
              "..                     ...                    ...   ...          ...      ...   \n",
              "253           Phantom 2013               Motor V8  2014      27505.0    False   \n",
              "254  Cadillac Ciel concept               Motor V8  1991      29981.0    False   \n",
              "255             Classe GLK  Motor 5.0 V8 Bi-Turbo  2002      52637.0    False   \n",
              "256       Aston Martin DB5           Motor Diesel  1996       7685.0    False   \n",
              "257                  Macan        Motor Diesel V6  1992      50188.0    False   \n",
              "\n",
              "                                            Accesorios      Valor  \n",
              "0    ['Llantas de aleación', 'Cerraduras electricas...   88078.64  \n",
              "1    ['Central multimedia', 'Techo panorámico', 'Fr...  106161.94  \n",
              "2    ['Piloto automático', 'Control de estabilidad'...   72832.16  \n",
              "3    ['Cerraduras electricas', '4 X 4', 'Ventanas e...  124549.07  \n",
              "4    ['Llantas de aleación', '4 X 4', 'Central mult...   92612.10  \n",
              "..                                                 ...        ...  \n",
              "253  ['Control de estabilidad', 'Piloto automático'...   51759.58  \n",
              "254  ['Asientos de cuero', 'Panel digital', 'Sensor...   51667.06  \n",
              "255  ['Llantas de aleación', 'Control de tracción',...   68934.03  \n",
              "256  ['Aire condicionado', '4 X 4', 'Transmisión au...  122110.90  \n",
              "257  ['Central multimedia', 'Techo panorámico', 'Ve...   90381.47  \n",
              "\n",
              "[258 rows x 7 columns]"
            ],
            "text/html": [
              "\n",
              "  <div id=\"df-68c6fb91-def4-4558-bc99-36915d5e457b\">\n",
              "    <div class=\"colab-df-container\">\n",
              "      <div>\n",
              "<style scoped>\n",
              "    .dataframe tbody tr th:only-of-type {\n",
              "        vertical-align: middle;\n",
              "    }\n",
              "\n",
              "    .dataframe tbody tr th {\n",
              "        vertical-align: top;\n",
              "    }\n",
              "\n",
              "    .dataframe thead th {\n",
              "        text-align: right;\n",
              "    }\n",
              "</style>\n",
              "<table border=\"1\" class=\"dataframe\">\n",
              "  <thead>\n",
              "    <tr style=\"text-align: right;\">\n",
              "      <th></th>\n",
              "      <th>Nombre</th>\n",
              "      <th>Motor</th>\n",
              "      <th>Año</th>\n",
              "      <th>Kilometraje</th>\n",
              "      <th>Cero_km</th>\n",
              "      <th>Accesorios</th>\n",
              "      <th>Valor</th>\n",
              "    </tr>\n",
              "  </thead>\n",
              "  <tbody>\n",
              "    <tr>\n",
              "      <th>0</th>\n",
              "      <td>Jetta Variant</td>\n",
              "      <td>Motor 4.0 Turbo</td>\n",
              "      <td>2003</td>\n",
              "      <td>44410.0</td>\n",
              "      <td>False</td>\n",
              "      <td>['Llantas de aleación', 'Cerraduras electricas...</td>\n",
              "      <td>88078.64</td>\n",
              "    </tr>\n",
              "    <tr>\n",
              "      <th>1</th>\n",
              "      <td>Passat</td>\n",
              "      <td>Motor Diesel</td>\n",
              "      <td>1991</td>\n",
              "      <td>5712.0</td>\n",
              "      <td>False</td>\n",
              "      <td>['Central multimedia', 'Techo panorámico', 'Fr...</td>\n",
              "      <td>106161.94</td>\n",
              "    </tr>\n",
              "    <tr>\n",
              "      <th>2</th>\n",
              "      <td>Crossfox</td>\n",
              "      <td>Motor Diesel V8</td>\n",
              "      <td>1990</td>\n",
              "      <td>37123.0</td>\n",
              "      <td>False</td>\n",
              "      <td>['Piloto automático', 'Control de estabilidad'...</td>\n",
              "      <td>72832.16</td>\n",
              "    </tr>\n",
              "    <tr>\n",
              "      <th>3</th>\n",
              "      <td>DS5</td>\n",
              "      <td>Motor 2.4 Turbo</td>\n",
              "      <td>2019</td>\n",
              "      <td>NaN</td>\n",
              "      <td>True</td>\n",
              "      <td>['Cerraduras electricas', '4 X 4', 'Ventanas e...</td>\n",
              "      <td>124549.07</td>\n",
              "    </tr>\n",
              "    <tr>\n",
              "      <th>4</th>\n",
              "      <td>Aston Martin DB4</td>\n",
              "      <td>Motor 2.4 Turbo</td>\n",
              "      <td>2006</td>\n",
              "      <td>25757.0</td>\n",
              "      <td>False</td>\n",
              "      <td>['Llantas de aleación', '4 X 4', 'Central mult...</td>\n",
              "      <td>92612.10</td>\n",
              "    </tr>\n",
              "    <tr>\n",
              "      <th>...</th>\n",
              "      <td>...</td>\n",
              "      <td>...</td>\n",
              "      <td>...</td>\n",
              "      <td>...</td>\n",
              "      <td>...</td>\n",
              "      <td>...</td>\n",
              "      <td>...</td>\n",
              "    </tr>\n",
              "    <tr>\n",
              "      <th>253</th>\n",
              "      <td>Phantom 2013</td>\n",
              "      <td>Motor V8</td>\n",
              "      <td>2014</td>\n",
              "      <td>27505.0</td>\n",
              "      <td>False</td>\n",
              "      <td>['Control de estabilidad', 'Piloto automático'...</td>\n",
              "      <td>51759.58</td>\n",
              "    </tr>\n",
              "    <tr>\n",
              "      <th>254</th>\n",
              "      <td>Cadillac Ciel concept</td>\n",
              "      <td>Motor V8</td>\n",
              "      <td>1991</td>\n",
              "      <td>29981.0</td>\n",
              "      <td>False</td>\n",
              "      <td>['Asientos de cuero', 'Panel digital', 'Sensor...</td>\n",
              "      <td>51667.06</td>\n",
              "    </tr>\n",
              "    <tr>\n",
              "      <th>255</th>\n",
              "      <td>Classe GLK</td>\n",
              "      <td>Motor 5.0 V8 Bi-Turbo</td>\n",
              "      <td>2002</td>\n",
              "      <td>52637.0</td>\n",
              "      <td>False</td>\n",
              "      <td>['Llantas de aleación', 'Control de tracción',...</td>\n",
              "      <td>68934.03</td>\n",
              "    </tr>\n",
              "    <tr>\n",
              "      <th>256</th>\n",
              "      <td>Aston Martin DB5</td>\n",
              "      <td>Motor Diesel</td>\n",
              "      <td>1996</td>\n",
              "      <td>7685.0</td>\n",
              "      <td>False</td>\n",
              "      <td>['Aire condicionado', '4 X 4', 'Transmisión au...</td>\n",
              "      <td>122110.90</td>\n",
              "    </tr>\n",
              "    <tr>\n",
              "      <th>257</th>\n",
              "      <td>Macan</td>\n",
              "      <td>Motor Diesel V6</td>\n",
              "      <td>1992</td>\n",
              "      <td>50188.0</td>\n",
              "      <td>False</td>\n",
              "      <td>['Central multimedia', 'Techo panorámico', 'Ve...</td>\n",
              "      <td>90381.47</td>\n",
              "    </tr>\n",
              "  </tbody>\n",
              "</table>\n",
              "<p>258 rows × 7 columns</p>\n",
              "</div>\n",
              "      <button class=\"colab-df-convert\" onclick=\"convertToInteractive('df-68c6fb91-def4-4558-bc99-36915d5e457b')\"\n",
              "              title=\"Convert this dataframe to an interactive table.\"\n",
              "              style=\"display:none;\">\n",
              "        \n",
              "  <svg xmlns=\"http://www.w3.org/2000/svg\" height=\"24px\"viewBox=\"0 0 24 24\"\n",
              "       width=\"24px\">\n",
              "    <path d=\"M0 0h24v24H0V0z\" fill=\"none\"/>\n",
              "    <path d=\"M18.56 5.44l.94 2.06.94-2.06 2.06-.94-2.06-.94-.94-2.06-.94 2.06-2.06.94zm-11 1L8.5 8.5l.94-2.06 2.06-.94-2.06-.94L8.5 2.5l-.94 2.06-2.06.94zm10 10l.94 2.06.94-2.06 2.06-.94-2.06-.94-.94-2.06-.94 2.06-2.06.94z\"/><path d=\"M17.41 7.96l-1.37-1.37c-.4-.4-.92-.59-1.43-.59-.52 0-1.04.2-1.43.59L10.3 9.45l-7.72 7.72c-.78.78-.78 2.05 0 2.83L4 21.41c.39.39.9.59 1.41.59.51 0 1.02-.2 1.41-.59l7.78-7.78 2.81-2.81c.8-.78.8-2.07 0-2.86zM5.41 20L4 18.59l7.72-7.72 1.47 1.35L5.41 20z\"/>\n",
              "  </svg>\n",
              "      </button>\n",
              "      \n",
              "  <style>\n",
              "    .colab-df-container {\n",
              "      display:flex;\n",
              "      flex-wrap:wrap;\n",
              "      gap: 12px;\n",
              "    }\n",
              "\n",
              "    .colab-df-convert {\n",
              "      background-color: #E8F0FE;\n",
              "      border: none;\n",
              "      border-radius: 50%;\n",
              "      cursor: pointer;\n",
              "      display: none;\n",
              "      fill: #1967D2;\n",
              "      height: 32px;\n",
              "      padding: 0 0 0 0;\n",
              "      width: 32px;\n",
              "    }\n",
              "\n",
              "    .colab-df-convert:hover {\n",
              "      background-color: #E2EBFA;\n",
              "      box-shadow: 0px 1px 2px rgba(60, 64, 67, 0.3), 0px 1px 3px 1px rgba(60, 64, 67, 0.15);\n",
              "      fill: #174EA6;\n",
              "    }\n",
              "\n",
              "    [theme=dark] .colab-df-convert {\n",
              "      background-color: #3B4455;\n",
              "      fill: #D2E3FC;\n",
              "    }\n",
              "\n",
              "    [theme=dark] .colab-df-convert:hover {\n",
              "      background-color: #434B5C;\n",
              "      box-shadow: 0px 1px 3px 1px rgba(0, 0, 0, 0.15);\n",
              "      filter: drop-shadow(0px 1px 2px rgba(0, 0, 0, 0.3));\n",
              "      fill: #FFFFFF;\n",
              "    }\n",
              "  </style>\n",
              "\n",
              "      <script>\n",
              "        const buttonEl =\n",
              "          document.querySelector('#df-68c6fb91-def4-4558-bc99-36915d5e457b button.colab-df-convert');\n",
              "        buttonEl.style.display =\n",
              "          google.colab.kernel.accessAllowed ? 'block' : 'none';\n",
              "\n",
              "        async function convertToInteractive(key) {\n",
              "          const element = document.querySelector('#df-68c6fb91-def4-4558-bc99-36915d5e457b');\n",
              "          const dataTable =\n",
              "            await google.colab.kernel.invokeFunction('convertToInteractive',\n",
              "                                                     [key], {});\n",
              "          if (!dataTable) return;\n",
              "\n",
              "          const docLinkHtml = 'Like what you see? Visit the ' +\n",
              "            '<a target=\"_blank\" href=https://colab.research.google.com/notebooks/data_table.ipynb>data table notebook</a>'\n",
              "            + ' to learn more about interactive tables.';\n",
              "          element.innerHTML = '';\n",
              "          dataTable['output_type'] = 'display_data';\n",
              "          await google.colab.output.renderOutput(dataTable, element);\n",
              "          const docLink = document.createElement('div');\n",
              "          docLink.innerHTML = docLinkHtml;\n",
              "          element.appendChild(docLink);\n",
              "        }\n",
              "      </script>\n",
              "    </div>\n",
              "  </div>\n",
              "  "
            ]
          },
          "metadata": {},
          "execution_count": 30
        }
      ],
      "source": [
        "dataset"
      ]
    },
    {
      "cell_type": "markdown",
      "metadata": {
        "id": "y5V-1AK-D1BN"
      },
      "source": [
        "# 5.2 Selecciones con DataFrames"
      ]
    },
    {
      "cell_type": "markdown",
      "metadata": {
        "id": "wZjqlHe9D1BN"
      },
      "source": [
        "### Seleccionando columnas"
      ]
    },
    {
      "cell_type": "code",
      "execution_count": null,
      "metadata": {
        "id": "gM3LbtzlD1BN",
        "scrolled": true,
        "colab": {
          "base_uri": "https://localhost:8080/"
        },
        "outputId": "7d40c37f-a066-4b0b-c72a-658d5ba375be"
      },
      "outputs": [
        {
          "output_type": "execute_result",
          "data": {
            "text/plain": [
              "pandas.core.series.Series"
            ]
          },
          "metadata": {},
          "execution_count": 9
        }
      ],
      "source": [
        "type(dataset['Valor'])"
      ]
    },
    {
      "cell_type": "code",
      "execution_count": null,
      "metadata": {
        "id": "R2FWgCM_D1BO",
        "colab": {
          "base_uri": "https://localhost:8080/",
          "height": 423
        },
        "outputId": "62f3f6d8-0329-4dc3-8990-824eeac049cf"
      },
      "outputs": [
        {
          "output_type": "execute_result",
          "data": {
            "text/plain": [
              "         Valor\n",
              "0     88078.64\n",
              "1    106161.94\n",
              "2     72832.16\n",
              "3    124549.07\n",
              "4     92612.10\n",
              "..         ...\n",
              "253   51759.58\n",
              "254   51667.06\n",
              "255   68934.03\n",
              "256  122110.90\n",
              "257   90381.47\n",
              "\n",
              "[258 rows x 1 columns]"
            ],
            "text/html": [
              "\n",
              "  <div id=\"df-eb7d56de-1058-499f-a0e8-38d868dd317a\">\n",
              "    <div class=\"colab-df-container\">\n",
              "      <div>\n",
              "<style scoped>\n",
              "    .dataframe tbody tr th:only-of-type {\n",
              "        vertical-align: middle;\n",
              "    }\n",
              "\n",
              "    .dataframe tbody tr th {\n",
              "        vertical-align: top;\n",
              "    }\n",
              "\n",
              "    .dataframe thead th {\n",
              "        text-align: right;\n",
              "    }\n",
              "</style>\n",
              "<table border=\"1\" class=\"dataframe\">\n",
              "  <thead>\n",
              "    <tr style=\"text-align: right;\">\n",
              "      <th></th>\n",
              "      <th>Valor</th>\n",
              "    </tr>\n",
              "  </thead>\n",
              "  <tbody>\n",
              "    <tr>\n",
              "      <th>0</th>\n",
              "      <td>88078.64</td>\n",
              "    </tr>\n",
              "    <tr>\n",
              "      <th>1</th>\n",
              "      <td>106161.94</td>\n",
              "    </tr>\n",
              "    <tr>\n",
              "      <th>2</th>\n",
              "      <td>72832.16</td>\n",
              "    </tr>\n",
              "    <tr>\n",
              "      <th>3</th>\n",
              "      <td>124549.07</td>\n",
              "    </tr>\n",
              "    <tr>\n",
              "      <th>4</th>\n",
              "      <td>92612.10</td>\n",
              "    </tr>\n",
              "    <tr>\n",
              "      <th>...</th>\n",
              "      <td>...</td>\n",
              "    </tr>\n",
              "    <tr>\n",
              "      <th>253</th>\n",
              "      <td>51759.58</td>\n",
              "    </tr>\n",
              "    <tr>\n",
              "      <th>254</th>\n",
              "      <td>51667.06</td>\n",
              "    </tr>\n",
              "    <tr>\n",
              "      <th>255</th>\n",
              "      <td>68934.03</td>\n",
              "    </tr>\n",
              "    <tr>\n",
              "      <th>256</th>\n",
              "      <td>122110.90</td>\n",
              "    </tr>\n",
              "    <tr>\n",
              "      <th>257</th>\n",
              "      <td>90381.47</td>\n",
              "    </tr>\n",
              "  </tbody>\n",
              "</table>\n",
              "<p>258 rows × 1 columns</p>\n",
              "</div>\n",
              "      <button class=\"colab-df-convert\" onclick=\"convertToInteractive('df-eb7d56de-1058-499f-a0e8-38d868dd317a')\"\n",
              "              title=\"Convert this dataframe to an interactive table.\"\n",
              "              style=\"display:none;\">\n",
              "        \n",
              "  <svg xmlns=\"http://www.w3.org/2000/svg\" height=\"24px\"viewBox=\"0 0 24 24\"\n",
              "       width=\"24px\">\n",
              "    <path d=\"M0 0h24v24H0V0z\" fill=\"none\"/>\n",
              "    <path d=\"M18.56 5.44l.94 2.06.94-2.06 2.06-.94-2.06-.94-.94-2.06-.94 2.06-2.06.94zm-11 1L8.5 8.5l.94-2.06 2.06-.94-2.06-.94L8.5 2.5l-.94 2.06-2.06.94zm10 10l.94 2.06.94-2.06 2.06-.94-2.06-.94-.94-2.06-.94 2.06-2.06.94z\"/><path d=\"M17.41 7.96l-1.37-1.37c-.4-.4-.92-.59-1.43-.59-.52 0-1.04.2-1.43.59L10.3 9.45l-7.72 7.72c-.78.78-.78 2.05 0 2.83L4 21.41c.39.39.9.59 1.41.59.51 0 1.02-.2 1.41-.59l7.78-7.78 2.81-2.81c.8-.78.8-2.07 0-2.86zM5.41 20L4 18.59l7.72-7.72 1.47 1.35L5.41 20z\"/>\n",
              "  </svg>\n",
              "      </button>\n",
              "      \n",
              "  <style>\n",
              "    .colab-df-container {\n",
              "      display:flex;\n",
              "      flex-wrap:wrap;\n",
              "      gap: 12px;\n",
              "    }\n",
              "\n",
              "    .colab-df-convert {\n",
              "      background-color: #E8F0FE;\n",
              "      border: none;\n",
              "      border-radius: 50%;\n",
              "      cursor: pointer;\n",
              "      display: none;\n",
              "      fill: #1967D2;\n",
              "      height: 32px;\n",
              "      padding: 0 0 0 0;\n",
              "      width: 32px;\n",
              "    }\n",
              "\n",
              "    .colab-df-convert:hover {\n",
              "      background-color: #E2EBFA;\n",
              "      box-shadow: 0px 1px 2px rgba(60, 64, 67, 0.3), 0px 1px 3px 1px rgba(60, 64, 67, 0.15);\n",
              "      fill: #174EA6;\n",
              "    }\n",
              "\n",
              "    [theme=dark] .colab-df-convert {\n",
              "      background-color: #3B4455;\n",
              "      fill: #D2E3FC;\n",
              "    }\n",
              "\n",
              "    [theme=dark] .colab-df-convert:hover {\n",
              "      background-color: #434B5C;\n",
              "      box-shadow: 0px 1px 3px 1px rgba(0, 0, 0, 0.15);\n",
              "      filter: drop-shadow(0px 1px 2px rgba(0, 0, 0, 0.3));\n",
              "      fill: #FFFFFF;\n",
              "    }\n",
              "  </style>\n",
              "\n",
              "      <script>\n",
              "        const buttonEl =\n",
              "          document.querySelector('#df-eb7d56de-1058-499f-a0e8-38d868dd317a button.colab-df-convert');\n",
              "        buttonEl.style.display =\n",
              "          google.colab.kernel.accessAllowed ? 'block' : 'none';\n",
              "\n",
              "        async function convertToInteractive(key) {\n",
              "          const element = document.querySelector('#df-eb7d56de-1058-499f-a0e8-38d868dd317a');\n",
              "          const dataTable =\n",
              "            await google.colab.kernel.invokeFunction('convertToInteractive',\n",
              "                                                     [key], {});\n",
              "          if (!dataTable) return;\n",
              "\n",
              "          const docLinkHtml = 'Like what you see? Visit the ' +\n",
              "            '<a target=\"_blank\" href=https://colab.research.google.com/notebooks/data_table.ipynb>data table notebook</a>'\n",
              "            + ' to learn more about interactive tables.';\n",
              "          element.innerHTML = '';\n",
              "          dataTable['output_type'] = 'display_data';\n",
              "          await google.colab.output.renderOutput(dataTable, element);\n",
              "          const docLink = document.createElement('div');\n",
              "          docLink.innerHTML = docLinkHtml;\n",
              "          element.appendChild(docLink);\n",
              "        }\n",
              "      </script>\n",
              "    </div>\n",
              "  </div>\n",
              "  "
            ]
          },
          "metadata": {},
          "execution_count": 10
        }
      ],
      "source": [
        "dataset[['Valor']]"
      ]
    },
    {
      "cell_type": "code",
      "execution_count": null,
      "metadata": {
        "id": "lCCumsxsD1BP",
        "scrolled": true,
        "colab": {
          "base_uri": "https://localhost:8080/"
        },
        "outputId": "d79e73f8-af87-4149-c256-bedd9a5d5f03"
      },
      "outputs": [
        {
          "output_type": "execute_result",
          "data": {
            "text/plain": [
              "pandas.core.frame.DataFrame"
            ]
          },
          "metadata": {},
          "execution_count": 11
        }
      ],
      "source": [
        "type(dataset[['Valor']])"
      ]
    },
    {
      "cell_type": "code",
      "execution_count": null,
      "metadata": {
        "id": "zxlyC3B8D1BP"
      },
      "outputs": [],
      "source": []
    },
    {
      "cell_type": "markdown",
      "metadata": {
        "id": "7RPXPm1XD1BQ"
      },
      "source": [
        "### Seleccionando lineas - [ i : j ] \n",
        "\n",
        "<font color=red>**Observación:**</font> La indexación tiene origen en cero y en las particiones(*slices*) la línea con índice i es **incluída** y la línea con índice j **no es incluída** en el resultado."
      ]
    },
    {
      "cell_type": "code",
      "execution_count": null,
      "metadata": {
        "id": "PdDUwPw3D1BQ",
        "colab": {
          "base_uri": "https://localhost:8080/",
          "height": 143
        },
        "outputId": "39c313dd-3c24-43ca-ba9b-350570f79a06"
      },
      "outputs": [
        {
          "output_type": "execute_result",
          "data": {
            "text/plain": [
              "          Nombre            Motor   Año  Kilometraje  Cero_km  \\\n",
              "0  Jetta Variant  Motor 4.0 Turbo  2003      44410.0    False   \n",
              "1         Passat     Motor Diesel  1991       5712.0    False   \n",
              "2       Crossfox  Motor Diesel V8  1990      37123.0    False   \n",
              "\n",
              "                                          Accesorios      Valor  \n",
              "0  ['Llantas de aleación', 'Cerraduras electricas...   88078.64  \n",
              "1  ['Central multimedia', 'Techo panorámico', 'Fr...  106161.94  \n",
              "2  ['Piloto automático', 'Control de estabilidad'...   72832.16  "
            ],
            "text/html": [
              "\n",
              "  <div id=\"df-6f538d77-9b8d-4577-9590-942ea80fe9b9\">\n",
              "    <div class=\"colab-df-container\">\n",
              "      <div>\n",
              "<style scoped>\n",
              "    .dataframe tbody tr th:only-of-type {\n",
              "        vertical-align: middle;\n",
              "    }\n",
              "\n",
              "    .dataframe tbody tr th {\n",
              "        vertical-align: top;\n",
              "    }\n",
              "\n",
              "    .dataframe thead th {\n",
              "        text-align: right;\n",
              "    }\n",
              "</style>\n",
              "<table border=\"1\" class=\"dataframe\">\n",
              "  <thead>\n",
              "    <tr style=\"text-align: right;\">\n",
              "      <th></th>\n",
              "      <th>Nombre</th>\n",
              "      <th>Motor</th>\n",
              "      <th>Año</th>\n",
              "      <th>Kilometraje</th>\n",
              "      <th>Cero_km</th>\n",
              "      <th>Accesorios</th>\n",
              "      <th>Valor</th>\n",
              "    </tr>\n",
              "  </thead>\n",
              "  <tbody>\n",
              "    <tr>\n",
              "      <th>0</th>\n",
              "      <td>Jetta Variant</td>\n",
              "      <td>Motor 4.0 Turbo</td>\n",
              "      <td>2003</td>\n",
              "      <td>44410.0</td>\n",
              "      <td>False</td>\n",
              "      <td>['Llantas de aleación', 'Cerraduras electricas...</td>\n",
              "      <td>88078.64</td>\n",
              "    </tr>\n",
              "    <tr>\n",
              "      <th>1</th>\n",
              "      <td>Passat</td>\n",
              "      <td>Motor Diesel</td>\n",
              "      <td>1991</td>\n",
              "      <td>5712.0</td>\n",
              "      <td>False</td>\n",
              "      <td>['Central multimedia', 'Techo panorámico', 'Fr...</td>\n",
              "      <td>106161.94</td>\n",
              "    </tr>\n",
              "    <tr>\n",
              "      <th>2</th>\n",
              "      <td>Crossfox</td>\n",
              "      <td>Motor Diesel V8</td>\n",
              "      <td>1990</td>\n",
              "      <td>37123.0</td>\n",
              "      <td>False</td>\n",
              "      <td>['Piloto automático', 'Control de estabilidad'...</td>\n",
              "      <td>72832.16</td>\n",
              "    </tr>\n",
              "  </tbody>\n",
              "</table>\n",
              "</div>\n",
              "      <button class=\"colab-df-convert\" onclick=\"convertToInteractive('df-6f538d77-9b8d-4577-9590-942ea80fe9b9')\"\n",
              "              title=\"Convert this dataframe to an interactive table.\"\n",
              "              style=\"display:none;\">\n",
              "        \n",
              "  <svg xmlns=\"http://www.w3.org/2000/svg\" height=\"24px\"viewBox=\"0 0 24 24\"\n",
              "       width=\"24px\">\n",
              "    <path d=\"M0 0h24v24H0V0z\" fill=\"none\"/>\n",
              "    <path d=\"M18.56 5.44l.94 2.06.94-2.06 2.06-.94-2.06-.94-.94-2.06-.94 2.06-2.06.94zm-11 1L8.5 8.5l.94-2.06 2.06-.94-2.06-.94L8.5 2.5l-.94 2.06-2.06.94zm10 10l.94 2.06.94-2.06 2.06-.94-2.06-.94-.94-2.06-.94 2.06-2.06.94z\"/><path d=\"M17.41 7.96l-1.37-1.37c-.4-.4-.92-.59-1.43-.59-.52 0-1.04.2-1.43.59L10.3 9.45l-7.72 7.72c-.78.78-.78 2.05 0 2.83L4 21.41c.39.39.9.59 1.41.59.51 0 1.02-.2 1.41-.59l7.78-7.78 2.81-2.81c.8-.78.8-2.07 0-2.86zM5.41 20L4 18.59l7.72-7.72 1.47 1.35L5.41 20z\"/>\n",
              "  </svg>\n",
              "      </button>\n",
              "      \n",
              "  <style>\n",
              "    .colab-df-container {\n",
              "      display:flex;\n",
              "      flex-wrap:wrap;\n",
              "      gap: 12px;\n",
              "    }\n",
              "\n",
              "    .colab-df-convert {\n",
              "      background-color: #E8F0FE;\n",
              "      border: none;\n",
              "      border-radius: 50%;\n",
              "      cursor: pointer;\n",
              "      display: none;\n",
              "      fill: #1967D2;\n",
              "      height: 32px;\n",
              "      padding: 0 0 0 0;\n",
              "      width: 32px;\n",
              "    }\n",
              "\n",
              "    .colab-df-convert:hover {\n",
              "      background-color: #E2EBFA;\n",
              "      box-shadow: 0px 1px 2px rgba(60, 64, 67, 0.3), 0px 1px 3px 1px rgba(60, 64, 67, 0.15);\n",
              "      fill: #174EA6;\n",
              "    }\n",
              "\n",
              "    [theme=dark] .colab-df-convert {\n",
              "      background-color: #3B4455;\n",
              "      fill: #D2E3FC;\n",
              "    }\n",
              "\n",
              "    [theme=dark] .colab-df-convert:hover {\n",
              "      background-color: #434B5C;\n",
              "      box-shadow: 0px 1px 3px 1px rgba(0, 0, 0, 0.15);\n",
              "      filter: drop-shadow(0px 1px 2px rgba(0, 0, 0, 0.3));\n",
              "      fill: #FFFFFF;\n",
              "    }\n",
              "  </style>\n",
              "\n",
              "      <script>\n",
              "        const buttonEl =\n",
              "          document.querySelector('#df-6f538d77-9b8d-4577-9590-942ea80fe9b9 button.colab-df-convert');\n",
              "        buttonEl.style.display =\n",
              "          google.colab.kernel.accessAllowed ? 'block' : 'none';\n",
              "\n",
              "        async function convertToInteractive(key) {\n",
              "          const element = document.querySelector('#df-6f538d77-9b8d-4577-9590-942ea80fe9b9');\n",
              "          const dataTable =\n",
              "            await google.colab.kernel.invokeFunction('convertToInteractive',\n",
              "                                                     [key], {});\n",
              "          if (!dataTable) return;\n",
              "\n",
              "          const docLinkHtml = 'Like what you see? Visit the ' +\n",
              "            '<a target=\"_blank\" href=https://colab.research.google.com/notebooks/data_table.ipynb>data table notebook</a>'\n",
              "            + ' to learn more about interactive tables.';\n",
              "          element.innerHTML = '';\n",
              "          dataTable['output_type'] = 'display_data';\n",
              "          await google.colab.output.renderOutput(dataTable, element);\n",
              "          const docLink = document.createElement('div');\n",
              "          docLink.innerHTML = docLinkHtml;\n",
              "          element.appendChild(docLink);\n",
              "        }\n",
              "      </script>\n",
              "    </div>\n",
              "  </div>\n",
              "  "
            ]
          },
          "metadata": {},
          "execution_count": 12
        }
      ],
      "source": [
        "dataset[0:3]"
      ]
    },
    {
      "cell_type": "markdown",
      "metadata": {
        "id": "G3DMSk97D1BR"
      },
      "source": [
        "### Utilizando .loc para selecciones\n",
        "\n",
        "<font color=red>**Observación:**</font> Selecciona un grupo de líneas y columnas según las etiquetas o una matriz booleana."
      ]
    },
    {
      "cell_type": "code",
      "execution_count": null,
      "metadata": {
        "id": "pMN3U1KjD1BS",
        "colab": {
          "base_uri": "https://localhost:8080/",
          "height": 311
        },
        "outputId": "6be0dd2e-e40b-491c-8b33-a08fad73864d"
      },
      "outputs": [
        {
          "output_type": "error",
          "ename": "KeyError",
          "evalue": "ignored",
          "traceback": [
            "\u001b[0;31m---------------------------------------------------------------------------\u001b[0m",
            "\u001b[0;31mKeyError\u001b[0m                                  Traceback (most recent call last)",
            "\u001b[0;32m<ipython-input-31-28eb23c2fd82>\u001b[0m in \u001b[0;36m<cell line: 1>\u001b[0;34m()\u001b[0m\n\u001b[0;32m----> 1\u001b[0;31m \u001b[0mdataset\u001b[0m\u001b[0;34m.\u001b[0m\u001b[0mloc\u001b[0m\u001b[0;34m[\u001b[0m\u001b[0;34m[\u001b[0m\u001b[0;34m'Nombre'\u001b[0m\u001b[0;34m,\u001b[0m\u001b[0;34m'Año'\u001b[0m\u001b[0;34m]\u001b[0m\u001b[0;34m]\u001b[0m\u001b[0;34m\u001b[0m\u001b[0;34m\u001b[0m\u001b[0m\n\u001b[0m",
            "\u001b[0;32m/usr/local/lib/python3.9/dist-packages/pandas/core/indexing.py\u001b[0m in \u001b[0;36m__getitem__\u001b[0;34m(self, key)\u001b[0m\n\u001b[1;32m   1071\u001b[0m \u001b[0;34m\u001b[0m\u001b[0m\n\u001b[1;32m   1072\u001b[0m             \u001b[0mmaybe_callable\u001b[0m \u001b[0;34m=\u001b[0m \u001b[0mcom\u001b[0m\u001b[0;34m.\u001b[0m\u001b[0mapply_if_callable\u001b[0m\u001b[0;34m(\u001b[0m\u001b[0mkey\u001b[0m\u001b[0;34m,\u001b[0m \u001b[0mself\u001b[0m\u001b[0;34m.\u001b[0m\u001b[0mobj\u001b[0m\u001b[0;34m)\u001b[0m\u001b[0;34m\u001b[0m\u001b[0;34m\u001b[0m\u001b[0m\n\u001b[0;32m-> 1073\u001b[0;31m             \u001b[0;32mreturn\u001b[0m \u001b[0mself\u001b[0m\u001b[0;34m.\u001b[0m\u001b[0m_getitem_axis\u001b[0m\u001b[0;34m(\u001b[0m\u001b[0mmaybe_callable\u001b[0m\u001b[0;34m,\u001b[0m \u001b[0maxis\u001b[0m\u001b[0;34m=\u001b[0m\u001b[0maxis\u001b[0m\u001b[0;34m)\u001b[0m\u001b[0;34m\u001b[0m\u001b[0;34m\u001b[0m\u001b[0m\n\u001b[0m\u001b[1;32m   1074\u001b[0m \u001b[0;34m\u001b[0m\u001b[0m\n\u001b[1;32m   1075\u001b[0m     \u001b[0;32mdef\u001b[0m \u001b[0m_is_scalar_access\u001b[0m\u001b[0;34m(\u001b[0m\u001b[0mself\u001b[0m\u001b[0;34m,\u001b[0m \u001b[0mkey\u001b[0m\u001b[0;34m:\u001b[0m \u001b[0mtuple\u001b[0m\u001b[0;34m)\u001b[0m\u001b[0;34m:\u001b[0m\u001b[0;34m\u001b[0m\u001b[0;34m\u001b[0m\u001b[0m\n",
            "\u001b[0;32m/usr/local/lib/python3.9/dist-packages/pandas/core/indexing.py\u001b[0m in \u001b[0;36m_getitem_axis\u001b[0;34m(self, key, axis)\u001b[0m\n\u001b[1;32m   1299\u001b[0m                     \u001b[0;32mraise\u001b[0m \u001b[0mValueError\u001b[0m\u001b[0;34m(\u001b[0m\u001b[0;34m\"Cannot index with multidimensional key\"\u001b[0m\u001b[0;34m)\u001b[0m\u001b[0;34m\u001b[0m\u001b[0;34m\u001b[0m\u001b[0m\n\u001b[1;32m   1300\u001b[0m \u001b[0;34m\u001b[0m\u001b[0m\n\u001b[0;32m-> 1301\u001b[0;31m                 \u001b[0;32mreturn\u001b[0m \u001b[0mself\u001b[0m\u001b[0;34m.\u001b[0m\u001b[0m_getitem_iterable\u001b[0m\u001b[0;34m(\u001b[0m\u001b[0mkey\u001b[0m\u001b[0;34m,\u001b[0m \u001b[0maxis\u001b[0m\u001b[0;34m=\u001b[0m\u001b[0maxis\u001b[0m\u001b[0;34m)\u001b[0m\u001b[0;34m\u001b[0m\u001b[0;34m\u001b[0m\u001b[0m\n\u001b[0m\u001b[1;32m   1302\u001b[0m \u001b[0;34m\u001b[0m\u001b[0m\n\u001b[1;32m   1303\u001b[0m             \u001b[0;31m# nested tuple slicing\u001b[0m\u001b[0;34m\u001b[0m\u001b[0;34m\u001b[0m\u001b[0m\n",
            "\u001b[0;32m/usr/local/lib/python3.9/dist-packages/pandas/core/indexing.py\u001b[0m in \u001b[0;36m_getitem_iterable\u001b[0;34m(self, key, axis)\u001b[0m\n\u001b[1;32m   1237\u001b[0m \u001b[0;34m\u001b[0m\u001b[0m\n\u001b[1;32m   1238\u001b[0m         \u001b[0;31m# A collection of keys\u001b[0m\u001b[0;34m\u001b[0m\u001b[0;34m\u001b[0m\u001b[0m\n\u001b[0;32m-> 1239\u001b[0;31m         \u001b[0mkeyarr\u001b[0m\u001b[0;34m,\u001b[0m \u001b[0mindexer\u001b[0m \u001b[0;34m=\u001b[0m \u001b[0mself\u001b[0m\u001b[0;34m.\u001b[0m\u001b[0m_get_listlike_indexer\u001b[0m\u001b[0;34m(\u001b[0m\u001b[0mkey\u001b[0m\u001b[0;34m,\u001b[0m \u001b[0maxis\u001b[0m\u001b[0;34m)\u001b[0m\u001b[0;34m\u001b[0m\u001b[0;34m\u001b[0m\u001b[0m\n\u001b[0m\u001b[1;32m   1240\u001b[0m         return self.obj._reindex_with_indexers(\n\u001b[1;32m   1241\u001b[0m             \u001b[0;34m{\u001b[0m\u001b[0maxis\u001b[0m\u001b[0;34m:\u001b[0m \u001b[0;34m[\u001b[0m\u001b[0mkeyarr\u001b[0m\u001b[0;34m,\u001b[0m \u001b[0mindexer\u001b[0m\u001b[0;34m]\u001b[0m\u001b[0;34m}\u001b[0m\u001b[0;34m,\u001b[0m \u001b[0mcopy\u001b[0m\u001b[0;34m=\u001b[0m\u001b[0;32mTrue\u001b[0m\u001b[0;34m,\u001b[0m \u001b[0mallow_dups\u001b[0m\u001b[0;34m=\u001b[0m\u001b[0;32mTrue\u001b[0m\u001b[0;34m\u001b[0m\u001b[0;34m\u001b[0m\u001b[0m\n",
            "\u001b[0;32m/usr/local/lib/python3.9/dist-packages/pandas/core/indexing.py\u001b[0m in \u001b[0;36m_get_listlike_indexer\u001b[0;34m(self, key, axis)\u001b[0m\n\u001b[1;32m   1430\u001b[0m         \u001b[0maxis_name\u001b[0m \u001b[0;34m=\u001b[0m \u001b[0mself\u001b[0m\u001b[0;34m.\u001b[0m\u001b[0mobj\u001b[0m\u001b[0;34m.\u001b[0m\u001b[0m_get_axis_name\u001b[0m\u001b[0;34m(\u001b[0m\u001b[0maxis\u001b[0m\u001b[0;34m)\u001b[0m\u001b[0;34m\u001b[0m\u001b[0;34m\u001b[0m\u001b[0m\n\u001b[1;32m   1431\u001b[0m \u001b[0;34m\u001b[0m\u001b[0m\n\u001b[0;32m-> 1432\u001b[0;31m         \u001b[0mkeyarr\u001b[0m\u001b[0;34m,\u001b[0m \u001b[0mindexer\u001b[0m \u001b[0;34m=\u001b[0m \u001b[0max\u001b[0m\u001b[0;34m.\u001b[0m\u001b[0m_get_indexer_strict\u001b[0m\u001b[0;34m(\u001b[0m\u001b[0mkey\u001b[0m\u001b[0;34m,\u001b[0m \u001b[0maxis_name\u001b[0m\u001b[0;34m)\u001b[0m\u001b[0;34m\u001b[0m\u001b[0;34m\u001b[0m\u001b[0m\n\u001b[0m\u001b[1;32m   1433\u001b[0m \u001b[0;34m\u001b[0m\u001b[0m\n\u001b[1;32m   1434\u001b[0m         \u001b[0;32mreturn\u001b[0m \u001b[0mkeyarr\u001b[0m\u001b[0;34m,\u001b[0m \u001b[0mindexer\u001b[0m\u001b[0;34m\u001b[0m\u001b[0;34m\u001b[0m\u001b[0m\n",
            "\u001b[0;32m/usr/local/lib/python3.9/dist-packages/pandas/core/indexes/base.py\u001b[0m in \u001b[0;36m_get_indexer_strict\u001b[0;34m(self, key, axis_name)\u001b[0m\n\u001b[1;32m   6068\u001b[0m             \u001b[0mkeyarr\u001b[0m\u001b[0;34m,\u001b[0m \u001b[0mindexer\u001b[0m\u001b[0;34m,\u001b[0m \u001b[0mnew_indexer\u001b[0m \u001b[0;34m=\u001b[0m \u001b[0mself\u001b[0m\u001b[0;34m.\u001b[0m\u001b[0m_reindex_non_unique\u001b[0m\u001b[0;34m(\u001b[0m\u001b[0mkeyarr\u001b[0m\u001b[0;34m)\u001b[0m\u001b[0;34m\u001b[0m\u001b[0;34m\u001b[0m\u001b[0m\n\u001b[1;32m   6069\u001b[0m \u001b[0;34m\u001b[0m\u001b[0m\n\u001b[0;32m-> 6070\u001b[0;31m         \u001b[0mself\u001b[0m\u001b[0;34m.\u001b[0m\u001b[0m_raise_if_missing\u001b[0m\u001b[0;34m(\u001b[0m\u001b[0mkeyarr\u001b[0m\u001b[0;34m,\u001b[0m \u001b[0mindexer\u001b[0m\u001b[0;34m,\u001b[0m \u001b[0maxis_name\u001b[0m\u001b[0;34m)\u001b[0m\u001b[0;34m\u001b[0m\u001b[0;34m\u001b[0m\u001b[0m\n\u001b[0m\u001b[1;32m   6071\u001b[0m \u001b[0;34m\u001b[0m\u001b[0m\n\u001b[1;32m   6072\u001b[0m         \u001b[0mkeyarr\u001b[0m \u001b[0;34m=\u001b[0m \u001b[0mself\u001b[0m\u001b[0;34m.\u001b[0m\u001b[0mtake\u001b[0m\u001b[0;34m(\u001b[0m\u001b[0mindexer\u001b[0m\u001b[0;34m)\u001b[0m\u001b[0;34m\u001b[0m\u001b[0;34m\u001b[0m\u001b[0m\n",
            "\u001b[0;32m/usr/local/lib/python3.9/dist-packages/pandas/core/indexes/base.py\u001b[0m in \u001b[0;36m_raise_if_missing\u001b[0;34m(self, key, indexer, axis_name)\u001b[0m\n\u001b[1;32m   6128\u001b[0m                 \u001b[0;32mif\u001b[0m \u001b[0muse_interval_msg\u001b[0m\u001b[0;34m:\u001b[0m\u001b[0;34m\u001b[0m\u001b[0;34m\u001b[0m\u001b[0m\n\u001b[1;32m   6129\u001b[0m                     \u001b[0mkey\u001b[0m \u001b[0;34m=\u001b[0m \u001b[0mlist\u001b[0m\u001b[0;34m(\u001b[0m\u001b[0mkey\u001b[0m\u001b[0;34m)\u001b[0m\u001b[0;34m\u001b[0m\u001b[0;34m\u001b[0m\u001b[0m\n\u001b[0;32m-> 6130\u001b[0;31m                 \u001b[0;32mraise\u001b[0m \u001b[0mKeyError\u001b[0m\u001b[0;34m(\u001b[0m\u001b[0;34mf\"None of [{key}] are in the [{axis_name}]\"\u001b[0m\u001b[0;34m)\u001b[0m\u001b[0;34m\u001b[0m\u001b[0;34m\u001b[0m\u001b[0m\n\u001b[0m\u001b[1;32m   6131\u001b[0m \u001b[0;34m\u001b[0m\u001b[0m\n\u001b[1;32m   6132\u001b[0m             \u001b[0mnot_found\u001b[0m \u001b[0;34m=\u001b[0m \u001b[0mlist\u001b[0m\u001b[0;34m(\u001b[0m\u001b[0mensure_index\u001b[0m\u001b[0;34m(\u001b[0m\u001b[0mkey\u001b[0m\u001b[0;34m)\u001b[0m\u001b[0;34m[\u001b[0m\u001b[0mmissing_mask\u001b[0m\u001b[0;34m.\u001b[0m\u001b[0mnonzero\u001b[0m\u001b[0;34m(\u001b[0m\u001b[0;34m)\u001b[0m\u001b[0;34m[\u001b[0m\u001b[0;36m0\u001b[0m\u001b[0;34m]\u001b[0m\u001b[0;34m]\u001b[0m\u001b[0;34m.\u001b[0m\u001b[0munique\u001b[0m\u001b[0;34m(\u001b[0m\u001b[0;34m)\u001b[0m\u001b[0;34m)\u001b[0m\u001b[0;34m\u001b[0m\u001b[0;34m\u001b[0m\u001b[0m\n",
            "\u001b[0;31mKeyError\u001b[0m: \"None of [Index(['Nombre', 'Año'], dtype='object')] are in the [index]\""
          ]
        }
      ],
      "source": [
        "dataset.loc[['Nombre','Año']]"
      ]
    },
    {
      "cell_type": "code",
      "execution_count": null,
      "metadata": {
        "id": "oOEO72uZD1BT",
        "scrolled": true,
        "colab": {
          "base_uri": "https://localhost:8080/",
          "height": 112
        },
        "outputId": "77931f86-f1a4-45bd-9e20-2f0edfc8d123"
      },
      "outputs": [
        {
          "output_type": "execute_result",
          "data": {
            "text/plain": [
              "                    Nombre         Motor   Año  Kilometraje  Cero_km  \\\n",
              "1                   Passat  Motor Diesel  1991       5712.0    False   \n",
              "254  Cadillac Ciel concept      Motor V8  1991      29981.0    False   \n",
              "\n",
              "                                            Accesorios      Valor  \n",
              "1    ['Central multimedia', 'Techo panorámico', 'Fr...  106161.94  \n",
              "254  ['Asientos de cuero', 'Panel digital', 'Sensor...   51667.06  "
            ],
            "text/html": [
              "\n",
              "  <div id=\"df-ae7b90a3-b504-453b-a3d9-c2fbf14f0d8c\">\n",
              "    <div class=\"colab-df-container\">\n",
              "      <div>\n",
              "<style scoped>\n",
              "    .dataframe tbody tr th:only-of-type {\n",
              "        vertical-align: middle;\n",
              "    }\n",
              "\n",
              "    .dataframe tbody tr th {\n",
              "        vertical-align: top;\n",
              "    }\n",
              "\n",
              "    .dataframe thead th {\n",
              "        text-align: right;\n",
              "    }\n",
              "</style>\n",
              "<table border=\"1\" class=\"dataframe\">\n",
              "  <thead>\n",
              "    <tr style=\"text-align: right;\">\n",
              "      <th></th>\n",
              "      <th>Nombre</th>\n",
              "      <th>Motor</th>\n",
              "      <th>Año</th>\n",
              "      <th>Kilometraje</th>\n",
              "      <th>Cero_km</th>\n",
              "      <th>Accesorios</th>\n",
              "      <th>Valor</th>\n",
              "    </tr>\n",
              "  </thead>\n",
              "  <tbody>\n",
              "    <tr>\n",
              "      <th>1</th>\n",
              "      <td>Passat</td>\n",
              "      <td>Motor Diesel</td>\n",
              "      <td>1991</td>\n",
              "      <td>5712.0</td>\n",
              "      <td>False</td>\n",
              "      <td>['Central multimedia', 'Techo panorámico', 'Fr...</td>\n",
              "      <td>106161.94</td>\n",
              "    </tr>\n",
              "    <tr>\n",
              "      <th>254</th>\n",
              "      <td>Cadillac Ciel concept</td>\n",
              "      <td>Motor V8</td>\n",
              "      <td>1991</td>\n",
              "      <td>29981.0</td>\n",
              "      <td>False</td>\n",
              "      <td>['Asientos de cuero', 'Panel digital', 'Sensor...</td>\n",
              "      <td>51667.06</td>\n",
              "    </tr>\n",
              "  </tbody>\n",
              "</table>\n",
              "</div>\n",
              "      <button class=\"colab-df-convert\" onclick=\"convertToInteractive('df-ae7b90a3-b504-453b-a3d9-c2fbf14f0d8c')\"\n",
              "              title=\"Convert this dataframe to an interactive table.\"\n",
              "              style=\"display:none;\">\n",
              "        \n",
              "  <svg xmlns=\"http://www.w3.org/2000/svg\" height=\"24px\"viewBox=\"0 0 24 24\"\n",
              "       width=\"24px\">\n",
              "    <path d=\"M0 0h24v24H0V0z\" fill=\"none\"/>\n",
              "    <path d=\"M18.56 5.44l.94 2.06.94-2.06 2.06-.94-2.06-.94-.94-2.06-.94 2.06-2.06.94zm-11 1L8.5 8.5l.94-2.06 2.06-.94-2.06-.94L8.5 2.5l-.94 2.06-2.06.94zm10 10l.94 2.06.94-2.06 2.06-.94-2.06-.94-.94-2.06-.94 2.06-2.06.94z\"/><path d=\"M17.41 7.96l-1.37-1.37c-.4-.4-.92-.59-1.43-.59-.52 0-1.04.2-1.43.59L10.3 9.45l-7.72 7.72c-.78.78-.78 2.05 0 2.83L4 21.41c.39.39.9.59 1.41.59.51 0 1.02-.2 1.41-.59l7.78-7.78 2.81-2.81c.8-.78.8-2.07 0-2.86zM5.41 20L4 18.59l7.72-7.72 1.47 1.35L5.41 20z\"/>\n",
              "  </svg>\n",
              "      </button>\n",
              "      \n",
              "  <style>\n",
              "    .colab-df-container {\n",
              "      display:flex;\n",
              "      flex-wrap:wrap;\n",
              "      gap: 12px;\n",
              "    }\n",
              "\n",
              "    .colab-df-convert {\n",
              "      background-color: #E8F0FE;\n",
              "      border: none;\n",
              "      border-radius: 50%;\n",
              "      cursor: pointer;\n",
              "      display: none;\n",
              "      fill: #1967D2;\n",
              "      height: 32px;\n",
              "      padding: 0 0 0 0;\n",
              "      width: 32px;\n",
              "    }\n",
              "\n",
              "    .colab-df-convert:hover {\n",
              "      background-color: #E2EBFA;\n",
              "      box-shadow: 0px 1px 2px rgba(60, 64, 67, 0.3), 0px 1px 3px 1px rgba(60, 64, 67, 0.15);\n",
              "      fill: #174EA6;\n",
              "    }\n",
              "\n",
              "    [theme=dark] .colab-df-convert {\n",
              "      background-color: #3B4455;\n",
              "      fill: #D2E3FC;\n",
              "    }\n",
              "\n",
              "    [theme=dark] .colab-df-convert:hover {\n",
              "      background-color: #434B5C;\n",
              "      box-shadow: 0px 1px 3px 1px rgba(0, 0, 0, 0.15);\n",
              "      filter: drop-shadow(0px 1px 2px rgba(0, 0, 0, 0.3));\n",
              "      fill: #FFFFFF;\n",
              "    }\n",
              "  </style>\n",
              "\n",
              "      <script>\n",
              "        const buttonEl =\n",
              "          document.querySelector('#df-ae7b90a3-b504-453b-a3d9-c2fbf14f0d8c button.colab-df-convert');\n",
              "        buttonEl.style.display =\n",
              "          google.colab.kernel.accessAllowed ? 'block' : 'none';\n",
              "\n",
              "        async function convertToInteractive(key) {\n",
              "          const element = document.querySelector('#df-ae7b90a3-b504-453b-a3d9-c2fbf14f0d8c');\n",
              "          const dataTable =\n",
              "            await google.colab.kernel.invokeFunction('convertToInteractive',\n",
              "                                                     [key], {});\n",
              "          if (!dataTable) return;\n",
              "\n",
              "          const docLinkHtml = 'Like what you see? Visit the ' +\n",
              "            '<a target=\"_blank\" href=https://colab.research.google.com/notebooks/data_table.ipynb>data table notebook</a>'\n",
              "            + ' to learn more about interactive tables.';\n",
              "          element.innerHTML = '';\n",
              "          dataTable['output_type'] = 'display_data';\n",
              "          await google.colab.output.renderOutput(dataTable, element);\n",
              "          const docLink = document.createElement('div');\n",
              "          docLink.innerHTML = docLinkHtml;\n",
              "          element.appendChild(docLink);\n",
              "        }\n",
              "      </script>\n",
              "    </div>\n",
              "  </div>\n",
              "  "
            ]
          },
          "metadata": {},
          "execution_count": 33
        }
      ],
      "source": [
        "\n",
        "dataset.loc[dataset['Nombre'].isin(['Passat', 'Cadillac Ciel concept'])]\n",
        "\n"
      ]
    },
    {
      "cell_type": "code",
      "source": [
        "dataset.loc[['Passat', 'Cadillac Ciel concept'], ['Motor' , 'Valor']]"
      ],
      "metadata": {
        "colab": {
          "base_uri": "https://localhost:8080/",
          "height": 311
        },
        "id": "jt5_J3I5leHN",
        "outputId": "f42b3c4c-14cd-4fce-c5e5-3d69e497c720"
      },
      "execution_count": null,
      "outputs": [
        {
          "output_type": "error",
          "ename": "KeyError",
          "evalue": "ignored",
          "traceback": [
            "\u001b[0;31m---------------------------------------------------------------------------\u001b[0m",
            "\u001b[0;31mKeyError\u001b[0m                                  Traceback (most recent call last)",
            "\u001b[0;32m<ipython-input-38-f3ce1aa1f985>\u001b[0m in \u001b[0;36m<cell line: 1>\u001b[0;34m()\u001b[0m\n\u001b[0;32m----> 1\u001b[0;31m \u001b[0mdataset\u001b[0m\u001b[0;34m.\u001b[0m\u001b[0mloc\u001b[0m\u001b[0;34m[\u001b[0m\u001b[0;34m[\u001b[0m\u001b[0;34m'Passat'\u001b[0m\u001b[0;34m,\u001b[0m \u001b[0;34m'Cadillac Ciel concept'\u001b[0m\u001b[0;34m]\u001b[0m\u001b[0;34m,\u001b[0m \u001b[0;34m[\u001b[0m\u001b[0;34m'Motor'\u001b[0m \u001b[0;34m,\u001b[0m \u001b[0;34m'Valor'\u001b[0m\u001b[0;34m]\u001b[0m\u001b[0;34m]\u001b[0m\u001b[0;34m\u001b[0m\u001b[0;34m\u001b[0m\u001b[0m\n\u001b[0m",
            "\u001b[0;32m/usr/local/lib/python3.9/dist-packages/pandas/core/indexing.py\u001b[0m in \u001b[0;36m__getitem__\u001b[0;34m(self, key)\u001b[0m\n\u001b[1;32m   1065\u001b[0m             \u001b[0;32mif\u001b[0m \u001b[0mself\u001b[0m\u001b[0;34m.\u001b[0m\u001b[0m_is_scalar_access\u001b[0m\u001b[0;34m(\u001b[0m\u001b[0mkey\u001b[0m\u001b[0;34m)\u001b[0m\u001b[0;34m:\u001b[0m\u001b[0;34m\u001b[0m\u001b[0;34m\u001b[0m\u001b[0m\n\u001b[1;32m   1066\u001b[0m                 \u001b[0;32mreturn\u001b[0m \u001b[0mself\u001b[0m\u001b[0;34m.\u001b[0m\u001b[0mobj\u001b[0m\u001b[0;34m.\u001b[0m\u001b[0m_get_value\u001b[0m\u001b[0;34m(\u001b[0m\u001b[0;34m*\u001b[0m\u001b[0mkey\u001b[0m\u001b[0;34m,\u001b[0m \u001b[0mtakeable\u001b[0m\u001b[0;34m=\u001b[0m\u001b[0mself\u001b[0m\u001b[0;34m.\u001b[0m\u001b[0m_takeable\u001b[0m\u001b[0;34m)\u001b[0m\u001b[0;34m\u001b[0m\u001b[0;34m\u001b[0m\u001b[0m\n\u001b[0;32m-> 1067\u001b[0;31m             \u001b[0;32mreturn\u001b[0m \u001b[0mself\u001b[0m\u001b[0;34m.\u001b[0m\u001b[0m_getitem_tuple\u001b[0m\u001b[0;34m(\u001b[0m\u001b[0mkey\u001b[0m\u001b[0;34m)\u001b[0m\u001b[0;34m\u001b[0m\u001b[0;34m\u001b[0m\u001b[0m\n\u001b[0m\u001b[1;32m   1068\u001b[0m         \u001b[0;32melse\u001b[0m\u001b[0;34m:\u001b[0m\u001b[0;34m\u001b[0m\u001b[0;34m\u001b[0m\u001b[0m\n\u001b[1;32m   1069\u001b[0m             \u001b[0;31m# we by definition only have the 0th axis\u001b[0m\u001b[0;34m\u001b[0m\u001b[0;34m\u001b[0m\u001b[0m\n",
            "\u001b[0;32m/usr/local/lib/python3.9/dist-packages/pandas/core/indexing.py\u001b[0m in \u001b[0;36m_getitem_tuple\u001b[0;34m(self, tup)\u001b[0m\n\u001b[1;32m   1252\u001b[0m         \u001b[0;31m# ugly hack for GH #836\u001b[0m\u001b[0;34m\u001b[0m\u001b[0;34m\u001b[0m\u001b[0m\n\u001b[1;32m   1253\u001b[0m         \u001b[0;32mif\u001b[0m \u001b[0mself\u001b[0m\u001b[0;34m.\u001b[0m\u001b[0m_multi_take_opportunity\u001b[0m\u001b[0;34m(\u001b[0m\u001b[0mtup\u001b[0m\u001b[0;34m)\u001b[0m\u001b[0;34m:\u001b[0m\u001b[0;34m\u001b[0m\u001b[0;34m\u001b[0m\u001b[0m\n\u001b[0;32m-> 1254\u001b[0;31m             \u001b[0;32mreturn\u001b[0m \u001b[0mself\u001b[0m\u001b[0;34m.\u001b[0m\u001b[0m_multi_take\u001b[0m\u001b[0;34m(\u001b[0m\u001b[0mtup\u001b[0m\u001b[0;34m)\u001b[0m\u001b[0;34m\u001b[0m\u001b[0;34m\u001b[0m\u001b[0m\n\u001b[0m\u001b[1;32m   1255\u001b[0m \u001b[0;34m\u001b[0m\u001b[0m\n\u001b[1;32m   1256\u001b[0m         \u001b[0;32mreturn\u001b[0m \u001b[0mself\u001b[0m\u001b[0;34m.\u001b[0m\u001b[0m_getitem_tuple_same_dim\u001b[0m\u001b[0;34m(\u001b[0m\u001b[0mtup\u001b[0m\u001b[0;34m)\u001b[0m\u001b[0;34m\u001b[0m\u001b[0;34m\u001b[0m\u001b[0m\n",
            "\u001b[0;32m/usr/local/lib/python3.9/dist-packages/pandas/core/indexing.py\u001b[0m in \u001b[0;36m_multi_take\u001b[0;34m(self, tup)\u001b[0m\n\u001b[1;32m   1203\u001b[0m         \"\"\"\n\u001b[1;32m   1204\u001b[0m         \u001b[0;31m# GH 836\u001b[0m\u001b[0;34m\u001b[0m\u001b[0;34m\u001b[0m\u001b[0m\n\u001b[0;32m-> 1205\u001b[0;31m         d = {\n\u001b[0m\u001b[1;32m   1206\u001b[0m             \u001b[0maxis\u001b[0m\u001b[0;34m:\u001b[0m \u001b[0mself\u001b[0m\u001b[0;34m.\u001b[0m\u001b[0m_get_listlike_indexer\u001b[0m\u001b[0;34m(\u001b[0m\u001b[0mkey\u001b[0m\u001b[0;34m,\u001b[0m \u001b[0maxis\u001b[0m\u001b[0;34m)\u001b[0m\u001b[0;34m\u001b[0m\u001b[0;34m\u001b[0m\u001b[0m\n\u001b[1;32m   1207\u001b[0m             \u001b[0;32mfor\u001b[0m \u001b[0;34m(\u001b[0m\u001b[0mkey\u001b[0m\u001b[0;34m,\u001b[0m \u001b[0maxis\u001b[0m\u001b[0;34m)\u001b[0m \u001b[0;32min\u001b[0m \u001b[0mzip\u001b[0m\u001b[0;34m(\u001b[0m\u001b[0mtup\u001b[0m\u001b[0;34m,\u001b[0m \u001b[0mself\u001b[0m\u001b[0;34m.\u001b[0m\u001b[0mobj\u001b[0m\u001b[0;34m.\u001b[0m\u001b[0m_AXIS_ORDERS\u001b[0m\u001b[0;34m)\u001b[0m\u001b[0;34m\u001b[0m\u001b[0;34m\u001b[0m\u001b[0m\n",
            "\u001b[0;32m/usr/local/lib/python3.9/dist-packages/pandas/core/indexing.py\u001b[0m in \u001b[0;36m<dictcomp>\u001b[0;34m(.0)\u001b[0m\n\u001b[1;32m   1204\u001b[0m         \u001b[0;31m# GH 836\u001b[0m\u001b[0;34m\u001b[0m\u001b[0;34m\u001b[0m\u001b[0m\n\u001b[1;32m   1205\u001b[0m         d = {\n\u001b[0;32m-> 1206\u001b[0;31m             \u001b[0maxis\u001b[0m\u001b[0;34m:\u001b[0m \u001b[0mself\u001b[0m\u001b[0;34m.\u001b[0m\u001b[0m_get_listlike_indexer\u001b[0m\u001b[0;34m(\u001b[0m\u001b[0mkey\u001b[0m\u001b[0;34m,\u001b[0m \u001b[0maxis\u001b[0m\u001b[0;34m)\u001b[0m\u001b[0;34m\u001b[0m\u001b[0;34m\u001b[0m\u001b[0m\n\u001b[0m\u001b[1;32m   1207\u001b[0m             \u001b[0;32mfor\u001b[0m \u001b[0;34m(\u001b[0m\u001b[0mkey\u001b[0m\u001b[0;34m,\u001b[0m \u001b[0maxis\u001b[0m\u001b[0;34m)\u001b[0m \u001b[0;32min\u001b[0m \u001b[0mzip\u001b[0m\u001b[0;34m(\u001b[0m\u001b[0mtup\u001b[0m\u001b[0;34m,\u001b[0m \u001b[0mself\u001b[0m\u001b[0;34m.\u001b[0m\u001b[0mobj\u001b[0m\u001b[0;34m.\u001b[0m\u001b[0m_AXIS_ORDERS\u001b[0m\u001b[0;34m)\u001b[0m\u001b[0;34m\u001b[0m\u001b[0;34m\u001b[0m\u001b[0m\n\u001b[1;32m   1208\u001b[0m         }\n",
            "\u001b[0;32m/usr/local/lib/python3.9/dist-packages/pandas/core/indexing.py\u001b[0m in \u001b[0;36m_get_listlike_indexer\u001b[0;34m(self, key, axis)\u001b[0m\n\u001b[1;32m   1430\u001b[0m         \u001b[0maxis_name\u001b[0m \u001b[0;34m=\u001b[0m \u001b[0mself\u001b[0m\u001b[0;34m.\u001b[0m\u001b[0mobj\u001b[0m\u001b[0;34m.\u001b[0m\u001b[0m_get_axis_name\u001b[0m\u001b[0;34m(\u001b[0m\u001b[0maxis\u001b[0m\u001b[0;34m)\u001b[0m\u001b[0;34m\u001b[0m\u001b[0;34m\u001b[0m\u001b[0m\n\u001b[1;32m   1431\u001b[0m \u001b[0;34m\u001b[0m\u001b[0m\n\u001b[0;32m-> 1432\u001b[0;31m         \u001b[0mkeyarr\u001b[0m\u001b[0;34m,\u001b[0m \u001b[0mindexer\u001b[0m \u001b[0;34m=\u001b[0m \u001b[0max\u001b[0m\u001b[0;34m.\u001b[0m\u001b[0m_get_indexer_strict\u001b[0m\u001b[0;34m(\u001b[0m\u001b[0mkey\u001b[0m\u001b[0;34m,\u001b[0m \u001b[0maxis_name\u001b[0m\u001b[0;34m)\u001b[0m\u001b[0;34m\u001b[0m\u001b[0;34m\u001b[0m\u001b[0m\n\u001b[0m\u001b[1;32m   1433\u001b[0m \u001b[0;34m\u001b[0m\u001b[0m\n\u001b[1;32m   1434\u001b[0m         \u001b[0;32mreturn\u001b[0m \u001b[0mkeyarr\u001b[0m\u001b[0;34m,\u001b[0m \u001b[0mindexer\u001b[0m\u001b[0;34m\u001b[0m\u001b[0;34m\u001b[0m\u001b[0m\n",
            "\u001b[0;32m/usr/local/lib/python3.9/dist-packages/pandas/core/indexes/base.py\u001b[0m in \u001b[0;36m_get_indexer_strict\u001b[0;34m(self, key, axis_name)\u001b[0m\n\u001b[1;32m   6068\u001b[0m             \u001b[0mkeyarr\u001b[0m\u001b[0;34m,\u001b[0m \u001b[0mindexer\u001b[0m\u001b[0;34m,\u001b[0m \u001b[0mnew_indexer\u001b[0m \u001b[0;34m=\u001b[0m \u001b[0mself\u001b[0m\u001b[0;34m.\u001b[0m\u001b[0m_reindex_non_unique\u001b[0m\u001b[0;34m(\u001b[0m\u001b[0mkeyarr\u001b[0m\u001b[0;34m)\u001b[0m\u001b[0;34m\u001b[0m\u001b[0;34m\u001b[0m\u001b[0m\n\u001b[1;32m   6069\u001b[0m \u001b[0;34m\u001b[0m\u001b[0m\n\u001b[0;32m-> 6070\u001b[0;31m         \u001b[0mself\u001b[0m\u001b[0;34m.\u001b[0m\u001b[0m_raise_if_missing\u001b[0m\u001b[0;34m(\u001b[0m\u001b[0mkeyarr\u001b[0m\u001b[0;34m,\u001b[0m \u001b[0mindexer\u001b[0m\u001b[0;34m,\u001b[0m \u001b[0maxis_name\u001b[0m\u001b[0;34m)\u001b[0m\u001b[0;34m\u001b[0m\u001b[0;34m\u001b[0m\u001b[0m\n\u001b[0m\u001b[1;32m   6071\u001b[0m \u001b[0;34m\u001b[0m\u001b[0m\n\u001b[1;32m   6072\u001b[0m         \u001b[0mkeyarr\u001b[0m \u001b[0;34m=\u001b[0m \u001b[0mself\u001b[0m\u001b[0;34m.\u001b[0m\u001b[0mtake\u001b[0m\u001b[0;34m(\u001b[0m\u001b[0mindexer\u001b[0m\u001b[0;34m)\u001b[0m\u001b[0;34m\u001b[0m\u001b[0;34m\u001b[0m\u001b[0m\n",
            "\u001b[0;32m/usr/local/lib/python3.9/dist-packages/pandas/core/indexes/base.py\u001b[0m in \u001b[0;36m_raise_if_missing\u001b[0;34m(self, key, indexer, axis_name)\u001b[0m\n\u001b[1;32m   6128\u001b[0m                 \u001b[0;32mif\u001b[0m \u001b[0muse_interval_msg\u001b[0m\u001b[0;34m:\u001b[0m\u001b[0;34m\u001b[0m\u001b[0;34m\u001b[0m\u001b[0m\n\u001b[1;32m   6129\u001b[0m                     \u001b[0mkey\u001b[0m \u001b[0;34m=\u001b[0m \u001b[0mlist\u001b[0m\u001b[0;34m(\u001b[0m\u001b[0mkey\u001b[0m\u001b[0;34m)\u001b[0m\u001b[0;34m\u001b[0m\u001b[0;34m\u001b[0m\u001b[0m\n\u001b[0;32m-> 6130\u001b[0;31m                 \u001b[0;32mraise\u001b[0m \u001b[0mKeyError\u001b[0m\u001b[0;34m(\u001b[0m\u001b[0;34mf\"None of [{key}] are in the [{axis_name}]\"\u001b[0m\u001b[0;34m)\u001b[0m\u001b[0;34m\u001b[0m\u001b[0;34m\u001b[0m\u001b[0m\n\u001b[0m\u001b[1;32m   6131\u001b[0m \u001b[0;34m\u001b[0m\u001b[0m\n\u001b[1;32m   6132\u001b[0m             \u001b[0mnot_found\u001b[0m \u001b[0;34m=\u001b[0m \u001b[0mlist\u001b[0m\u001b[0;34m(\u001b[0m\u001b[0mensure_index\u001b[0m\u001b[0;34m(\u001b[0m\u001b[0mkey\u001b[0m\u001b[0;34m)\u001b[0m\u001b[0;34m[\u001b[0m\u001b[0mmissing_mask\u001b[0m\u001b[0;34m.\u001b[0m\u001b[0mnonzero\u001b[0m\u001b[0;34m(\u001b[0m\u001b[0;34m)\u001b[0m\u001b[0;34m[\u001b[0m\u001b[0;36m0\u001b[0m\u001b[0;34m]\u001b[0m\u001b[0;34m]\u001b[0m\u001b[0;34m.\u001b[0m\u001b[0munique\u001b[0m\u001b[0;34m(\u001b[0m\u001b[0;34m)\u001b[0m\u001b[0;34m)\u001b[0m\u001b[0;34m\u001b[0m\u001b[0;34m\u001b[0m\u001b[0m\n",
            "\u001b[0;31mKeyError\u001b[0m: \"None of [Index(['Passat', 'Cadillac Ciel concept'], dtype='object')] are in the [index]\""
          ]
        }
      ]
    },
    {
      "cell_type": "code",
      "source": [],
      "metadata": {
        "id": "JmfSoJ_Blgyp"
      },
      "execution_count": null,
      "outputs": []
    },
    {
      "cell_type": "markdown",
      "metadata": {
        "id": "SYKEe3vCD1BT"
      },
      "source": [
        "### Utilizando .iloc para selecciones\n",
        "\n",
        "<font color=red>**Observación:**</font> Selecciona con base en los índices, es decir, utiliza la posición de las informaciones."
      ]
    },
    {
      "cell_type": "code",
      "execution_count": null,
      "metadata": {
        "id": "U4Bru90bD1BT",
        "colab": {
          "base_uri": "https://localhost:8080/",
          "height": 237
        },
        "outputId": "e8e21764-3fd0-47fc-bed2-35466bf98a9c"
      },
      "outputs": [
        {
          "output_type": "execute_result",
          "data": {
            "text/plain": [
              "             Nombre            Motor   Año  Kilometraje  Cero_km  \\\n",
              "0     Jetta Variant  Motor 4.0 Turbo  2003      44410.0    False   \n",
              "1            Passat     Motor Diesel  1991       5712.0    False   \n",
              "2          Crossfox  Motor Diesel V8  1990      37123.0    False   \n",
              "3               DS5  Motor 2.4 Turbo  2019          NaN     True   \n",
              "4  Aston Martin DB4  Motor 2.4 Turbo  2006      25757.0    False   \n",
              "5     Palio Weekend    Motor 1.8 16v  2012      10728.0    False   \n",
              "\n",
              "                                          Accesorios      Valor  \n",
              "0  ['Llantas de aleación', 'Cerraduras electricas...   88078.64  \n",
              "1  ['Central multimedia', 'Techo panorámico', 'Fr...  106161.94  \n",
              "2  ['Piloto automático', 'Control de estabilidad'...   72832.16  \n",
              "3  ['Cerraduras electricas', '4 X 4', 'Ventanas e...  124549.07  \n",
              "4  ['Llantas de aleación', '4 X 4', 'Central mult...   92612.10  \n",
              "5  ['Sensor de estacionamiento', 'Techo panorámic...   97497.73  "
            ],
            "text/html": [
              "\n",
              "  <div id=\"df-0fe1937e-1fc2-4bdc-8aa7-151d119a3c93\">\n",
              "    <div class=\"colab-df-container\">\n",
              "      <div>\n",
              "<style scoped>\n",
              "    .dataframe tbody tr th:only-of-type {\n",
              "        vertical-align: middle;\n",
              "    }\n",
              "\n",
              "    .dataframe tbody tr th {\n",
              "        vertical-align: top;\n",
              "    }\n",
              "\n",
              "    .dataframe thead th {\n",
              "        text-align: right;\n",
              "    }\n",
              "</style>\n",
              "<table border=\"1\" class=\"dataframe\">\n",
              "  <thead>\n",
              "    <tr style=\"text-align: right;\">\n",
              "      <th></th>\n",
              "      <th>Nombre</th>\n",
              "      <th>Motor</th>\n",
              "      <th>Año</th>\n",
              "      <th>Kilometraje</th>\n",
              "      <th>Cero_km</th>\n",
              "      <th>Accesorios</th>\n",
              "      <th>Valor</th>\n",
              "    </tr>\n",
              "  </thead>\n",
              "  <tbody>\n",
              "    <tr>\n",
              "      <th>0</th>\n",
              "      <td>Jetta Variant</td>\n",
              "      <td>Motor 4.0 Turbo</td>\n",
              "      <td>2003</td>\n",
              "      <td>44410.0</td>\n",
              "      <td>False</td>\n",
              "      <td>['Llantas de aleación', 'Cerraduras electricas...</td>\n",
              "      <td>88078.64</td>\n",
              "    </tr>\n",
              "    <tr>\n",
              "      <th>1</th>\n",
              "      <td>Passat</td>\n",
              "      <td>Motor Diesel</td>\n",
              "      <td>1991</td>\n",
              "      <td>5712.0</td>\n",
              "      <td>False</td>\n",
              "      <td>['Central multimedia', 'Techo panorámico', 'Fr...</td>\n",
              "      <td>106161.94</td>\n",
              "    </tr>\n",
              "    <tr>\n",
              "      <th>2</th>\n",
              "      <td>Crossfox</td>\n",
              "      <td>Motor Diesel V8</td>\n",
              "      <td>1990</td>\n",
              "      <td>37123.0</td>\n",
              "      <td>False</td>\n",
              "      <td>['Piloto automático', 'Control de estabilidad'...</td>\n",
              "      <td>72832.16</td>\n",
              "    </tr>\n",
              "    <tr>\n",
              "      <th>3</th>\n",
              "      <td>DS5</td>\n",
              "      <td>Motor 2.4 Turbo</td>\n",
              "      <td>2019</td>\n",
              "      <td>NaN</td>\n",
              "      <td>True</td>\n",
              "      <td>['Cerraduras electricas', '4 X 4', 'Ventanas e...</td>\n",
              "      <td>124549.07</td>\n",
              "    </tr>\n",
              "    <tr>\n",
              "      <th>4</th>\n",
              "      <td>Aston Martin DB4</td>\n",
              "      <td>Motor 2.4 Turbo</td>\n",
              "      <td>2006</td>\n",
              "      <td>25757.0</td>\n",
              "      <td>False</td>\n",
              "      <td>['Llantas de aleación', '4 X 4', 'Central mult...</td>\n",
              "      <td>92612.10</td>\n",
              "    </tr>\n",
              "    <tr>\n",
              "      <th>5</th>\n",
              "      <td>Palio Weekend</td>\n",
              "      <td>Motor 1.8 16v</td>\n",
              "      <td>2012</td>\n",
              "      <td>10728.0</td>\n",
              "      <td>False</td>\n",
              "      <td>['Sensor de estacionamiento', 'Techo panorámic...</td>\n",
              "      <td>97497.73</td>\n",
              "    </tr>\n",
              "  </tbody>\n",
              "</table>\n",
              "</div>\n",
              "      <button class=\"colab-df-convert\" onclick=\"convertToInteractive('df-0fe1937e-1fc2-4bdc-8aa7-151d119a3c93')\"\n",
              "              title=\"Convert this dataframe to an interactive table.\"\n",
              "              style=\"display:none;\">\n",
              "        \n",
              "  <svg xmlns=\"http://www.w3.org/2000/svg\" height=\"24px\"viewBox=\"0 0 24 24\"\n",
              "       width=\"24px\">\n",
              "    <path d=\"M0 0h24v24H0V0z\" fill=\"none\"/>\n",
              "    <path d=\"M18.56 5.44l.94 2.06.94-2.06 2.06-.94-2.06-.94-.94-2.06-.94 2.06-2.06.94zm-11 1L8.5 8.5l.94-2.06 2.06-.94-2.06-.94L8.5 2.5l-.94 2.06-2.06.94zm10 10l.94 2.06.94-2.06 2.06-.94-2.06-.94-.94-2.06-.94 2.06-2.06.94z\"/><path d=\"M17.41 7.96l-1.37-1.37c-.4-.4-.92-.59-1.43-.59-.52 0-1.04.2-1.43.59L10.3 9.45l-7.72 7.72c-.78.78-.78 2.05 0 2.83L4 21.41c.39.39.9.59 1.41.59.51 0 1.02-.2 1.41-.59l7.78-7.78 2.81-2.81c.8-.78.8-2.07 0-2.86zM5.41 20L4 18.59l7.72-7.72 1.47 1.35L5.41 20z\"/>\n",
              "  </svg>\n",
              "      </button>\n",
              "      \n",
              "  <style>\n",
              "    .colab-df-container {\n",
              "      display:flex;\n",
              "      flex-wrap:wrap;\n",
              "      gap: 12px;\n",
              "    }\n",
              "\n",
              "    .colab-df-convert {\n",
              "      background-color: #E8F0FE;\n",
              "      border: none;\n",
              "      border-radius: 50%;\n",
              "      cursor: pointer;\n",
              "      display: none;\n",
              "      fill: #1967D2;\n",
              "      height: 32px;\n",
              "      padding: 0 0 0 0;\n",
              "      width: 32px;\n",
              "    }\n",
              "\n",
              "    .colab-df-convert:hover {\n",
              "      background-color: #E2EBFA;\n",
              "      box-shadow: 0px 1px 2px rgba(60, 64, 67, 0.3), 0px 1px 3px 1px rgba(60, 64, 67, 0.15);\n",
              "      fill: #174EA6;\n",
              "    }\n",
              "\n",
              "    [theme=dark] .colab-df-convert {\n",
              "      background-color: #3B4455;\n",
              "      fill: #D2E3FC;\n",
              "    }\n",
              "\n",
              "    [theme=dark] .colab-df-convert:hover {\n",
              "      background-color: #434B5C;\n",
              "      box-shadow: 0px 1px 3px 1px rgba(0, 0, 0, 0.15);\n",
              "      filter: drop-shadow(0px 1px 2px rgba(0, 0, 0, 0.3));\n",
              "      fill: #FFFFFF;\n",
              "    }\n",
              "  </style>\n",
              "\n",
              "      <script>\n",
              "        const buttonEl =\n",
              "          document.querySelector('#df-0fe1937e-1fc2-4bdc-8aa7-151d119a3c93 button.colab-df-convert');\n",
              "        buttonEl.style.display =\n",
              "          google.colab.kernel.accessAllowed ? 'block' : 'none';\n",
              "\n",
              "        async function convertToInteractive(key) {\n",
              "          const element = document.querySelector('#df-0fe1937e-1fc2-4bdc-8aa7-151d119a3c93');\n",
              "          const dataTable =\n",
              "            await google.colab.kernel.invokeFunction('convertToInteractive',\n",
              "                                                     [key], {});\n",
              "          if (!dataTable) return;\n",
              "\n",
              "          const docLinkHtml = 'Like what you see? Visit the ' +\n",
              "            '<a target=\"_blank\" href=https://colab.research.google.com/notebooks/data_table.ipynb>data table notebook</a>'\n",
              "            + ' to learn more about interactive tables.';\n",
              "          element.innerHTML = '';\n",
              "          dataTable['output_type'] = 'display_data';\n",
              "          await google.colab.output.renderOutput(dataTable, element);\n",
              "          const docLink = document.createElement('div');\n",
              "          docLink.innerHTML = docLinkHtml;\n",
              "          element.appendChild(docLink);\n",
              "        }\n",
              "      </script>\n",
              "    </div>\n",
              "  </div>\n",
              "  "
            ]
          },
          "metadata": {},
          "execution_count": 39
        }
      ],
      "source": [
        "dataset.head(6)"
      ]
    },
    {
      "cell_type": "code",
      "execution_count": null,
      "metadata": {
        "id": "iLKUyrzND1BU",
        "colab": {
          "base_uri": "https://localhost:8080/",
          "height": 80
        },
        "outputId": "bd98713c-0e78-4982-9a3e-ccc87e899686"
      },
      "outputs": [
        {
          "output_type": "execute_result",
          "data": {
            "text/plain": [
              "   Nombre         Motor   Año  Kilometraje  Cero_km  \\\n",
              "1  Passat  Motor Diesel  1991       5712.0    False   \n",
              "\n",
              "                                          Accesorios      Valor  \n",
              "1  ['Central multimedia', 'Techo panorámico', 'Fr...  106161.94  "
            ],
            "text/html": [
              "\n",
              "  <div id=\"df-afcf41a8-1c51-4f67-acfd-c6569e71d543\">\n",
              "    <div class=\"colab-df-container\">\n",
              "      <div>\n",
              "<style scoped>\n",
              "    .dataframe tbody tr th:only-of-type {\n",
              "        vertical-align: middle;\n",
              "    }\n",
              "\n",
              "    .dataframe tbody tr th {\n",
              "        vertical-align: top;\n",
              "    }\n",
              "\n",
              "    .dataframe thead th {\n",
              "        text-align: right;\n",
              "    }\n",
              "</style>\n",
              "<table border=\"1\" class=\"dataframe\">\n",
              "  <thead>\n",
              "    <tr style=\"text-align: right;\">\n",
              "      <th></th>\n",
              "      <th>Nombre</th>\n",
              "      <th>Motor</th>\n",
              "      <th>Año</th>\n",
              "      <th>Kilometraje</th>\n",
              "      <th>Cero_km</th>\n",
              "      <th>Accesorios</th>\n",
              "      <th>Valor</th>\n",
              "    </tr>\n",
              "  </thead>\n",
              "  <tbody>\n",
              "    <tr>\n",
              "      <th>1</th>\n",
              "      <td>Passat</td>\n",
              "      <td>Motor Diesel</td>\n",
              "      <td>1991</td>\n",
              "      <td>5712.0</td>\n",
              "      <td>False</td>\n",
              "      <td>['Central multimedia', 'Techo panorámico', 'Fr...</td>\n",
              "      <td>106161.94</td>\n",
              "    </tr>\n",
              "  </tbody>\n",
              "</table>\n",
              "</div>\n",
              "      <button class=\"colab-df-convert\" onclick=\"convertToInteractive('df-afcf41a8-1c51-4f67-acfd-c6569e71d543')\"\n",
              "              title=\"Convert this dataframe to an interactive table.\"\n",
              "              style=\"display:none;\">\n",
              "        \n",
              "  <svg xmlns=\"http://www.w3.org/2000/svg\" height=\"24px\"viewBox=\"0 0 24 24\"\n",
              "       width=\"24px\">\n",
              "    <path d=\"M0 0h24v24H0V0z\" fill=\"none\"/>\n",
              "    <path d=\"M18.56 5.44l.94 2.06.94-2.06 2.06-.94-2.06-.94-.94-2.06-.94 2.06-2.06.94zm-11 1L8.5 8.5l.94-2.06 2.06-.94-2.06-.94L8.5 2.5l-.94 2.06-2.06.94zm10 10l.94 2.06.94-2.06 2.06-.94-2.06-.94-.94-2.06-.94 2.06-2.06.94z\"/><path d=\"M17.41 7.96l-1.37-1.37c-.4-.4-.92-.59-1.43-.59-.52 0-1.04.2-1.43.59L10.3 9.45l-7.72 7.72c-.78.78-.78 2.05 0 2.83L4 21.41c.39.39.9.59 1.41.59.51 0 1.02-.2 1.41-.59l7.78-7.78 2.81-2.81c.8-.78.8-2.07 0-2.86zM5.41 20L4 18.59l7.72-7.72 1.47 1.35L5.41 20z\"/>\n",
              "  </svg>\n",
              "      </button>\n",
              "      \n",
              "  <style>\n",
              "    .colab-df-container {\n",
              "      display:flex;\n",
              "      flex-wrap:wrap;\n",
              "      gap: 12px;\n",
              "    }\n",
              "\n",
              "    .colab-df-convert {\n",
              "      background-color: #E8F0FE;\n",
              "      border: none;\n",
              "      border-radius: 50%;\n",
              "      cursor: pointer;\n",
              "      display: none;\n",
              "      fill: #1967D2;\n",
              "      height: 32px;\n",
              "      padding: 0 0 0 0;\n",
              "      width: 32px;\n",
              "    }\n",
              "\n",
              "    .colab-df-convert:hover {\n",
              "      background-color: #E2EBFA;\n",
              "      box-shadow: 0px 1px 2px rgba(60, 64, 67, 0.3), 0px 1px 3px 1px rgba(60, 64, 67, 0.15);\n",
              "      fill: #174EA6;\n",
              "    }\n",
              "\n",
              "    [theme=dark] .colab-df-convert {\n",
              "      background-color: #3B4455;\n",
              "      fill: #D2E3FC;\n",
              "    }\n",
              "\n",
              "    [theme=dark] .colab-df-convert:hover {\n",
              "      background-color: #434B5C;\n",
              "      box-shadow: 0px 1px 3px 1px rgba(0, 0, 0, 0.15);\n",
              "      filter: drop-shadow(0px 1px 2px rgba(0, 0, 0, 0.3));\n",
              "      fill: #FFFFFF;\n",
              "    }\n",
              "  </style>\n",
              "\n",
              "      <script>\n",
              "        const buttonEl =\n",
              "          document.querySelector('#df-afcf41a8-1c51-4f67-acfd-c6569e71d543 button.colab-df-convert');\n",
              "        buttonEl.style.display =\n",
              "          google.colab.kernel.accessAllowed ? 'block' : 'none';\n",
              "\n",
              "        async function convertToInteractive(key) {\n",
              "          const element = document.querySelector('#df-afcf41a8-1c51-4f67-acfd-c6569e71d543');\n",
              "          const dataTable =\n",
              "            await google.colab.kernel.invokeFunction('convertToInteractive',\n",
              "                                                     [key], {});\n",
              "          if (!dataTable) return;\n",
              "\n",
              "          const docLinkHtml = 'Like what you see? Visit the ' +\n",
              "            '<a target=\"_blank\" href=https://colab.research.google.com/notebooks/data_table.ipynb>data table notebook</a>'\n",
              "            + ' to learn more about interactive tables.';\n",
              "          element.innerHTML = '';\n",
              "          dataTable['output_type'] = 'display_data';\n",
              "          await google.colab.output.renderOutput(dataTable, element);\n",
              "          const docLink = document.createElement('div');\n",
              "          docLink.innerHTML = docLinkHtml;\n",
              "          element.appendChild(docLink);\n",
              "        }\n",
              "      </script>\n",
              "    </div>\n",
              "  </div>\n",
              "  "
            ]
          },
          "metadata": {},
          "execution_count": 40
        }
      ],
      "source": [
        "dataset.iloc[[1]]"
      ]
    },
    {
      "cell_type": "code",
      "execution_count": null,
      "metadata": {
        "id": "KGZpixYUD1BU",
        "colab": {
          "base_uri": "https://localhost:8080/",
          "height": 143
        },
        "outputId": "7dcd04b1-770a-49c6-e1d3-ea4364f21592"
      },
      "outputs": [
        {
          "output_type": "execute_result",
          "data": {
            "text/plain": [
              "     Nombre            Motor   Año  Kilometraje  Cero_km  \\\n",
              "1    Passat     Motor Diesel  1991       5712.0    False   \n",
              "2  Crossfox  Motor Diesel V8  1990      37123.0    False   \n",
              "3       DS5  Motor 2.4 Turbo  2019          NaN     True   \n",
              "\n",
              "                                          Accesorios      Valor  \n",
              "1  ['Central multimedia', 'Techo panorámico', 'Fr...  106161.94  \n",
              "2  ['Piloto automático', 'Control de estabilidad'...   72832.16  \n",
              "3  ['Cerraduras electricas', '4 X 4', 'Ventanas e...  124549.07  "
            ],
            "text/html": [
              "\n",
              "  <div id=\"df-7155814d-e035-4bd2-9f20-2a95526a6821\">\n",
              "    <div class=\"colab-df-container\">\n",
              "      <div>\n",
              "<style scoped>\n",
              "    .dataframe tbody tr th:only-of-type {\n",
              "        vertical-align: middle;\n",
              "    }\n",
              "\n",
              "    .dataframe tbody tr th {\n",
              "        vertical-align: top;\n",
              "    }\n",
              "\n",
              "    .dataframe thead th {\n",
              "        text-align: right;\n",
              "    }\n",
              "</style>\n",
              "<table border=\"1\" class=\"dataframe\">\n",
              "  <thead>\n",
              "    <tr style=\"text-align: right;\">\n",
              "      <th></th>\n",
              "      <th>Nombre</th>\n",
              "      <th>Motor</th>\n",
              "      <th>Año</th>\n",
              "      <th>Kilometraje</th>\n",
              "      <th>Cero_km</th>\n",
              "      <th>Accesorios</th>\n",
              "      <th>Valor</th>\n",
              "    </tr>\n",
              "  </thead>\n",
              "  <tbody>\n",
              "    <tr>\n",
              "      <th>1</th>\n",
              "      <td>Passat</td>\n",
              "      <td>Motor Diesel</td>\n",
              "      <td>1991</td>\n",
              "      <td>5712.0</td>\n",
              "      <td>False</td>\n",
              "      <td>['Central multimedia', 'Techo panorámico', 'Fr...</td>\n",
              "      <td>106161.94</td>\n",
              "    </tr>\n",
              "    <tr>\n",
              "      <th>2</th>\n",
              "      <td>Crossfox</td>\n",
              "      <td>Motor Diesel V8</td>\n",
              "      <td>1990</td>\n",
              "      <td>37123.0</td>\n",
              "      <td>False</td>\n",
              "      <td>['Piloto automático', 'Control de estabilidad'...</td>\n",
              "      <td>72832.16</td>\n",
              "    </tr>\n",
              "    <tr>\n",
              "      <th>3</th>\n",
              "      <td>DS5</td>\n",
              "      <td>Motor 2.4 Turbo</td>\n",
              "      <td>2019</td>\n",
              "      <td>NaN</td>\n",
              "      <td>True</td>\n",
              "      <td>['Cerraduras electricas', '4 X 4', 'Ventanas e...</td>\n",
              "      <td>124549.07</td>\n",
              "    </tr>\n",
              "  </tbody>\n",
              "</table>\n",
              "</div>\n",
              "      <button class=\"colab-df-convert\" onclick=\"convertToInteractive('df-7155814d-e035-4bd2-9f20-2a95526a6821')\"\n",
              "              title=\"Convert this dataframe to an interactive table.\"\n",
              "              style=\"display:none;\">\n",
              "        \n",
              "  <svg xmlns=\"http://www.w3.org/2000/svg\" height=\"24px\"viewBox=\"0 0 24 24\"\n",
              "       width=\"24px\">\n",
              "    <path d=\"M0 0h24v24H0V0z\" fill=\"none\"/>\n",
              "    <path d=\"M18.56 5.44l.94 2.06.94-2.06 2.06-.94-2.06-.94-.94-2.06-.94 2.06-2.06.94zm-11 1L8.5 8.5l.94-2.06 2.06-.94-2.06-.94L8.5 2.5l-.94 2.06-2.06.94zm10 10l.94 2.06.94-2.06 2.06-.94-2.06-.94-.94-2.06-.94 2.06-2.06.94z\"/><path d=\"M17.41 7.96l-1.37-1.37c-.4-.4-.92-.59-1.43-.59-.52 0-1.04.2-1.43.59L10.3 9.45l-7.72 7.72c-.78.78-.78 2.05 0 2.83L4 21.41c.39.39.9.59 1.41.59.51 0 1.02-.2 1.41-.59l7.78-7.78 2.81-2.81c.8-.78.8-2.07 0-2.86zM5.41 20L4 18.59l7.72-7.72 1.47 1.35L5.41 20z\"/>\n",
              "  </svg>\n",
              "      </button>\n",
              "      \n",
              "  <style>\n",
              "    .colab-df-container {\n",
              "      display:flex;\n",
              "      flex-wrap:wrap;\n",
              "      gap: 12px;\n",
              "    }\n",
              "\n",
              "    .colab-df-convert {\n",
              "      background-color: #E8F0FE;\n",
              "      border: none;\n",
              "      border-radius: 50%;\n",
              "      cursor: pointer;\n",
              "      display: none;\n",
              "      fill: #1967D2;\n",
              "      height: 32px;\n",
              "      padding: 0 0 0 0;\n",
              "      width: 32px;\n",
              "    }\n",
              "\n",
              "    .colab-df-convert:hover {\n",
              "      background-color: #E2EBFA;\n",
              "      box-shadow: 0px 1px 2px rgba(60, 64, 67, 0.3), 0px 1px 3px 1px rgba(60, 64, 67, 0.15);\n",
              "      fill: #174EA6;\n",
              "    }\n",
              "\n",
              "    [theme=dark] .colab-df-convert {\n",
              "      background-color: #3B4455;\n",
              "      fill: #D2E3FC;\n",
              "    }\n",
              "\n",
              "    [theme=dark] .colab-df-convert:hover {\n",
              "      background-color: #434B5C;\n",
              "      box-shadow: 0px 1px 3px 1px rgba(0, 0, 0, 0.15);\n",
              "      filter: drop-shadow(0px 1px 2px rgba(0, 0, 0, 0.3));\n",
              "      fill: #FFFFFF;\n",
              "    }\n",
              "  </style>\n",
              "\n",
              "      <script>\n",
              "        const buttonEl =\n",
              "          document.querySelector('#df-7155814d-e035-4bd2-9f20-2a95526a6821 button.colab-df-convert');\n",
              "        buttonEl.style.display =\n",
              "          google.colab.kernel.accessAllowed ? 'block' : 'none';\n",
              "\n",
              "        async function convertToInteractive(key) {\n",
              "          const element = document.querySelector('#df-7155814d-e035-4bd2-9f20-2a95526a6821');\n",
              "          const dataTable =\n",
              "            await google.colab.kernel.invokeFunction('convertToInteractive',\n",
              "                                                     [key], {});\n",
              "          if (!dataTable) return;\n",
              "\n",
              "          const docLinkHtml = 'Like what you see? Visit the ' +\n",
              "            '<a target=\"_blank\" href=https://colab.research.google.com/notebooks/data_table.ipynb>data table notebook</a>'\n",
              "            + ' to learn more about interactive tables.';\n",
              "          element.innerHTML = '';\n",
              "          dataTable['output_type'] = 'display_data';\n",
              "          await google.colab.output.renderOutput(dataTable, element);\n",
              "          const docLink = document.createElement('div');\n",
              "          docLink.innerHTML = docLinkHtml;\n",
              "          element.appendChild(docLink);\n",
              "        }\n",
              "      </script>\n",
              "    </div>\n",
              "  </div>\n",
              "  "
            ]
          },
          "metadata": {},
          "execution_count": 41
        }
      ],
      "source": [
        "dataset.iloc[1:4]"
      ]
    },
    {
      "cell_type": "code",
      "execution_count": null,
      "metadata": {
        "id": "GxdqIz4LD1BV",
        "colab": {
          "base_uri": "https://localhost:8080/",
          "height": 143
        },
        "outputId": "0de534f3-8040-44ff-9d28-4dc4a37c1e8f"
      },
      "outputs": [
        {
          "output_type": "execute_result",
          "data": {
            "text/plain": [
              "    Año  Kilometraje            Motor\n",
              "1  1991       5712.0     Motor Diesel\n",
              "2  1990      37123.0  Motor Diesel V8\n",
              "3  2019          NaN  Motor 2.4 Turbo"
            ],
            "text/html": [
              "\n",
              "  <div id=\"df-648398a4-70f5-4a95-ade3-dd6c8941c391\">\n",
              "    <div class=\"colab-df-container\">\n",
              "      <div>\n",
              "<style scoped>\n",
              "    .dataframe tbody tr th:only-of-type {\n",
              "        vertical-align: middle;\n",
              "    }\n",
              "\n",
              "    .dataframe tbody tr th {\n",
              "        vertical-align: top;\n",
              "    }\n",
              "\n",
              "    .dataframe thead th {\n",
              "        text-align: right;\n",
              "    }\n",
              "</style>\n",
              "<table border=\"1\" class=\"dataframe\">\n",
              "  <thead>\n",
              "    <tr style=\"text-align: right;\">\n",
              "      <th></th>\n",
              "      <th>Año</th>\n",
              "      <th>Kilometraje</th>\n",
              "      <th>Motor</th>\n",
              "    </tr>\n",
              "  </thead>\n",
              "  <tbody>\n",
              "    <tr>\n",
              "      <th>1</th>\n",
              "      <td>1991</td>\n",
              "      <td>5712.0</td>\n",
              "      <td>Motor Diesel</td>\n",
              "    </tr>\n",
              "    <tr>\n",
              "      <th>2</th>\n",
              "      <td>1990</td>\n",
              "      <td>37123.0</td>\n",
              "      <td>Motor Diesel V8</td>\n",
              "    </tr>\n",
              "    <tr>\n",
              "      <th>3</th>\n",
              "      <td>2019</td>\n",
              "      <td>NaN</td>\n",
              "      <td>Motor 2.4 Turbo</td>\n",
              "    </tr>\n",
              "  </tbody>\n",
              "</table>\n",
              "</div>\n",
              "      <button class=\"colab-df-convert\" onclick=\"convertToInteractive('df-648398a4-70f5-4a95-ade3-dd6c8941c391')\"\n",
              "              title=\"Convert this dataframe to an interactive table.\"\n",
              "              style=\"display:none;\">\n",
              "        \n",
              "  <svg xmlns=\"http://www.w3.org/2000/svg\" height=\"24px\"viewBox=\"0 0 24 24\"\n",
              "       width=\"24px\">\n",
              "    <path d=\"M0 0h24v24H0V0z\" fill=\"none\"/>\n",
              "    <path d=\"M18.56 5.44l.94 2.06.94-2.06 2.06-.94-2.06-.94-.94-2.06-.94 2.06-2.06.94zm-11 1L8.5 8.5l.94-2.06 2.06-.94-2.06-.94L8.5 2.5l-.94 2.06-2.06.94zm10 10l.94 2.06.94-2.06 2.06-.94-2.06-.94-.94-2.06-.94 2.06-2.06.94z\"/><path d=\"M17.41 7.96l-1.37-1.37c-.4-.4-.92-.59-1.43-.59-.52 0-1.04.2-1.43.59L10.3 9.45l-7.72 7.72c-.78.78-.78 2.05 0 2.83L4 21.41c.39.39.9.59 1.41.59.51 0 1.02-.2 1.41-.59l7.78-7.78 2.81-2.81c.8-.78.8-2.07 0-2.86zM5.41 20L4 18.59l7.72-7.72 1.47 1.35L5.41 20z\"/>\n",
              "  </svg>\n",
              "      </button>\n",
              "      \n",
              "  <style>\n",
              "    .colab-df-container {\n",
              "      display:flex;\n",
              "      flex-wrap:wrap;\n",
              "      gap: 12px;\n",
              "    }\n",
              "\n",
              "    .colab-df-convert {\n",
              "      background-color: #E8F0FE;\n",
              "      border: none;\n",
              "      border-radius: 50%;\n",
              "      cursor: pointer;\n",
              "      display: none;\n",
              "      fill: #1967D2;\n",
              "      height: 32px;\n",
              "      padding: 0 0 0 0;\n",
              "      width: 32px;\n",
              "    }\n",
              "\n",
              "    .colab-df-convert:hover {\n",
              "      background-color: #E2EBFA;\n",
              "      box-shadow: 0px 1px 2px rgba(60, 64, 67, 0.3), 0px 1px 3px 1px rgba(60, 64, 67, 0.15);\n",
              "      fill: #174EA6;\n",
              "    }\n",
              "\n",
              "    [theme=dark] .colab-df-convert {\n",
              "      background-color: #3B4455;\n",
              "      fill: #D2E3FC;\n",
              "    }\n",
              "\n",
              "    [theme=dark] .colab-df-convert:hover {\n",
              "      background-color: #434B5C;\n",
              "      box-shadow: 0px 1px 3px 1px rgba(0, 0, 0, 0.15);\n",
              "      filter: drop-shadow(0px 1px 2px rgba(0, 0, 0, 0.3));\n",
              "      fill: #FFFFFF;\n",
              "    }\n",
              "  </style>\n",
              "\n",
              "      <script>\n",
              "        const buttonEl =\n",
              "          document.querySelector('#df-648398a4-70f5-4a95-ade3-dd6c8941c391 button.colab-df-convert');\n",
              "        buttonEl.style.display =\n",
              "          google.colab.kernel.accessAllowed ? 'block' : 'none';\n",
              "\n",
              "        async function convertToInteractive(key) {\n",
              "          const element = document.querySelector('#df-648398a4-70f5-4a95-ade3-dd6c8941c391');\n",
              "          const dataTable =\n",
              "            await google.colab.kernel.invokeFunction('convertToInteractive',\n",
              "                                                     [key], {});\n",
              "          if (!dataTable) return;\n",
              "\n",
              "          const docLinkHtml = 'Like what you see? Visit the ' +\n",
              "            '<a target=\"_blank\" href=https://colab.research.google.com/notebooks/data_table.ipynb>data table notebook</a>'\n",
              "            + ' to learn more about interactive tables.';\n",
              "          element.innerHTML = '';\n",
              "          dataTable['output_type'] = 'display_data';\n",
              "          await google.colab.output.renderOutput(dataTable, element);\n",
              "          const docLink = document.createElement('div');\n",
              "          docLink.innerHTML = docLinkHtml;\n",
              "          element.appendChild(docLink);\n",
              "        }\n",
              "      </script>\n",
              "    </div>\n",
              "  </div>\n",
              "  "
            ]
          },
          "metadata": {},
          "execution_count": 43
        }
      ],
      "source": [
        "dataset.iloc[1:4 , [2,3,1]]"
      ]
    },
    {
      "cell_type": "code",
      "execution_count": null,
      "metadata": {
        "id": "AVIhs7uLD1BW",
        "scrolled": true,
        "colab": {
          "base_uri": "https://localhost:8080/",
          "height": 143
        },
        "outputId": "03237af1-6c1a-4b3c-968d-54417aef1efd"
      },
      "outputs": [
        {
          "output_type": "execute_result",
          "data": {
            "text/plain": [
              "     Año  Kilometraje            Motor\n",
              "1   1991       5712.0     Motor Diesel\n",
              "43  2002      86302.0  Motor 4.0 Turbo\n",
              "69  2007      29132.0     Motor Diesel"
            ],
            "text/html": [
              "\n",
              "  <div id=\"df-5da369ce-468e-40a6-9805-4e559feae9b6\">\n",
              "    <div class=\"colab-df-container\">\n",
              "      <div>\n",
              "<style scoped>\n",
              "    .dataframe tbody tr th:only-of-type {\n",
              "        vertical-align: middle;\n",
              "    }\n",
              "\n",
              "    .dataframe tbody tr th {\n",
              "        vertical-align: top;\n",
              "    }\n",
              "\n",
              "    .dataframe thead th {\n",
              "        text-align: right;\n",
              "    }\n",
              "</style>\n",
              "<table border=\"1\" class=\"dataframe\">\n",
              "  <thead>\n",
              "    <tr style=\"text-align: right;\">\n",
              "      <th></th>\n",
              "      <th>Año</th>\n",
              "      <th>Kilometraje</th>\n",
              "      <th>Motor</th>\n",
              "    </tr>\n",
              "  </thead>\n",
              "  <tbody>\n",
              "    <tr>\n",
              "      <th>1</th>\n",
              "      <td>1991</td>\n",
              "      <td>5712.0</td>\n",
              "      <td>Motor Diesel</td>\n",
              "    </tr>\n",
              "    <tr>\n",
              "      <th>43</th>\n",
              "      <td>2002</td>\n",
              "      <td>86302.0</td>\n",
              "      <td>Motor 4.0 Turbo</td>\n",
              "    </tr>\n",
              "    <tr>\n",
              "      <th>69</th>\n",
              "      <td>2007</td>\n",
              "      <td>29132.0</td>\n",
              "      <td>Motor Diesel</td>\n",
              "    </tr>\n",
              "  </tbody>\n",
              "</table>\n",
              "</div>\n",
              "      <button class=\"colab-df-convert\" onclick=\"convertToInteractive('df-5da369ce-468e-40a6-9805-4e559feae9b6')\"\n",
              "              title=\"Convert this dataframe to an interactive table.\"\n",
              "              style=\"display:none;\">\n",
              "        \n",
              "  <svg xmlns=\"http://www.w3.org/2000/svg\" height=\"24px\"viewBox=\"0 0 24 24\"\n",
              "       width=\"24px\">\n",
              "    <path d=\"M0 0h24v24H0V0z\" fill=\"none\"/>\n",
              "    <path d=\"M18.56 5.44l.94 2.06.94-2.06 2.06-.94-2.06-.94-.94-2.06-.94 2.06-2.06.94zm-11 1L8.5 8.5l.94-2.06 2.06-.94-2.06-.94L8.5 2.5l-.94 2.06-2.06.94zm10 10l.94 2.06.94-2.06 2.06-.94-2.06-.94-.94-2.06-.94 2.06-2.06.94z\"/><path d=\"M17.41 7.96l-1.37-1.37c-.4-.4-.92-.59-1.43-.59-.52 0-1.04.2-1.43.59L10.3 9.45l-7.72 7.72c-.78.78-.78 2.05 0 2.83L4 21.41c.39.39.9.59 1.41.59.51 0 1.02-.2 1.41-.59l7.78-7.78 2.81-2.81c.8-.78.8-2.07 0-2.86zM5.41 20L4 18.59l7.72-7.72 1.47 1.35L5.41 20z\"/>\n",
              "  </svg>\n",
              "      </button>\n",
              "      \n",
              "  <style>\n",
              "    .colab-df-container {\n",
              "      display:flex;\n",
              "      flex-wrap:wrap;\n",
              "      gap: 12px;\n",
              "    }\n",
              "\n",
              "    .colab-df-convert {\n",
              "      background-color: #E8F0FE;\n",
              "      border: none;\n",
              "      border-radius: 50%;\n",
              "      cursor: pointer;\n",
              "      display: none;\n",
              "      fill: #1967D2;\n",
              "      height: 32px;\n",
              "      padding: 0 0 0 0;\n",
              "      width: 32px;\n",
              "    }\n",
              "\n",
              "    .colab-df-convert:hover {\n",
              "      background-color: #E2EBFA;\n",
              "      box-shadow: 0px 1px 2px rgba(60, 64, 67, 0.3), 0px 1px 3px 1px rgba(60, 64, 67, 0.15);\n",
              "      fill: #174EA6;\n",
              "    }\n",
              "\n",
              "    [theme=dark] .colab-df-convert {\n",
              "      background-color: #3B4455;\n",
              "      fill: #D2E3FC;\n",
              "    }\n",
              "\n",
              "    [theme=dark] .colab-df-convert:hover {\n",
              "      background-color: #434B5C;\n",
              "      box-shadow: 0px 1px 3px 1px rgba(0, 0, 0, 0.15);\n",
              "      filter: drop-shadow(0px 1px 2px rgba(0, 0, 0, 0.3));\n",
              "      fill: #FFFFFF;\n",
              "    }\n",
              "  </style>\n",
              "\n",
              "      <script>\n",
              "        const buttonEl =\n",
              "          document.querySelector('#df-5da369ce-468e-40a6-9805-4e559feae9b6 button.colab-df-convert');\n",
              "        buttonEl.style.display =\n",
              "          google.colab.kernel.accessAllowed ? 'block' : 'none';\n",
              "\n",
              "        async function convertToInteractive(key) {\n",
              "          const element = document.querySelector('#df-5da369ce-468e-40a6-9805-4e559feae9b6');\n",
              "          const dataTable =\n",
              "            await google.colab.kernel.invokeFunction('convertToInteractive',\n",
              "                                                     [key], {});\n",
              "          if (!dataTable) return;\n",
              "\n",
              "          const docLinkHtml = 'Like what you see? Visit the ' +\n",
              "            '<a target=\"_blank\" href=https://colab.research.google.com/notebooks/data_table.ipynb>data table notebook</a>'\n",
              "            + ' to learn more about interactive tables.';\n",
              "          element.innerHTML = '';\n",
              "          dataTable['output_type'] = 'display_data';\n",
              "          await google.colab.output.renderOutput(dataTable, element);\n",
              "          const docLink = document.createElement('div');\n",
              "          docLink.innerHTML = docLinkHtml;\n",
              "          element.appendChild(docLink);\n",
              "        }\n",
              "      </script>\n",
              "    </div>\n",
              "  </div>\n",
              "  "
            ]
          },
          "metadata": {},
          "execution_count": 44
        }
      ],
      "source": [
        "dataset.iloc[[1,43,69] , [2,3,1]]"
      ]
    },
    {
      "cell_type": "code",
      "execution_count": null,
      "metadata": {
        "id": "AOZTWzehD1BW",
        "scrolled": true,
        "colab": {
          "base_uri": "https://localhost:8080/",
          "height": 423
        },
        "outputId": "7f4f54be-10b2-440b-cb70-1da2176bd4c5"
      },
      "outputs": [
        {
          "output_type": "execute_result",
          "data": {
            "text/plain": [
              "      Año  Kilometraje                  Motor\n",
              "0    2003      44410.0        Motor 4.0 Turbo\n",
              "1    1991       5712.0           Motor Diesel\n",
              "2    1990      37123.0        Motor Diesel V8\n",
              "3    2019          NaN        Motor 2.4 Turbo\n",
              "4    2006      25757.0        Motor 2.4 Turbo\n",
              "..    ...          ...                    ...\n",
              "253  2014      27505.0               Motor V8\n",
              "254  1991      29981.0               Motor V8\n",
              "255  2002      52637.0  Motor 5.0 V8 Bi-Turbo\n",
              "256  1996       7685.0           Motor Diesel\n",
              "257  1992      50188.0        Motor Diesel V6\n",
              "\n",
              "[258 rows x 3 columns]"
            ],
            "text/html": [
              "\n",
              "  <div id=\"df-aee5cf72-69be-48f0-93da-2fe4d65bd522\">\n",
              "    <div class=\"colab-df-container\">\n",
              "      <div>\n",
              "<style scoped>\n",
              "    .dataframe tbody tr th:only-of-type {\n",
              "        vertical-align: middle;\n",
              "    }\n",
              "\n",
              "    .dataframe tbody tr th {\n",
              "        vertical-align: top;\n",
              "    }\n",
              "\n",
              "    .dataframe thead th {\n",
              "        text-align: right;\n",
              "    }\n",
              "</style>\n",
              "<table border=\"1\" class=\"dataframe\">\n",
              "  <thead>\n",
              "    <tr style=\"text-align: right;\">\n",
              "      <th></th>\n",
              "      <th>Año</th>\n",
              "      <th>Kilometraje</th>\n",
              "      <th>Motor</th>\n",
              "    </tr>\n",
              "  </thead>\n",
              "  <tbody>\n",
              "    <tr>\n",
              "      <th>0</th>\n",
              "      <td>2003</td>\n",
              "      <td>44410.0</td>\n",
              "      <td>Motor 4.0 Turbo</td>\n",
              "    </tr>\n",
              "    <tr>\n",
              "      <th>1</th>\n",
              "      <td>1991</td>\n",
              "      <td>5712.0</td>\n",
              "      <td>Motor Diesel</td>\n",
              "    </tr>\n",
              "    <tr>\n",
              "      <th>2</th>\n",
              "      <td>1990</td>\n",
              "      <td>37123.0</td>\n",
              "      <td>Motor Diesel V8</td>\n",
              "    </tr>\n",
              "    <tr>\n",
              "      <th>3</th>\n",
              "      <td>2019</td>\n",
              "      <td>NaN</td>\n",
              "      <td>Motor 2.4 Turbo</td>\n",
              "    </tr>\n",
              "    <tr>\n",
              "      <th>4</th>\n",
              "      <td>2006</td>\n",
              "      <td>25757.0</td>\n",
              "      <td>Motor 2.4 Turbo</td>\n",
              "    </tr>\n",
              "    <tr>\n",
              "      <th>...</th>\n",
              "      <td>...</td>\n",
              "      <td>...</td>\n",
              "      <td>...</td>\n",
              "    </tr>\n",
              "    <tr>\n",
              "      <th>253</th>\n",
              "      <td>2014</td>\n",
              "      <td>27505.0</td>\n",
              "      <td>Motor V8</td>\n",
              "    </tr>\n",
              "    <tr>\n",
              "      <th>254</th>\n",
              "      <td>1991</td>\n",
              "      <td>29981.0</td>\n",
              "      <td>Motor V8</td>\n",
              "    </tr>\n",
              "    <tr>\n",
              "      <th>255</th>\n",
              "      <td>2002</td>\n",
              "      <td>52637.0</td>\n",
              "      <td>Motor 5.0 V8 Bi-Turbo</td>\n",
              "    </tr>\n",
              "    <tr>\n",
              "      <th>256</th>\n",
              "      <td>1996</td>\n",
              "      <td>7685.0</td>\n",
              "      <td>Motor Diesel</td>\n",
              "    </tr>\n",
              "    <tr>\n",
              "      <th>257</th>\n",
              "      <td>1992</td>\n",
              "      <td>50188.0</td>\n",
              "      <td>Motor Diesel V6</td>\n",
              "    </tr>\n",
              "  </tbody>\n",
              "</table>\n",
              "<p>258 rows × 3 columns</p>\n",
              "</div>\n",
              "      <button class=\"colab-df-convert\" onclick=\"convertToInteractive('df-aee5cf72-69be-48f0-93da-2fe4d65bd522')\"\n",
              "              title=\"Convert this dataframe to an interactive table.\"\n",
              "              style=\"display:none;\">\n",
              "        \n",
              "  <svg xmlns=\"http://www.w3.org/2000/svg\" height=\"24px\"viewBox=\"0 0 24 24\"\n",
              "       width=\"24px\">\n",
              "    <path d=\"M0 0h24v24H0V0z\" fill=\"none\"/>\n",
              "    <path d=\"M18.56 5.44l.94 2.06.94-2.06 2.06-.94-2.06-.94-.94-2.06-.94 2.06-2.06.94zm-11 1L8.5 8.5l.94-2.06 2.06-.94-2.06-.94L8.5 2.5l-.94 2.06-2.06.94zm10 10l.94 2.06.94-2.06 2.06-.94-2.06-.94-.94-2.06-.94 2.06-2.06.94z\"/><path d=\"M17.41 7.96l-1.37-1.37c-.4-.4-.92-.59-1.43-.59-.52 0-1.04.2-1.43.59L10.3 9.45l-7.72 7.72c-.78.78-.78 2.05 0 2.83L4 21.41c.39.39.9.59 1.41.59.51 0 1.02-.2 1.41-.59l7.78-7.78 2.81-2.81c.8-.78.8-2.07 0-2.86zM5.41 20L4 18.59l7.72-7.72 1.47 1.35L5.41 20z\"/>\n",
              "  </svg>\n",
              "      </button>\n",
              "      \n",
              "  <style>\n",
              "    .colab-df-container {\n",
              "      display:flex;\n",
              "      flex-wrap:wrap;\n",
              "      gap: 12px;\n",
              "    }\n",
              "\n",
              "    .colab-df-convert {\n",
              "      background-color: #E8F0FE;\n",
              "      border: none;\n",
              "      border-radius: 50%;\n",
              "      cursor: pointer;\n",
              "      display: none;\n",
              "      fill: #1967D2;\n",
              "      height: 32px;\n",
              "      padding: 0 0 0 0;\n",
              "      width: 32px;\n",
              "    }\n",
              "\n",
              "    .colab-df-convert:hover {\n",
              "      background-color: #E2EBFA;\n",
              "      box-shadow: 0px 1px 2px rgba(60, 64, 67, 0.3), 0px 1px 3px 1px rgba(60, 64, 67, 0.15);\n",
              "      fill: #174EA6;\n",
              "    }\n",
              "\n",
              "    [theme=dark] .colab-df-convert {\n",
              "      background-color: #3B4455;\n",
              "      fill: #D2E3FC;\n",
              "    }\n",
              "\n",
              "    [theme=dark] .colab-df-convert:hover {\n",
              "      background-color: #434B5C;\n",
              "      box-shadow: 0px 1px 3px 1px rgba(0, 0, 0, 0.15);\n",
              "      filter: drop-shadow(0px 1px 2px rgba(0, 0, 0, 0.3));\n",
              "      fill: #FFFFFF;\n",
              "    }\n",
              "  </style>\n",
              "\n",
              "      <script>\n",
              "        const buttonEl =\n",
              "          document.querySelector('#df-aee5cf72-69be-48f0-93da-2fe4d65bd522 button.colab-df-convert');\n",
              "        buttonEl.style.display =\n",
              "          google.colab.kernel.accessAllowed ? 'block' : 'none';\n",
              "\n",
              "        async function convertToInteractive(key) {\n",
              "          const element = document.querySelector('#df-aee5cf72-69be-48f0-93da-2fe4d65bd522');\n",
              "          const dataTable =\n",
              "            await google.colab.kernel.invokeFunction('convertToInteractive',\n",
              "                                                     [key], {});\n",
              "          if (!dataTable) return;\n",
              "\n",
              "          const docLinkHtml = 'Like what you see? Visit the ' +\n",
              "            '<a target=\"_blank\" href=https://colab.research.google.com/notebooks/data_table.ipynb>data table notebook</a>'\n",
              "            + ' to learn more about interactive tables.';\n",
              "          element.innerHTML = '';\n",
              "          dataTable['output_type'] = 'display_data';\n",
              "          await google.colab.output.renderOutput(dataTable, element);\n",
              "          const docLink = document.createElement('div');\n",
              "          docLink.innerHTML = docLinkHtml;\n",
              "          element.appendChild(docLink);\n",
              "        }\n",
              "      </script>\n",
              "    </div>\n",
              "  </div>\n",
              "  "
            ]
          },
          "metadata": {},
          "execution_count": 45
        }
      ],
      "source": [
        "dataset.iloc[: , [2,3,1]]"
      ]
    },
    {
      "cell_type": "markdown",
      "metadata": {
        "id": "eAbwq1oLD1BW"
      },
      "source": [
        "# 5.3 Consultas en DataFrames"
      ]
    },
    {
      "cell_type": "code",
      "execution_count": null,
      "metadata": {
        "id": "rO5T4h94D1BX",
        "scrolled": true,
        "colab": {
          "base_uri": "https://localhost:8080/",
          "height": 206
        },
        "outputId": "f1eb366b-b552-48ff-c3d1-ce4fa7b4cea3"
      },
      "outputs": [
        {
          "output_type": "execute_result",
          "data": {
            "text/plain": [
              "             Nombre            Motor   Año  Kilometraje  Cero_km  \\\n",
              "0     Jetta Variant  Motor 4.0 Turbo  2003      44410.0    False   \n",
              "1            Passat     Motor Diesel  1991       5712.0    False   \n",
              "2          Crossfox  Motor Diesel V8  1990      37123.0    False   \n",
              "3               DS5  Motor 2.4 Turbo  2019          NaN     True   \n",
              "4  Aston Martin DB4  Motor 2.4 Turbo  2006      25757.0    False   \n",
              "\n",
              "                                          Accesorios      Valor  \n",
              "0  ['Llantas de aleación', 'Cerraduras electricas...   88078.64  \n",
              "1  ['Central multimedia', 'Techo panorámico', 'Fr...  106161.94  \n",
              "2  ['Piloto automático', 'Control de estabilidad'...   72832.16  \n",
              "3  ['Cerraduras electricas', '4 X 4', 'Ventanas e...  124549.07  \n",
              "4  ['Llantas de aleación', '4 X 4', 'Central mult...   92612.10  "
            ],
            "text/html": [
              "\n",
              "  <div id=\"df-b2abc8f9-6c03-43f0-8f94-8702e306996c\">\n",
              "    <div class=\"colab-df-container\">\n",
              "      <div>\n",
              "<style scoped>\n",
              "    .dataframe tbody tr th:only-of-type {\n",
              "        vertical-align: middle;\n",
              "    }\n",
              "\n",
              "    .dataframe tbody tr th {\n",
              "        vertical-align: top;\n",
              "    }\n",
              "\n",
              "    .dataframe thead th {\n",
              "        text-align: right;\n",
              "    }\n",
              "</style>\n",
              "<table border=\"1\" class=\"dataframe\">\n",
              "  <thead>\n",
              "    <tr style=\"text-align: right;\">\n",
              "      <th></th>\n",
              "      <th>Nombre</th>\n",
              "      <th>Motor</th>\n",
              "      <th>Año</th>\n",
              "      <th>Kilometraje</th>\n",
              "      <th>Cero_km</th>\n",
              "      <th>Accesorios</th>\n",
              "      <th>Valor</th>\n",
              "    </tr>\n",
              "  </thead>\n",
              "  <tbody>\n",
              "    <tr>\n",
              "      <th>0</th>\n",
              "      <td>Jetta Variant</td>\n",
              "      <td>Motor 4.0 Turbo</td>\n",
              "      <td>2003</td>\n",
              "      <td>44410.0</td>\n",
              "      <td>False</td>\n",
              "      <td>['Llantas de aleación', 'Cerraduras electricas...</td>\n",
              "      <td>88078.64</td>\n",
              "    </tr>\n",
              "    <tr>\n",
              "      <th>1</th>\n",
              "      <td>Passat</td>\n",
              "      <td>Motor Diesel</td>\n",
              "      <td>1991</td>\n",
              "      <td>5712.0</td>\n",
              "      <td>False</td>\n",
              "      <td>['Central multimedia', 'Techo panorámico', 'Fr...</td>\n",
              "      <td>106161.94</td>\n",
              "    </tr>\n",
              "    <tr>\n",
              "      <th>2</th>\n",
              "      <td>Crossfox</td>\n",
              "      <td>Motor Diesel V8</td>\n",
              "      <td>1990</td>\n",
              "      <td>37123.0</td>\n",
              "      <td>False</td>\n",
              "      <td>['Piloto automático', 'Control de estabilidad'...</td>\n",
              "      <td>72832.16</td>\n",
              "    </tr>\n",
              "    <tr>\n",
              "      <th>3</th>\n",
              "      <td>DS5</td>\n",
              "      <td>Motor 2.4 Turbo</td>\n",
              "      <td>2019</td>\n",
              "      <td>NaN</td>\n",
              "      <td>True</td>\n",
              "      <td>['Cerraduras electricas', '4 X 4', 'Ventanas e...</td>\n",
              "      <td>124549.07</td>\n",
              "    </tr>\n",
              "    <tr>\n",
              "      <th>4</th>\n",
              "      <td>Aston Martin DB4</td>\n",
              "      <td>Motor 2.4 Turbo</td>\n",
              "      <td>2006</td>\n",
              "      <td>25757.0</td>\n",
              "      <td>False</td>\n",
              "      <td>['Llantas de aleación', '4 X 4', 'Central mult...</td>\n",
              "      <td>92612.10</td>\n",
              "    </tr>\n",
              "  </tbody>\n",
              "</table>\n",
              "</div>\n",
              "      <button class=\"colab-df-convert\" onclick=\"convertToInteractive('df-b2abc8f9-6c03-43f0-8f94-8702e306996c')\"\n",
              "              title=\"Convert this dataframe to an interactive table.\"\n",
              "              style=\"display:none;\">\n",
              "        \n",
              "  <svg xmlns=\"http://www.w3.org/2000/svg\" height=\"24px\"viewBox=\"0 0 24 24\"\n",
              "       width=\"24px\">\n",
              "    <path d=\"M0 0h24v24H0V0z\" fill=\"none\"/>\n",
              "    <path d=\"M18.56 5.44l.94 2.06.94-2.06 2.06-.94-2.06-.94-.94-2.06-.94 2.06-2.06.94zm-11 1L8.5 8.5l.94-2.06 2.06-.94-2.06-.94L8.5 2.5l-.94 2.06-2.06.94zm10 10l.94 2.06.94-2.06 2.06-.94-2.06-.94-.94-2.06-.94 2.06-2.06.94z\"/><path d=\"M17.41 7.96l-1.37-1.37c-.4-.4-.92-.59-1.43-.59-.52 0-1.04.2-1.43.59L10.3 9.45l-7.72 7.72c-.78.78-.78 2.05 0 2.83L4 21.41c.39.39.9.59 1.41.59.51 0 1.02-.2 1.41-.59l7.78-7.78 2.81-2.81c.8-.78.8-2.07 0-2.86zM5.41 20L4 18.59l7.72-7.72 1.47 1.35L5.41 20z\"/>\n",
              "  </svg>\n",
              "      </button>\n",
              "      \n",
              "  <style>\n",
              "    .colab-df-container {\n",
              "      display:flex;\n",
              "      flex-wrap:wrap;\n",
              "      gap: 12px;\n",
              "    }\n",
              "\n",
              "    .colab-df-convert {\n",
              "      background-color: #E8F0FE;\n",
              "      border: none;\n",
              "      border-radius: 50%;\n",
              "      cursor: pointer;\n",
              "      display: none;\n",
              "      fill: #1967D2;\n",
              "      height: 32px;\n",
              "      padding: 0 0 0 0;\n",
              "      width: 32px;\n",
              "    }\n",
              "\n",
              "    .colab-df-convert:hover {\n",
              "      background-color: #E2EBFA;\n",
              "      box-shadow: 0px 1px 2px rgba(60, 64, 67, 0.3), 0px 1px 3px 1px rgba(60, 64, 67, 0.15);\n",
              "      fill: #174EA6;\n",
              "    }\n",
              "\n",
              "    [theme=dark] .colab-df-convert {\n",
              "      background-color: #3B4455;\n",
              "      fill: #D2E3FC;\n",
              "    }\n",
              "\n",
              "    [theme=dark] .colab-df-convert:hover {\n",
              "      background-color: #434B5C;\n",
              "      box-shadow: 0px 1px 3px 1px rgba(0, 0, 0, 0.15);\n",
              "      filter: drop-shadow(0px 1px 2px rgba(0, 0, 0, 0.3));\n",
              "      fill: #FFFFFF;\n",
              "    }\n",
              "  </style>\n",
              "\n",
              "      <script>\n",
              "        const buttonEl =\n",
              "          document.querySelector('#df-b2abc8f9-6c03-43f0-8f94-8702e306996c button.colab-df-convert');\n",
              "        buttonEl.style.display =\n",
              "          google.colab.kernel.accessAllowed ? 'block' : 'none';\n",
              "\n",
              "        async function convertToInteractive(key) {\n",
              "          const element = document.querySelector('#df-b2abc8f9-6c03-43f0-8f94-8702e306996c');\n",
              "          const dataTable =\n",
              "            await google.colab.kernel.invokeFunction('convertToInteractive',\n",
              "                                                     [key], {});\n",
              "          if (!dataTable) return;\n",
              "\n",
              "          const docLinkHtml = 'Like what you see? Visit the ' +\n",
              "            '<a target=\"_blank\" href=https://colab.research.google.com/notebooks/data_table.ipynb>data table notebook</a>'\n",
              "            + ' to learn more about interactive tables.';\n",
              "          element.innerHTML = '';\n",
              "          dataTable['output_type'] = 'display_data';\n",
              "          await google.colab.output.renderOutput(dataTable, element);\n",
              "          const docLink = document.createElement('div');\n",
              "          docLink.innerHTML = docLinkHtml;\n",
              "          element.appendChild(docLink);\n",
              "        }\n",
              "      </script>\n",
              "    </div>\n",
              "  </div>\n",
              "  "
            ]
          },
          "metadata": {},
          "execution_count": 46
        }
      ],
      "source": [
        "dataset.head()"
      ]
    },
    {
      "cell_type": "code",
      "execution_count": null,
      "metadata": {
        "id": "STZ-l8oaD1BX",
        "colab": {
          "base_uri": "https://localhost:8080/"
        },
        "outputId": "e4c3a7a2-b52c-47c9-a42d-5d594e1d7cfb"
      },
      "outputs": [
        {
          "output_type": "execute_result",
          "data": {
            "text/plain": [
              "0            Motor 4.0 Turbo\n",
              "1               Motor Diesel\n",
              "2            Motor Diesel V8\n",
              "3            Motor 2.4 Turbo\n",
              "4            Motor 2.4 Turbo\n",
              "               ...          \n",
              "253                 Motor V8\n",
              "254                 Motor V8\n",
              "255    Motor 5.0 V8 Bi-Turbo\n",
              "256             Motor Diesel\n",
              "257          Motor Diesel V6\n",
              "Name: Motor, Length: 258, dtype: object"
            ]
          },
          "metadata": {},
          "execution_count": 47
        }
      ],
      "source": [
        "dataset['Motor']"
      ]
    },
    {
      "cell_type": "code",
      "execution_count": null,
      "metadata": {
        "id": "OZC8NAn6D1BX",
        "colab": {
          "base_uri": "https://localhost:8080/"
        },
        "outputId": "8c80556e-94a8-443f-d91e-c1840005184e"
      },
      "outputs": [
        {
          "output_type": "execute_result",
          "data": {
            "text/plain": [
              "0      False\n",
              "1       True\n",
              "2      False\n",
              "3      False\n",
              "4      False\n",
              "       ...  \n",
              "253    False\n",
              "254    False\n",
              "255    False\n",
              "256     True\n",
              "257    False\n",
              "Name: Motor, Length: 258, dtype: bool"
            ]
          },
          "metadata": {},
          "execution_count": 48
        }
      ],
      "source": [
        "dataset.Motor == 'Motor Diesel'"
      ]
    },
    {
      "cell_type": "code",
      "execution_count": null,
      "metadata": {
        "id": "OzXC2M40D1BY",
        "scrolled": true,
        "colab": {
          "base_uri": "https://localhost:8080/"
        },
        "outputId": "cff43e78-ee88-4e45-d223-5ef49f5f7b06"
      },
      "outputs": [
        {
          "output_type": "execute_result",
          "data": {
            "text/plain": [
              "pandas.core.series.Series"
            ]
          },
          "metadata": {},
          "execution_count": 49
        }
      ],
      "source": [
        "type(dataset.Motor == 'Motor Diesel')"
      ]
    },
    {
      "cell_type": "code",
      "source": [
        "dataset[dataset.Motor == 'Motor Diesel']"
      ],
      "metadata": {
        "colab": {
          "base_uri": "https://localhost:8080/",
          "height": 864
        },
        "id": "zLw3jeX0pPnE",
        "outputId": "ee312975-8200-4c7d-ae75-e437845871c7"
      },
      "execution_count": null,
      "outputs": [
        {
          "output_type": "execute_result",
          "data": {
            "text/plain": [
              "                    Nombre         Motor   Año  Kilometraje  Cero_km  \\\n",
              "1                   Passat  Motor Diesel  1991       5712.0    False   \n",
              "23   Effa Hafei Picape Baú  Motor Diesel  1991     102959.0    False   \n",
              "60                 Sorento  Motor Diesel  2019          NaN     True   \n",
              "62        New Fiesta Hatch  Motor Diesel  2017     118895.0    False   \n",
              "69          Kangoo Express  Motor Diesel  2007      29132.0    False   \n",
              "74                     Fit  Motor Diesel  2013      44329.0    False   \n",
              "78             Cielo Hatch  Motor Diesel  2019          NaN     True   \n",
              "86                  Symbol  Motor Diesel  2016     117714.0    False   \n",
              "89                A4 Sedan  Motor Diesel  2002      30511.0    False   \n",
              "111               A4 Avant  Motor Diesel  2014      17357.0    False   \n",
              "119          Silver Shadow  Motor Diesel  2015      99052.0    False   \n",
              "124                  Camry  Motor Diesel  2019          NaN     True   \n",
              "145                   Clio  Motor Diesel  1990      66437.0    False   \n",
              "148       Série 3 M3 Coupé  Motor Diesel  2013      19896.0    False   \n",
              "149    Gallardo LP 560 – 4  Motor Diesel  2000     113045.0    False   \n",
              "157          Chana Utility  Motor Diesel  2009      52034.0    False   \n",
              "173            TT Roadster  Motor Diesel  1998     107392.0    False   \n",
              "189    Aston Martin Virage  Motor Diesel  2019          NaN     True   \n",
              "208                Sandero  Motor Diesel  2015      34783.0    False   \n",
              "210                    XKR  Motor Diesel  1996      85127.0    False   \n",
              "211                     X5  Motor Diesel  2002      13606.0    False   \n",
              "226           Dodge Dakota  Motor Diesel  1993      71544.0    False   \n",
              "233                 i30 CW  Motor Diesel  2015       8497.0    False   \n",
              "237           Série 7 Sedã  Motor Diesel  2019          NaN     True   \n",
              "240                    V60  Motor Diesel  2004      91840.0    False   \n",
              "256       Aston Martin DB5  Motor Diesel  1996       7685.0    False   \n",
              "\n",
              "                                            Accesorios      Valor  \n",
              "1    ['Central multimedia', 'Techo panorámico', 'Fr...  106161.94  \n",
              "23   ['Control de estabilidad', 'Panel digital', 'V...  125684.65  \n",
              "60   ['Sensor de lluvia', 'Cámara de estacionamient...   81399.35  \n",
              "62   ['Sensor de estacionamiento', 'Cerraduras elec...   66007.16  \n",
              "69   ['Asientos de cuero', 'Transmisión automática'...  146716.91  \n",
              "74   ['Frenos ABS', 'Cámara de estacionamiento', 'T...   77836.23  \n",
              "78   ['Panel digital', 'Central multimedia', 'Cámar...  145197.70  \n",
              "86   ['4 X 4', 'Piloto automático', 'Sensor crepusc...  133030.60  \n",
              "89   ['Cámara de estacionamiento', '4 X 4', 'Cerrad...   96369.04  \n",
              "111  ['Techo panorámico', '4 X 4', 'Asientos de cue...  138946.88  \n",
              "119  ['4 X 4', 'Central multimedia', 'Aire condicio...  143568.22  \n",
              "124  ['Cerraduras electricas', 'Llantas de aleación...  138597.27  \n",
              "145  ['4 X 4', 'Transmisión automática', 'Frenos AB...  111130.33  \n",
              "148  ['Asientos de cuero', 'Sensor de lluvia', 'Air...   69219.89  \n",
              "149  ['Frenos ABS', 'Techo panorámico', 'Central mu...  144118.91  \n",
              "157  ['Aire condicionado', 'Sensor de estacionamien...  132662.32  \n",
              "173  ['Aire condicionado', 'Sensor de estacionamien...   85311.40  \n",
              "189  ['Cerraduras electricas', 'Control de tracción...   97290.18  \n",
              "208  ['Piloto automático', 'Techo panorámico', 'Tra...  112350.61  \n",
              "210  ['Control de tracción', 'Aire condicionado', '...   54263.16  \n",
              "211  ['Control de tracción', 'Piloto automático', '...   62041.32  \n",
              "226  ['Control de tracción', 'Sensor de estacionami...  141083.35  \n",
              "233  ['Sensor de lluvia', 'Ventanas eléctricas', 'C...   73311.75  \n",
              "237  ['Ventanas eléctricas', 'Cerraduras electricas...   67539.79  \n",
              "240  ['Llantas de aleación', 'Sensor crepuscular', ...  114728.74  \n",
              "256  ['Aire condicionado', '4 X 4', 'Transmisión au...  122110.90  "
            ],
            "text/html": [
              "\n",
              "  <div id=\"df-3a85832b-ae00-48f1-9bba-aeb1f25f9c5c\">\n",
              "    <div class=\"colab-df-container\">\n",
              "      <div>\n",
              "<style scoped>\n",
              "    .dataframe tbody tr th:only-of-type {\n",
              "        vertical-align: middle;\n",
              "    }\n",
              "\n",
              "    .dataframe tbody tr th {\n",
              "        vertical-align: top;\n",
              "    }\n",
              "\n",
              "    .dataframe thead th {\n",
              "        text-align: right;\n",
              "    }\n",
              "</style>\n",
              "<table border=\"1\" class=\"dataframe\">\n",
              "  <thead>\n",
              "    <tr style=\"text-align: right;\">\n",
              "      <th></th>\n",
              "      <th>Nombre</th>\n",
              "      <th>Motor</th>\n",
              "      <th>Año</th>\n",
              "      <th>Kilometraje</th>\n",
              "      <th>Cero_km</th>\n",
              "      <th>Accesorios</th>\n",
              "      <th>Valor</th>\n",
              "    </tr>\n",
              "  </thead>\n",
              "  <tbody>\n",
              "    <tr>\n",
              "      <th>1</th>\n",
              "      <td>Passat</td>\n",
              "      <td>Motor Diesel</td>\n",
              "      <td>1991</td>\n",
              "      <td>5712.0</td>\n",
              "      <td>False</td>\n",
              "      <td>['Central multimedia', 'Techo panorámico', 'Fr...</td>\n",
              "      <td>106161.94</td>\n",
              "    </tr>\n",
              "    <tr>\n",
              "      <th>23</th>\n",
              "      <td>Effa Hafei Picape Baú</td>\n",
              "      <td>Motor Diesel</td>\n",
              "      <td>1991</td>\n",
              "      <td>102959.0</td>\n",
              "      <td>False</td>\n",
              "      <td>['Control de estabilidad', 'Panel digital', 'V...</td>\n",
              "      <td>125684.65</td>\n",
              "    </tr>\n",
              "    <tr>\n",
              "      <th>60</th>\n",
              "      <td>Sorento</td>\n",
              "      <td>Motor Diesel</td>\n",
              "      <td>2019</td>\n",
              "      <td>NaN</td>\n",
              "      <td>True</td>\n",
              "      <td>['Sensor de lluvia', 'Cámara de estacionamient...</td>\n",
              "      <td>81399.35</td>\n",
              "    </tr>\n",
              "    <tr>\n",
              "      <th>62</th>\n",
              "      <td>New Fiesta Hatch</td>\n",
              "      <td>Motor Diesel</td>\n",
              "      <td>2017</td>\n",
              "      <td>118895.0</td>\n",
              "      <td>False</td>\n",
              "      <td>['Sensor de estacionamiento', 'Cerraduras elec...</td>\n",
              "      <td>66007.16</td>\n",
              "    </tr>\n",
              "    <tr>\n",
              "      <th>69</th>\n",
              "      <td>Kangoo Express</td>\n",
              "      <td>Motor Diesel</td>\n",
              "      <td>2007</td>\n",
              "      <td>29132.0</td>\n",
              "      <td>False</td>\n",
              "      <td>['Asientos de cuero', 'Transmisión automática'...</td>\n",
              "      <td>146716.91</td>\n",
              "    </tr>\n",
              "    <tr>\n",
              "      <th>74</th>\n",
              "      <td>Fit</td>\n",
              "      <td>Motor Diesel</td>\n",
              "      <td>2013</td>\n",
              "      <td>44329.0</td>\n",
              "      <td>False</td>\n",
              "      <td>['Frenos ABS', 'Cámara de estacionamiento', 'T...</td>\n",
              "      <td>77836.23</td>\n",
              "    </tr>\n",
              "    <tr>\n",
              "      <th>78</th>\n",
              "      <td>Cielo Hatch</td>\n",
              "      <td>Motor Diesel</td>\n",
              "      <td>2019</td>\n",
              "      <td>NaN</td>\n",
              "      <td>True</td>\n",
              "      <td>['Panel digital', 'Central multimedia', 'Cámar...</td>\n",
              "      <td>145197.70</td>\n",
              "    </tr>\n",
              "    <tr>\n",
              "      <th>86</th>\n",
              "      <td>Symbol</td>\n",
              "      <td>Motor Diesel</td>\n",
              "      <td>2016</td>\n",
              "      <td>117714.0</td>\n",
              "      <td>False</td>\n",
              "      <td>['4 X 4', 'Piloto automático', 'Sensor crepusc...</td>\n",
              "      <td>133030.60</td>\n",
              "    </tr>\n",
              "    <tr>\n",
              "      <th>89</th>\n",
              "      <td>A4 Sedan</td>\n",
              "      <td>Motor Diesel</td>\n",
              "      <td>2002</td>\n",
              "      <td>30511.0</td>\n",
              "      <td>False</td>\n",
              "      <td>['Cámara de estacionamiento', '4 X 4', 'Cerrad...</td>\n",
              "      <td>96369.04</td>\n",
              "    </tr>\n",
              "    <tr>\n",
              "      <th>111</th>\n",
              "      <td>A4 Avant</td>\n",
              "      <td>Motor Diesel</td>\n",
              "      <td>2014</td>\n",
              "      <td>17357.0</td>\n",
              "      <td>False</td>\n",
              "      <td>['Techo panorámico', '4 X 4', 'Asientos de cue...</td>\n",
              "      <td>138946.88</td>\n",
              "    </tr>\n",
              "    <tr>\n",
              "      <th>119</th>\n",
              "      <td>Silver Shadow</td>\n",
              "      <td>Motor Diesel</td>\n",
              "      <td>2015</td>\n",
              "      <td>99052.0</td>\n",
              "      <td>False</td>\n",
              "      <td>['4 X 4', 'Central multimedia', 'Aire condicio...</td>\n",
              "      <td>143568.22</td>\n",
              "    </tr>\n",
              "    <tr>\n",
              "      <th>124</th>\n",
              "      <td>Camry</td>\n",
              "      <td>Motor Diesel</td>\n",
              "      <td>2019</td>\n",
              "      <td>NaN</td>\n",
              "      <td>True</td>\n",
              "      <td>['Cerraduras electricas', 'Llantas de aleación...</td>\n",
              "      <td>138597.27</td>\n",
              "    </tr>\n",
              "    <tr>\n",
              "      <th>145</th>\n",
              "      <td>Clio</td>\n",
              "      <td>Motor Diesel</td>\n",
              "      <td>1990</td>\n",
              "      <td>66437.0</td>\n",
              "      <td>False</td>\n",
              "      <td>['4 X 4', 'Transmisión automática', 'Frenos AB...</td>\n",
              "      <td>111130.33</td>\n",
              "    </tr>\n",
              "    <tr>\n",
              "      <th>148</th>\n",
              "      <td>Série 3 M3 Coupé</td>\n",
              "      <td>Motor Diesel</td>\n",
              "      <td>2013</td>\n",
              "      <td>19896.0</td>\n",
              "      <td>False</td>\n",
              "      <td>['Asientos de cuero', 'Sensor de lluvia', 'Air...</td>\n",
              "      <td>69219.89</td>\n",
              "    </tr>\n",
              "    <tr>\n",
              "      <th>149</th>\n",
              "      <td>Gallardo LP 560 – 4</td>\n",
              "      <td>Motor Diesel</td>\n",
              "      <td>2000</td>\n",
              "      <td>113045.0</td>\n",
              "      <td>False</td>\n",
              "      <td>['Frenos ABS', 'Techo panorámico', 'Central mu...</td>\n",
              "      <td>144118.91</td>\n",
              "    </tr>\n",
              "    <tr>\n",
              "      <th>157</th>\n",
              "      <td>Chana Utility</td>\n",
              "      <td>Motor Diesel</td>\n",
              "      <td>2009</td>\n",
              "      <td>52034.0</td>\n",
              "      <td>False</td>\n",
              "      <td>['Aire condicionado', 'Sensor de estacionamien...</td>\n",
              "      <td>132662.32</td>\n",
              "    </tr>\n",
              "    <tr>\n",
              "      <th>173</th>\n",
              "      <td>TT Roadster</td>\n",
              "      <td>Motor Diesel</td>\n",
              "      <td>1998</td>\n",
              "      <td>107392.0</td>\n",
              "      <td>False</td>\n",
              "      <td>['Aire condicionado', 'Sensor de estacionamien...</td>\n",
              "      <td>85311.40</td>\n",
              "    </tr>\n",
              "    <tr>\n",
              "      <th>189</th>\n",
              "      <td>Aston Martin Virage</td>\n",
              "      <td>Motor Diesel</td>\n",
              "      <td>2019</td>\n",
              "      <td>NaN</td>\n",
              "      <td>True</td>\n",
              "      <td>['Cerraduras electricas', 'Control de tracción...</td>\n",
              "      <td>97290.18</td>\n",
              "    </tr>\n",
              "    <tr>\n",
              "      <th>208</th>\n",
              "      <td>Sandero</td>\n",
              "      <td>Motor Diesel</td>\n",
              "      <td>2015</td>\n",
              "      <td>34783.0</td>\n",
              "      <td>False</td>\n",
              "      <td>['Piloto automático', 'Techo panorámico', 'Tra...</td>\n",
              "      <td>112350.61</td>\n",
              "    </tr>\n",
              "    <tr>\n",
              "      <th>210</th>\n",
              "      <td>XKR</td>\n",
              "      <td>Motor Diesel</td>\n",
              "      <td>1996</td>\n",
              "      <td>85127.0</td>\n",
              "      <td>False</td>\n",
              "      <td>['Control de tracción', 'Aire condicionado', '...</td>\n",
              "      <td>54263.16</td>\n",
              "    </tr>\n",
              "    <tr>\n",
              "      <th>211</th>\n",
              "      <td>X5</td>\n",
              "      <td>Motor Diesel</td>\n",
              "      <td>2002</td>\n",
              "      <td>13606.0</td>\n",
              "      <td>False</td>\n",
              "      <td>['Control de tracción', 'Piloto automático', '...</td>\n",
              "      <td>62041.32</td>\n",
              "    </tr>\n",
              "    <tr>\n",
              "      <th>226</th>\n",
              "      <td>Dodge Dakota</td>\n",
              "      <td>Motor Diesel</td>\n",
              "      <td>1993</td>\n",
              "      <td>71544.0</td>\n",
              "      <td>False</td>\n",
              "      <td>['Control de tracción', 'Sensor de estacionami...</td>\n",
              "      <td>141083.35</td>\n",
              "    </tr>\n",
              "    <tr>\n",
              "      <th>233</th>\n",
              "      <td>i30 CW</td>\n",
              "      <td>Motor Diesel</td>\n",
              "      <td>2015</td>\n",
              "      <td>8497.0</td>\n",
              "      <td>False</td>\n",
              "      <td>['Sensor de lluvia', 'Ventanas eléctricas', 'C...</td>\n",
              "      <td>73311.75</td>\n",
              "    </tr>\n",
              "    <tr>\n",
              "      <th>237</th>\n",
              "      <td>Série 7 Sedã</td>\n",
              "      <td>Motor Diesel</td>\n",
              "      <td>2019</td>\n",
              "      <td>NaN</td>\n",
              "      <td>True</td>\n",
              "      <td>['Ventanas eléctricas', 'Cerraduras electricas...</td>\n",
              "      <td>67539.79</td>\n",
              "    </tr>\n",
              "    <tr>\n",
              "      <th>240</th>\n",
              "      <td>V60</td>\n",
              "      <td>Motor Diesel</td>\n",
              "      <td>2004</td>\n",
              "      <td>91840.0</td>\n",
              "      <td>False</td>\n",
              "      <td>['Llantas de aleación', 'Sensor crepuscular', ...</td>\n",
              "      <td>114728.74</td>\n",
              "    </tr>\n",
              "    <tr>\n",
              "      <th>256</th>\n",
              "      <td>Aston Martin DB5</td>\n",
              "      <td>Motor Diesel</td>\n",
              "      <td>1996</td>\n",
              "      <td>7685.0</td>\n",
              "      <td>False</td>\n",
              "      <td>['Aire condicionado', '4 X 4', 'Transmisión au...</td>\n",
              "      <td>122110.90</td>\n",
              "    </tr>\n",
              "  </tbody>\n",
              "</table>\n",
              "</div>\n",
              "      <button class=\"colab-df-convert\" onclick=\"convertToInteractive('df-3a85832b-ae00-48f1-9bba-aeb1f25f9c5c')\"\n",
              "              title=\"Convert this dataframe to an interactive table.\"\n",
              "              style=\"display:none;\">\n",
              "        \n",
              "  <svg xmlns=\"http://www.w3.org/2000/svg\" height=\"24px\"viewBox=\"0 0 24 24\"\n",
              "       width=\"24px\">\n",
              "    <path d=\"M0 0h24v24H0V0z\" fill=\"none\"/>\n",
              "    <path d=\"M18.56 5.44l.94 2.06.94-2.06 2.06-.94-2.06-.94-.94-2.06-.94 2.06-2.06.94zm-11 1L8.5 8.5l.94-2.06 2.06-.94-2.06-.94L8.5 2.5l-.94 2.06-2.06.94zm10 10l.94 2.06.94-2.06 2.06-.94-2.06-.94-.94-2.06-.94 2.06-2.06.94z\"/><path d=\"M17.41 7.96l-1.37-1.37c-.4-.4-.92-.59-1.43-.59-.52 0-1.04.2-1.43.59L10.3 9.45l-7.72 7.72c-.78.78-.78 2.05 0 2.83L4 21.41c.39.39.9.59 1.41.59.51 0 1.02-.2 1.41-.59l7.78-7.78 2.81-2.81c.8-.78.8-2.07 0-2.86zM5.41 20L4 18.59l7.72-7.72 1.47 1.35L5.41 20z\"/>\n",
              "  </svg>\n",
              "      </button>\n",
              "      \n",
              "  <style>\n",
              "    .colab-df-container {\n",
              "      display:flex;\n",
              "      flex-wrap:wrap;\n",
              "      gap: 12px;\n",
              "    }\n",
              "\n",
              "    .colab-df-convert {\n",
              "      background-color: #E8F0FE;\n",
              "      border: none;\n",
              "      border-radius: 50%;\n",
              "      cursor: pointer;\n",
              "      display: none;\n",
              "      fill: #1967D2;\n",
              "      height: 32px;\n",
              "      padding: 0 0 0 0;\n",
              "      width: 32px;\n",
              "    }\n",
              "\n",
              "    .colab-df-convert:hover {\n",
              "      background-color: #E2EBFA;\n",
              "      box-shadow: 0px 1px 2px rgba(60, 64, 67, 0.3), 0px 1px 3px 1px rgba(60, 64, 67, 0.15);\n",
              "      fill: #174EA6;\n",
              "    }\n",
              "\n",
              "    [theme=dark] .colab-df-convert {\n",
              "      background-color: #3B4455;\n",
              "      fill: #D2E3FC;\n",
              "    }\n",
              "\n",
              "    [theme=dark] .colab-df-convert:hover {\n",
              "      background-color: #434B5C;\n",
              "      box-shadow: 0px 1px 3px 1px rgba(0, 0, 0, 0.15);\n",
              "      filter: drop-shadow(0px 1px 2px rgba(0, 0, 0, 0.3));\n",
              "      fill: #FFFFFF;\n",
              "    }\n",
              "  </style>\n",
              "\n",
              "      <script>\n",
              "        const buttonEl =\n",
              "          document.querySelector('#df-3a85832b-ae00-48f1-9bba-aeb1f25f9c5c button.colab-df-convert');\n",
              "        buttonEl.style.display =\n",
              "          google.colab.kernel.accessAllowed ? 'block' : 'none';\n",
              "\n",
              "        async function convertToInteractive(key) {\n",
              "          const element = document.querySelector('#df-3a85832b-ae00-48f1-9bba-aeb1f25f9c5c');\n",
              "          const dataTable =\n",
              "            await google.colab.kernel.invokeFunction('convertToInteractive',\n",
              "                                                     [key], {});\n",
              "          if (!dataTable) return;\n",
              "\n",
              "          const docLinkHtml = 'Like what you see? Visit the ' +\n",
              "            '<a target=\"_blank\" href=https://colab.research.google.com/notebooks/data_table.ipynb>data table notebook</a>'\n",
              "            + ' to learn more about interactive tables.';\n",
              "          element.innerHTML = '';\n",
              "          dataTable['output_type'] = 'display_data';\n",
              "          await google.colab.output.renderOutput(dataTable, element);\n",
              "          const docLink = document.createElement('div');\n",
              "          docLink.innerHTML = docLinkHtml;\n",
              "          element.appendChild(docLink);\n",
              "        }\n",
              "      </script>\n",
              "    </div>\n",
              "  </div>\n",
              "  "
            ]
          },
          "metadata": {},
          "execution_count": 50
        }
      ]
    },
    {
      "cell_type": "code",
      "source": [
        "dataset[(dataset.Motor == 'Motor Diesel') & (dataset.Cero_km == True)]"
      ],
      "metadata": {
        "colab": {
          "base_uri": "https://localhost:8080/",
          "height": 206
        },
        "id": "GnCjVcTRpglt",
        "outputId": "208da8d5-274b-4577-b0e6-d00e4b80b19b"
      },
      "execution_count": null,
      "outputs": [
        {
          "output_type": "execute_result",
          "data": {
            "text/plain": [
              "                  Nombre         Motor   Año  Kilometraje  Cero_km  \\\n",
              "60               Sorento  Motor Diesel  2019          NaN     True   \n",
              "78           Cielo Hatch  Motor Diesel  2019          NaN     True   \n",
              "124                Camry  Motor Diesel  2019          NaN     True   \n",
              "189  Aston Martin Virage  Motor Diesel  2019          NaN     True   \n",
              "237         Série 7 Sedã  Motor Diesel  2019          NaN     True   \n",
              "\n",
              "                                            Accesorios      Valor  \n",
              "60   ['Sensor de lluvia', 'Cámara de estacionamient...   81399.35  \n",
              "78   ['Panel digital', 'Central multimedia', 'Cámar...  145197.70  \n",
              "124  ['Cerraduras electricas', 'Llantas de aleación...  138597.27  \n",
              "189  ['Cerraduras electricas', 'Control de tracción...   97290.18  \n",
              "237  ['Ventanas eléctricas', 'Cerraduras electricas...   67539.79  "
            ],
            "text/html": [
              "\n",
              "  <div id=\"df-dae816d1-8b16-40f1-b3ff-48c2360a8735\">\n",
              "    <div class=\"colab-df-container\">\n",
              "      <div>\n",
              "<style scoped>\n",
              "    .dataframe tbody tr th:only-of-type {\n",
              "        vertical-align: middle;\n",
              "    }\n",
              "\n",
              "    .dataframe tbody tr th {\n",
              "        vertical-align: top;\n",
              "    }\n",
              "\n",
              "    .dataframe thead th {\n",
              "        text-align: right;\n",
              "    }\n",
              "</style>\n",
              "<table border=\"1\" class=\"dataframe\">\n",
              "  <thead>\n",
              "    <tr style=\"text-align: right;\">\n",
              "      <th></th>\n",
              "      <th>Nombre</th>\n",
              "      <th>Motor</th>\n",
              "      <th>Año</th>\n",
              "      <th>Kilometraje</th>\n",
              "      <th>Cero_km</th>\n",
              "      <th>Accesorios</th>\n",
              "      <th>Valor</th>\n",
              "    </tr>\n",
              "  </thead>\n",
              "  <tbody>\n",
              "    <tr>\n",
              "      <th>60</th>\n",
              "      <td>Sorento</td>\n",
              "      <td>Motor Diesel</td>\n",
              "      <td>2019</td>\n",
              "      <td>NaN</td>\n",
              "      <td>True</td>\n",
              "      <td>['Sensor de lluvia', 'Cámara de estacionamient...</td>\n",
              "      <td>81399.35</td>\n",
              "    </tr>\n",
              "    <tr>\n",
              "      <th>78</th>\n",
              "      <td>Cielo Hatch</td>\n",
              "      <td>Motor Diesel</td>\n",
              "      <td>2019</td>\n",
              "      <td>NaN</td>\n",
              "      <td>True</td>\n",
              "      <td>['Panel digital', 'Central multimedia', 'Cámar...</td>\n",
              "      <td>145197.70</td>\n",
              "    </tr>\n",
              "    <tr>\n",
              "      <th>124</th>\n",
              "      <td>Camry</td>\n",
              "      <td>Motor Diesel</td>\n",
              "      <td>2019</td>\n",
              "      <td>NaN</td>\n",
              "      <td>True</td>\n",
              "      <td>['Cerraduras electricas', 'Llantas de aleación...</td>\n",
              "      <td>138597.27</td>\n",
              "    </tr>\n",
              "    <tr>\n",
              "      <th>189</th>\n",
              "      <td>Aston Martin Virage</td>\n",
              "      <td>Motor Diesel</td>\n",
              "      <td>2019</td>\n",
              "      <td>NaN</td>\n",
              "      <td>True</td>\n",
              "      <td>['Cerraduras electricas', 'Control de tracción...</td>\n",
              "      <td>97290.18</td>\n",
              "    </tr>\n",
              "    <tr>\n",
              "      <th>237</th>\n",
              "      <td>Série 7 Sedã</td>\n",
              "      <td>Motor Diesel</td>\n",
              "      <td>2019</td>\n",
              "      <td>NaN</td>\n",
              "      <td>True</td>\n",
              "      <td>['Ventanas eléctricas', 'Cerraduras electricas...</td>\n",
              "      <td>67539.79</td>\n",
              "    </tr>\n",
              "  </tbody>\n",
              "</table>\n",
              "</div>\n",
              "      <button class=\"colab-df-convert\" onclick=\"convertToInteractive('df-dae816d1-8b16-40f1-b3ff-48c2360a8735')\"\n",
              "              title=\"Convert this dataframe to an interactive table.\"\n",
              "              style=\"display:none;\">\n",
              "        \n",
              "  <svg xmlns=\"http://www.w3.org/2000/svg\" height=\"24px\"viewBox=\"0 0 24 24\"\n",
              "       width=\"24px\">\n",
              "    <path d=\"M0 0h24v24H0V0z\" fill=\"none\"/>\n",
              "    <path d=\"M18.56 5.44l.94 2.06.94-2.06 2.06-.94-2.06-.94-.94-2.06-.94 2.06-2.06.94zm-11 1L8.5 8.5l.94-2.06 2.06-.94-2.06-.94L8.5 2.5l-.94 2.06-2.06.94zm10 10l.94 2.06.94-2.06 2.06-.94-2.06-.94-.94-2.06-.94 2.06-2.06.94z\"/><path d=\"M17.41 7.96l-1.37-1.37c-.4-.4-.92-.59-1.43-.59-.52 0-1.04.2-1.43.59L10.3 9.45l-7.72 7.72c-.78.78-.78 2.05 0 2.83L4 21.41c.39.39.9.59 1.41.59.51 0 1.02-.2 1.41-.59l7.78-7.78 2.81-2.81c.8-.78.8-2.07 0-2.86zM5.41 20L4 18.59l7.72-7.72 1.47 1.35L5.41 20z\"/>\n",
              "  </svg>\n",
              "      </button>\n",
              "      \n",
              "  <style>\n",
              "    .colab-df-container {\n",
              "      display:flex;\n",
              "      flex-wrap:wrap;\n",
              "      gap: 12px;\n",
              "    }\n",
              "\n",
              "    .colab-df-convert {\n",
              "      background-color: #E8F0FE;\n",
              "      border: none;\n",
              "      border-radius: 50%;\n",
              "      cursor: pointer;\n",
              "      display: none;\n",
              "      fill: #1967D2;\n",
              "      height: 32px;\n",
              "      padding: 0 0 0 0;\n",
              "      width: 32px;\n",
              "    }\n",
              "\n",
              "    .colab-df-convert:hover {\n",
              "      background-color: #E2EBFA;\n",
              "      box-shadow: 0px 1px 2px rgba(60, 64, 67, 0.3), 0px 1px 3px 1px rgba(60, 64, 67, 0.15);\n",
              "      fill: #174EA6;\n",
              "    }\n",
              "\n",
              "    [theme=dark] .colab-df-convert {\n",
              "      background-color: #3B4455;\n",
              "      fill: #D2E3FC;\n",
              "    }\n",
              "\n",
              "    [theme=dark] .colab-df-convert:hover {\n",
              "      background-color: #434B5C;\n",
              "      box-shadow: 0px 1px 3px 1px rgba(0, 0, 0, 0.15);\n",
              "      filter: drop-shadow(0px 1px 2px rgba(0, 0, 0, 0.3));\n",
              "      fill: #FFFFFF;\n",
              "    }\n",
              "  </style>\n",
              "\n",
              "      <script>\n",
              "        const buttonEl =\n",
              "          document.querySelector('#df-dae816d1-8b16-40f1-b3ff-48c2360a8735 button.colab-df-convert');\n",
              "        buttonEl.style.display =\n",
              "          google.colab.kernel.accessAllowed ? 'block' : 'none';\n",
              "\n",
              "        async function convertToInteractive(key) {\n",
              "          const element = document.querySelector('#df-dae816d1-8b16-40f1-b3ff-48c2360a8735');\n",
              "          const dataTable =\n",
              "            await google.colab.kernel.invokeFunction('convertToInteractive',\n",
              "                                                     [key], {});\n",
              "          if (!dataTable) return;\n",
              "\n",
              "          const docLinkHtml = 'Like what you see? Visit the ' +\n",
              "            '<a target=\"_blank\" href=https://colab.research.google.com/notebooks/data_table.ipynb>data table notebook</a>'\n",
              "            + ' to learn more about interactive tables.';\n",
              "          element.innerHTML = '';\n",
              "          dataTable['output_type'] = 'display_data';\n",
              "          await google.colab.output.renderOutput(dataTable, element);\n",
              "          const docLink = document.createElement('div');\n",
              "          docLink.innerHTML = docLinkHtml;\n",
              "          element.appendChild(docLink);\n",
              "        }\n",
              "      </script>\n",
              "    </div>\n",
              "  </div>\n",
              "  "
            ]
          },
          "metadata": {},
          "execution_count": 52
        }
      ]
    },
    {
      "cell_type": "markdown",
      "metadata": {
        "id": "_XKXcWO-D1BY"
      },
      "source": [
        "### Utilizando el método query"
      ]
    },
    {
      "cell_type": "code",
      "execution_count": null,
      "metadata": {
        "id": "AB9JirSoD1BY",
        "colab": {
          "base_uri": "https://localhost:8080/",
          "height": 206
        },
        "outputId": "5c53663d-d3c3-4525-8e0e-f993325b4e1d"
      },
      "outputs": [
        {
          "output_type": "execute_result",
          "data": {
            "text/plain": [
              "                  Nombre         Motor   Año  Kilometraje  Cero_km  \\\n",
              "60               Sorento  Motor Diesel  2019          NaN     True   \n",
              "78           Cielo Hatch  Motor Diesel  2019          NaN     True   \n",
              "124                Camry  Motor Diesel  2019          NaN     True   \n",
              "189  Aston Martin Virage  Motor Diesel  2019          NaN     True   \n",
              "237         Série 7 Sedã  Motor Diesel  2019          NaN     True   \n",
              "\n",
              "                                            Accesorios      Valor  \n",
              "60   ['Sensor de lluvia', 'Cámara de estacionamient...   81399.35  \n",
              "78   ['Panel digital', 'Central multimedia', 'Cámar...  145197.70  \n",
              "124  ['Cerraduras electricas', 'Llantas de aleación...  138597.27  \n",
              "189  ['Cerraduras electricas', 'Control de tracción...   97290.18  \n",
              "237  ['Ventanas eléctricas', 'Cerraduras electricas...   67539.79  "
            ],
            "text/html": [
              "\n",
              "  <div id=\"df-9bfc27e0-f9f3-4574-8f24-33fa22064ce3\">\n",
              "    <div class=\"colab-df-container\">\n",
              "      <div>\n",
              "<style scoped>\n",
              "    .dataframe tbody tr th:only-of-type {\n",
              "        vertical-align: middle;\n",
              "    }\n",
              "\n",
              "    .dataframe tbody tr th {\n",
              "        vertical-align: top;\n",
              "    }\n",
              "\n",
              "    .dataframe thead th {\n",
              "        text-align: right;\n",
              "    }\n",
              "</style>\n",
              "<table border=\"1\" class=\"dataframe\">\n",
              "  <thead>\n",
              "    <tr style=\"text-align: right;\">\n",
              "      <th></th>\n",
              "      <th>Nombre</th>\n",
              "      <th>Motor</th>\n",
              "      <th>Año</th>\n",
              "      <th>Kilometraje</th>\n",
              "      <th>Cero_km</th>\n",
              "      <th>Accesorios</th>\n",
              "      <th>Valor</th>\n",
              "    </tr>\n",
              "  </thead>\n",
              "  <tbody>\n",
              "    <tr>\n",
              "      <th>60</th>\n",
              "      <td>Sorento</td>\n",
              "      <td>Motor Diesel</td>\n",
              "      <td>2019</td>\n",
              "      <td>NaN</td>\n",
              "      <td>True</td>\n",
              "      <td>['Sensor de lluvia', 'Cámara de estacionamient...</td>\n",
              "      <td>81399.35</td>\n",
              "    </tr>\n",
              "    <tr>\n",
              "      <th>78</th>\n",
              "      <td>Cielo Hatch</td>\n",
              "      <td>Motor Diesel</td>\n",
              "      <td>2019</td>\n",
              "      <td>NaN</td>\n",
              "      <td>True</td>\n",
              "      <td>['Panel digital', 'Central multimedia', 'Cámar...</td>\n",
              "      <td>145197.70</td>\n",
              "    </tr>\n",
              "    <tr>\n",
              "      <th>124</th>\n",
              "      <td>Camry</td>\n",
              "      <td>Motor Diesel</td>\n",
              "      <td>2019</td>\n",
              "      <td>NaN</td>\n",
              "      <td>True</td>\n",
              "      <td>['Cerraduras electricas', 'Llantas de aleación...</td>\n",
              "      <td>138597.27</td>\n",
              "    </tr>\n",
              "    <tr>\n",
              "      <th>189</th>\n",
              "      <td>Aston Martin Virage</td>\n",
              "      <td>Motor Diesel</td>\n",
              "      <td>2019</td>\n",
              "      <td>NaN</td>\n",
              "      <td>True</td>\n",
              "      <td>['Cerraduras electricas', 'Control de tracción...</td>\n",
              "      <td>97290.18</td>\n",
              "    </tr>\n",
              "    <tr>\n",
              "      <th>237</th>\n",
              "      <td>Série 7 Sedã</td>\n",
              "      <td>Motor Diesel</td>\n",
              "      <td>2019</td>\n",
              "      <td>NaN</td>\n",
              "      <td>True</td>\n",
              "      <td>['Ventanas eléctricas', 'Cerraduras electricas...</td>\n",
              "      <td>67539.79</td>\n",
              "    </tr>\n",
              "  </tbody>\n",
              "</table>\n",
              "</div>\n",
              "      <button class=\"colab-df-convert\" onclick=\"convertToInteractive('df-9bfc27e0-f9f3-4574-8f24-33fa22064ce3')\"\n",
              "              title=\"Convert this dataframe to an interactive table.\"\n",
              "              style=\"display:none;\">\n",
              "        \n",
              "  <svg xmlns=\"http://www.w3.org/2000/svg\" height=\"24px\"viewBox=\"0 0 24 24\"\n",
              "       width=\"24px\">\n",
              "    <path d=\"M0 0h24v24H0V0z\" fill=\"none\"/>\n",
              "    <path d=\"M18.56 5.44l.94 2.06.94-2.06 2.06-.94-2.06-.94-.94-2.06-.94 2.06-2.06.94zm-11 1L8.5 8.5l.94-2.06 2.06-.94-2.06-.94L8.5 2.5l-.94 2.06-2.06.94zm10 10l.94 2.06.94-2.06 2.06-.94-2.06-.94-.94-2.06-.94 2.06-2.06.94z\"/><path d=\"M17.41 7.96l-1.37-1.37c-.4-.4-.92-.59-1.43-.59-.52 0-1.04.2-1.43.59L10.3 9.45l-7.72 7.72c-.78.78-.78 2.05 0 2.83L4 21.41c.39.39.9.59 1.41.59.51 0 1.02-.2 1.41-.59l7.78-7.78 2.81-2.81c.8-.78.8-2.07 0-2.86zM5.41 20L4 18.59l7.72-7.72 1.47 1.35L5.41 20z\"/>\n",
              "  </svg>\n",
              "      </button>\n",
              "      \n",
              "  <style>\n",
              "    .colab-df-container {\n",
              "      display:flex;\n",
              "      flex-wrap:wrap;\n",
              "      gap: 12px;\n",
              "    }\n",
              "\n",
              "    .colab-df-convert {\n",
              "      background-color: #E8F0FE;\n",
              "      border: none;\n",
              "      border-radius: 50%;\n",
              "      cursor: pointer;\n",
              "      display: none;\n",
              "      fill: #1967D2;\n",
              "      height: 32px;\n",
              "      padding: 0 0 0 0;\n",
              "      width: 32px;\n",
              "    }\n",
              "\n",
              "    .colab-df-convert:hover {\n",
              "      background-color: #E2EBFA;\n",
              "      box-shadow: 0px 1px 2px rgba(60, 64, 67, 0.3), 0px 1px 3px 1px rgba(60, 64, 67, 0.15);\n",
              "      fill: #174EA6;\n",
              "    }\n",
              "\n",
              "    [theme=dark] .colab-df-convert {\n",
              "      background-color: #3B4455;\n",
              "      fill: #D2E3FC;\n",
              "    }\n",
              "\n",
              "    [theme=dark] .colab-df-convert:hover {\n",
              "      background-color: #434B5C;\n",
              "      box-shadow: 0px 1px 3px 1px rgba(0, 0, 0, 0.15);\n",
              "      filter: drop-shadow(0px 1px 2px rgba(0, 0, 0, 0.3));\n",
              "      fill: #FFFFFF;\n",
              "    }\n",
              "  </style>\n",
              "\n",
              "      <script>\n",
              "        const buttonEl =\n",
              "          document.querySelector('#df-9bfc27e0-f9f3-4574-8f24-33fa22064ce3 button.colab-df-convert');\n",
              "        buttonEl.style.display =\n",
              "          google.colab.kernel.accessAllowed ? 'block' : 'none';\n",
              "\n",
              "        async function convertToInteractive(key) {\n",
              "          const element = document.querySelector('#df-9bfc27e0-f9f3-4574-8f24-33fa22064ce3');\n",
              "          const dataTable =\n",
              "            await google.colab.kernel.invokeFunction('convertToInteractive',\n",
              "                                                     [key], {});\n",
              "          if (!dataTable) return;\n",
              "\n",
              "          const docLinkHtml = 'Like what you see? Visit the ' +\n",
              "            '<a target=\"_blank\" href=https://colab.research.google.com/notebooks/data_table.ipynb>data table notebook</a>'\n",
              "            + ' to learn more about interactive tables.';\n",
              "          element.innerHTML = '';\n",
              "          dataTable['output_type'] = 'display_data';\n",
              "          await google.colab.output.renderOutput(dataTable, element);\n",
              "          const docLink = document.createElement('div');\n",
              "          docLink.innerHTML = docLinkHtml;\n",
              "          element.appendChild(docLink);\n",
              "        }\n",
              "      </script>\n",
              "    </div>\n",
              "  </div>\n",
              "  "
            ]
          },
          "metadata": {},
          "execution_count": 53
        }
      ],
      "source": [
        "dataset.query('Motor == \"Motor Diesel\" and Cero_km == True ' )"
      ]
    },
    {
      "cell_type": "markdown",
      "metadata": {
        "id": "ciJ4dw_FD1BZ"
      },
      "source": [
        "# 5.4 Iterando con DataFrames"
      ]
    },
    {
      "cell_type": "code",
      "execution_count": null,
      "metadata": {
        "id": "TKAB-g5KD1BZ",
        "colab": {
          "base_uri": "https://localhost:8080/"
        },
        "outputId": "7b1418b6-8ef4-4dee-a037-aae152d06b87"
      },
      "outputs": [
        {
          "output_type": "stream",
          "name": "stdout",
          "text": [
            "Nombre\n",
            "Motor\n",
            "Año\n",
            "Kilometraje\n",
            "Cero_km\n",
            "Accesorios\n",
            "Valor\n"
          ]
        }
      ],
      "source": [
        "for item in dataset:\n",
        "  print(item)"
      ]
    },
    {
      "cell_type": "code",
      "execution_count": null,
      "metadata": {
        "id": "eFTNtPRWD1Ba",
        "colab": {
          "base_uri": "https://localhost:8080/"
        },
        "outputId": "44d66c42-7e02-43fd-ab95-a92465026a46"
      },
      "outputs": [
        {
          "output_type": "execute_result",
          "data": {
            "text/plain": [
              "[(0,\n",
              "  Nombre                                             Jetta Variant\n",
              "  Motor                                            Motor 4.0 Turbo\n",
              "  Año                                                         2003\n",
              "  Kilometraje                                              44410.0\n",
              "  Cero_km                                                    False\n",
              "  Accesorios     ['Llantas de aleación', 'Cerraduras electricas...\n",
              "  Valor                                                   88078.64\n",
              "  Name: 0, dtype: object),\n",
              " (1,\n",
              "  Nombre                                                    Passat\n",
              "  Motor                                               Motor Diesel\n",
              "  Año                                                         1991\n",
              "  Kilometraje                                               5712.0\n",
              "  Cero_km                                                    False\n",
              "  Accesorios     ['Central multimedia', 'Techo panorámico', 'Fr...\n",
              "  Valor                                                  106161.94\n",
              "  Name: 1, dtype: object),\n",
              " (2,\n",
              "  Nombre                                                  Crossfox\n",
              "  Motor                                            Motor Diesel V8\n",
              "  Año                                                         1990\n",
              "  Kilometraje                                              37123.0\n",
              "  Cero_km                                                    False\n",
              "  Accesorios     ['Piloto automático', 'Control de estabilidad'...\n",
              "  Valor                                                   72832.16\n",
              "  Name: 2, dtype: object),\n",
              " (3,\n",
              "  Nombre                                                       DS5\n",
              "  Motor                                            Motor 2.4 Turbo\n",
              "  Año                                                         2019\n",
              "  Kilometraje                                                  NaN\n",
              "  Cero_km                                                     True\n",
              "  Accesorios     ['Cerraduras electricas', '4 X 4', 'Ventanas e...\n",
              "  Valor                                                  124549.07\n",
              "  Name: 3, dtype: object),\n",
              " (4,\n",
              "  Nombre                                          Aston Martin DB4\n",
              "  Motor                                            Motor 2.4 Turbo\n",
              "  Año                                                         2006\n",
              "  Kilometraje                                              25757.0\n",
              "  Cero_km                                                    False\n",
              "  Accesorios     ['Llantas de aleación', '4 X 4', 'Central mult...\n",
              "  Valor                                                    92612.1\n",
              "  Name: 4, dtype: object),\n",
              " (5,\n",
              "  Nombre                                             Palio Weekend\n",
              "  Motor                                              Motor 1.8 16v\n",
              "  Año                                                         2012\n",
              "  Kilometraje                                              10728.0\n",
              "  Cero_km                                                    False\n",
              "  Accesorios     ['Sensor de estacionamiento', 'Techo panorámic...\n",
              "  Valor                                                   97497.73\n",
              "  Name: 5, dtype: object),\n",
              " (6,\n",
              "  Nombre                                                        A5\n",
              "  Motor                                            Motor 4.0 Turbo\n",
              "  Año                                                         2019\n",
              "  Kilometraje                                                  NaN\n",
              "  Cero_km                                                     True\n",
              "  Accesorios     ['Transmisión automática', 'Cámara de estacion...\n",
              "  Valor                                                    56445.2\n",
              "  Name: 6, dtype: object),\n",
              " (7,\n",
              "  Nombre                                            Série 3 Cabrio\n",
              "  Motor                                               Motor 1.0 8v\n",
              "  Año                                                         2009\n",
              "  Kilometraje                                              77599.0\n",
              "  Cero_km                                                    False\n",
              "  Accesorios     ['Control de estabilidad', 'Sensor crepuscular...\n",
              "  Valor                                                  112310.44\n",
              "  Name: 7, dtype: object),\n",
              " (8,\n",
              "  Nombre                                              Dodge Jorney\n",
              "  Motor                                              Motor 3.0 32v\n",
              "  Año                                                         2010\n",
              "  Kilometraje                                              99197.0\n",
              "  Cero_km                                                    False\n",
              "  Accesorios     ['Ventanas eléctricas', 'Piloto automático', '...\n",
              "  Valor                                                  120716.27\n",
              "  Name: 8, dtype: object),\n",
              " (9,\n",
              "  Nombre                                                    Carens\n",
              "  Motor                                      Motor 5.0 V8 Bi-Turbo\n",
              "  Año                                                         2011\n",
              "  Kilometraje                                              37978.0\n",
              "  Cero_km                                                    False\n",
              "  Accesorios     ['Aire condicionado', 'Panel digital', 'Centra...\n",
              "  Valor                                                   76566.49\n",
              "  Name: 9, dtype: object),\n",
              " (10,\n",
              "  Nombre                                                 Ford Edge\n",
              "  Motor                                            Motor Diesel V6\n",
              "  Año                                                         2002\n",
              "  Kilometraje                                              12859.0\n",
              "  Cero_km                                                    False\n",
              "  Accesorios     ['Sensor crepuscular', 'Llantas de aleación', ...\n",
              "  Valor                                                   71647.59\n",
              "  Name: 10, dtype: object),\n",
              " (11,\n",
              "  Nombre                                                   Courier\n",
              "  Motor                                            Motor Diesel V8\n",
              "  Año                                                         2007\n",
              "  Kilometraje                                               8052.0\n",
              "  Cero_km                                                    False\n",
              "  Accesorios     ['Central multimedia', '4 X 4', 'Piloto automá...\n",
              "  Valor                                                   73919.53\n",
              "  Name: 11, dtype: object),\n",
              " (12,\n",
              "  Nombre                                                      S-18\n",
              "  Motor                                                   Motor V6\n",
              "  Año                                                         2001\n",
              "  Kilometraje                                              89773.0\n",
              "  Cero_km                                                    False\n",
              "  Accesorios     ['Asientos de cuero', 'Sensor de lluvia', 'Lla...\n",
              "  Valor                                                  112732.99\n",
              "  Name: 12, dtype: object),\n",
              " (13,\n",
              "  Nombre                                                        J5\n",
              "  Motor                                                   Motor V6\n",
              "  Año                                                         2019\n",
              "  Kilometraje                                                  NaN\n",
              "  Cero_km                                                     True\n",
              "  Accesorios     ['Sensor crepuscular', 'Panel digital', 'Llant...\n",
              "  Valor                                                   53183.38\n",
              "  Name: 13, dtype: object),\n",
              " (14,\n",
              "  Nombre                                              F-Type Coupé\n",
              "  Motor                                      Motor 5.0 V8 Bi-Turbo\n",
              "  Año                                                         2009\n",
              "  Kilometraje                                              41457.0\n",
              "  Cero_km                                                    False\n",
              "  Accesorios     ['Piloto automático', 'Sensor crepuscular', 'S...\n",
              "  Valor                                                  127488.42\n",
              "  Name: 14, dtype: object),\n",
              " (15,\n",
              "  Nombre                                                       RAM\n",
              "  Motor                                            Motor Diesel V8\n",
              "  Año                                                         2016\n",
              "  Kilometraje                                             115607.0\n",
              "  Cero_km                                                    False\n",
              "  Accesorios     ['Sensor crepuscular', 'Transmisión automática...\n",
              "  Valor                                                    59910.4\n",
              "  Name: 15, dtype: object),\n",
              " (16,\n",
              "  Nombre                                                   Série 1\n",
              "  Motor                                              Motor 3.0 32v\n",
              "  Año                                                         2012\n",
              "  Kilometraje                                              46449.0\n",
              "  Cero_km                                                    False\n",
              "  Accesorios     ['Techo panorámico', 'Cámara de estacionamient...\n",
              "  Valor                                                   61118.59\n",
              "  Name: 16, dtype: object),\n",
              " (17,\n",
              "  Nombre                                                        A3\n",
              "  Motor                                               Motor 1.0 8v\n",
              "  Año                                                         2019\n",
              "  Kilometraje                                                  NaN\n",
              "  Cero_km                                                     True\n",
              "  Accesorios     ['4 X 4', 'Piloto automático', 'Central multim...\n",
              "  Valor                                                   88552.39\n",
              "  Name: 17, dtype: object),\n",
              " (18,\n",
              "  Nombre                                                      XC90\n",
              "  Motor                                               Motor 1.0 8v\n",
              "  Año                                                         2016\n",
              "  Kilometraje                                              37086.0\n",
              "  Cero_km                                                    False\n",
              "  Accesorios     ['Cerraduras electricas', 'Ventanas eléctricas...\n",
              "  Valor                                                   62696.69\n",
              "  Name: 18, dtype: object),\n",
              " (19,\n",
              "  Nombre                                            RS 3 Sportback\n",
              "  Motor                                              Motor 3.0 32v\n",
              "  Año                                                         2017\n",
              "  Kilometraje                                              15173.0\n",
              "  Cero_km                                                    False\n",
              "  Accesorios     ['4 X 4', 'Piloto automático', 'Central multim...\n",
              "  Valor                                                   101726.3\n",
              "  Name: 19, dtype: object),\n",
              " (20,\n",
              "  Nombre                                              Pajero Sport\n",
              "  Motor                                               Motor 1.0 8v\n",
              "  Año                                                         2002\n",
              "  Kilometraje                                             101193.0\n",
              "  Cero_km                                                    False\n",
              "  Accesorios     ['Sensor de estacionamiento', 'Piloto automáti...\n",
              "  Valor                                                  106147.38\n",
              "  Name: 20, dtype: object),\n",
              " (21,\n",
              "  Nombre                                                 Série 1 M\n",
              "  Motor                                                   Motor V8\n",
              "  Año                                                         2019\n",
              "  Kilometraje                                                  NaN\n",
              "  Cero_km                                                     True\n",
              "  Accesorios     ['Control de estabilidad', 'Central multimedia...\n",
              "  Valor                                                    94564.4\n",
              "  Name: 21, dtype: object),\n",
              " (22,\n",
              "  Nombre                                       Lamborghini Obvious\n",
              "  Motor                                            Motor Diesel V6\n",
              "  Año                                                         1994\n",
              "  Kilometraje                                              98079.0\n",
              "  Cero_km                                                    False\n",
              "  Accesorios     ['Llantas de aleación', 'Transmisión automátic...\n",
              "  Valor                                                  133529.84\n",
              "  Name: 22, dtype: object),\n",
              " (23,\n",
              "  Nombre                                     Effa Hafei Picape Baú\n",
              "  Motor                                               Motor Diesel\n",
              "  Año                                                         1991\n",
              "  Kilometraje                                             102959.0\n",
              "  Cero_km                                                    False\n",
              "  Accesorios     ['Control de estabilidad', 'Panel digital', 'V...\n",
              "  Valor                                                  125684.65\n",
              "  Name: 23, dtype: object),\n",
              " (24,\n",
              "  Nombre                                    Lamborghini Murciélago\n",
              "  Motor                                      Motor 5.0 V8 Bi-Turbo\n",
              "  Año                                                         2019\n",
              "  Kilometraje                                                  NaN\n",
              "  Cero_km                                                     True\n",
              "  Accesorios     ['Frenos ABS', 'Transmisión automática', 'Aire...\n",
              "  Valor                                                  121596.21\n",
              "  Name: 24, dtype: object),\n",
              " (25,\n",
              "  Nombre                                                       Up!\n",
              "  Motor                                            Motor Diesel V6\n",
              "  Año                                                         2019\n",
              "  Kilometraje                                                  NaN\n",
              "  Cero_km                                                     True\n",
              "  Accesorios     ['Sensor de estacionamiento', 'Ventanas eléctr...\n",
              "  Valor                                                    71367.1\n",
              "  Name: 25, dtype: object),\n",
              " (26,\n",
              "  Nombre                                        Fiesta Rocam Sedan\n",
              "  Motor                                            Motor 4.0 Turbo\n",
              "  Año                                                         2016\n",
              "  Kilometraje                                               5795.0\n",
              "  Cero_km                                                    False\n",
              "  Accesorios     ['Aire condicionado', 'Asientos de cuero', 'Tr...\n",
              "  Valor                                                   95347.75\n",
              "  Name: 26, dtype: object),\n",
              " (27,\n",
              "  Nombre                                           Sandero Stepway\n",
              "  Motor                                              Motor 3.0 32v\n",
              "  Año                                                         2019\n",
              "  Kilometraje                                                  NaN\n",
              "  Cero_km                                                     True\n",
              "  Accesorios     ['Frenos ABS', 'Aire condicionado', 'Techo pan...\n",
              "  Valor                                                  105432.84\n",
              "  Name: 27, dtype: object),\n",
              " (28,\n",
              "  Nombre                                                  Cayman S\n",
              "  Motor                                              Motor 3.0 32v\n",
              "  Año                                                         2002\n",
              "  Kilometraje                                              58848.0\n",
              "  Cero_km                                                    False\n",
              "  Accesorios     ['Transmisión automática', 'Sensor de estacion...\n",
              "  Valor                                                   57045.27\n",
              "  Name: 28, dtype: object),\n",
              " (29,\n",
              "  Nombre                                                       V40\n",
              "  Motor                                            Motor 4.0 Turbo\n",
              "  Año                                                         1991\n",
              "  Kilometraje                                              94381.0\n",
              "  Cero_km                                                    False\n",
              "  Accesorios     ['Cámara de estacionamiento', 'Sensor de estac...\n",
              "  Valor                                                   120432.7\n",
              "  Name: 29, dtype: object),\n",
              " (30,\n",
              "  Nombre                                            Classe SLS AMG\n",
              "  Motor                                               Motor 1.0 8v\n",
              "  Año                                                         1997\n",
              "  Kilometraje                                              30163.0\n",
              "  Cero_km                                                    False\n",
              "  Accesorios     ['Sensor de estacionamiento', 'Control de esta...\n",
              "  Valor                                                    70707.2\n",
              "  Name: 30, dtype: object),\n",
              " (31,\n",
              "  Nombre                                                    Gol G4\n",
              "  Motor                                              Motor 2.0 16v\n",
              "  Año                                                         1995\n",
              "  Kilometraje                                              53332.0\n",
              "  Cero_km                                                    False\n",
              "  Accesorios     ['Sensor crepuscular', '4 X 4', 'Ventanas eléc...\n",
              "  Valor                                                   69105.18\n",
              "  Name: 31, dtype: object),\n",
              " (32,\n",
              "  Nombre                                                     Linea\n",
              "  Motor                                               Motor 1.0 8v\n",
              "  Año                                                         2018\n",
              "  Kilometraje                                              17720.0\n",
              "  Cero_km                                                    False\n",
              "  Accesorios     ['Piloto automático', 'Panel digital', 'Ventan...\n",
              "  Valor                                                   59358.69\n",
              "  Name: 32, dtype: object),\n",
              " (33,\n",
              "  Nombre                                                 Ford F100\n",
              "  Motor                                              Motor 2.0 16v\n",
              "  Año                                                         1991\n",
              "  Kilometraje                                              33808.0\n",
              "  Cero_km                                                    False\n",
              "  Accesorios     ['Control de tracción', 'Sensor crepuscular', ...\n",
              "  Valor                                                    65955.4\n",
              "  Name: 33, dtype: object),\n",
              " (34,\n",
              "  Nombre                                                        J2\n",
              "  Motor                                                   Motor V8\n",
              "  Año                                                         2014\n",
              "  Kilometraje                                              90684.0\n",
              "  Cero_km                                                    False\n",
              "  Accesorios     ['Techo panorámico', 'Sensor de estacionamient...\n",
              "  Valor                                                   60017.03\n",
              "  Name: 34, dtype: object),\n",
              " (35,\n",
              "  Nombre                                          Aston Martin DBS\n",
              "  Motor                                                   Motor V8\n",
              "  Año                                                         1995\n",
              "  Kilometraje                                              43975.0\n",
              "  Cero_km                                                    False\n",
              "  Accesorios     ['Techo panorámico', 'Piloto automático', 'Air...\n",
              "  Valor                                                  118909.52\n",
              "  Name: 35, dtype: object),\n",
              " (36,\n",
              "  Nombre                                                Pajero TR4\n",
              "  Motor                                            Motor 2.4 Turbo\n",
              "  Año                                                         2019\n",
              "  Kilometraje                                                  NaN\n",
              "  Cero_km                                                     True\n",
              "  Accesorios     ['Control de tracción', 'Asientos de cuero', '...\n",
              "  Valor                                                   51606.59\n",
              "  Name: 36, dtype: object),\n",
              " (37,\n",
              "  Nombre                                                Polo Sedan\n",
              "  Motor                                                   Motor V6\n",
              "  Año                                                         2019\n",
              "  Kilometraje                                                  NaN\n",
              "  Cero_km                                                     True\n",
              "  Accesorios     ['Sensor de lluvia', 'Sensor crepuscular', 'Ai...\n",
              "  Valor                                                  123281.87\n",
              "  Name: 37, dtype: object),\n",
              " (38,\n",
              "  Nombre                                                California\n",
              "  Motor                                               Motor 1.0 8v\n",
              "  Año                                                         2009\n",
              "  Kilometraje                                               5526.0\n",
              "  Cero_km                                                    False\n",
              "  Accesorios     ['Llantas de aleación', 'Aire condicionado', '...\n",
              "  Valor                                                   69770.18\n",
              "  Name: 38, dtype: object),\n",
              " (39,\n",
              "  Nombre                                                       S60\n",
              "  Motor                                            Motor 2.4 Turbo\n",
              "  Año                                                         2019\n",
              "  Kilometraje                                                  NaN\n",
              "  Cero_km                                                     True\n",
              "  Accesorios     ['Techo panorámico', 'Frenos ABS', '4 X 4', 'A...\n",
              "  Valor                                                  102609.54\n",
              "  Name: 39, dtype: object),\n",
              " (40,\n",
              "  Nombre                                                    Tucson\n",
              "  Motor                                              Motor 2.0 16v\n",
              "  Año                                                         2013\n",
              "  Kilometraje                                              93415.0\n",
              "  Cero_km                                                    False\n",
              "  Accesorios     ['Ventanas eléctricas', 'Sensor crepuscular', ...\n",
              "  Valor                                                   67997.19\n",
              "  Name: 40, dtype: object),\n",
              " (41,\n",
              "  Nombre                                                      HB20\n",
              "  Motor                                                   Motor V6\n",
              "  Año                                                         2003\n",
              "  Kilometraje                                              40762.0\n",
              "  Cero_km                                                    False\n",
              "  Accesorios     ['Sensor de lluvia', 'Cerraduras electricas', ...\n",
              "  Valor                                                  135235.29\n",
              "  Name: 41, dtype: object),\n",
              " (42,\n",
              "  Nombre                                                    Optima\n",
              "  Motor                                              Motor 1.8 16v\n",
              "  Año                                                         2019\n",
              "  Kilometraje                                                  NaN\n",
              "  Cero_km                                                     True\n",
              "  Accesorios     ['Central multimedia', 'Aire condicionado', 'T...\n",
              "  Valor                                                   86641.34\n",
              "  Name: 42, dtype: object),\n",
              " (43,\n",
              "  Nombre                                                     Logan\n",
              "  Motor                                            Motor 4.0 Turbo\n",
              "  Año                                                         2002\n",
              "  Kilometraje                                              86302.0\n",
              "  Cero_km                                                    False\n",
              "  Accesorios     ['Cámara de estacionamiento', 'Ventanas eléctr...\n",
              "  Valor                                                  136818.39\n",
              "  Name: 43, dtype: object),\n",
              " (44,\n",
              "  Nombre                                         Range Rover Vogue\n",
              "  Motor                                               Motor 1.0 8v\n",
              "  Año                                                         2019\n",
              "  Kilometraje                                                  NaN\n",
              "  Cero_km                                                     True\n",
              "  Accesorios     ['4 X 4', 'Ventanas eléctricas', 'Llantas de a...\n",
              "  Valor                                                  117626.73\n",
              "  Name: 44, dtype: object),\n",
              " (45,\n",
              "  Nombre                                                    Sonata\n",
              "  Motor                                      Motor 5.0 V8 Bi-Turbo\n",
              "  Año                                                         2002\n",
              "  Kilometraje                                               9755.0\n",
              "  Cero_km                                                    False\n",
              "  Accesorios     ['Piloto automático', 'Aire condicionado', 'Ve...\n",
              "  Valor                                                    56208.7\n",
              "  Name: 45, dtype: object),\n",
              " (46,\n",
              "  Nombre                                     Ford New Fiesta Sedan\n",
              "  Motor                                              Motor 3.0 32v\n",
              "  Año                                                         2004\n",
              "  Kilometraje                                              69945.0\n",
              "  Cero_km                                                    False\n",
              "  Accesorios     ['Techo panorámico', 'Panel digital', 'Aire co...\n",
              "  Valor                                                   84222.65\n",
              "  Name: 46, dtype: object),\n",
              " (47,\n",
              "  Nombre                                      Série 5 Gran Turismo\n",
              "  Motor                                            Motor 4.0 Turbo\n",
              "  Año                                                         2001\n",
              "  Kilometraje                                               2395.0\n",
              "  Cero_km                                                    False\n",
              "  Accesorios     ['Control de tracción', 'Piloto automático', '...\n",
              "  Valor                                                   90781.65\n",
              "  Name: 47, dtype: object),\n",
              " (48,\n",
              "  Nombre                                                      CR-V\n",
              "  Motor                                            Motor Diesel V8\n",
              "  Año                                                         2019\n",
              "  Kilometraje                                                  NaN\n",
              "  Cero_km                                                     True\n",
              "  Accesorios     ['Transmisión automática', 'Central multimedia...\n",
              "  Valor                                                    64701.1\n",
              "  Name: 48, dtype: object),\n",
              " (49,\n",
              "  Nombre                                             Ford EcoSport\n",
              "  Motor                                               Motor 1.0 8v\n",
              "  Año                                                         2003\n",
              "  Kilometraje                                              80349.0\n",
              "  Cero_km                                                    False\n",
              "  Accesorios     ['Ventanas eléctricas', 'Piloto automático', '...\n",
              "  Valor                                                  126350.49\n",
              "  Name: 49, dtype: object),\n",
              " (50,\n",
              "  Nombre                                                     Versa\n",
              "  Motor                                              Motor 3.0 32v\n",
              "  Año                                                         2009\n",
              "  Kilometraje                                              85554.0\n",
              "  Cero_km                                                    False\n",
              "  Accesorios     ['Asientos de cuero', 'Aire condicionado', 'Ll...\n",
              "  Valor                                                  148152.89\n",
              "  Name: 50, dtype: object),\n",
              " (51,\n",
              "  Nombre                                                  Classe E\n",
              "  Motor                                               Motor 1.0 8v\n",
              "  Año                                                         2006\n",
              "  Kilometraje                                              50496.0\n",
              "  Cero_km                                                    False\n",
              "  Accesorios     ['Frenos ABS', 'Sensor de estacionamiento', 'C...\n",
              "  Valor                                                  132298.83\n",
              "  Name: 51, dtype: object),\n",
              " (52,\n",
              "  Nombre                                                  Carnival\n",
              "  Motor                                                   Motor V8\n",
              "  Año                                                         2000\n",
              "  Kilometraje                                              67716.0\n",
              "  Cero_km                                                    False\n",
              "  Accesorios     ['Cerraduras electricas', 'Transmisión automát...\n",
              "  Valor                                                  137627.63\n",
              "  Name: 52, dtype: object),\n",
              " (53,\n",
              "  Nombre                          Aston Martin V8 Vantage Roadster\n",
              "  Motor                                            Motor 2.4 Turbo\n",
              "  Año                                                         2006\n",
              "  Kilometraje                                              93947.0\n",
              "  Cero_km                                                    False\n",
              "  Accesorios     ['Transmisión automática', 'Cámara de estacion...\n",
              "  Valor                                                   80422.71\n",
              "  Name: 53, dtype: object),\n",
              " (54,\n",
              "  Nombre                                                    Hoggar\n",
              "  Motor                                      Motor 5.0 V8 Bi-Turbo\n",
              "  Año                                                         2010\n",
              "  Kilometraje                                              35345.0\n",
              "  Cero_km                                                    False\n",
              "  Accesorios     ['Control de estabilidad', 'Asientos de cuero'...\n",
              "  Valor                                                   56373.99\n",
              "  Name: 54, dtype: object),\n",
              " (55,\n",
              "  Nombre                                                        A1\n",
              "  Motor                                      Motor 5.0 V8 Bi-Turbo\n",
              "  Año                                                         1994\n",
              "  Kilometraje                                              81007.0\n",
              "  Cero_km                                                    False\n",
              "  Accesorios     ['Panel digital', 'Transmisión automática', 'C...\n",
              "  Valor                                                   70846.03\n",
              "  Name: 55, dtype: object),\n",
              " (56,\n",
              "  Nombre                                  Aston Martin DB7 Vantage\n",
              "  Motor                                                   Motor V6\n",
              "  Año                                                         2007\n",
              "  Kilometraje                                             119513.0\n",
              "  Cero_km                                                    False\n",
              "  Accesorios     ['Sensor crepuscular', 'Piloto automático', 'T...\n",
              "  Valor                                                  128694.23\n",
              "  Name: 56, dtype: object),\n",
              " (57,\n",
              "  Nombre                                                       CLA\n",
              "  Motor                                               Motor 1.0 8v\n",
              "  Año                                                         2019\n",
              "  Kilometraje                                                  NaN\n",
              "  Cero_km                                                     True\n",
              "  Accesorios     ['Central multimedia', 'Sensor de lluvia', 'Co...\n",
              "  Valor                                                  133329.19\n",
              "  Name: 57, dtype: object),\n",
              " (58,\n",
              "  Nombre                                                    Accord\n",
              "  Motor                                                   Motor V8\n",
              "  Año                                                         2019\n",
              "  Kilometraje                                                  NaN\n",
              "  Cero_km                                                     True\n",
              "  Accesorios     ['Sensor de estacionamiento', 'Aire condiciona...\n",
              "  Valor                                                  131961.43\n",
              "  Name: 58, dtype: object),\n",
              " (59,\n",
              "  Nombre                                               EXTRA 103EX\n",
              "  Motor                                              Motor 2.0 16v\n",
              "  Año                                                         2019\n",
              "  Kilometraje                                                  NaN\n",
              "  Cero_km                                                     True\n",
              "  Accesorios     ['Sensor de estacionamiento', 'Central multime...\n",
              "  Valor                                                  112033.27\n",
              "  Name: 59, dtype: object),\n",
              " (60,\n",
              "  Nombre                                                   Sorento\n",
              "  Motor                                               Motor Diesel\n",
              "  Año                                                         2019\n",
              "  Kilometraje                                                  NaN\n",
              "  Cero_km                                                     True\n",
              "  Accesorios     ['Sensor de lluvia', 'Cámara de estacionamient...\n",
              "  Valor                                                   81399.35\n",
              "  Name: 60, dtype: object),\n",
              " (61,\n",
              "  Nombre                                                     Tiggo\n",
              "  Motor                                              Motor 3.0 32v\n",
              "  Año                                                         2019\n",
              "  Kilometraje                                                  NaN\n",
              "  Cero_km                                                     True\n",
              "  Accesorios     ['Cámara de estacionamiento', 'Frenos ABS', 'P...\n",
              "  Valor                                                    97163.1\n",
              "  Name: 61, dtype: object),\n",
              " (62,\n",
              "  Nombre                                          New Fiesta Hatch\n",
              "  Motor                                               Motor Diesel\n",
              "  Año                                                         2017\n",
              "  Kilometraje                                             118895.0\n",
              "  Cero_km                                                    False\n",
              "  Accesorios     ['Sensor de estacionamiento', 'Cerraduras elec...\n",
              "  Valor                                                   66007.16\n",
              "  Name: 62, dtype: object),\n",
              " (63,\n",
              "  Nombre                                             Jeep Renegade\n",
              "  Motor                                      Motor 5.0 V8 Bi-Turbo\n",
              "  Año                                                         2011\n",
              "  Kilometraje                                              48509.0\n",
              "  Cero_km                                                    False\n",
              "  Accesorios     ['Ventanas eléctricas', 'Techo panorámico', 'A...\n",
              "  Valor                                                  128776.22\n",
              "  Name: 63, dtype: object),\n",
              " (64,\n",
              "  Nombre                                      Lamborghini Ankonian\n",
              "  Motor                                              Motor 2.0 16v\n",
              "  Año                                                         2001\n",
              "  Kilometraje                                             100912.0\n",
              "  Cero_km                                                    False\n",
              "  Accesorios     ['Asientos de cuero', 'Cámara de estacionamien...\n",
              "  Valor                                                  142623.02\n",
              "  Name: 64, dtype: object),\n",
              " (65,\n",
              "  Nombre                                               Space Cross\n",
              "  Motor                                      Motor 5.0 V8 Bi-Turbo\n",
              "  Año                                                         1996\n",
              "  Kilometraje                                              95649.0\n",
              "  Cero_km                                                    False\n",
              "  Accesorios     ['Techo panorámico', 'Ventanas eléctricas', 'S...\n",
              "  Valor                                                  136930.13\n",
              "  Name: 65, dtype: object),\n",
              " (66,\n",
              "  Nombre                                                   Touareg\n",
              "  Motor                                                   Motor V8\n",
              "  Año                                                         2019\n",
              "  Kilometraje                                                  NaN\n",
              "  Cero_km                                                     True\n",
              "  Accesorios     ['Control de estabilidad', 'Piloto automático'...\n",
              "  Valor                                                   66526.61\n",
              "  Name: 66, dtype: object),\n",
              " (67,\n",
              "  Nombre                                                  Classe M\n",
              "  Motor                                               Motor 1.0 8v\n",
              "  Año                                                         1994\n",
              "  Kilometraje                                              90495.0\n",
              "  Cero_km                                                    False\n",
              "  Accesorios     ['Central multimedia', 'Asientos de cuero', 'L...\n",
              "  Valor                                                  114154.87\n",
              "  Name: 67, dtype: object),\n",
              " (68,\n",
              "  Nombre                                        Lancer Evolution X\n",
              "  Motor                                            Motor Diesel V6\n",
              "  Año                                                         2019\n",
              "  Kilometraje                                                  NaN\n",
              "  Cero_km                                                     True\n",
              "  Accesorios     ['Ventanas eléctricas', 'Transmisión automátic...\n",
              "  Valor                                                  142392.75\n",
              "  Name: 68, dtype: object),\n",
              " (69,\n",
              "  Nombre                                            Kangoo Express\n",
              "  Motor                                               Motor Diesel\n",
              "  Año                                                         2007\n",
              "  Kilometraje                                              29132.0\n",
              "  Cero_km                                                    False\n",
              "  Accesorios     ['Asientos de cuero', 'Transmisión automática'...\n",
              "  Valor                                                  146716.91\n",
              "  Name: 69, dtype: object),\n",
              " (70,\n",
              "  Nombre                                                       SW4\n",
              "  Motor                                            Motor Diesel V6\n",
              "  Año                                                         1994\n",
              "  Kilometraje                                              23802.0\n",
              "  Cero_km                                                    False\n",
              "  Accesorios     ['Sensor de lluvia', 'Asientos de cuero', 'Con...\n",
              "  Valor                                                  122485.68\n",
              "  Name: 70, dtype: object),\n",
              " (71,\n",
              "  Nombre                                              Cadillac ELR\n",
              "  Motor                                               Motor 1.0 8v\n",
              "  Año                                                         2007\n",
              "  Kilometraje                                              84992.0\n",
              "  Cero_km                                                    False\n",
              "  Accesorios     ['Sensor crepuscular', 'Cerraduras electricas'...\n",
              "  Valor                                                   97951.03\n",
              "  Name: 71, dtype: object),\n",
              " (72,\n",
              "  Nombre                                                     Doblò\n",
              "  Motor                                              Motor 1.8 16v\n",
              "  Año                                                         1997\n",
              "  Kilometraje                                              54395.0\n",
              "  Cero_km                                                    False\n",
              "  Accesorios     ['Cámara de estacionamiento', 'Techo panorámic...\n",
              "  Valor                                                   78283.49\n",
              "  Name: 72, dtype: object),\n",
              " (73,\n",
              "  Nombre                                       Lamborghini Egoista\n",
              "  Motor                                              Motor 3.0 32v\n",
              "  Año                                                         2006\n",
              "  Kilometraje                                              26731.0\n",
              "  Cero_km                                                    False\n",
              "  Accesorios     ['Llantas de aleación', 'Control de tracción',...\n",
              "  Valor                                                   83434.04\n",
              "  Name: 73, dtype: object),\n",
              " (74,\n",
              "  Nombre                                                       Fit\n",
              "  Motor                                               Motor Diesel\n",
              "  Año                                                         2013\n",
              "  Kilometraje                                              44329.0\n",
              "  Cero_km                                                    False\n",
              "  Accesorios     ['Frenos ABS', 'Cámara de estacionamiento', 'T...\n",
              "  Valor                                                   77836.23\n",
              "  Name: 74, dtype: object),\n",
              " (75,\n",
              "  Nombre                                                        C5\n",
              "  Motor                                              Motor 2.0 16v\n",
              "  Año                                                         1994\n",
              "  Kilometraje                                             118236.0\n",
              "  Cero_km                                                    False\n",
              "  Accesorios     ['Panel digital', 'Techo panorámico', 'Piloto ...\n",
              "  Valor                                                   60813.92\n",
              "  Name: 75, dtype: object),\n",
              " (76,\n",
              "  Nombre                                               Celer Hatch\n",
              "  Motor                                                   Motor V8\n",
              "  Año                                                         2008\n",
              "  Kilometraje                                             113808.0\n",
              "  Cero_km                                                    False\n",
              "  Accesorios     ['Control de estabilidad', 'Transmisión automá...\n",
              "  Valor                                                   91353.86\n",
              "  Name: 76, dtype: object),\n",
              " (77,\n",
              "  Nombre                                                     HB20S\n",
              "  Motor                                                   Motor V8\n",
              "  Año                                                         2008\n",
              "  Kilometraje                                                610.0\n",
              "  Cero_km                                                    False\n",
              "  Accesorios     ['Techo panorámico', 'Llantas de aleación', 'C...\n",
              "  Valor                                                  116281.21\n",
              "  Name: 77, dtype: object),\n",
              " (78,\n",
              "  Nombre                                               Cielo Hatch\n",
              "  Motor                                               Motor Diesel\n",
              "  Año                                                         2019\n",
              "  Kilometraje                                                  NaN\n",
              "  Cero_km                                                     True\n",
              "  Accesorios     ['Panel digital', 'Central multimedia', 'Cámar...\n",
              "  Valor                                                   145197.7\n",
              "  Name: 78, dtype: object),\n",
              " (79,\n",
              "  Nombre                                                    Livina\n",
              "  Motor                                              Motor 2.0 16v\n",
              "  Año                                                         2019\n",
              "  Kilometraje                                                  NaN\n",
              "  Cero_km                                                     True\n",
              "  Accesorios     ['Sensor crepuscular', 'Cámara de estacionamie...\n",
              "  Valor                                                    50742.1\n",
              "  Name: 79, dtype: object),\n",
              " (80,\n",
              "  Nombre                                                    Ducato\n",
              "  Motor                                      Motor 5.0 V8 Bi-Turbo\n",
              "  Año                                                         1999\n",
              "  Kilometraje                                              12887.0\n",
              "  Cero_km                                                    False\n",
              "  Accesorios     ['Sensor de lluvia', 'Panel digital', 'Sensor ...\n",
              "  Valor                                                   73033.53\n",
              "  Name: 80, dtype: object),\n",
              " (81,\n",
              "  Nombre                                                     March\n",
              "  Motor                                                   Motor V6\n",
              "  Año                                                         2007\n",
              "  Kilometraje                                              79607.0\n",
              "  Cero_km                                                    False\n",
              "  Accesorios     ['Asientos de cuero', 'Piloto automático', 'Se...\n",
              "  Valor                                                   54332.87\n",
              "  Name: 81, dtype: object),\n",
              " (82,\n",
              "  Nombre                                        Cadillac XTS sedan\n",
              "  Motor                                            Motor Diesel V6\n",
              "  Año                                                         1993\n",
              "  Kilometraje                                              90924.0\n",
              "  Cero_km                                                    False\n",
              "  Accesorios     ['Aire condicionado', 'Transmisión automática'...\n",
              "  Valor                                                   52207.45\n",
              "  Name: 82, dtype: object),\n",
              " (83,\n",
              "  Nombre                                    Lamborghini Centenario\n",
              "  Motor                                                   Motor V6\n",
              "  Año                                                         1995\n",
              "  Kilometraje                                              42733.0\n",
              "  Cero_km                                                    False\n",
              "  Accesorios     ['Central multimedia', 'Ventanas eléctricas', ...\n",
              "  Valor                                                    63578.5\n",
              "  Name: 83, dtype: object),\n",
              " (84,\n",
              "  Nombre                                                     Hilux\n",
              "  Motor                                      Motor 5.0 V8 Bi-Turbo\n",
              "  Año                                                         2019\n",
              "  Kilometraje                                                  NaN\n",
              "  Cero_km                                                     True\n",
              "  Accesorios     ['4 X 4', 'Piloto automático', 'Techo panorámi...\n",
              "  Valor                                                   64507.72\n",
              "  Name: 84, dtype: object),\n",
              " (85,\n",
              "  Nombre                                               Grand Siena\n",
              "  Motor                                            Motor Diesel V8\n",
              "  Año                                                         2019\n",
              "  Kilometraje                                                  NaN\n",
              "  Cero_km                                                     True\n",
              "  Accesorios     ['Asientos de cuero', 'Panel digital', 'Sensor...\n",
              "  Valor                                                  115075.59\n",
              "  Name: 85, dtype: object),\n",
              " (86,\n",
              "  Nombre                                                    Symbol\n",
              "  Motor                                               Motor Diesel\n",
              "  Año                                                         2016\n",
              "  Kilometraje                                             117714.0\n",
              "  Cero_km                                                    False\n",
              "  Accesorios     ['4 X 4', 'Piloto automático', 'Sensor crepusc...\n",
              "  Valor                                                   133030.6\n",
              "  Name: 86, dtype: object),\n",
              " (87,\n",
              "  Nombre                                Aston Martin V12 GT Zagato\n",
              "  Motor                                            Motor 4.0 Turbo\n",
              "  Año                                                         2011\n",
              "  Kilometraje                                             113885.0\n",
              "  Cero_km                                                    False\n",
              "  Accesorios     ['Central multimedia', 'Piloto automático', 'S...\n",
              "  Valor                                                  141591.86\n",
              "  Name: 87, dtype: object),\n",
              " (88,\n",
              "  Nombre                                                    Fusion\n",
              "  Motor                                              Motor 1.8 16v\n",
              "  Año                                                         2019\n",
              "  Kilometraje                                                  NaN\n",
              "  Cero_km                                                     True\n",
              "  Accesorios     ['Control de tracción', 'Transmisión automátic...\n",
              "  Valor                                                  100380.28\n",
              "  Name: 88, dtype: object),\n",
              " (89,\n",
              "  Nombre                                                  A4 Sedan\n",
              "  Motor                                               Motor Diesel\n",
              "  Año                                                         2002\n",
              "  Kilometraje                                              30511.0\n",
              "  Cero_km                                                    False\n",
              "  Accesorios     ['Cámara de estacionamiento', '4 X 4', 'Cerrad...\n",
              "  Valor                                                   96369.04\n",
              "  Name: 89, dtype: object),\n",
              " (90,\n",
              "  Nombre                                             Xsara Picasso\n",
              "  Motor                                              Motor 2.0 16v\n",
              "  Año                                                         2013\n",
              "  Kilometraje                                              74867.0\n",
              "  Cero_km                                                    False\n",
              "  Accesorios     ['Sensor de lluvia', 'Techo panorámico', 'Cent...\n",
              "  Valor                                                  142603.84\n",
              "  Name: 90, dtype: object),\n",
              " (91,\n",
              "  Nombre                                                    207 SW\n",
              "  Motor                                              Motor 3.0 32v\n",
              "  Año                                                         2017\n",
              "  Kilometraje                                             119760.0\n",
              "  Cero_km                                                    False\n",
              "  Accesorios     ['Control de estabilidad', 'Cerraduras electri...\n",
              "  Valor                                                  117709.67\n",
              "  Name: 91, dtype: object),\n",
              " (92,\n",
              "  Nombre                                                      Star\n",
              "  Motor                                                   Motor V6\n",
              "  Año                                                         2016\n",
              "  Kilometraje                                               8356.0\n",
              "  Cero_km                                                    False\n",
              "  Accesorios     ['Cámara de estacionamiento', '4 X 4', 'Centra...\n",
              "  Valor                                                  102241.54\n",
              "  Name: 92, dtype: object),\n",
              " (93,\n",
              "  Nombre                                               Doblò Cargo\n",
              "  Motor                                              Motor 3.0 32v\n",
              "  Año                                                         2008\n",
              "  Kilometraje                                              64247.0\n",
              "  Cero_km                                                    False\n",
              "  Accesorios     ['Frenos ABS', 'Techo panorámico', 'Ventanas e...\n",
              "  Valor                                                   96065.38\n",
              "  Name: 93, dtype: object),\n",
              " (94,\n",
              "  Nombre                                              Cadillac CTS\n",
              "  Motor                                              Motor 1.8 16v\n",
              "  Año                                                         2018\n",
              "  Kilometraje                                              88661.0\n",
              "  Cero_km                                                    False\n",
              "  Accesorios     ['Cerraduras electricas', 'Sensor de lluvia', ...\n",
              "  Valor                                                   53894.61\n",
              "  Name: 94, dtype: object),\n",
              " (95,\n",
              "  Nombre                                                   Cayenne\n",
              "  Motor                                               Motor 1.0 8v\n",
              "  Año                                                         2003\n",
              "  Kilometraje                                               4539.0\n",
              "  Cero_km                                                    False\n",
              "  Accesorios     ['Control de tracción', 'Piloto automático', '...\n",
              "  Valor                                                  123911.78\n",
              "  Name: 95, dtype: object),\n",
              " (96,\n",
              "  Nombre                                                       Fox\n",
              "  Motor                                            Motor 4.0 Turbo\n",
              "  Año                                                         2003\n",
              "  Kilometraje                                             110116.0\n",
              "  Cero_km                                                    False\n",
              "  Accesorios     ['Piloto automático', 'Transmisión automática'...\n",
              "  Valor                                                  101996.35\n",
              "  Name: 96, dtype: object),\n",
              " (97,\n",
              "  Nombre                                               Tiida Hatch\n",
              "  Motor                                            Motor Diesel V6\n",
              "  Año                                                         2004\n",
              "  Kilometraje                                              33215.0\n",
              "  Cero_km                                                    False\n",
              "  Accesorios     ['Techo panorámico', 'Cerraduras electricas', ...\n",
              "  Valor                                                   83431.66\n",
              "  Name: 97, dtype: object),\n",
              " (98,\n",
              "  Nombre                                             Dodge Charger\n",
              "  Motor                                            Motor 2.4 Turbo\n",
              "  Año                                                         2010\n",
              "  Kilometraje                                              92001.0\n",
              "  Cero_km                                                    False\n",
              "  Accesorios     ['Ventanas eléctricas', 'Sensor crepuscular', ...\n",
              "  Valor                                                  122975.63\n",
              "  Name: 98, dtype: object),\n",
              " (99,\n",
              "  Nombre                                                      Face\n",
              "  Motor                                                   Motor V8\n",
              "  Año                                                         2019\n",
              "  Kilometraje                                                  NaN\n",
              "  Cero_km                                                     True\n",
              "  Accesorios     ['Control de estabilidad', 'Ventanas eléctrica...\n",
              "  Valor                                                   93227.73\n",
              "  Name: 99, dtype: object),\n",
              " (100,\n",
              "  Nombre                                                     Prius\n",
              "  Motor                                              Motor 3.0 32v\n",
              "  Año                                                         2006\n",
              "  Kilometraje                                              81708.0\n",
              "  Cero_km                                                    False\n",
              "  Accesorios     ['Llantas de aleación', 'Asientos de cuero', '...\n",
              "  Valor                                                   58762.65\n",
              "  Name: 100, dtype: object),\n",
              " (101,\n",
              "  Nombre                                                      Idea\n",
              "  Motor                                                   Motor V6\n",
              "  Año                                                         2001\n",
              "  Kilometraje                                              70641.0\n",
              "  Cero_km                                                    False\n",
              "  Accesorios     ['Central multimedia', 'Piloto automático', 'C...\n",
              "  Valor                                                  139549.67\n",
              "  Name: 101, dtype: object),\n",
              " (102,\n",
              "  Nombre                                                        A8\n",
              "  Motor                                              Motor 2.0 16v\n",
              "  Año                                                         2019\n",
              "  Kilometraje                                                  NaN\n",
              "  Cero_km                                                     True\n",
              "  Accesorios     ['Panel digital', 'Techo panorámico', 'Piloto ...\n",
              "  Valor                                                  122016.42\n",
              "  Name: 102, dtype: object),\n",
              " (103,\n",
              "  Nombre                                            Série 1 Cabrio\n",
              "  Motor                                              Motor 3.0 32v\n",
              "  Año                                                         2015\n",
              "  Kilometraje                                              91277.0\n",
              "  Cero_km                                                    False\n",
              "  Accesorios     ['Ventanas eléctricas', 'Cerraduras electricas...\n",
              "  Valor                                                   72731.98\n",
              "  Name: 103, dtype: object),\n",
              " (104,\n",
              "  Nombre                                                      Edge\n",
              "  Motor                                                   Motor V6\n",
              "  Año                                                         2018\n",
              "  Kilometraje                                              26544.0\n",
              "  Cero_km                                                    False\n",
              "  Accesorios     ['Frenos ABS', 'Control de tracción', 'Sensor ...\n",
              "  Valor                                                   88416.54\n",
              "  Name: 104, dtype: object),\n",
              " (105,\n",
              "  Nombre                                        Cadillac ATS sedan\n",
              "  Motor                                              Motor 1.8 16v\n",
              "  Año                                                         2017\n",
              "  Kilometraje                                              52596.0\n",
              "  Cero_km                                                    False\n",
              "  Accesorios     ['Panel digital', 'Ventanas eléctricas', 'Tech...\n",
              "  Valor                                                   73873.42\n",
              "  Name: 105, dtype: object),\n",
              " (106,\n",
              "  Nombre                            Lamborghini Asterion LPI 910-4\n",
              "  Motor                                      Motor 5.0 V8 Bi-Turbo\n",
              "  Año                                                         1992\n",
              "  Kilometraje                                              47503.0\n",
              "  Cero_km                                                    False\n",
              "  Accesorios     ['Aire condicionado', 'Panel digital', 'Contro...\n",
              "  Valor                                                   70709.34\n",
              "  Name: 106, dtype: object),\n",
              " (107,\n",
              "  Nombre                                                  Frontier\n",
              "  Motor                                                   Motor V8\n",
              "  Año                                                         2001\n",
              "  Kilometraje                                              89056.0\n",
              "  Cero_km                                                    False\n",
              "  Accesorios     ['Transmisión automática', 'Llantas de aleació...\n",
              "  Valor                                                   115306.5\n",
              "  Name: 107, dtype: object),\n",
              " (108,\n",
              "  Nombre                                              Série 3 Sedã\n",
              "  Motor                                              Motor 3.0 32v\n",
              "  Año                                                         1993\n",
              "  Kilometraje                                              28834.0\n",
              "  Cero_km                                                    False\n",
              "  Accesorios     ['Control de tracción', 'Control de estabilida...\n",
              "  Valor                                                   55924.63\n",
              "  Name: 108, dtype: object),\n",
              " (109,\n",
              "  Nombre                                         Lamborghini LM002\n",
              "  Motor                                              Motor 1.8 16v\n",
              "  Año                                                         1995\n",
              "  Kilometraje                                             110564.0\n",
              "  Cero_km                                                    False\n",
              "  Accesorios     ['Asientos de cuero', 'Frenos ABS', 'Central m...\n",
              "  Valor                                                   85052.26\n",
              "  Name: 109, dtype: object),\n",
              " (110,\n",
              "  Nombre                                              Cadillac XLR\n",
              "  Motor                                            Motor Diesel V8\n",
              "  Año                                                         2003\n",
              "  Kilometraje                                              56638.0\n",
              "  Cero_km                                                    False\n",
              "  Accesorios     ['Sensor crepuscular', 'Techo panorámico', 'Se...\n",
              "  Valor                                                   56646.34\n",
              "  Name: 110, dtype: object),\n",
              " (111,\n",
              "  Nombre                                                  A4 Avant\n",
              "  Motor                                               Motor Diesel\n",
              "  Año                                                         2014\n",
              "  Kilometraje                                              17357.0\n",
              "  Cero_km                                                    False\n",
              "  Accesorios     ['Techo panorámico', '4 X 4', 'Asientos de cue...\n",
              "  Valor                                                  138946.88\n",
              "  Name: 111, dtype: object),\n",
              " (112,\n",
              "  Nombre                                                  EcoSport\n",
              "  Motor                                            Motor 4.0 Turbo\n",
              "  Año                                                         2008\n",
              "  Kilometraje                                              74015.0\n",
              "  Cero_km                                                    False\n",
              "  Accesorios     ['Piloto automático', 'Sensor de estacionamien...\n",
              "  Valor                                                  108256.72\n",
              "  Name: 112, dtype: object),\n",
              " (113,\n",
              "  Nombre                                                        J3\n",
              "  Motor                                              Motor 1.8 16v\n",
              "  Año                                                         2013\n",
              "  Kilometraje                                              15196.0\n",
              "  Cero_km                                                    False\n",
              "  Accesorios     ['Control de estabilidad', '4 X 4', 'Cámara de...\n",
              "  Valor                                                    58979.3\n",
              "  Name: 113, dtype: object),\n",
              " (114,\n",
              "  Nombre                                                        Q3\n",
              "  Motor                                              Motor 3.0 32v\n",
              "  Año                                                         2019\n",
              "  Kilometraje                                                  NaN\n",
              "  Cero_km                                                     True\n",
              "  Accesorios     ['Control de estabilidad', 'Asientos de cuero'...\n",
              "  Valor                                                  114727.68\n",
              "  Name: 114, dtype: object),\n",
              " (115,\n",
              "  Nombre                                   Aston Martin V8 Vantage\n",
              "  Motor                                                   Motor V8\n",
              "  Año                                                         2017\n",
              "  Kilometraje                                              10821.0\n",
              "  Cero_km                                                    False\n",
              "  Accesorios     ['Techo panorámico', 'Control de tracción', 'P...\n",
              "  Valor                                                  139661.48\n",
              "  Name: 115, dtype: object),\n",
              " (116,\n",
              "  Nombre                                               Z4 Roadster\n",
              "  Motor                                              Motor 3.0 32v\n",
              "  Año                                                         2019\n",
              "  Kilometraje                                                  NaN\n",
              "  Cero_km                                                     True\n",
              "  Accesorios     ['Central multimedia', 'Transmisión automática...\n",
              "  Valor                                                   80382.24\n",
              "  Name: 116, dtype: object),\n",
              " (117,\n",
              "  Nombre                                     Lamborghini Ferruccio\n",
              "  Motor                                              Motor 3.0 32v\n",
              "  Año                                                         2019\n",
              "  Kilometraje                                                  NaN\n",
              "  Cero_km                                                     True\n",
              "  Accesorios     ['Ventanas eléctricas', 'Piloto automático', '...\n",
              "  Valor                                                  149157.17\n",
              "  Name: 117, dtype: object),\n",
              " (118,\n",
              "  Nombre                                                  Ford Ka+\n",
              "  Motor                                              Motor 1.8 16v\n",
              "  Año                                                         2006\n",
              "  Kilometraje                                               9595.0\n",
              "  Cero_km                                                    False\n",
              "  Accesorios     ['Sensor crepuscular', 'Piloto automático', 'C...\n",
              "  Valor                                                   87830.41\n",
              "  Name: 118, dtype: object),\n",
              " (119,\n",
              "  Nombre                                             Silver Shadow\n",
              "  Motor                                               Motor Diesel\n",
              "  Año                                                         2015\n",
              "  Kilometraje                                              99052.0\n",
              "  Cero_km                                                    False\n",
              "  Accesorios     ['4 X 4', 'Central multimedia', 'Aire condicio...\n",
              "  Valor                                                  143568.22\n",
              "  Name: 119, dtype: object),\n",
              " (120,\n",
              "  Nombre                                   Classe C 63 AMG Touring\n",
              "  Motor                                            Motor Diesel V8\n",
              "  Año                                                         2007\n",
              "  Kilometraje                                              52389.0\n",
              "  Cero_km                                                    False\n",
              "  Accesorios     ['Central multimedia', 'Piloto automático', 'F...\n",
              "  Valor                                                  138171.85\n",
              "  Name: 120, dtype: object),\n",
              " (121,\n",
              "  Nombre                                               Discovery 4\n",
              "  Motor                                            Motor 4.0 Turbo\n",
              "  Año                                                         2005\n",
              "  Kilometraje                                             119945.0\n",
              "  Cero_km                                                    False\n",
              "  Accesorios     ['Frenos ABS', 'Llantas de aleación', 'Sensor ...\n",
              "  Valor                                                  115784.95\n",
              "  Name: 121, dtype: object),\n",
              " (122,\n",
              "  Nombre                                                  Veloster\n",
              "  Motor                                            Motor Diesel V8\n",
              "  Año                                                         2017\n",
              "  Kilometraje                                              96005.0\n",
              "  Cero_km                                                    False\n",
              "  Accesorios     ['Aire condicionado', 'Central multimedia', 'A...\n",
              "  Valor                                                  146508.99\n",
              "  Name: 122, dtype: object),\n",
              " (123,\n",
              "  Nombre                                                  Classe C\n",
              "  Motor                                            Motor Diesel V6\n",
              "  Año                                                         1998\n",
              "  Kilometraje                                              31639.0\n",
              "  Cero_km                                                    False\n",
              "  Accesorios     ['Frenos ABS', 'Sensor de lluvia', 'Central mu...\n",
              "  Valor                                                  137670.23\n",
              "  Name: 123, dtype: object),\n",
              " (124,\n",
              "  Nombre                                                     Camry\n",
              "  Motor                                               Motor Diesel\n",
              "  Año                                                         2019\n",
              "  Kilometraje                                                  NaN\n",
              "  Cero_km                                                     True\n",
              "  Accesorios     ['Cerraduras electricas', 'Llantas de aleación...\n",
              "  Valor                                                  138597.27\n",
              "  Name: 124, dtype: object),\n",
              " (125,\n",
              "  Nombre                                                 C5 Tourer\n",
              "  Motor                                            Motor Diesel V6\n",
              "  Año                                                         1999\n",
              "  Kilometraje                                              80187.0\n",
              "  Cero_km                                                    False\n",
              "  Accesorios     ['Llantas de aleación', 'Sensor de lluvia', 'P...\n",
              "  Valor                                                  147627.81\n",
              "  Name: 125, dtype: object),\n",
              " (126,\n",
              "  Nombre                                                     R8 GT\n",
              "  Motor                                            Motor 4.0 Turbo\n",
              "  Año                                                         2019\n",
              "  Kilometraje                                                  NaN\n",
              "  Cero_km                                                     True\n",
              "  Accesorios     ['Llantas de aleación', 'Transmisión automátic...\n",
              "  Valor                                                   62999.02\n",
              "  Name: 126, dtype: object),\n",
              " (127,\n",
              "  Nombre                                                     Bongo\n",
              "  Motor                                            Motor Diesel V8\n",
              "  Año                                                         2009\n",
              "  Kilometraje                                              58212.0\n",
              "  Cero_km                                                    False\n",
              "  Accesorios     ['Ventanas eléctricas', 'Techo panorámico', 'P...\n",
              "  Valor                                                   91242.44\n",
              "  Name: 127, dtype: object),\n",
              " (128,\n",
              "  Nombre                                                       ASX\n",
              "  Motor                                            Motor Diesel V8\n",
              "  Año                                                         2003\n",
              "  Kilometraje                                              61672.0\n",
              "  Cero_km                                                    False\n",
              "  Accesorios     ['Aire condicionado', 'Sensor crepuscular', 'L...\n",
              "  Valor                                                  149489.92\n",
              "  Name: 128, dtype: object),\n",
              " (129,\n",
              "  Nombre                                              Cadillac SRX\n",
              "  Motor                                      Motor 5.0 V8 Bi-Turbo\n",
              "  Año                                                         1994\n",
              "  Kilometraje                                              32017.0\n",
              "  Cero_km                                                    False\n",
              "  Accesorios     ['Panel digital', 'Piloto automático', 'Contro...\n",
              "  Valor                                                   63529.95\n",
              "  Name: 129, dtype: object),\n",
              " (130,\n",
              "  Nombre                                                 Classe CL\n",
              "  Motor                                                   Motor V8\n",
              "  Año                                                         2019\n",
              "  Kilometraje                                                  NaN\n",
              "  Cero_km                                                     True\n",
              "  Accesorios     ['Central multimedia', 'Transmisión automática...\n",
              "  Valor                                                   58525.41\n",
              "  Name: 130, dtype: object),\n",
              " (131,\n",
              "  Nombre                                                500 Abarth\n",
              "  Motor                                                   Motor V6\n",
              "  Año                                                         1994\n",
              "  Kilometraje                                              56944.0\n",
              "  Cero_km                                                    False\n",
              "  Accesorios     ['4 X 4', 'Techo panorámico', 'Control de trac...\n",
              "  Valor                                                   90345.05\n",
              "  Name: 131, dtype: object),\n",
              " (132,\n",
              "  Nombre                                       Aston Martin Cygnet\n",
              "  Motor                                      Motor 5.0 V8 Bi-Turbo\n",
              "  Año                                                         2019\n",
              "  Kilometraje                                                  NaN\n",
              "  Cero_km                                                     True\n",
              "  Accesorios     ['Panel digital', 'Aire condicionado', 'Sensor...\n",
              "  Valor                                                  147770.87\n",
              "  Name: 132, dtype: object),\n",
              " (133,\n",
              "  Nombre                                              Cadillac STS\n",
              "  Motor                                            Motor 4.0 Turbo\n",
              "  Año                                                         2015\n",
              "  Kilometraje                                              86519.0\n",
              "  Cero_km                                                    False\n",
              "  Accesorios     ['Panel digital', 'Asientos de cuero', 'Sensor...\n",
              "  Valor                                                  106617.71\n",
              "  Name: 133, dtype: object),\n",
              " (134,\n",
              "  Nombre                                          Aston Martin DB9\n",
              "  Motor                                              Motor 1.8 16v\n",
              "  Año                                                         1996\n",
              "  Kilometraje                                               4821.0\n",
              "  Cero_km                                                    False\n",
              "  Accesorios     ['Aire condicionado', 'Ventanas eléctricas', '...\n",
              "  Valor                                                  104929.88\n",
              "  Name: 134, dtype: object),\n",
              " (135,\n",
              "  Nombre                                                   NX 200t\n",
              "  Motor                                            Motor 2.4 Turbo\n",
              "  Año                                                         1997\n",
              "  Kilometraje                                             101025.0\n",
              "  Cero_km                                                    False\n",
              "  Accesorios     ['Control de estabilidad', 'Panel digital', 'A...\n",
              "  Valor                                                  100712.45\n",
              "  Name: 135, dtype: object),\n",
              " (136,\n",
              "  Nombre                                       Aston Martin One-77\n",
              "  Motor                                                   Motor V6\n",
              "  Año                                                         1993\n",
              "  Kilometraje                                              30705.0\n",
              "  Cero_km                                                    False\n",
              "  Accesorios     ['Sensor de estacionamiento', 'Llantas de alea...\n",
              "  Valor                                                  141982.93\n",
              "  Name: 136, dtype: object),\n",
              " (137,\n",
              "  Nombre                                        Lamborghini Veneno\n",
              "  Motor                                              Motor 3.0 32v\n",
              "  Año                                                         2019\n",
              "  Kilometraje                                                  NaN\n",
              "  Cero_km                                                     True\n",
              "  Accesorios     ['4 X 4', 'Sensor de estacionamiento', 'Transm...\n",
              "  Valor                                                  104038.79\n",
              "  Name: 137, dtype: object),\n",
              " (138,\n",
              "  Nombre                                                    Sentra\n",
              "  Motor                                              Motor 2.0 16v\n",
              "  Año                                                         1992\n",
              "  Kilometraje                                              32555.0\n",
              "  Cero_km                                                    False\n",
              "  Accesorios     ['Piloto automático', 'Sensor crepuscular', 'C...\n",
              "  Valor                                                   88501.54\n",
              "  Name: 138, dtype: object),\n",
              " (139,\n",
              "  Nombre                                                    Jumper\n",
              "  Motor                                            Motor 2.4 Turbo\n",
              "  Año                                                         1995\n",
              "  Kilometraje                                             103389.0\n",
              "  Cero_km                                                    False\n",
              "  Accesorios     ['Aire condicionado', 'Llantas de aleación', '...\n",
              "  Valor                                                   79782.02\n",
              "  Name: 139, dtype: object),\n",
              " (140,\n",
              "  Nombre                                                       i30\n",
              "  Motor                                              Motor 1.8 16v\n",
              "  Año                                                         2019\n",
              "  Kilometraje                                                  NaN\n",
              "  Cero_km                                                     True\n",
              "  Accesorios     ['Transmisión automática', 'Control de estabil...\n",
              "  Valor                                                    86224.1\n",
              "  Name: 140, dtype: object),\n",
              " (141,\n",
              "  Nombre                                                        X6\n",
              "  Motor                                            Motor Diesel V6\n",
              "  Año                                                         1990\n",
              "  Kilometraje                                              55289.0\n",
              "  Cero_km                                                    False\n",
              "  Accesorios     ['Cámara de estacionamiento', 'Cerraduras elec...\n",
              "  Valor                                                  103596.18\n",
              "  Name: 141, dtype: object),\n",
              " (142,\n",
              "  Nombre                                                    Voyage\n",
              "  Motor                                      Motor 5.0 V8 Bi-Turbo\n",
              "  Año                                                         2019\n",
              "  Kilometraje                                                  NaN\n",
              "  Cero_km                                                     True\n",
              "  Accesorios     ['Aire condicionado', 'Sensor de estacionamien...\n",
              "  Valor                                                  148996.47\n",
              "  Name: 142, dtype: object),\n",
              " (143,\n",
              "  Nombre                                      Phantom I Phantom II\n",
              "  Motor                                              Motor 1.8 16v\n",
              "  Año                                                         2019\n",
              "  Kilometraje                                                  NaN\n",
              "  Cero_km                                                     True\n",
              "  Accesorios     ['Piloto automático', 'Frenos ABS', 'Panel dig...\n",
              "  Valor                                                   60948.01\n",
              "  Name: 143, dtype: object),\n",
              " (144,\n",
              "  Nombre                                            Passat Variant\n",
              "  Motor                                               Motor 1.0 8v\n",
              "  Año                                                         1991\n",
              "  Kilometraje                                             115930.0\n",
              "  Cero_km                                                    False\n",
              "  Accesorios     ['Frenos ABS', 'Llantas de aleación', 'Piloto ...\n",
              "  Valor                                                   69535.44\n",
              "  Name: 144, dtype: object),\n",
              " (145,\n",
              "  Nombre                                                      Clio\n",
              "  Motor                                               Motor Diesel\n",
              "  Año                                                         1990\n",
              "  Kilometraje                                              66437.0\n",
              "  Cero_km                                                    False\n",
              "  Accesorios     ['4 X 4', 'Transmisión automática', 'Frenos AB...\n",
              "  Valor                                                  111130.33\n",
              "  Name: 145, dtype: object),\n",
              " (146,\n",
              "  Nombre                                                  Classe G\n",
              "  Motor                                            Motor Diesel V6\n",
              "  Año                                                         2012\n",
              "  Kilometraje                                              96800.0\n",
              "  Cero_km                                                    False\n",
              "  Accesorios     ['Control de estabilidad', 'Central multimedia...\n",
              "  Valor                                                   65847.69\n",
              "  Name: 146, dtype: object),\n",
              " (147,\n",
              "  Nombre                                              Silver Ghost\n",
              "  Motor                                              Motor 1.8 16v\n",
              "  Año                                                         2007\n",
              "  Kilometraje                                              14237.0\n",
              "  Cero_km                                                    False\n",
              "  Accesorios     ['Cerraduras electricas', 'Panel digital', 'Cá...\n",
              "  Valor                                                   78096.06\n",
              "  Name: 147, dtype: object),\n",
              " (148,\n",
              "  Nombre                                          Série 3 M3 Coupé\n",
              "  Motor                                               Motor Diesel\n",
              "  Año                                                         2013\n",
              "  Kilometraje                                              19896.0\n",
              "  Cero_km                                                    False\n",
              "  Accesorios     ['Asientos de cuero', 'Sensor de lluvia', 'Air...\n",
              "  Valor                                                   69219.89\n",
              "  Name: 148, dtype: object),\n",
              " (149,\n",
              "  Nombre                                       Gallardo LP 560 – 4\n",
              "  Motor                                               Motor Diesel\n",
              "  Año                                                         2000\n",
              "  Kilometraje                                             113045.0\n",
              "  Cero_km                                                    False\n",
              "  Accesorios     ['Frenos ABS', 'Techo panorámico', 'Central mu...\n",
              "  Valor                                                  144118.91\n",
              "  Name: 149, dtype: object),\n",
              " (150,\n",
              "  Nombre                                              Freelander 2\n",
              "  Motor                                            Motor Diesel V6\n",
              "  Año                                                         2002\n",
              "  Kilometraje                                             114942.0\n",
              "  Cero_km                                                    False\n",
              "  Accesorios     ['4 X 4', 'Cámara de estacionamiento', 'Sensor...\n",
              "  Valor                                                   77397.05\n",
              "  Name: 150, dtype: object),\n",
              " (151,\n",
              "  Nombre                                            Grand Cherokee\n",
              "  Motor                                      Motor 5.0 V8 Bi-Turbo\n",
              "  Año                                                         1996\n",
              "  Kilometraje                                               3173.0\n",
              "  Cero_km                                                    False\n",
              "  Accesorios     ['Transmisión automática', 'Cerraduras electri...\n",
              "  Valor                                                   68974.25\n",
              "  Name: 151, dtype: object),\n",
              " (152,\n",
              "  Nombre                                         Aston Martin DBR9\n",
              "  Motor                                            Motor 4.0 Turbo\n",
              "  Año                                                         1996\n",
              "  Kilometraje                                              83611.0\n",
              "  Cero_km                                                    False\n",
              "  Accesorios     ['Control de estabilidad', 'Sensor de estacion...\n",
              "  Valor                                                   125231.3\n",
              "  Name: 152, dtype: object),\n",
              " (153,\n",
              "  Nombre                                                      Soul\n",
              "  Motor                                      Motor 5.0 V8 Bi-Turbo\n",
              "  Año                                                         2015\n",
              "  Kilometraje                                              25356.0\n",
              "  Cero_km                                                    False\n",
              "  Accesorios     ['Sensor crepuscular', 'Piloto automático', 'S...\n",
              "  Valor                                                   85501.12\n",
              "  Name: 153, dtype: object),\n",
              " (154,\n",
              "  Nombre                                              Cadillac BLS\n",
              "  Motor                                                   Motor V8\n",
              "  Año                                                         1993\n",
              "  Kilometraje                                              88634.0\n",
              "  Cero_km                                                    False\n",
              "  Accesorios     ['Techo panorámico', 'Control de estabilidad',...\n",
              "  Valor                                                  137116.21\n",
              "  Name: 154, dtype: object),\n",
              " (155,\n",
              "  Nombre                                                    RX 350\n",
              "  Motor                                                   Motor V6\n",
              "  Año                                                         2013\n",
              "  Kilometraje                                               2314.0\n",
              "  Cero_km                                                    False\n",
              "  Accesorios     ['Piloto automático', 'Sensor crepuscular', 'A...\n",
              "  Valor                                                  138823.81\n",
              "  Name: 155, dtype: object),\n",
              " (156,\n",
              "  Nombre                                                    Cayman\n",
              "  Motor                                              Motor 3.0 32v\n",
              "  Año                                                         2013\n",
              "  Kilometraje                                               2627.0\n",
              "  Cero_km                                                    False\n",
              "  Accesorios     ['Central multimedia', 'Panel digital', 'Senso...\n",
              "  Valor                                                  117961.95\n",
              "  Name: 156, dtype: object),\n",
              " (157,\n",
              "  Nombre                                             Chana Utility\n",
              "  Motor                                               Motor Diesel\n",
              "  Año                                                         2009\n",
              "  Kilometraje                                              52034.0\n",
              "  Cero_km                                                    False\n",
              "  Accesorios     ['Aire condicionado', 'Sensor de estacionamien...\n",
              "  Valor                                                  132662.32\n",
              "  Name: 157, dtype: object),\n",
              " (158,\n",
              "  Nombre                                                    308 CC\n",
              "  Motor                                            Motor 4.0 Turbo\n",
              "  Año                                                         2019\n",
              "  Kilometraje                                                  NaN\n",
              "  Cero_km                                                     True\n",
              "  Accesorios     ['Cámara de estacionamiento', 'Asientos de cue...\n",
              "  Valor                                                  146405.79\n",
              "  Name: 158, dtype: object),\n",
              " (159,\n",
              "  Nombre                                               L200 Triton\n",
              "  Motor                                            Motor Diesel V8\n",
              "  Año                                                         2019\n",
              "  Kilometraje                                                  NaN\n",
              "  Cero_km                                                     True\n",
              "  Accesorios     ['Ventanas eléctricas', 'Aire condicionado', '...\n",
              "  Valor                                                   81999.21\n",
              "  Name: 159, dtype: object),\n",
              " (160,\n",
              "  Nombre                                                     Jetta\n",
              "  Motor                                      Motor 5.0 V8 Bi-Turbo\n",
              "  Año                                                         2002\n",
              "  Kilometraje                                              79577.0\n",
              "  Cero_km                                                    False\n",
              "  Accesorios     ['Central multimedia', 'Ventanas eléctricas', ...\n",
              "  Valor                                                   140934.6\n",
              "  Name: 160, dtype: object),\n",
              " (161,\n",
              "  Nombre                                                 C4 Lounge\n",
              "  Motor                                                   Motor V8\n",
              "  Año                                                         1997\n",
              "  Kilometraje                                             108201.0\n",
              "  Cero_km                                                    False\n",
              "  Accesorios     ['Central multimedia', 'Control de tracción', ...\n",
              "  Valor                                                   82366.81\n",
              "  Name: 161, dtype: object),\n",
              " (162,\n",
              "  Nombre                                                 C4 Pallas\n",
              "  Motor                                               Motor 1.0 8v\n",
              "  Año                                                         1998\n",
              "  Kilometraje                                              76453.0\n",
              "  Cero_km                                                    False\n",
              "  Accesorios     ['4 X 4', 'Frenos ABS', 'Sensor de lluvia', 'L...\n",
              "  Valor                                                   70424.11\n",
              "  Name: 162, dtype: object),\n",
              " (163,\n",
              "  Nombre                                                     Equus\n",
              "  Motor                                              Motor 3.0 32v\n",
              "  Año                                                         2004\n",
              "  Kilometraje                                              57683.0\n",
              "  Cero_km                                                    False\n",
              "  Accesorios     ['Cerraduras electricas', 'Llantas de aleación...\n",
              "  Valor                                                   53620.31\n",
              "  Name: 163, dtype: object),\n",
              " (164,\n",
              "  Nombre                                                 Classe GL\n",
              "  Motor                                              Motor 3.0 32v\n",
              "  Año                                                         1996\n",
              "  Kilometraje                                              96610.0\n",
              "  Cero_km                                                    False\n",
              "  Accesorios     ['Frenos ABS', 'Cámara de estacionamiento', 'C...\n",
              "  Valor                                                   73389.18\n",
              "  Name: 164, dtype: object),\n",
              " (165,\n",
              "  Nombre                                        Range Rover Evoque\n",
              "  Motor                                              Motor 2.0 16v\n",
              "  Año                                                         2015\n",
              "  Kilometraje                                             109001.0\n",
              "  Cero_km                                                    False\n",
              "  Accesorios     ['Llantas de aleación', 'Techo panorámico', 'S...\n",
              "  Valor                                                  111618.12\n",
              "  Name: 165, dtype: object),\n",
              " (166,\n",
              "  Nombre                                                  Cherokee\n",
              "  Motor                                            Motor 4.0 Turbo\n",
              "  Año                                                         2016\n",
              "  Kilometraje                                              26212.0\n",
              "  Cero_km                                                    False\n",
              "  Accesorios     ['Panel digital', 'Cerraduras electricas', 'Ll...\n",
              "  Valor                                                  112187.37\n",
              "  Name: 166, dtype: object),\n",
              " (167,\n",
              "  Nombre                                                     Punto\n",
              "  Motor                                            Motor 4.0 Turbo\n",
              "  Año                                                         2005\n",
              "  Kilometraje                                              45971.0\n",
              "  Cero_km                                                    False\n",
              "  Accesorios     ['Central multimedia', 'Transmisión automática...\n",
              "  Valor                                                  120812.57\n",
              "  Name: 167, dtype: object),\n",
              " (168,\n",
              "  Nombre                                                Grand Tour\n",
              "  Motor                                              Motor 3.0 32v\n",
              "  Año                                                         1999\n",
              "  Kilometraje                                              49182.0\n",
              "  Cero_km                                                    False\n",
              "  Accesorios     ['Llantas de aleación', 'Cerraduras electricas...\n",
              "  Valor                                                  116031.04\n",
              "  Name: 168, dtype: object),\n",
              " (169,\n",
              "  Nombre                                                   Fluence\n",
              "  Motor                                            Motor Diesel V6\n",
              "  Año                                                         1995\n",
              "  Kilometraje                                              49907.0\n",
              "  Cero_km                                                    False\n",
              "  Accesorios     ['Sensor crepuscular', 'Techo panorámico', 'Tr...\n",
              "  Valor                                                  125398.11\n",
              "  Name: 169, dtype: object),\n",
              " (170,\n",
              "  Nombre                          Effa Hafei Picape Cabine Simples\n",
              "  Motor                                               Motor 1.0 8v\n",
              "  Año                                                         1993\n",
              "  Kilometraje                                              38620.0\n",
              "  Cero_km                                                    False\n",
              "  Accesorios     ['Piloto automático', 'Aire condicionado', 'Ce...\n",
              "  Valor                                                   76101.47\n",
              "  Name: 170, dtype: object),\n",
              " (171,\n",
              "  Nombre                                                   Durango\n",
              "  Motor                                              Motor 2.0 16v\n",
              "  Año                                                         2004\n",
              "  Kilometraje                                              60996.0\n",
              "  Cero_km                                                    False\n",
              "  Accesorios     ['Asientos de cuero', 'Panel digital', 'Transm...\n",
              "  Valor                                                   75263.24\n",
              "  Name: 171, dtype: object),\n",
              " (172,\n",
              "  Nombre                                                   Boxster\n",
              "  Motor                                            Motor Diesel V8\n",
              "  Año                                                         2013\n",
              "  Kilometraje                                              73914.0\n",
              "  Cero_km                                                    False\n",
              "  Accesorios     ['Techo panorámico', 'Sensor crepuscular', 'As...\n",
              "  Valor                                                  147387.76\n",
              "  Name: 172, dtype: object),\n",
              " (173,\n",
              "  Nombre                                               TT Roadster\n",
              "  Motor                                               Motor Diesel\n",
              "  Año                                                         1998\n",
              "  Kilometraje                                             107392.0\n",
              "  Cero_km                                                    False\n",
              "  Accesorios     ['Aire condicionado', 'Sensor de estacionamien...\n",
              "  Valor                                                    85311.4\n",
              "  Name: 173, dtype: object),\n",
              " (174,\n",
              "  Nombre                                         Lamborghini Jalpa\n",
              "  Motor                                              Motor 1.8 16v\n",
              "  Año                                                         2018\n",
              "  Kilometraje                                               9146.0\n",
              "  Cero_km                                                    False\n",
              "  Accesorios     ['Piloto automático', 'Frenos ABS', 'Sensor de...\n",
              "  Valor                                                   54388.11\n",
              "  Name: 174, dtype: object),\n",
              " (175,\n",
              "  Nombre                                                Classe SLK\n",
              "  Motor                                            Motor 4.0 Turbo\n",
              "  Año                                                         2019\n",
              "  Kilometraje                                                  NaN\n",
              "  Cero_km                                                     True\n",
              "  Accesorios     ['4 X 4', 'Sensor de estacionamiento', 'Contro...\n",
              "  Valor                                                  124156.65\n",
              "  Name: 175, dtype: object),\n",
              " (176,\n",
              "  Nombre                                                      Golf\n",
              "  Motor                                               Motor 1.0 8v\n",
              "  Año                                                         2018\n",
              "  Kilometraje                                              17924.0\n",
              "  Cero_km                                                    False\n",
              "  Accesorios     ['Llantas de aleación', 'Control de tracción',...\n",
              "  Valor                                                  146203.34\n",
              "  Name: 176, dtype: object),\n",
              " (177,\n",
              "  Nombre                                                C3 Picasso\n",
              "  Motor                                              Motor 3.0 32v\n",
              "  Año                                                         2019\n",
              "  Kilometraje                                                  NaN\n",
              "  Cero_km                                                     True\n",
              "  Accesorios     ['Techo panorámico', 'Sensor crepuscular', 'Se...\n",
              "  Valor                                                   56453.94\n",
              "  Name: 177, dtype: object),\n",
              " (178,\n",
              "  Nombre                                                       V50\n",
              "  Motor                                              Motor 2.0 16v\n",
              "  Año                                                         1990\n",
              "  Kilometraje                                             116949.0\n",
              "  Cero_km                                                    False\n",
              "  Accesorios     ['Techo panorámico', 'Cámara de estacionamient...\n",
              "  Valor                                                   68873.79\n",
              "  Name: 178, dtype: object),\n",
              " (179,\n",
              "  Nombre                                                   Picanto\n",
              "  Motor                                            Motor 4.0 Turbo\n",
              "  Año                                                         2009\n",
              "  Kilometraje                                              20476.0\n",
              "  Cero_km                                                    False\n",
              "  Accesorios     ['Panel digital', 'Control de estabilidad', 'F...\n",
              "  Valor                                                   91667.61\n",
              "  Name: 179, dtype: object),\n",
              " (180,\n",
              "  Nombre                                                   Cadenza\n",
              "  Motor                                            Motor Diesel V6\n",
              "  Año                                                         1990\n",
              "  Kilometraje                                              52804.0\n",
              "  Cero_km                                                    False\n",
              "  Accesorios     ['Sensor crepuscular', 'Control de estabilidad...\n",
              "  Valor                                                   93776.52\n",
              "  Name: 180, dtype: object),\n",
              " (181,\n",
              "  Nombre                                                Etios Sedã\n",
              "  Motor                                      Motor 5.0 V8 Bi-Turbo\n",
              "  Año                                                         2006\n",
              "  Kilometraje                                               8849.0\n",
              "  Cero_km                                                    False\n",
              "  Accesorios     ['Aire condicionado', 'Ventanas eléctricas', '...\n",
              "  Valor                                                   66433.82\n",
              "  Name: 181, dtype: object),\n",
              " (182,\n",
              "  Nombre                                                    Alsvin\n",
              "  Motor                                            Motor Diesel V8\n",
              "  Año                                                         2002\n",
              "  Kilometraje                                              91724.0\n",
              "  Cero_km                                                    False\n",
              "  Accesorios     ['Central multimedia', 'Control de estabilidad...\n",
              "  Valor                                                  109059.27\n",
              "  Name: 182, dtype: object),\n",
              " (183,\n",
              "  Nombre                                              Cadillac ATS\n",
              "  Motor                                            Motor Diesel V6\n",
              "  Año                                                         1991\n",
              "  Kilometraje                                              32056.0\n",
              "  Cero_km                                                    False\n",
              "  Accesorios     ['Piloto automático', 'Llantas de aleación', '...\n",
              "  Valor                                                  122069.97\n",
              "  Name: 183, dtype: object),\n",
              " (184,\n",
              "  Nombre                                           Série 3 M3 Sedã\n",
              "  Motor                                            Motor Diesel V6\n",
              "  Año                                                         1992\n",
              "  Kilometraje                                              74886.0\n",
              "  Cero_km                                                    False\n",
              "  Accesorios     ['Panel digital', 'Frenos ABS', 'Aire condicio...\n",
              "  Valor                                                  113090.32\n",
              "  Name: 184, dtype: object),\n",
              " (185,\n",
              "  Nombre                                                  Classe S\n",
              "  Motor                                              Motor 3.0 32v\n",
              "  Año                                                         2019\n",
              "  Kilometraje                                                  NaN\n",
              "  Cero_km                                                     True\n",
              "  Accesorios     ['Control de tracción', 'Techo panorámico', 'T...\n",
              "  Valor                                                    89401.1\n",
              "  Name: 185, dtype: object),\n",
              " (186,\n",
              "  Nombre                                                        T6\n",
              "  Motor                                              Motor 3.0 32v\n",
              "  Año                                                         2019\n",
              "  Kilometraje                                                  NaN\n",
              "  Cero_km                                                     True\n",
              "  Accesorios     ['Sensor de lluvia', 'Cámara de estacionamient...\n",
              "  Valor                                                   56842.79\n",
              "  Name: 186, dtype: object),\n",
              " (187,\n",
              "  Nombre                                          Aston Martin DB7\n",
              "  Motor                                            Motor Diesel V8\n",
              "  Año                                                         2005\n",
              "  Kilometraje                                              52189.0\n",
              "  Cero_km                                                    False\n",
              "  Accesorios     ['Cerraduras electricas', 'Panel digital', 'Se...\n",
              "  Valor                                                  146676.71\n",
              "  Name: 187, dtype: object),\n",
              " (188,\n",
              "  Nombre                                                 207 Sedan\n",
              "  Motor                                            Motor 4.0 Turbo\n",
              "  Año                                                         2010\n",
              "  Kilometraje                                              83559.0\n",
              "  Cero_km                                                    False\n",
              "  Accesorios     ['Control de tracción', 'Central multimedia', ...\n",
              "  Valor                                                   89511.96\n",
              "  Name: 188, dtype: object),\n",
              " (189,\n",
              "  Nombre                                       Aston Martin Virage\n",
              "  Motor                                               Motor Diesel\n",
              "  Año                                                         2019\n",
              "  Kilometraje                                                  NaN\n",
              "  Cero_km                                                     True\n",
              "  Accesorios     ['Cerraduras electricas', 'Control de tracción...\n",
              "  Valor                                                   97290.18\n",
              "  Name: 189, dtype: object),\n",
              " (190,\n",
              "  Nombre                                                     Azera\n",
              "  Motor                                              Motor 1.8 16v\n",
              "  Año                                                         2016\n",
              "  Kilometraje                                              20328.0\n",
              "  Cero_km                                                    False\n",
              "  Accesorios     ['Asientos de cuero', 'Control de tracción', '...\n",
              "  Valor                                                  120673.56\n",
              "  Name: 190, dtype: object),\n",
              " (191,\n",
              "  Nombre                                           Vantage Volante\n",
              "  Motor                                            Motor Diesel V8\n",
              "  Año                                                         2019\n",
              "  Kilometraje                                                  NaN\n",
              "  Cero_km                                                     True\n",
              "  Accesorios     ['Frenos ABS', 'Control de tracción', 'Central...\n",
              "  Valor                                                  114434.94\n",
              "  Name: 191, dtype: object),\n",
              " (192,\n",
              "  Nombre                                                  Siena EL\n",
              "  Motor                                                   Motor V8\n",
              "  Año                                                         2010\n",
              "  Kilometraje                                              75577.0\n",
              "  Cero_km                                                    False\n",
              "  Accesorios     ['Frenos ABS', 'Sensor crepuscular', 'Control ...\n",
              "  Valor                                                  139546.69\n",
              "  Name: 192, dtype: object),\n",
              " (193,\n",
              "  Nombre                                           Palio Adventure\n",
              "  Motor                                            Motor Diesel V8\n",
              "  Año                                                         1994\n",
              "  Kilometraje                                              33659.0\n",
              "  Cero_km                                                    False\n",
              "  Accesorios     ['Techo panorámico', 'Central multimedia', 'Pi...\n",
              "  Valor                                                   95078.16\n",
              "  Name: 193, dtype: object),\n",
              " (194,\n",
              "  Nombre                                                     HB20X\n",
              "  Motor                                                   Motor V8\n",
              "  Año                                                         2001\n",
              "  Kilometraje                                             104341.0\n",
              "  Cero_km                                                    False\n",
              "  Accesorios     ['Sensor crepuscular', 'Techo panorámico', 'Pa...\n",
              "  Valor                                                   68091.77\n",
              "  Name: 194, dtype: object),\n",
              " (195,\n",
              "  Nombre                                                        HR\n",
              "  Motor                                      Motor 5.0 V8 Bi-Turbo\n",
              "  Año                                                         2014\n",
              "  Kilometraje                                              25510.0\n",
              "  Cero_km                                                    False\n",
              "  Accesorios     ['Control de tracción', 'Transmisión automátic...\n",
              "  Valor                                                   61496.97\n",
              "  Name: 195, dtype: object),\n",
              " (196,\n",
              "  Nombre                                     Cadillac STS V-Series\n",
              "  Motor                                              Motor 2.0 16v\n",
              "  Año                                                         1996\n",
              "  Kilometraje                                              18965.0\n",
              "  Cero_km                                                    False\n",
              "  Accesorios     ['Ventanas eléctricas', 'Piloto automático', '...\n",
              "  Valor                                                   139669.3\n",
              "  Name: 196, dtype: object),\n",
              " (197,\n",
              "  Nombre                                             Série 1 Coupé\n",
              "  Motor                                               Motor 1.0 8v\n",
              "  Año                                                         1993\n",
              "  Kilometraje                                              87161.0\n",
              "  Cero_km                                                    False\n",
              "  Accesorios     ['Control de estabilidad', 'Techo panorámico',...\n",
              "  Valor                                                   80661.39\n",
              "  Name: 197, dtype: object),\n",
              " (198,\n",
              "  Nombre                                                  SpaceFox\n",
              "  Motor                                                   Motor V8\n",
              "  Año                                                         1993\n",
              "  Kilometraje                                               6652.0\n",
              "  Cero_km                                                    False\n",
              "  Accesorios     ['Sensor crepuscular', '4 X 4', 'Panel digital...\n",
              "  Valor                                                   61783.65\n",
              "  Name: 198, dtype: object),\n",
              " (199,\n",
              "  Nombre                                                       C30\n",
              "  Motor                                               Motor 1.0 8v\n",
              "  Año                                                         2001\n",
              "  Kilometraje                                              55738.0\n",
              "  Cero_km                                                    False\n",
              "  Accesorios     ['Techo panorámico', 'Frenos ABS', 'Sensor cre...\n",
              "  Valor                                                   52805.91\n",
              "  Name: 199, dtype: object),\n",
              " (200,\n",
              "  Nombre                                                  J3 Turin\n",
              "  Motor                                                   Motor V6\n",
              "  Año                                                         2019\n",
              "  Kilometraje                                                  NaN\n",
              "  Cero_km                                                     True\n",
              "  Accesorios     ['Sensor crepuscular', 'Cámara de estacionamie...\n",
              "  Valor                                                  127024.75\n",
              "  Name: 200, dtype: object),\n",
              " (201,\n",
              "  Nombre                                                  Classe B\n",
              "  Motor                                            Motor Diesel V8\n",
              "  Año                                                         2019\n",
              "  Kilometraje                                                  NaN\n",
              "  Cero_km                                                     True\n",
              "  Accesorios     ['4 X 4', 'Asientos de cuero', 'Sensor crepusc...\n",
              "  Valor                                                   135543.0\n",
              "  Name: 201, dtype: object),\n",
              " (202,\n",
              "  Nombre                                                    Parati\n",
              "  Motor                                            Motor Diesel V8\n",
              "  Año                                                         2019\n",
              "  Kilometraje                                                  NaN\n",
              "  Cero_km                                                     True\n",
              "  Accesorios     ['Sensor de estacionamiento', 'Piloto automáti...\n",
              "  Valor                                                  121708.73\n",
              "  Name: 202, dtype: object),\n",
              " (203,\n",
              "  Nombre                                     Cadillac CTS V-Series\n",
              "  Motor                                            Motor 4.0 Turbo\n",
              "  Año                                                         2007\n",
              "  Kilometraje                                              64320.0\n",
              "  Cero_km                                                    False\n",
              "  Accesorios     ['Piloto automático', 'Aire condicionado', 'Ce...\n",
              "  Valor                                                  107342.68\n",
              "  Name: 203, dtype: object),\n",
              " (204,\n",
              "  Nombre                                                     Sedan\n",
              "  Motor                                                   Motor V8\n",
              "  Año                                                         2019\n",
              "  Kilometraje                                                  NaN\n",
              "  Cero_km                                                     True\n",
              "  Accesorios     ['Asientos de cuero', 'Central multimedia', 'F...\n",
              "  Valor                                                    57888.1\n",
              "  Name: 204, dtype: object),\n",
              " (205,\n",
              "  Nombre                                         Classe CLS 63 AMG\n",
              "  Motor                                            Motor Diesel V6\n",
              "  Año                                                         2016\n",
              "  Kilometraje                                              68678.0\n",
              "  Cero_km                                                    False\n",
              "  Accesorios     ['Frenos ABS', 'Ventanas eléctricas', 'Transmi...\n",
              "  Valor                                                  118161.48\n",
              "  Name: 205, dtype: object),\n",
              " (206,\n",
              "  Nombre                                                  Aircross\n",
              "  Motor                                               Motor 1.0 8v\n",
              "  Año                                                         2014\n",
              "  Kilometraje                                              71697.0\n",
              "  Cero_km                                                    False\n",
              "  Accesorios     ['Control de tracción', 'Piloto automático', '...\n",
              "  Valor                                                  142499.06\n",
              "  Name: 206, dtype: object),\n",
              " (207,\n",
              "  Nombre                                  Aston Martin V12 Vantage\n",
              "  Motor                                                   Motor V8\n",
              "  Año                                                         2019\n",
              "  Kilometraje                                                  NaN\n",
              "  Cero_km                                                     True\n",
              "  Accesorios     ['Asientos de cuero', 'Central multimedia', 'C...\n",
              "  Valor                                                  128396.11\n",
              "  Name: 207, dtype: object),\n",
              " (208,\n",
              "  Nombre                                                   Sandero\n",
              "  Motor                                               Motor Diesel\n",
              "  Año                                                         2015\n",
              "  Kilometraje                                              34783.0\n",
              "  Cero_km                                                    False\n",
              "  Accesorios     ['Piloto automático', 'Techo panorámico', 'Tra...\n",
              "  Valor                                                  112350.61\n",
              "  Name: 208, dtype: object),\n",
              " (209,\n",
              "  Nombre                                                New Fiesta\n",
              "  Motor                                      Motor 5.0 V8 Bi-Turbo\n",
              "  Año                                                         2015\n",
              "  Kilometraje                                              33772.0\n",
              "  Cero_km                                                    False\n",
              "  Accesorios     ['Control de tracción', 'Cerraduras electricas...\n",
              "  Valor                                                  124661.38\n",
              "  Name: 209, dtype: object),\n",
              " (210,\n",
              "  Nombre                                                       XKR\n",
              "  Motor                                               Motor Diesel\n",
              "  Año                                                         1996\n",
              "  Kilometraje                                              85127.0\n",
              "  Cero_km                                                    False\n",
              "  Accesorios     ['Control de tracción', 'Aire condicionado', '...\n",
              "  Valor                                                   54263.16\n",
              "  Name: 210, dtype: object),\n",
              " (211,\n",
              "  Nombre                                                        X5\n",
              "  Motor                                               Motor Diesel\n",
              "  Año                                                         2002\n",
              "  Kilometraje                                              13606.0\n",
              "  Cero_km                                                    False\n",
              "  Accesorios     ['Control de tracción', 'Piloto automático', '...\n",
              "  Valor                                                   62041.32\n",
              "  Name: 211, dtype: object),\n",
              " (212,\n",
              "  Nombre                                              Cadillac DTS\n",
              "  Motor                                              Motor 1.8 16v\n",
              "  Año                                                         2005\n",
              "  Kilometraje                                              35647.0\n",
              "  Cero_km                                                    False\n",
              "  Accesorios     ['Central multimedia', 'Llantas de aleación', ...\n",
              "  Valor                                                  129296.11\n",
              "  Name: 212, dtype: object),\n",
              " (213,\n",
              "  Nombre                                              Pajero Dakar\n",
              "  Motor                                            Motor 4.0 Turbo\n",
              "  Año                                                         1995\n",
              "  Kilometraje                                              95128.0\n",
              "  Cero_km                                                    False\n",
              "  Accesorios     ['Piloto automático', 'Sensor de lluvia', 'Con...\n",
              "  Valor                                                   60998.33\n",
              "  Name: 213, dtype: object),\n",
              " (214,\n",
              "  Nombre                                                  Classe A\n",
              "  Motor                                               Motor 1.0 8v\n",
              "  Año                                                         1999\n",
              "  Kilometraje                                              14046.0\n",
              "  Cero_km                                                    False\n",
              "  Accesorios     ['Control de tracción', 'Central multimedia', ...\n",
              "  Valor                                                    58008.5\n",
              "  Name: 214, dtype: object),\n",
              " (215,\n",
              "  Nombre                                       Ford Focus Fastback\n",
              "  Motor                                            Motor 4.0 Turbo\n",
              "  Año                                                         2005\n",
              "  Kilometraje                                              41194.0\n",
              "  Cero_km                                                    False\n",
              "  Accesorios     ['Asientos de cuero', 'Cámara de estacionamien...\n",
              "  Valor                                                   82304.19\n",
              "  Name: 215, dtype: object),\n",
              " (216,\n",
              "  Nombre                                                   Partner\n",
              "  Motor                                            Motor 2.4 Turbo\n",
              "  Año                                                         2019\n",
              "  Kilometraje                                                  NaN\n",
              "  Cero_km                                                     True\n",
              "  Accesorios     ['Central multimedia', 'Control de tracción', ...\n",
              "  Valor                                                  114531.74\n",
              "  Name: 216, dtype: object),\n",
              " (217,\n",
              "  Nombre                                                        R8\n",
              "  Motor                                                   Motor V6\n",
              "  Año                                                         1997\n",
              "  Kilometraje                                              96100.0\n",
              "  Cero_km                                                    False\n",
              "  Accesorios     ['4 X 4', 'Control de estabilidad', 'Cámara de...\n",
              "  Valor                                                  128565.61\n",
              "  Name: 217, dtype: object),\n",
              " (218,\n",
              "  Nombre                                  Aston Martin DBS Volante\n",
              "  Motor                                            Motor 4.0 Turbo\n",
              "  Año                                                         1990\n",
              "  Kilometraje                                             103900.0\n",
              "  Cero_km                                                    False\n",
              "  Accesorios     ['Central multimedia', 'Control de estabilidad...\n",
              "  Valor                                                  126488.26\n",
              "  Name: 218, dtype: object),\n",
              " (219,\n",
              "  Nombre                                                    Mohave\n",
              "  Motor                                            Motor Diesel V6\n",
              "  Año                                                         2001\n",
              "  Kilometraje                                              43814.0\n",
              "  Cero_km                                                    False\n",
              "  Accesorios     ['Cerraduras electricas', 'Central multimedia'...\n",
              "  Valor                                                  119074.55\n",
              "  Name: 219, dtype: object),\n",
              " (220,\n",
              "  Nombre                                                     Fusca\n",
              "  Motor                                              Motor 3.0 32v\n",
              "  Año                                                         2013\n",
              "  Kilometraje                                              24638.0\n",
              "  Cero_km                                                    False\n",
              "  Accesorios     ['Transmisión automática', 'Techo panorámico',...\n",
              "  Valor                                                  130238.04\n",
              "  Name: 220, dtype: object),\n",
              " (221,\n",
              "  Nombre                                              Chana Family\n",
              "  Motor                                                   Motor V8\n",
              "  Año                                                         2019\n",
              "  Kilometraje                                                  NaN\n",
              "  Cero_km                                                     True\n",
              "  Accesorios     ['Piloto automático', 'Techo panorámico', 'Sen...\n",
              "  Valor                                                  115760.17\n",
              "  Name: 221, dtype: object),\n",
              " (222,\n",
              "  Nombre                                                      XC40\n",
              "  Motor                                            Motor 2.4 Turbo\n",
              "  Año                                                         2017\n",
              "  Kilometraje                                             110966.0\n",
              "  Cero_km                                                    False\n",
              "  Accesorios     ['Sensor de lluvia', 'Central multimedia', 'Ve...\n",
              "  Valor                                                   121248.0\n",
              "  Name: 222, dtype: object),\n",
              " (223,\n",
              "  Nombre                    Phantom I Jonckheere Aerodynamic Coupe\n",
              "  Motor                                              Motor 1.8 16v\n",
              "  Año                                                         2011\n",
              "  Kilometraje                                              15987.0\n",
              "  Cero_km                                                    False\n",
              "  Accesorios     ['Sensor crepuscular', 'Cerraduras electricas'...\n",
              "  Valor                                                   98156.35\n",
              "  Name: 223, dtype: object),\n",
              " (224,\n",
              "  Nombre                                                     Boxer\n",
              "  Motor                                                   Motor V6\n",
              "  Año                                                         2005\n",
              "  Kilometraje                                              53369.0\n",
              "  Cero_km                                                    False\n",
              "  Accesorios     ['Cerraduras electricas', 'Piloto automático',...\n",
              "  Valor                                                   112146.8\n",
              "  Name: 224, dtype: object),\n",
              " (225,\n",
              "  Nombre                                               Chana Cargo\n",
              "  Motor                                              Motor 2.0 16v\n",
              "  Año                                                         2007\n",
              "  Kilometraje                                              10077.0\n",
              "  Cero_km                                                    False\n",
              "  Accesorios     ['Techo panorámico', '4 X 4', 'Central multime...\n",
              "  Valor                                                  102729.63\n",
              "  Name: 225, dtype: object),\n",
              " (226,\n",
              "  Nombre                                              Dodge Dakota\n",
              "  Motor                                               Motor Diesel\n",
              "  Año                                                         1993\n",
              "  Kilometraje                                              71544.0\n",
              "  Cero_km                                                    False\n",
              "  Accesorios     ['Control de tracción', 'Sensor de estacionami...\n",
              "  Valor                                                  141083.35\n",
              "  Name: 226, dtype: object),\n",
              " (227,\n",
              "  Nombre                                                        X1\n",
              "  Motor                                            Motor Diesel V8\n",
              "  Año                                                         1991\n",
              "  Kilometraje                                                107.0\n",
              "  Cero_km                                                    False\n",
              "  Accesorios     ['4 X 4', 'Techo panorámico', 'Aire condiciona...\n",
              "  Valor                                                  102968.76\n",
              "  Name: 227, dtype: object),\n",
              " (228,\n",
              "  Nombre                                                       GLA\n",
              "  Motor                                               Motor 1.0 8v\n",
              "  Año                                                         1991\n",
              "  Kilometraje                                               8394.0\n",
              "  Cero_km                                                    False\n",
              "  Accesorios     ['Sensor de lluvia', 'Cámara de estacionamient...\n",
              "  Valor                                                   76310.01\n",
              "  Name: 228, dtype: object),\n",
              " (229,\n",
              "  Nombre                                         Range Rover Sport\n",
              "  Motor                                               Motor 1.0 8v\n",
              "  Año                                                         1997\n",
              "  Kilometraje                                              41498.0\n",
              "  Cero_km                                                    False\n",
              "  Accesorios     ['Sensor de estacionamiento', 'Cámara de estac...\n",
              "  Valor                                                  120481.74\n",
              "  Name: 229, dtype: object),\n",
              " (230,\n",
              "  Nombre                                                       DS3\n",
              "  Motor                                              Motor 1.8 16v\n",
              "  Año                                                         2000\n",
              "  Kilometraje                                             116002.0\n",
              "  Cero_km                                                    False\n",
              "  Accesorios     ['Control de estabilidad', 'Aire condicionado'...\n",
              "  Valor                                                   54559.18\n",
              "  Name: 230, dtype: object),\n",
              " (231,\n",
              "  Nombre                                                  Veracruz\n",
              "  Motor                                            Motor Diesel V8\n",
              "  Año                                                         2007\n",
              "  Kilometraje                                             100858.0\n",
              "  Cero_km                                                    False\n",
              "  Accesorios     ['Control de estabilidad', 'Cámara de estacion...\n",
              "  Valor                                                   92957.64\n",
              "  Name: 231, dtype: object),\n",
              " (232,\n",
              "  Nombre                      Cadillac CTS coupe, sedan, and wagon\n",
              "  Motor                                                   Motor V8\n",
              "  Año                                                         2006\n",
              "  Kilometraje                                              67475.0\n",
              "  Cero_km                                                    False\n",
              "  Accesorios     ['Sensor de lluvia', 'Sensor de estacionamient...\n",
              "  Valor                                                  127810.06\n",
              "  Name: 232, dtype: object),\n",
              " (233,\n",
              "  Nombre                                                    i30 CW\n",
              "  Motor                                               Motor Diesel\n",
              "  Año                                                         2015\n",
              "  Kilometraje                                               8497.0\n",
              "  Cero_km                                                    False\n",
              "  Accesorios     ['Sensor de lluvia', 'Ventanas eléctricas', 'C...\n",
              "  Valor                                                   73311.75\n",
              "  Name: 233, dtype: object),\n",
              " (234,\n",
              "  Nombre                                               Phantom III\n",
              "  Motor                                            Motor Diesel V6\n",
              "  Año                                                         2008\n",
              "  Kilometraje                                               4420.0\n",
              "  Cero_km                                                    False\n",
              "  Accesorios     ['Ventanas eléctricas', 'Asientos de cuero', '...\n",
              "  Valor                                                   65138.03\n",
              "  Name: 234, dtype: object),\n",
              " (235,\n",
              "  Nombre                                                  A3 Sedan\n",
              "  Motor                                                   Motor V6\n",
              "  Año                                                         2019\n",
              "  Kilometraje                                                  NaN\n",
              "  Cero_km                                                     True\n",
              "  Accesorios     ['Aire condicionado', 'Sensor de lluvia', 'Cer...\n",
              "  Valor                                                   90141.47\n",
              "  Name: 235, dtype: object),\n",
              " (236,\n",
              "  Nombre                                  Aston Martin DB9 Volante\n",
              "  Motor                                              Motor 2.0 16v\n",
              "  Año                                                         1996\n",
              "  Kilometraje                                              58537.0\n",
              "  Cero_km                                                    False\n",
              "  Accesorios     ['Central multimedia', 'Asientos de cuero', 'C...\n",
              "  Valor                                                   71160.36\n",
              "  Name: 236, dtype: object),\n",
              " (237,\n",
              "  Nombre                                              Série 7 Sedã\n",
              "  Motor                                               Motor Diesel\n",
              "  Año                                                         2019\n",
              "  Kilometraje                                                  NaN\n",
              "  Cero_km                                                     True\n",
              "  Accesorios     ['Ventanas eléctricas', 'Cerraduras electricas...\n",
              "  Valor                                                   67539.79\n",
              "  Name: 237, dtype: object),\n",
              " (238,\n",
              "  Nombre                                      Lamborghini Reventón\n",
              "  Motor                                            Motor 4.0 Turbo\n",
              "  Año                                                         2019\n",
              "  Kilometraje                                                  NaN\n",
              "  Cero_km                                                     True\n",
              "  Accesorios     ['Control de tracción', 'Aire condicionado', '...\n",
              "  Valor                                                   67664.86\n",
              "  Name: 238, dtype: object),\n",
              " (239,\n",
              "  Nombre                                              Grand Livina\n",
              "  Motor                                              Motor 2.0 16v\n",
              "  Año                                                         2014\n",
              "  Kilometraje                                             112016.0\n",
              "  Cero_km                                                    False\n",
              "  Accesorios     ['Control de tracción', 'Techo panorámico', 'V...\n",
              "  Valor                                                   68652.16\n",
              "  Name: 239, dtype: object),\n",
              " (240,\n",
              "  Nombre                                                       V60\n",
              "  Motor                                               Motor Diesel\n",
              "  Año                                                         2004\n",
              "  Kilometraje                                              91840.0\n",
              "  Cero_km                                                    False\n",
              "  Accesorios     ['Llantas de aleación', 'Sensor crepuscular', ...\n",
              "  Valor                                                  114728.74\n",
              "  Name: 240, dtype: object),\n",
              " (241,\n",
              "  Nombre                            Effa Hafei Picape Cabine Dupla\n",
              "  Motor                                                   Motor V6\n",
              "  Año                                                         2008\n",
              "  Kilometraje                                             112787.0\n",
              "  Cero_km                                                    False\n",
              "  Accesorios     ['Sensor crepuscular', 'Control de tracción', ...\n",
              "  Valor                                                  141645.08\n",
              "  Name: 241, dtype: object),\n",
              " (242,\n",
              "  Nombre                                                Benni Mini\n",
              "  Motor                                                   Motor V8\n",
              "  Año                                                         2019\n",
              "  Kilometraje                                                  NaN\n",
              "  Cero_km                                                     True\n",
              "  Accesorios     ['Sensor crepuscular', 'Transmisión automática...\n",
              "  Valor                                                  126247.84\n",
              "  Name: 242, dtype: object),\n",
              " (243,\n",
              "  Nombre                                                       Uno\n",
              "  Motor                                            Motor Diesel V6\n",
              "  Año                                                         2019\n",
              "  Kilometraje                                                  NaN\n",
              "  Cero_km                                                     True\n",
              "  Accesorios     ['Central multimedia', 'Sensor crepuscular', '...\n",
              "  Valor                                                  128852.21\n",
              "  Name: 243, dtype: object),\n",
              " (244,\n",
              "  Nombre                                               L200 Savana\n",
              "  Motor                                              Motor 2.0 16v\n",
              "  Año                                                         2012\n",
              "  Kilometraje                                               9293.0\n",
              "  Cero_km                                                    False\n",
              "  Accesorios     ['Sensor de lluvia', 'Ventanas eléctricas', 'P...\n",
              "  Valor                                                  132384.76\n",
              "  Name: 244, dtype: object),\n",
              " (245,\n",
              "  Nombre                                                  Santa Fe\n",
              "  Motor                                              Motor 3.0 32v\n",
              "  Año                                                         2019\n",
              "  Kilometraje                                                  NaN\n",
              "  Cero_km                                                     True\n",
              "  Accesorios     ['Cerraduras electricas', 'Aire condicionado',...\n",
              "  Valor                                                  129415.33\n",
              "  Name: 245, dtype: object),\n",
              " (246,\n",
              "  Nombre                                                       RS5\n",
              "  Motor                                                   Motor V6\n",
              "  Año                                                         1996\n",
              "  Kilometraje                                              55083.0\n",
              "  Cero_km                                                    False\n",
              "  Accesorios     ['Panel digital', 'Transmisión automática', 'V...\n",
              "  Valor                                                   89536.82\n",
              "  Name: 246, dtype: object),\n",
              " (247,\n",
              "  Nombre                                                    Cerato\n",
              "  Motor                                                   Motor V6\n",
              "  Año                                                         2011\n",
              "  Kilometraje                                              48796.0\n",
              "  Cero_km                                                    False\n",
              "  Accesorios     ['Sensor de estacionamiento', 'Cámara de estac...\n",
              "  Valor                                                    87975.3\n",
              "  Name: 247, dtype: object),\n",
              " (248,\n",
              "  Nombre                                                      XC60\n",
              "  Motor                                            Motor 4.0 Turbo\n",
              "  Año                                                         2019\n",
              "  Kilometraje                                                  NaN\n",
              "  Cero_km                                                     True\n",
              "  Accesorios     ['Panel digital', 'Piloto automático', 'Centra...\n",
              "  Valor                                                   77675.79\n",
              "  Name: 248, dtype: object),\n",
              " (249,\n",
              "  Nombre                                                   LS 460L\n",
              "  Motor                                            Motor Diesel V8\n",
              "  Año                                                         2010\n",
              "  Kilometraje                                              89685.0\n",
              "  Cero_km                                                    False\n",
              "  Accesorios     ['Llantas de aleación', 'Frenos ABS', 'Control...\n",
              "  Valor                                                   58881.67\n",
              "  Name: 249, dtype: object),\n",
              " (250,\n",
              "  Nombre                                Lamborghini Sesto Elemento\n",
              "  Motor                                                   Motor V8\n",
              "  Año                                                         2007\n",
              "  Kilometraje                                              85384.0\n",
              "  Cero_km                                                    False\n",
              "  Accesorios     ['Sensor crepuscular', 'Frenos ABS', 'Aire con...\n",
              "  Valor                                                   55081.99\n",
              "  Name: 250, dtype: object),\n",
              " (251,\n",
              "  Nombre                                       Lamborghini Huracán\n",
              "  Motor                                                   Motor V8\n",
              "  Año                                                         1994\n",
              "  Kilometraje                                              98108.0\n",
              "  Cero_km                                                    False\n",
              "  Accesorios     ['Sensor de lluvia', 'Sensor de estacionamient...\n",
              "  Valor                                                  118826.44\n",
              "  Name: 251, dtype: object),\n",
              " (252,\n",
              "  Nombre                                                        A7\n",
              "  Motor                                               Motor 1.0 8v\n",
              "  Año                                                         2007\n",
              "  Kilometraje                                              71280.0\n",
              "  Cero_km                                                    False\n",
              "  Accesorios     ['Sensor de lluvia', 'Ventanas eléctricas', 'S...\n",
              "  Valor                                                  137627.62\n",
              "  Name: 252, dtype: object),\n",
              " (253,\n",
              "  Nombre                                              Phantom 2013\n",
              "  Motor                                                   Motor V8\n",
              "  Año                                                         2014\n",
              "  Kilometraje                                              27505.0\n",
              "  Cero_km                                                    False\n",
              "  Accesorios     ['Control de estabilidad', 'Piloto automático'...\n",
              "  Valor                                                   51759.58\n",
              "  Name: 253, dtype: object),\n",
              " (254,\n",
              "  Nombre                                     Cadillac Ciel concept\n",
              "  Motor                                                   Motor V8\n",
              "  Año                                                         1991\n",
              "  Kilometraje                                              29981.0\n",
              "  Cero_km                                                    False\n",
              "  Accesorios     ['Asientos de cuero', 'Panel digital', 'Sensor...\n",
              "  Valor                                                   51667.06\n",
              "  Name: 254, dtype: object),\n",
              " (255,\n",
              "  Nombre                                                Classe GLK\n",
              "  Motor                                      Motor 5.0 V8 Bi-Turbo\n",
              "  Año                                                         2002\n",
              "  Kilometraje                                              52637.0\n",
              "  Cero_km                                                    False\n",
              "  Accesorios     ['Llantas de aleación', 'Control de tracción',...\n",
              "  Valor                                                   68934.03\n",
              "  Name: 255, dtype: object),\n",
              " (256,\n",
              "  Nombre                                          Aston Martin DB5\n",
              "  Motor                                               Motor Diesel\n",
              "  Año                                                         1996\n",
              "  Kilometraje                                               7685.0\n",
              "  Cero_km                                                    False\n",
              "  Accesorios     ['Aire condicionado', '4 X 4', 'Transmisión au...\n",
              "  Valor                                                   122110.9\n",
              "  Name: 256, dtype: object),\n",
              " (257,\n",
              "  Nombre                                                     Macan\n",
              "  Motor                                            Motor Diesel V6\n",
              "  Año                                                         1992\n",
              "  Kilometraje                                              50188.0\n",
              "  Cero_km                                                    False\n",
              "  Accesorios     ['Central multimedia', 'Techo panorámico', 'Ve...\n",
              "  Valor                                                   90381.47\n",
              "  Name: 257, dtype: object)]"
            ]
          },
          "metadata": {},
          "execution_count": 56
        }
      ],
      "source": [
        "list(dataset.iterrows())"
      ]
    },
    {
      "cell_type": "code",
      "source": [
        "for index, row in dataset.iterrows():\n",
        "  if(2023-row.Año != 0 ):\n",
        "    dataset.loc[index, 'km_media'] = row.Kilometraje/(2023 - row.Año)\n",
        "  else:\n",
        "    dataset.loc[index, 'km_media'] = 0\n",
        "\n",
        "dataset\n"
      ],
      "metadata": {
        "colab": {
          "base_uri": "https://localhost:8080/",
          "height": 423
        },
        "id": "kZmx5Lb-xKwf",
        "outputId": "7d0bba00-f3ac-4e82-c299-c14b05727fda"
      },
      "execution_count": null,
      "outputs": [
        {
          "output_type": "execute_result",
          "data": {
            "text/plain": [
              "                    Nombre                  Motor   Año  Kilometraje  Cero_km  \\\n",
              "0            Jetta Variant        Motor 4.0 Turbo  2003      44410.0    False   \n",
              "1                   Passat           Motor Diesel  1991       5712.0    False   \n",
              "2                 Crossfox        Motor Diesel V8  1990      37123.0    False   \n",
              "3                      DS5        Motor 2.4 Turbo  2019          NaN     True   \n",
              "4         Aston Martin DB4        Motor 2.4 Turbo  2006      25757.0    False   \n",
              "..                     ...                    ...   ...          ...      ...   \n",
              "253           Phantom 2013               Motor V8  2014      27505.0    False   \n",
              "254  Cadillac Ciel concept               Motor V8  1991      29981.0    False   \n",
              "255             Classe GLK  Motor 5.0 V8 Bi-Turbo  2002      52637.0    False   \n",
              "256       Aston Martin DB5           Motor Diesel  1996       7685.0    False   \n",
              "257                  Macan        Motor Diesel V6  1992      50188.0    False   \n",
              "\n",
              "                                            Accesorios      Valor     km_media  \n",
              "0    ['Llantas de aleación', 'Cerraduras electricas...   88078.64  2220.500000  \n",
              "1    ['Central multimedia', 'Techo panorámico', 'Fr...  106161.94   178.500000  \n",
              "2    ['Piloto automático', 'Control de estabilidad'...   72832.16  1124.939394  \n",
              "3    ['Cerraduras electricas', '4 X 4', 'Ventanas e...  124549.07          NaN  \n",
              "4    ['Llantas de aleación', '4 X 4', 'Central mult...   92612.10  1515.117647  \n",
              "..                                                 ...        ...          ...  \n",
              "253  ['Control de estabilidad', 'Piloto automático'...   51759.58  3056.111111  \n",
              "254  ['Asientos de cuero', 'Panel digital', 'Sensor...   51667.06   936.906250  \n",
              "255  ['Llantas de aleación', 'Control de tracción',...   68934.03  2506.523810  \n",
              "256  ['Aire condicionado', '4 X 4', 'Transmisión au...  122110.90   284.629630  \n",
              "257  ['Central multimedia', 'Techo panorámico', 'Ve...   90381.47  1618.967742  \n",
              "\n",
              "[258 rows x 8 columns]"
            ],
            "text/html": [
              "\n",
              "  <div id=\"df-bbdb491f-de54-4adc-a9f2-20ca78085e92\">\n",
              "    <div class=\"colab-df-container\">\n",
              "      <div>\n",
              "<style scoped>\n",
              "    .dataframe tbody tr th:only-of-type {\n",
              "        vertical-align: middle;\n",
              "    }\n",
              "\n",
              "    .dataframe tbody tr th {\n",
              "        vertical-align: top;\n",
              "    }\n",
              "\n",
              "    .dataframe thead th {\n",
              "        text-align: right;\n",
              "    }\n",
              "</style>\n",
              "<table border=\"1\" class=\"dataframe\">\n",
              "  <thead>\n",
              "    <tr style=\"text-align: right;\">\n",
              "      <th></th>\n",
              "      <th>Nombre</th>\n",
              "      <th>Motor</th>\n",
              "      <th>Año</th>\n",
              "      <th>Kilometraje</th>\n",
              "      <th>Cero_km</th>\n",
              "      <th>Accesorios</th>\n",
              "      <th>Valor</th>\n",
              "      <th>km_media</th>\n",
              "    </tr>\n",
              "  </thead>\n",
              "  <tbody>\n",
              "    <tr>\n",
              "      <th>0</th>\n",
              "      <td>Jetta Variant</td>\n",
              "      <td>Motor 4.0 Turbo</td>\n",
              "      <td>2003</td>\n",
              "      <td>44410.0</td>\n",
              "      <td>False</td>\n",
              "      <td>['Llantas de aleación', 'Cerraduras electricas...</td>\n",
              "      <td>88078.64</td>\n",
              "      <td>2220.500000</td>\n",
              "    </tr>\n",
              "    <tr>\n",
              "      <th>1</th>\n",
              "      <td>Passat</td>\n",
              "      <td>Motor Diesel</td>\n",
              "      <td>1991</td>\n",
              "      <td>5712.0</td>\n",
              "      <td>False</td>\n",
              "      <td>['Central multimedia', 'Techo panorámico', 'Fr...</td>\n",
              "      <td>106161.94</td>\n",
              "      <td>178.500000</td>\n",
              "    </tr>\n",
              "    <tr>\n",
              "      <th>2</th>\n",
              "      <td>Crossfox</td>\n",
              "      <td>Motor Diesel V8</td>\n",
              "      <td>1990</td>\n",
              "      <td>37123.0</td>\n",
              "      <td>False</td>\n",
              "      <td>['Piloto automático', 'Control de estabilidad'...</td>\n",
              "      <td>72832.16</td>\n",
              "      <td>1124.939394</td>\n",
              "    </tr>\n",
              "    <tr>\n",
              "      <th>3</th>\n",
              "      <td>DS5</td>\n",
              "      <td>Motor 2.4 Turbo</td>\n",
              "      <td>2019</td>\n",
              "      <td>NaN</td>\n",
              "      <td>True</td>\n",
              "      <td>['Cerraduras electricas', '4 X 4', 'Ventanas e...</td>\n",
              "      <td>124549.07</td>\n",
              "      <td>NaN</td>\n",
              "    </tr>\n",
              "    <tr>\n",
              "      <th>4</th>\n",
              "      <td>Aston Martin DB4</td>\n",
              "      <td>Motor 2.4 Turbo</td>\n",
              "      <td>2006</td>\n",
              "      <td>25757.0</td>\n",
              "      <td>False</td>\n",
              "      <td>['Llantas de aleación', '4 X 4', 'Central mult...</td>\n",
              "      <td>92612.10</td>\n",
              "      <td>1515.117647</td>\n",
              "    </tr>\n",
              "    <tr>\n",
              "      <th>...</th>\n",
              "      <td>...</td>\n",
              "      <td>...</td>\n",
              "      <td>...</td>\n",
              "      <td>...</td>\n",
              "      <td>...</td>\n",
              "      <td>...</td>\n",
              "      <td>...</td>\n",
              "      <td>...</td>\n",
              "    </tr>\n",
              "    <tr>\n",
              "      <th>253</th>\n",
              "      <td>Phantom 2013</td>\n",
              "      <td>Motor V8</td>\n",
              "      <td>2014</td>\n",
              "      <td>27505.0</td>\n",
              "      <td>False</td>\n",
              "      <td>['Control de estabilidad', 'Piloto automático'...</td>\n",
              "      <td>51759.58</td>\n",
              "      <td>3056.111111</td>\n",
              "    </tr>\n",
              "    <tr>\n",
              "      <th>254</th>\n",
              "      <td>Cadillac Ciel concept</td>\n",
              "      <td>Motor V8</td>\n",
              "      <td>1991</td>\n",
              "      <td>29981.0</td>\n",
              "      <td>False</td>\n",
              "      <td>['Asientos de cuero', 'Panel digital', 'Sensor...</td>\n",
              "      <td>51667.06</td>\n",
              "      <td>936.906250</td>\n",
              "    </tr>\n",
              "    <tr>\n",
              "      <th>255</th>\n",
              "      <td>Classe GLK</td>\n",
              "      <td>Motor 5.0 V8 Bi-Turbo</td>\n",
              "      <td>2002</td>\n",
              "      <td>52637.0</td>\n",
              "      <td>False</td>\n",
              "      <td>['Llantas de aleación', 'Control de tracción',...</td>\n",
              "      <td>68934.03</td>\n",
              "      <td>2506.523810</td>\n",
              "    </tr>\n",
              "    <tr>\n",
              "      <th>256</th>\n",
              "      <td>Aston Martin DB5</td>\n",
              "      <td>Motor Diesel</td>\n",
              "      <td>1996</td>\n",
              "      <td>7685.0</td>\n",
              "      <td>False</td>\n",
              "      <td>['Aire condicionado', '4 X 4', 'Transmisión au...</td>\n",
              "      <td>122110.90</td>\n",
              "      <td>284.629630</td>\n",
              "    </tr>\n",
              "    <tr>\n",
              "      <th>257</th>\n",
              "      <td>Macan</td>\n",
              "      <td>Motor Diesel V6</td>\n",
              "      <td>1992</td>\n",
              "      <td>50188.0</td>\n",
              "      <td>False</td>\n",
              "      <td>['Central multimedia', 'Techo panorámico', 'Ve...</td>\n",
              "      <td>90381.47</td>\n",
              "      <td>1618.967742</td>\n",
              "    </tr>\n",
              "  </tbody>\n",
              "</table>\n",
              "<p>258 rows × 8 columns</p>\n",
              "</div>\n",
              "      <button class=\"colab-df-convert\" onclick=\"convertToInteractive('df-bbdb491f-de54-4adc-a9f2-20ca78085e92')\"\n",
              "              title=\"Convert this dataframe to an interactive table.\"\n",
              "              style=\"display:none;\">\n",
              "        \n",
              "  <svg xmlns=\"http://www.w3.org/2000/svg\" height=\"24px\"viewBox=\"0 0 24 24\"\n",
              "       width=\"24px\">\n",
              "    <path d=\"M0 0h24v24H0V0z\" fill=\"none\"/>\n",
              "    <path d=\"M18.56 5.44l.94 2.06.94-2.06 2.06-.94-2.06-.94-.94-2.06-.94 2.06-2.06.94zm-11 1L8.5 8.5l.94-2.06 2.06-.94-2.06-.94L8.5 2.5l-.94 2.06-2.06.94zm10 10l.94 2.06.94-2.06 2.06-.94-2.06-.94-.94-2.06-.94 2.06-2.06.94z\"/><path d=\"M17.41 7.96l-1.37-1.37c-.4-.4-.92-.59-1.43-.59-.52 0-1.04.2-1.43.59L10.3 9.45l-7.72 7.72c-.78.78-.78 2.05 0 2.83L4 21.41c.39.39.9.59 1.41.59.51 0 1.02-.2 1.41-.59l7.78-7.78 2.81-2.81c.8-.78.8-2.07 0-2.86zM5.41 20L4 18.59l7.72-7.72 1.47 1.35L5.41 20z\"/>\n",
              "  </svg>\n",
              "      </button>\n",
              "      \n",
              "  <style>\n",
              "    .colab-df-container {\n",
              "      display:flex;\n",
              "      flex-wrap:wrap;\n",
              "      gap: 12px;\n",
              "    }\n",
              "\n",
              "    .colab-df-convert {\n",
              "      background-color: #E8F0FE;\n",
              "      border: none;\n",
              "      border-radius: 50%;\n",
              "      cursor: pointer;\n",
              "      display: none;\n",
              "      fill: #1967D2;\n",
              "      height: 32px;\n",
              "      padding: 0 0 0 0;\n",
              "      width: 32px;\n",
              "    }\n",
              "\n",
              "    .colab-df-convert:hover {\n",
              "      background-color: #E2EBFA;\n",
              "      box-shadow: 0px 1px 2px rgba(60, 64, 67, 0.3), 0px 1px 3px 1px rgba(60, 64, 67, 0.15);\n",
              "      fill: #174EA6;\n",
              "    }\n",
              "\n",
              "    [theme=dark] .colab-df-convert {\n",
              "      background-color: #3B4455;\n",
              "      fill: #D2E3FC;\n",
              "    }\n",
              "\n",
              "    [theme=dark] .colab-df-convert:hover {\n",
              "      background-color: #434B5C;\n",
              "      box-shadow: 0px 1px 3px 1px rgba(0, 0, 0, 0.15);\n",
              "      filter: drop-shadow(0px 1px 2px rgba(0, 0, 0, 0.3));\n",
              "      fill: #FFFFFF;\n",
              "    }\n",
              "  </style>\n",
              "\n",
              "      <script>\n",
              "        const buttonEl =\n",
              "          document.querySelector('#df-bbdb491f-de54-4adc-a9f2-20ca78085e92 button.colab-df-convert');\n",
              "        buttonEl.style.display =\n",
              "          google.colab.kernel.accessAllowed ? 'block' : 'none';\n",
              "\n",
              "        async function convertToInteractive(key) {\n",
              "          const element = document.querySelector('#df-bbdb491f-de54-4adc-a9f2-20ca78085e92');\n",
              "          const dataTable =\n",
              "            await google.colab.kernel.invokeFunction('convertToInteractive',\n",
              "                                                     [key], {});\n",
              "          if (!dataTable) return;\n",
              "\n",
              "          const docLinkHtml = 'Like what you see? Visit the ' +\n",
              "            '<a target=\"_blank\" href=https://colab.research.google.com/notebooks/data_table.ipynb>data table notebook</a>'\n",
              "            + ' to learn more about interactive tables.';\n",
              "          element.innerHTML = '';\n",
              "          dataTable['output_type'] = 'display_data';\n",
              "          await google.colab.output.renderOutput(dataTable, element);\n",
              "          const docLink = document.createElement('div');\n",
              "          docLink.innerHTML = docLinkHtml;\n",
              "          element.appendChild(docLink);\n",
              "        }\n",
              "      </script>\n",
              "    </div>\n",
              "  </div>\n",
              "  "
            ]
          },
          "metadata": {},
          "execution_count": 58
        }
      ]
    },
    {
      "cell_type": "markdown",
      "metadata": {
        "id": "HnUzHFQPD1Ba"
      },
      "source": [
        "# 5.5 Tratamiento de datos"
      ]
    },
    {
      "cell_type": "code",
      "execution_count": null,
      "metadata": {
        "id": "FRxBWoBGD1Ba",
        "colab": {
          "base_uri": "https://localhost:8080/",
          "height": 206
        },
        "outputId": "5be254d2-7ba7-490a-97ea-d17e05a8bee1"
      },
      "outputs": [
        {
          "output_type": "execute_result",
          "data": {
            "text/plain": [
              "             Nombre            Motor   Año  Kilometraje  Cero_km  \\\n",
              "0     Jetta Variant  Motor 4.0 Turbo  2003      44410.0    False   \n",
              "1            Passat     Motor Diesel  1991       5712.0    False   \n",
              "2          Crossfox  Motor Diesel V8  1990      37123.0    False   \n",
              "3               DS5  Motor 2.4 Turbo  2019          NaN     True   \n",
              "4  Aston Martin DB4  Motor 2.4 Turbo  2006      25757.0    False   \n",
              "\n",
              "                                          Accesorios      Valor     km_media  \n",
              "0  ['Llantas de aleación', 'Cerraduras electricas...   88078.64  2220.500000  \n",
              "1  ['Central multimedia', 'Techo panorámico', 'Fr...  106161.94   178.500000  \n",
              "2  ['Piloto automático', 'Control de estabilidad'...   72832.16  1124.939394  \n",
              "3  ['Cerraduras electricas', '4 X 4', 'Ventanas e...  124549.07          NaN  \n",
              "4  ['Llantas de aleación', '4 X 4', 'Central mult...   92612.10  1515.117647  "
            ],
            "text/html": [
              "\n",
              "  <div id=\"df-b755d436-c6bb-41b2-bdfe-ccfc94d6143b\">\n",
              "    <div class=\"colab-df-container\">\n",
              "      <div>\n",
              "<style scoped>\n",
              "    .dataframe tbody tr th:only-of-type {\n",
              "        vertical-align: middle;\n",
              "    }\n",
              "\n",
              "    .dataframe tbody tr th {\n",
              "        vertical-align: top;\n",
              "    }\n",
              "\n",
              "    .dataframe thead th {\n",
              "        text-align: right;\n",
              "    }\n",
              "</style>\n",
              "<table border=\"1\" class=\"dataframe\">\n",
              "  <thead>\n",
              "    <tr style=\"text-align: right;\">\n",
              "      <th></th>\n",
              "      <th>Nombre</th>\n",
              "      <th>Motor</th>\n",
              "      <th>Año</th>\n",
              "      <th>Kilometraje</th>\n",
              "      <th>Cero_km</th>\n",
              "      <th>Accesorios</th>\n",
              "      <th>Valor</th>\n",
              "      <th>km_media</th>\n",
              "    </tr>\n",
              "  </thead>\n",
              "  <tbody>\n",
              "    <tr>\n",
              "      <th>0</th>\n",
              "      <td>Jetta Variant</td>\n",
              "      <td>Motor 4.0 Turbo</td>\n",
              "      <td>2003</td>\n",
              "      <td>44410.0</td>\n",
              "      <td>False</td>\n",
              "      <td>['Llantas de aleación', 'Cerraduras electricas...</td>\n",
              "      <td>88078.64</td>\n",
              "      <td>2220.500000</td>\n",
              "    </tr>\n",
              "    <tr>\n",
              "      <th>1</th>\n",
              "      <td>Passat</td>\n",
              "      <td>Motor Diesel</td>\n",
              "      <td>1991</td>\n",
              "      <td>5712.0</td>\n",
              "      <td>False</td>\n",
              "      <td>['Central multimedia', 'Techo panorámico', 'Fr...</td>\n",
              "      <td>106161.94</td>\n",
              "      <td>178.500000</td>\n",
              "    </tr>\n",
              "    <tr>\n",
              "      <th>2</th>\n",
              "      <td>Crossfox</td>\n",
              "      <td>Motor Diesel V8</td>\n",
              "      <td>1990</td>\n",
              "      <td>37123.0</td>\n",
              "      <td>False</td>\n",
              "      <td>['Piloto automático', 'Control de estabilidad'...</td>\n",
              "      <td>72832.16</td>\n",
              "      <td>1124.939394</td>\n",
              "    </tr>\n",
              "    <tr>\n",
              "      <th>3</th>\n",
              "      <td>DS5</td>\n",
              "      <td>Motor 2.4 Turbo</td>\n",
              "      <td>2019</td>\n",
              "      <td>NaN</td>\n",
              "      <td>True</td>\n",
              "      <td>['Cerraduras electricas', '4 X 4', 'Ventanas e...</td>\n",
              "      <td>124549.07</td>\n",
              "      <td>NaN</td>\n",
              "    </tr>\n",
              "    <tr>\n",
              "      <th>4</th>\n",
              "      <td>Aston Martin DB4</td>\n",
              "      <td>Motor 2.4 Turbo</td>\n",
              "      <td>2006</td>\n",
              "      <td>25757.0</td>\n",
              "      <td>False</td>\n",
              "      <td>['Llantas de aleación', '4 X 4', 'Central mult...</td>\n",
              "      <td>92612.10</td>\n",
              "      <td>1515.117647</td>\n",
              "    </tr>\n",
              "  </tbody>\n",
              "</table>\n",
              "</div>\n",
              "      <button class=\"colab-df-convert\" onclick=\"convertToInteractive('df-b755d436-c6bb-41b2-bdfe-ccfc94d6143b')\"\n",
              "              title=\"Convert this dataframe to an interactive table.\"\n",
              "              style=\"display:none;\">\n",
              "        \n",
              "  <svg xmlns=\"http://www.w3.org/2000/svg\" height=\"24px\"viewBox=\"0 0 24 24\"\n",
              "       width=\"24px\">\n",
              "    <path d=\"M0 0h24v24H0V0z\" fill=\"none\"/>\n",
              "    <path d=\"M18.56 5.44l.94 2.06.94-2.06 2.06-.94-2.06-.94-.94-2.06-.94 2.06-2.06.94zm-11 1L8.5 8.5l.94-2.06 2.06-.94-2.06-.94L8.5 2.5l-.94 2.06-2.06.94zm10 10l.94 2.06.94-2.06 2.06-.94-2.06-.94-.94-2.06-.94 2.06-2.06.94z\"/><path d=\"M17.41 7.96l-1.37-1.37c-.4-.4-.92-.59-1.43-.59-.52 0-1.04.2-1.43.59L10.3 9.45l-7.72 7.72c-.78.78-.78 2.05 0 2.83L4 21.41c.39.39.9.59 1.41.59.51 0 1.02-.2 1.41-.59l7.78-7.78 2.81-2.81c.8-.78.8-2.07 0-2.86zM5.41 20L4 18.59l7.72-7.72 1.47 1.35L5.41 20z\"/>\n",
              "  </svg>\n",
              "      </button>\n",
              "      \n",
              "  <style>\n",
              "    .colab-df-container {\n",
              "      display:flex;\n",
              "      flex-wrap:wrap;\n",
              "      gap: 12px;\n",
              "    }\n",
              "\n",
              "    .colab-df-convert {\n",
              "      background-color: #E8F0FE;\n",
              "      border: none;\n",
              "      border-radius: 50%;\n",
              "      cursor: pointer;\n",
              "      display: none;\n",
              "      fill: #1967D2;\n",
              "      height: 32px;\n",
              "      padding: 0 0 0 0;\n",
              "      width: 32px;\n",
              "    }\n",
              "\n",
              "    .colab-df-convert:hover {\n",
              "      background-color: #E2EBFA;\n",
              "      box-shadow: 0px 1px 2px rgba(60, 64, 67, 0.3), 0px 1px 3px 1px rgba(60, 64, 67, 0.15);\n",
              "      fill: #174EA6;\n",
              "    }\n",
              "\n",
              "    [theme=dark] .colab-df-convert {\n",
              "      background-color: #3B4455;\n",
              "      fill: #D2E3FC;\n",
              "    }\n",
              "\n",
              "    [theme=dark] .colab-df-convert:hover {\n",
              "      background-color: #434B5C;\n",
              "      box-shadow: 0px 1px 3px 1px rgba(0, 0, 0, 0.15);\n",
              "      filter: drop-shadow(0px 1px 2px rgba(0, 0, 0, 0.3));\n",
              "      fill: #FFFFFF;\n",
              "    }\n",
              "  </style>\n",
              "\n",
              "      <script>\n",
              "        const buttonEl =\n",
              "          document.querySelector('#df-b755d436-c6bb-41b2-bdfe-ccfc94d6143b button.colab-df-convert');\n",
              "        buttonEl.style.display =\n",
              "          google.colab.kernel.accessAllowed ? 'block' : 'none';\n",
              "\n",
              "        async function convertToInteractive(key) {\n",
              "          const element = document.querySelector('#df-b755d436-c6bb-41b2-bdfe-ccfc94d6143b');\n",
              "          const dataTable =\n",
              "            await google.colab.kernel.invokeFunction('convertToInteractive',\n",
              "                                                     [key], {});\n",
              "          if (!dataTable) return;\n",
              "\n",
              "          const docLinkHtml = 'Like what you see? Visit the ' +\n",
              "            '<a target=\"_blank\" href=https://colab.research.google.com/notebooks/data_table.ipynb>data table notebook</a>'\n",
              "            + ' to learn more about interactive tables.';\n",
              "          element.innerHTML = '';\n",
              "          dataTable['output_type'] = 'display_data';\n",
              "          await google.colab.output.renderOutput(dataTable, element);\n",
              "          const docLink = document.createElement('div');\n",
              "          docLink.innerHTML = docLinkHtml;\n",
              "          element.appendChild(docLink);\n",
              "        }\n",
              "      </script>\n",
              "    </div>\n",
              "  </div>\n",
              "  "
            ]
          },
          "metadata": {},
          "execution_count": 59
        }
      ],
      "source": [
        "dataset.head()"
      ]
    },
    {
      "cell_type": "code",
      "source": [
        "dataset.info()"
      ],
      "metadata": {
        "colab": {
          "base_uri": "https://localhost:8080/"
        },
        "id": "lvZ_pWCPytX7",
        "outputId": "2d5ddf41-01af-430c-a79b-b79fde9fa15e"
      },
      "execution_count": null,
      "outputs": [
        {
          "output_type": "stream",
          "name": "stdout",
          "text": [
            "<class 'pandas.core.frame.DataFrame'>\n",
            "RangeIndex: 258 entries, 0 to 257\n",
            "Data columns (total 8 columns):\n",
            " #   Column       Non-Null Count  Dtype  \n",
            "---  ------       --------------  -----  \n",
            " 0   Nombre       258 non-null    object \n",
            " 1   Motor        258 non-null    object \n",
            " 2   Año          258 non-null    int64  \n",
            " 3   Kilometraje  197 non-null    float64\n",
            " 4   Cero_km      258 non-null    bool   \n",
            " 5   Accesorios   258 non-null    object \n",
            " 6   Valor        258 non-null    float64\n",
            " 7   km_media     197 non-null    float64\n",
            "dtypes: bool(1), float64(3), int64(1), object(3)\n",
            "memory usage: 14.5+ KB\n"
          ]
        }
      ]
    },
    {
      "cell_type": "code",
      "execution_count": null,
      "metadata": {
        "id": "HHSwH0ZaD1Bc",
        "colab": {
          "base_uri": "https://localhost:8080/"
        },
        "outputId": "29573b17-c2ee-43c4-f98f-cbe23c3a1732"
      },
      "outputs": [
        {
          "output_type": "execute_result",
          "data": {
            "text/plain": [
              "0      False\n",
              "1      False\n",
              "2      False\n",
              "3       True\n",
              "4      False\n",
              "       ...  \n",
              "253    False\n",
              "254    False\n",
              "255    False\n",
              "256    False\n",
              "257    False\n",
              "Name: Kilometraje, Length: 258, dtype: bool"
            ]
          },
          "metadata": {},
          "execution_count": 61
        }
      ],
      "source": [
        "dataset.Kilometraje.isna()"
      ]
    },
    {
      "cell_type": "code",
      "execution_count": null,
      "metadata": {
        "id": "G27pxgZ5D1Bd",
        "scrolled": true,
        "colab": {
          "base_uri": "https://localhost:8080/",
          "height": 423
        },
        "outputId": "65872de8-4d97-4536-ddcc-4db983ae5038"
      },
      "outputs": [
        {
          "output_type": "execute_result",
          "data": {
            "text/plain": [
              "                   Nombre            Motor   Año  Kilometraje  Cero_km  \\\n",
              "3                     DS5  Motor 2.4 Turbo  2019          NaN     True   \n",
              "6                      A5  Motor 4.0 Turbo  2019          NaN     True   \n",
              "13                     J5         Motor V6  2019          NaN     True   \n",
              "17                     A3     Motor 1.0 8v  2019          NaN     True   \n",
              "21              Série 1 M         Motor V8  2019          NaN     True   \n",
              "..                    ...              ...   ...          ...      ...   \n",
              "238  Lamborghini Reventón  Motor 4.0 Turbo  2019          NaN     True   \n",
              "242            Benni Mini         Motor V8  2019          NaN     True   \n",
              "243                   Uno  Motor Diesel V6  2019          NaN     True   \n",
              "245              Santa Fe    Motor 3.0 32v  2019          NaN     True   \n",
              "248                  XC60  Motor 4.0 Turbo  2019          NaN     True   \n",
              "\n",
              "                                            Accesorios      Valor  km_media  \n",
              "3    ['Cerraduras electricas', '4 X 4', 'Ventanas e...  124549.07       NaN  \n",
              "6    ['Transmisión automática', 'Cámara de estacion...   56445.20       NaN  \n",
              "13   ['Sensor crepuscular', 'Panel digital', 'Llant...   53183.38       NaN  \n",
              "17   ['4 X 4', 'Piloto automático', 'Central multim...   88552.39       NaN  \n",
              "21   ['Control de estabilidad', 'Central multimedia...   94564.40       NaN  \n",
              "..                                                 ...        ...       ...  \n",
              "238  ['Control de tracción', 'Aire condicionado', '...   67664.86       NaN  \n",
              "242  ['Sensor crepuscular', 'Transmisión automática...  126247.84       NaN  \n",
              "243  ['Central multimedia', 'Sensor crepuscular', '...  128852.21       NaN  \n",
              "245  ['Cerraduras electricas', 'Aire condicionado',...  129415.33       NaN  \n",
              "248  ['Panel digital', 'Piloto automático', 'Centra...   77675.79       NaN  \n",
              "\n",
              "[61 rows x 8 columns]"
            ],
            "text/html": [
              "\n",
              "  <div id=\"df-cb30dbd5-c8a2-4f67-af0b-1c5020f6caa8\">\n",
              "    <div class=\"colab-df-container\">\n",
              "      <div>\n",
              "<style scoped>\n",
              "    .dataframe tbody tr th:only-of-type {\n",
              "        vertical-align: middle;\n",
              "    }\n",
              "\n",
              "    .dataframe tbody tr th {\n",
              "        vertical-align: top;\n",
              "    }\n",
              "\n",
              "    .dataframe thead th {\n",
              "        text-align: right;\n",
              "    }\n",
              "</style>\n",
              "<table border=\"1\" class=\"dataframe\">\n",
              "  <thead>\n",
              "    <tr style=\"text-align: right;\">\n",
              "      <th></th>\n",
              "      <th>Nombre</th>\n",
              "      <th>Motor</th>\n",
              "      <th>Año</th>\n",
              "      <th>Kilometraje</th>\n",
              "      <th>Cero_km</th>\n",
              "      <th>Accesorios</th>\n",
              "      <th>Valor</th>\n",
              "      <th>km_media</th>\n",
              "    </tr>\n",
              "  </thead>\n",
              "  <tbody>\n",
              "    <tr>\n",
              "      <th>3</th>\n",
              "      <td>DS5</td>\n",
              "      <td>Motor 2.4 Turbo</td>\n",
              "      <td>2019</td>\n",
              "      <td>NaN</td>\n",
              "      <td>True</td>\n",
              "      <td>['Cerraduras electricas', '4 X 4', 'Ventanas e...</td>\n",
              "      <td>124549.07</td>\n",
              "      <td>NaN</td>\n",
              "    </tr>\n",
              "    <tr>\n",
              "      <th>6</th>\n",
              "      <td>A5</td>\n",
              "      <td>Motor 4.0 Turbo</td>\n",
              "      <td>2019</td>\n",
              "      <td>NaN</td>\n",
              "      <td>True</td>\n",
              "      <td>['Transmisión automática', 'Cámara de estacion...</td>\n",
              "      <td>56445.20</td>\n",
              "      <td>NaN</td>\n",
              "    </tr>\n",
              "    <tr>\n",
              "      <th>13</th>\n",
              "      <td>J5</td>\n",
              "      <td>Motor V6</td>\n",
              "      <td>2019</td>\n",
              "      <td>NaN</td>\n",
              "      <td>True</td>\n",
              "      <td>['Sensor crepuscular', 'Panel digital', 'Llant...</td>\n",
              "      <td>53183.38</td>\n",
              "      <td>NaN</td>\n",
              "    </tr>\n",
              "    <tr>\n",
              "      <th>17</th>\n",
              "      <td>A3</td>\n",
              "      <td>Motor 1.0 8v</td>\n",
              "      <td>2019</td>\n",
              "      <td>NaN</td>\n",
              "      <td>True</td>\n",
              "      <td>['4 X 4', 'Piloto automático', 'Central multim...</td>\n",
              "      <td>88552.39</td>\n",
              "      <td>NaN</td>\n",
              "    </tr>\n",
              "    <tr>\n",
              "      <th>21</th>\n",
              "      <td>Série 1 M</td>\n",
              "      <td>Motor V8</td>\n",
              "      <td>2019</td>\n",
              "      <td>NaN</td>\n",
              "      <td>True</td>\n",
              "      <td>['Control de estabilidad', 'Central multimedia...</td>\n",
              "      <td>94564.40</td>\n",
              "      <td>NaN</td>\n",
              "    </tr>\n",
              "    <tr>\n",
              "      <th>...</th>\n",
              "      <td>...</td>\n",
              "      <td>...</td>\n",
              "      <td>...</td>\n",
              "      <td>...</td>\n",
              "      <td>...</td>\n",
              "      <td>...</td>\n",
              "      <td>...</td>\n",
              "      <td>...</td>\n",
              "    </tr>\n",
              "    <tr>\n",
              "      <th>238</th>\n",
              "      <td>Lamborghini Reventón</td>\n",
              "      <td>Motor 4.0 Turbo</td>\n",
              "      <td>2019</td>\n",
              "      <td>NaN</td>\n",
              "      <td>True</td>\n",
              "      <td>['Control de tracción', 'Aire condicionado', '...</td>\n",
              "      <td>67664.86</td>\n",
              "      <td>NaN</td>\n",
              "    </tr>\n",
              "    <tr>\n",
              "      <th>242</th>\n",
              "      <td>Benni Mini</td>\n",
              "      <td>Motor V8</td>\n",
              "      <td>2019</td>\n",
              "      <td>NaN</td>\n",
              "      <td>True</td>\n",
              "      <td>['Sensor crepuscular', 'Transmisión automática...</td>\n",
              "      <td>126247.84</td>\n",
              "      <td>NaN</td>\n",
              "    </tr>\n",
              "    <tr>\n",
              "      <th>243</th>\n",
              "      <td>Uno</td>\n",
              "      <td>Motor Diesel V6</td>\n",
              "      <td>2019</td>\n",
              "      <td>NaN</td>\n",
              "      <td>True</td>\n",
              "      <td>['Central multimedia', 'Sensor crepuscular', '...</td>\n",
              "      <td>128852.21</td>\n",
              "      <td>NaN</td>\n",
              "    </tr>\n",
              "    <tr>\n",
              "      <th>245</th>\n",
              "      <td>Santa Fe</td>\n",
              "      <td>Motor 3.0 32v</td>\n",
              "      <td>2019</td>\n",
              "      <td>NaN</td>\n",
              "      <td>True</td>\n",
              "      <td>['Cerraduras electricas', 'Aire condicionado',...</td>\n",
              "      <td>129415.33</td>\n",
              "      <td>NaN</td>\n",
              "    </tr>\n",
              "    <tr>\n",
              "      <th>248</th>\n",
              "      <td>XC60</td>\n",
              "      <td>Motor 4.0 Turbo</td>\n",
              "      <td>2019</td>\n",
              "      <td>NaN</td>\n",
              "      <td>True</td>\n",
              "      <td>['Panel digital', 'Piloto automático', 'Centra...</td>\n",
              "      <td>77675.79</td>\n",
              "      <td>NaN</td>\n",
              "    </tr>\n",
              "  </tbody>\n",
              "</table>\n",
              "<p>61 rows × 8 columns</p>\n",
              "</div>\n",
              "      <button class=\"colab-df-convert\" onclick=\"convertToInteractive('df-cb30dbd5-c8a2-4f67-af0b-1c5020f6caa8')\"\n",
              "              title=\"Convert this dataframe to an interactive table.\"\n",
              "              style=\"display:none;\">\n",
              "        \n",
              "  <svg xmlns=\"http://www.w3.org/2000/svg\" height=\"24px\"viewBox=\"0 0 24 24\"\n",
              "       width=\"24px\">\n",
              "    <path d=\"M0 0h24v24H0V0z\" fill=\"none\"/>\n",
              "    <path d=\"M18.56 5.44l.94 2.06.94-2.06 2.06-.94-2.06-.94-.94-2.06-.94 2.06-2.06.94zm-11 1L8.5 8.5l.94-2.06 2.06-.94-2.06-.94L8.5 2.5l-.94 2.06-2.06.94zm10 10l.94 2.06.94-2.06 2.06-.94-2.06-.94-.94-2.06-.94 2.06-2.06.94z\"/><path d=\"M17.41 7.96l-1.37-1.37c-.4-.4-.92-.59-1.43-.59-.52 0-1.04.2-1.43.59L10.3 9.45l-7.72 7.72c-.78.78-.78 2.05 0 2.83L4 21.41c.39.39.9.59 1.41.59.51 0 1.02-.2 1.41-.59l7.78-7.78 2.81-2.81c.8-.78.8-2.07 0-2.86zM5.41 20L4 18.59l7.72-7.72 1.47 1.35L5.41 20z\"/>\n",
              "  </svg>\n",
              "      </button>\n",
              "      \n",
              "  <style>\n",
              "    .colab-df-container {\n",
              "      display:flex;\n",
              "      flex-wrap:wrap;\n",
              "      gap: 12px;\n",
              "    }\n",
              "\n",
              "    .colab-df-convert {\n",
              "      background-color: #E8F0FE;\n",
              "      border: none;\n",
              "      border-radius: 50%;\n",
              "      cursor: pointer;\n",
              "      display: none;\n",
              "      fill: #1967D2;\n",
              "      height: 32px;\n",
              "      padding: 0 0 0 0;\n",
              "      width: 32px;\n",
              "    }\n",
              "\n",
              "    .colab-df-convert:hover {\n",
              "      background-color: #E2EBFA;\n",
              "      box-shadow: 0px 1px 2px rgba(60, 64, 67, 0.3), 0px 1px 3px 1px rgba(60, 64, 67, 0.15);\n",
              "      fill: #174EA6;\n",
              "    }\n",
              "\n",
              "    [theme=dark] .colab-df-convert {\n",
              "      background-color: #3B4455;\n",
              "      fill: #D2E3FC;\n",
              "    }\n",
              "\n",
              "    [theme=dark] .colab-df-convert:hover {\n",
              "      background-color: #434B5C;\n",
              "      box-shadow: 0px 1px 3px 1px rgba(0, 0, 0, 0.15);\n",
              "      filter: drop-shadow(0px 1px 2px rgba(0, 0, 0, 0.3));\n",
              "      fill: #FFFFFF;\n",
              "    }\n",
              "  </style>\n",
              "\n",
              "      <script>\n",
              "        const buttonEl =\n",
              "          document.querySelector('#df-cb30dbd5-c8a2-4f67-af0b-1c5020f6caa8 button.colab-df-convert');\n",
              "        buttonEl.style.display =\n",
              "          google.colab.kernel.accessAllowed ? 'block' : 'none';\n",
              "\n",
              "        async function convertToInteractive(key) {\n",
              "          const element = document.querySelector('#df-cb30dbd5-c8a2-4f67-af0b-1c5020f6caa8');\n",
              "          const dataTable =\n",
              "            await google.colab.kernel.invokeFunction('convertToInteractive',\n",
              "                                                     [key], {});\n",
              "          if (!dataTable) return;\n",
              "\n",
              "          const docLinkHtml = 'Like what you see? Visit the ' +\n",
              "            '<a target=\"_blank\" href=https://colab.research.google.com/notebooks/data_table.ipynb>data table notebook</a>'\n",
              "            + ' to learn more about interactive tables.';\n",
              "          element.innerHTML = '';\n",
              "          dataTable['output_type'] = 'display_data';\n",
              "          await google.colab.output.renderOutput(dataTable, element);\n",
              "          const docLink = document.createElement('div');\n",
              "          docLink.innerHTML = docLinkHtml;\n",
              "          element.appendChild(docLink);\n",
              "        }\n",
              "      </script>\n",
              "    </div>\n",
              "  </div>\n",
              "  "
            ]
          },
          "metadata": {},
          "execution_count": 62
        }
      ],
      "source": [
        "dataset[dataset.Kilometraje.isna()]"
      ]
    },
    {
      "cell_type": "code",
      "execution_count": null,
      "metadata": {
        "id": "DhlRbxy2D1Bd",
        "scrolled": true,
        "colab": {
          "base_uri": "https://localhost:8080/",
          "height": 423
        },
        "outputId": "bf9655ad-46bd-4797-bc7f-a3b17b068aa8"
      },
      "outputs": [
        {
          "output_type": "execute_result",
          "data": {
            "text/plain": [
              "                    Nombre                  Motor   Año  Kilometraje  Cero_km  \\\n",
              "0            Jetta Variant        Motor 4.0 Turbo  2003      44410.0    False   \n",
              "1                   Passat           Motor Diesel  1991       5712.0    False   \n",
              "2                 Crossfox        Motor Diesel V8  1990      37123.0    False   \n",
              "3                      DS5        Motor 2.4 Turbo  2019          0.0     True   \n",
              "4         Aston Martin DB4        Motor 2.4 Turbo  2006      25757.0    False   \n",
              "..                     ...                    ...   ...          ...      ...   \n",
              "253           Phantom 2013               Motor V8  2014      27505.0    False   \n",
              "254  Cadillac Ciel concept               Motor V8  1991      29981.0    False   \n",
              "255             Classe GLK  Motor 5.0 V8 Bi-Turbo  2002      52637.0    False   \n",
              "256       Aston Martin DB5           Motor Diesel  1996       7685.0    False   \n",
              "257                  Macan        Motor Diesel V6  1992      50188.0    False   \n",
              "\n",
              "                                            Accesorios      Valor     km_media  \n",
              "0    ['Llantas de aleación', 'Cerraduras electricas...   88078.64  2220.500000  \n",
              "1    ['Central multimedia', 'Techo panorámico', 'Fr...  106161.94   178.500000  \n",
              "2    ['Piloto automático', 'Control de estabilidad'...   72832.16  1124.939394  \n",
              "3    ['Cerraduras electricas', '4 X 4', 'Ventanas e...  124549.07     0.000000  \n",
              "4    ['Llantas de aleación', '4 X 4', 'Central mult...   92612.10  1515.117647  \n",
              "..                                                 ...        ...          ...  \n",
              "253  ['Control de estabilidad', 'Piloto automático'...   51759.58  3056.111111  \n",
              "254  ['Asientos de cuero', 'Panel digital', 'Sensor...   51667.06   936.906250  \n",
              "255  ['Llantas de aleación', 'Control de tracción',...   68934.03  2506.523810  \n",
              "256  ['Aire condicionado', '4 X 4', 'Transmisión au...  122110.90   284.629630  \n",
              "257  ['Central multimedia', 'Techo panorámico', 'Ve...   90381.47  1618.967742  \n",
              "\n",
              "[258 rows x 8 columns]"
            ],
            "text/html": [
              "\n",
              "  <div id=\"df-5c36e24d-f5d9-450f-830d-6d0afeccbe1f\">\n",
              "    <div class=\"colab-df-container\">\n",
              "      <div>\n",
              "<style scoped>\n",
              "    .dataframe tbody tr th:only-of-type {\n",
              "        vertical-align: middle;\n",
              "    }\n",
              "\n",
              "    .dataframe tbody tr th {\n",
              "        vertical-align: top;\n",
              "    }\n",
              "\n",
              "    .dataframe thead th {\n",
              "        text-align: right;\n",
              "    }\n",
              "</style>\n",
              "<table border=\"1\" class=\"dataframe\">\n",
              "  <thead>\n",
              "    <tr style=\"text-align: right;\">\n",
              "      <th></th>\n",
              "      <th>Nombre</th>\n",
              "      <th>Motor</th>\n",
              "      <th>Año</th>\n",
              "      <th>Kilometraje</th>\n",
              "      <th>Cero_km</th>\n",
              "      <th>Accesorios</th>\n",
              "      <th>Valor</th>\n",
              "      <th>km_media</th>\n",
              "    </tr>\n",
              "  </thead>\n",
              "  <tbody>\n",
              "    <tr>\n",
              "      <th>0</th>\n",
              "      <td>Jetta Variant</td>\n",
              "      <td>Motor 4.0 Turbo</td>\n",
              "      <td>2003</td>\n",
              "      <td>44410.0</td>\n",
              "      <td>False</td>\n",
              "      <td>['Llantas de aleación', 'Cerraduras electricas...</td>\n",
              "      <td>88078.64</td>\n",
              "      <td>2220.500000</td>\n",
              "    </tr>\n",
              "    <tr>\n",
              "      <th>1</th>\n",
              "      <td>Passat</td>\n",
              "      <td>Motor Diesel</td>\n",
              "      <td>1991</td>\n",
              "      <td>5712.0</td>\n",
              "      <td>False</td>\n",
              "      <td>['Central multimedia', 'Techo panorámico', 'Fr...</td>\n",
              "      <td>106161.94</td>\n",
              "      <td>178.500000</td>\n",
              "    </tr>\n",
              "    <tr>\n",
              "      <th>2</th>\n",
              "      <td>Crossfox</td>\n",
              "      <td>Motor Diesel V8</td>\n",
              "      <td>1990</td>\n",
              "      <td>37123.0</td>\n",
              "      <td>False</td>\n",
              "      <td>['Piloto automático', 'Control de estabilidad'...</td>\n",
              "      <td>72832.16</td>\n",
              "      <td>1124.939394</td>\n",
              "    </tr>\n",
              "    <tr>\n",
              "      <th>3</th>\n",
              "      <td>DS5</td>\n",
              "      <td>Motor 2.4 Turbo</td>\n",
              "      <td>2019</td>\n",
              "      <td>0.0</td>\n",
              "      <td>True</td>\n",
              "      <td>['Cerraduras electricas', '4 X 4', 'Ventanas e...</td>\n",
              "      <td>124549.07</td>\n",
              "      <td>0.000000</td>\n",
              "    </tr>\n",
              "    <tr>\n",
              "      <th>4</th>\n",
              "      <td>Aston Martin DB4</td>\n",
              "      <td>Motor 2.4 Turbo</td>\n",
              "      <td>2006</td>\n",
              "      <td>25757.0</td>\n",
              "      <td>False</td>\n",
              "      <td>['Llantas de aleación', '4 X 4', 'Central mult...</td>\n",
              "      <td>92612.10</td>\n",
              "      <td>1515.117647</td>\n",
              "    </tr>\n",
              "    <tr>\n",
              "      <th>...</th>\n",
              "      <td>...</td>\n",
              "      <td>...</td>\n",
              "      <td>...</td>\n",
              "      <td>...</td>\n",
              "      <td>...</td>\n",
              "      <td>...</td>\n",
              "      <td>...</td>\n",
              "      <td>...</td>\n",
              "    </tr>\n",
              "    <tr>\n",
              "      <th>253</th>\n",
              "      <td>Phantom 2013</td>\n",
              "      <td>Motor V8</td>\n",
              "      <td>2014</td>\n",
              "      <td>27505.0</td>\n",
              "      <td>False</td>\n",
              "      <td>['Control de estabilidad', 'Piloto automático'...</td>\n",
              "      <td>51759.58</td>\n",
              "      <td>3056.111111</td>\n",
              "    </tr>\n",
              "    <tr>\n",
              "      <th>254</th>\n",
              "      <td>Cadillac Ciel concept</td>\n",
              "      <td>Motor V8</td>\n",
              "      <td>1991</td>\n",
              "      <td>29981.0</td>\n",
              "      <td>False</td>\n",
              "      <td>['Asientos de cuero', 'Panel digital', 'Sensor...</td>\n",
              "      <td>51667.06</td>\n",
              "      <td>936.906250</td>\n",
              "    </tr>\n",
              "    <tr>\n",
              "      <th>255</th>\n",
              "      <td>Classe GLK</td>\n",
              "      <td>Motor 5.0 V8 Bi-Turbo</td>\n",
              "      <td>2002</td>\n",
              "      <td>52637.0</td>\n",
              "      <td>False</td>\n",
              "      <td>['Llantas de aleación', 'Control de tracción',...</td>\n",
              "      <td>68934.03</td>\n",
              "      <td>2506.523810</td>\n",
              "    </tr>\n",
              "    <tr>\n",
              "      <th>256</th>\n",
              "      <td>Aston Martin DB5</td>\n",
              "      <td>Motor Diesel</td>\n",
              "      <td>1996</td>\n",
              "      <td>7685.0</td>\n",
              "      <td>False</td>\n",
              "      <td>['Aire condicionado', '4 X 4', 'Transmisión au...</td>\n",
              "      <td>122110.90</td>\n",
              "      <td>284.629630</td>\n",
              "    </tr>\n",
              "    <tr>\n",
              "      <th>257</th>\n",
              "      <td>Macan</td>\n",
              "      <td>Motor Diesel V6</td>\n",
              "      <td>1992</td>\n",
              "      <td>50188.0</td>\n",
              "      <td>False</td>\n",
              "      <td>['Central multimedia', 'Techo panorámico', 'Ve...</td>\n",
              "      <td>90381.47</td>\n",
              "      <td>1618.967742</td>\n",
              "    </tr>\n",
              "  </tbody>\n",
              "</table>\n",
              "<p>258 rows × 8 columns</p>\n",
              "</div>\n",
              "      <button class=\"colab-df-convert\" onclick=\"convertToInteractive('df-5c36e24d-f5d9-450f-830d-6d0afeccbe1f')\"\n",
              "              title=\"Convert this dataframe to an interactive table.\"\n",
              "              style=\"display:none;\">\n",
              "        \n",
              "  <svg xmlns=\"http://www.w3.org/2000/svg\" height=\"24px\"viewBox=\"0 0 24 24\"\n",
              "       width=\"24px\">\n",
              "    <path d=\"M0 0h24v24H0V0z\" fill=\"none\"/>\n",
              "    <path d=\"M18.56 5.44l.94 2.06.94-2.06 2.06-.94-2.06-.94-.94-2.06-.94 2.06-2.06.94zm-11 1L8.5 8.5l.94-2.06 2.06-.94-2.06-.94L8.5 2.5l-.94 2.06-2.06.94zm10 10l.94 2.06.94-2.06 2.06-.94-2.06-.94-.94-2.06-.94 2.06-2.06.94z\"/><path d=\"M17.41 7.96l-1.37-1.37c-.4-.4-.92-.59-1.43-.59-.52 0-1.04.2-1.43.59L10.3 9.45l-7.72 7.72c-.78.78-.78 2.05 0 2.83L4 21.41c.39.39.9.59 1.41.59.51 0 1.02-.2 1.41-.59l7.78-7.78 2.81-2.81c.8-.78.8-2.07 0-2.86zM5.41 20L4 18.59l7.72-7.72 1.47 1.35L5.41 20z\"/>\n",
              "  </svg>\n",
              "      </button>\n",
              "      \n",
              "  <style>\n",
              "    .colab-df-container {\n",
              "      display:flex;\n",
              "      flex-wrap:wrap;\n",
              "      gap: 12px;\n",
              "    }\n",
              "\n",
              "    .colab-df-convert {\n",
              "      background-color: #E8F0FE;\n",
              "      border: none;\n",
              "      border-radius: 50%;\n",
              "      cursor: pointer;\n",
              "      display: none;\n",
              "      fill: #1967D2;\n",
              "      height: 32px;\n",
              "      padding: 0 0 0 0;\n",
              "      width: 32px;\n",
              "    }\n",
              "\n",
              "    .colab-df-convert:hover {\n",
              "      background-color: #E2EBFA;\n",
              "      box-shadow: 0px 1px 2px rgba(60, 64, 67, 0.3), 0px 1px 3px 1px rgba(60, 64, 67, 0.15);\n",
              "      fill: #174EA6;\n",
              "    }\n",
              "\n",
              "    [theme=dark] .colab-df-convert {\n",
              "      background-color: #3B4455;\n",
              "      fill: #D2E3FC;\n",
              "    }\n",
              "\n",
              "    [theme=dark] .colab-df-convert:hover {\n",
              "      background-color: #434B5C;\n",
              "      box-shadow: 0px 1px 3px 1px rgba(0, 0, 0, 0.15);\n",
              "      filter: drop-shadow(0px 1px 2px rgba(0, 0, 0, 0.3));\n",
              "      fill: #FFFFFF;\n",
              "    }\n",
              "  </style>\n",
              "\n",
              "      <script>\n",
              "        const buttonEl =\n",
              "          document.querySelector('#df-5c36e24d-f5d9-450f-830d-6d0afeccbe1f button.colab-df-convert');\n",
              "        buttonEl.style.display =\n",
              "          google.colab.kernel.accessAllowed ? 'block' : 'none';\n",
              "\n",
              "        async function convertToInteractive(key) {\n",
              "          const element = document.querySelector('#df-5c36e24d-f5d9-450f-830d-6d0afeccbe1f');\n",
              "          const dataTable =\n",
              "            await google.colab.kernel.invokeFunction('convertToInteractive',\n",
              "                                                     [key], {});\n",
              "          if (!dataTable) return;\n",
              "\n",
              "          const docLinkHtml = 'Like what you see? Visit the ' +\n",
              "            '<a target=\"_blank\" href=https://colab.research.google.com/notebooks/data_table.ipynb>data table notebook</a>'\n",
              "            + ' to learn more about interactive tables.';\n",
              "          element.innerHTML = '';\n",
              "          dataTable['output_type'] = 'display_data';\n",
              "          await google.colab.output.renderOutput(dataTable, element);\n",
              "          const docLink = document.createElement('div');\n",
              "          docLink.innerHTML = docLinkHtml;\n",
              "          element.appendChild(docLink);\n",
              "        }\n",
              "      </script>\n",
              "    </div>\n",
              "  </div>\n",
              "  "
            ]
          },
          "metadata": {},
          "execution_count": 63
        }
      ],
      "source": [
        "dataset.fillna(0)"
      ]
    },
    {
      "cell_type": "code",
      "source": [
        "dataset.fillna(0, inplace = True)"
      ],
      "metadata": {
        "id": "NyYrErCqzWDr"
      },
      "execution_count": null,
      "outputs": []
    },
    {
      "cell_type": "code",
      "execution_count": null,
      "metadata": {
        "id": "OL04QU5RD1Be",
        "colab": {
          "base_uri": "https://localhost:8080/",
          "height": 206
        },
        "outputId": "23654ef9-9674-47f7-ca19-f10a22c6e180"
      },
      "outputs": [
        {
          "output_type": "execute_result",
          "data": {
            "text/plain": [
              "             Nombre            Motor   Año  Kilometraje  Cero_km  \\\n",
              "0     Jetta Variant  Motor 4.0 Turbo  2003      44410.0    False   \n",
              "1            Passat     Motor Diesel  1991       5712.0    False   \n",
              "2          Crossfox  Motor Diesel V8  1990      37123.0    False   \n",
              "3               DS5  Motor 2.4 Turbo  2019          0.0     True   \n",
              "4  Aston Martin DB4  Motor 2.4 Turbo  2006      25757.0    False   \n",
              "\n",
              "                                          Accesorios      Valor     km_media  \n",
              "0  ['Llantas de aleación', 'Cerraduras electricas...   88078.64  2220.500000  \n",
              "1  ['Central multimedia', 'Techo panorámico', 'Fr...  106161.94   178.500000  \n",
              "2  ['Piloto automático', 'Control de estabilidad'...   72832.16  1124.939394  \n",
              "3  ['Cerraduras electricas', '4 X 4', 'Ventanas e...  124549.07     0.000000  \n",
              "4  ['Llantas de aleación', '4 X 4', 'Central mult...   92612.10  1515.117647  "
            ],
            "text/html": [
              "\n",
              "  <div id=\"df-99a34657-6364-4f40-bd9b-e5b8a2b5ffb8\">\n",
              "    <div class=\"colab-df-container\">\n",
              "      <div>\n",
              "<style scoped>\n",
              "    .dataframe tbody tr th:only-of-type {\n",
              "        vertical-align: middle;\n",
              "    }\n",
              "\n",
              "    .dataframe tbody tr th {\n",
              "        vertical-align: top;\n",
              "    }\n",
              "\n",
              "    .dataframe thead th {\n",
              "        text-align: right;\n",
              "    }\n",
              "</style>\n",
              "<table border=\"1\" class=\"dataframe\">\n",
              "  <thead>\n",
              "    <tr style=\"text-align: right;\">\n",
              "      <th></th>\n",
              "      <th>Nombre</th>\n",
              "      <th>Motor</th>\n",
              "      <th>Año</th>\n",
              "      <th>Kilometraje</th>\n",
              "      <th>Cero_km</th>\n",
              "      <th>Accesorios</th>\n",
              "      <th>Valor</th>\n",
              "      <th>km_media</th>\n",
              "    </tr>\n",
              "  </thead>\n",
              "  <tbody>\n",
              "    <tr>\n",
              "      <th>0</th>\n",
              "      <td>Jetta Variant</td>\n",
              "      <td>Motor 4.0 Turbo</td>\n",
              "      <td>2003</td>\n",
              "      <td>44410.0</td>\n",
              "      <td>False</td>\n",
              "      <td>['Llantas de aleación', 'Cerraduras electricas...</td>\n",
              "      <td>88078.64</td>\n",
              "      <td>2220.500000</td>\n",
              "    </tr>\n",
              "    <tr>\n",
              "      <th>1</th>\n",
              "      <td>Passat</td>\n",
              "      <td>Motor Diesel</td>\n",
              "      <td>1991</td>\n",
              "      <td>5712.0</td>\n",
              "      <td>False</td>\n",
              "      <td>['Central multimedia', 'Techo panorámico', 'Fr...</td>\n",
              "      <td>106161.94</td>\n",
              "      <td>178.500000</td>\n",
              "    </tr>\n",
              "    <tr>\n",
              "      <th>2</th>\n",
              "      <td>Crossfox</td>\n",
              "      <td>Motor Diesel V8</td>\n",
              "      <td>1990</td>\n",
              "      <td>37123.0</td>\n",
              "      <td>False</td>\n",
              "      <td>['Piloto automático', 'Control de estabilidad'...</td>\n",
              "      <td>72832.16</td>\n",
              "      <td>1124.939394</td>\n",
              "    </tr>\n",
              "    <tr>\n",
              "      <th>3</th>\n",
              "      <td>DS5</td>\n",
              "      <td>Motor 2.4 Turbo</td>\n",
              "      <td>2019</td>\n",
              "      <td>0.0</td>\n",
              "      <td>True</td>\n",
              "      <td>['Cerraduras electricas', '4 X 4', 'Ventanas e...</td>\n",
              "      <td>124549.07</td>\n",
              "      <td>0.000000</td>\n",
              "    </tr>\n",
              "    <tr>\n",
              "      <th>4</th>\n",
              "      <td>Aston Martin DB4</td>\n",
              "      <td>Motor 2.4 Turbo</td>\n",
              "      <td>2006</td>\n",
              "      <td>25757.0</td>\n",
              "      <td>False</td>\n",
              "      <td>['Llantas de aleación', '4 X 4', 'Central mult...</td>\n",
              "      <td>92612.10</td>\n",
              "      <td>1515.117647</td>\n",
              "    </tr>\n",
              "  </tbody>\n",
              "</table>\n",
              "</div>\n",
              "      <button class=\"colab-df-convert\" onclick=\"convertToInteractive('df-99a34657-6364-4f40-bd9b-e5b8a2b5ffb8')\"\n",
              "              title=\"Convert this dataframe to an interactive table.\"\n",
              "              style=\"display:none;\">\n",
              "        \n",
              "  <svg xmlns=\"http://www.w3.org/2000/svg\" height=\"24px\"viewBox=\"0 0 24 24\"\n",
              "       width=\"24px\">\n",
              "    <path d=\"M0 0h24v24H0V0z\" fill=\"none\"/>\n",
              "    <path d=\"M18.56 5.44l.94 2.06.94-2.06 2.06-.94-2.06-.94-.94-2.06-.94 2.06-2.06.94zm-11 1L8.5 8.5l.94-2.06 2.06-.94-2.06-.94L8.5 2.5l-.94 2.06-2.06.94zm10 10l.94 2.06.94-2.06 2.06-.94-2.06-.94-.94-2.06-.94 2.06-2.06.94z\"/><path d=\"M17.41 7.96l-1.37-1.37c-.4-.4-.92-.59-1.43-.59-.52 0-1.04.2-1.43.59L10.3 9.45l-7.72 7.72c-.78.78-.78 2.05 0 2.83L4 21.41c.39.39.9.59 1.41.59.51 0 1.02-.2 1.41-.59l7.78-7.78 2.81-2.81c.8-.78.8-2.07 0-2.86zM5.41 20L4 18.59l7.72-7.72 1.47 1.35L5.41 20z\"/>\n",
              "  </svg>\n",
              "      </button>\n",
              "      \n",
              "  <style>\n",
              "    .colab-df-container {\n",
              "      display:flex;\n",
              "      flex-wrap:wrap;\n",
              "      gap: 12px;\n",
              "    }\n",
              "\n",
              "    .colab-df-convert {\n",
              "      background-color: #E8F0FE;\n",
              "      border: none;\n",
              "      border-radius: 50%;\n",
              "      cursor: pointer;\n",
              "      display: none;\n",
              "      fill: #1967D2;\n",
              "      height: 32px;\n",
              "      padding: 0 0 0 0;\n",
              "      width: 32px;\n",
              "    }\n",
              "\n",
              "    .colab-df-convert:hover {\n",
              "      background-color: #E2EBFA;\n",
              "      box-shadow: 0px 1px 2px rgba(60, 64, 67, 0.3), 0px 1px 3px 1px rgba(60, 64, 67, 0.15);\n",
              "      fill: #174EA6;\n",
              "    }\n",
              "\n",
              "    [theme=dark] .colab-df-convert {\n",
              "      background-color: #3B4455;\n",
              "      fill: #D2E3FC;\n",
              "    }\n",
              "\n",
              "    [theme=dark] .colab-df-convert:hover {\n",
              "      background-color: #434B5C;\n",
              "      box-shadow: 0px 1px 3px 1px rgba(0, 0, 0, 0.15);\n",
              "      filter: drop-shadow(0px 1px 2px rgba(0, 0, 0, 0.3));\n",
              "      fill: #FFFFFF;\n",
              "    }\n",
              "  </style>\n",
              "\n",
              "      <script>\n",
              "        const buttonEl =\n",
              "          document.querySelector('#df-99a34657-6364-4f40-bd9b-e5b8a2b5ffb8 button.colab-df-convert');\n",
              "        buttonEl.style.display =\n",
              "          google.colab.kernel.accessAllowed ? 'block' : 'none';\n",
              "\n",
              "        async function convertToInteractive(key) {\n",
              "          const element = document.querySelector('#df-99a34657-6364-4f40-bd9b-e5b8a2b5ffb8');\n",
              "          const dataTable =\n",
              "            await google.colab.kernel.invokeFunction('convertToInteractive',\n",
              "                                                     [key], {});\n",
              "          if (!dataTable) return;\n",
              "\n",
              "          const docLinkHtml = 'Like what you see? Visit the ' +\n",
              "            '<a target=\"_blank\" href=https://colab.research.google.com/notebooks/data_table.ipynb>data table notebook</a>'\n",
              "            + ' to learn more about interactive tables.';\n",
              "          element.innerHTML = '';\n",
              "          dataTable['output_type'] = 'display_data';\n",
              "          await google.colab.output.renderOutput(dataTable, element);\n",
              "          const docLink = document.createElement('div');\n",
              "          docLink.innerHTML = docLinkHtml;\n",
              "          element.appendChild(docLink);\n",
              "        }\n",
              "      </script>\n",
              "    </div>\n",
              "  </div>\n",
              "  "
            ]
          },
          "metadata": {},
          "execution_count": 65
        }
      ],
      "source": [
        "dataset.head()"
      ]
    },
    {
      "cell_type": "code",
      "execution_count": null,
      "metadata": {
        "id": "fTH2JkGDD1Bf",
        "scrolled": true,
        "colab": {
          "base_uri": "https://localhost:8080/",
          "height": 423
        },
        "outputId": "c5e903fe-b2f2-460b-e120-91092093bb4e"
      },
      "outputs": [
        {
          "output_type": "execute_result",
          "data": {
            "text/plain": [
              "                   Nombre            Motor   Año  Kilometraje  Cero_km  \\\n",
              "3                     DS5  Motor 2.4 Turbo  2019          0.0     True   \n",
              "6                      A5  Motor 4.0 Turbo  2019          0.0     True   \n",
              "13                     J5         Motor V6  2019          0.0     True   \n",
              "17                     A3     Motor 1.0 8v  2019          0.0     True   \n",
              "21              Série 1 M         Motor V8  2019          0.0     True   \n",
              "..                    ...              ...   ...          ...      ...   \n",
              "238  Lamborghini Reventón  Motor 4.0 Turbo  2019          0.0     True   \n",
              "242            Benni Mini         Motor V8  2019          0.0     True   \n",
              "243                   Uno  Motor Diesel V6  2019          0.0     True   \n",
              "245              Santa Fe    Motor 3.0 32v  2019          0.0     True   \n",
              "248                  XC60  Motor 4.0 Turbo  2019          0.0     True   \n",
              "\n",
              "                                            Accesorios      Valor  km_media  \n",
              "3    ['Cerraduras electricas', '4 X 4', 'Ventanas e...  124549.07       0.0  \n",
              "6    ['Transmisión automática', 'Cámara de estacion...   56445.20       0.0  \n",
              "13   ['Sensor crepuscular', 'Panel digital', 'Llant...   53183.38       0.0  \n",
              "17   ['4 X 4', 'Piloto automático', 'Central multim...   88552.39       0.0  \n",
              "21   ['Control de estabilidad', 'Central multimedia...   94564.40       0.0  \n",
              "..                                                 ...        ...       ...  \n",
              "238  ['Control de tracción', 'Aire condicionado', '...   67664.86       0.0  \n",
              "242  ['Sensor crepuscular', 'Transmisión automática...  126247.84       0.0  \n",
              "243  ['Central multimedia', 'Sensor crepuscular', '...  128852.21       0.0  \n",
              "245  ['Cerraduras electricas', 'Aire condicionado',...  129415.33       0.0  \n",
              "248  ['Panel digital', 'Piloto automático', 'Centra...   77675.79       0.0  \n",
              "\n",
              "[61 rows x 8 columns]"
            ],
            "text/html": [
              "\n",
              "  <div id=\"df-4824e109-76b3-41d8-8af6-8de5d3fc4697\">\n",
              "    <div class=\"colab-df-container\">\n",
              "      <div>\n",
              "<style scoped>\n",
              "    .dataframe tbody tr th:only-of-type {\n",
              "        vertical-align: middle;\n",
              "    }\n",
              "\n",
              "    .dataframe tbody tr th {\n",
              "        vertical-align: top;\n",
              "    }\n",
              "\n",
              "    .dataframe thead th {\n",
              "        text-align: right;\n",
              "    }\n",
              "</style>\n",
              "<table border=\"1\" class=\"dataframe\">\n",
              "  <thead>\n",
              "    <tr style=\"text-align: right;\">\n",
              "      <th></th>\n",
              "      <th>Nombre</th>\n",
              "      <th>Motor</th>\n",
              "      <th>Año</th>\n",
              "      <th>Kilometraje</th>\n",
              "      <th>Cero_km</th>\n",
              "      <th>Accesorios</th>\n",
              "      <th>Valor</th>\n",
              "      <th>km_media</th>\n",
              "    </tr>\n",
              "  </thead>\n",
              "  <tbody>\n",
              "    <tr>\n",
              "      <th>3</th>\n",
              "      <td>DS5</td>\n",
              "      <td>Motor 2.4 Turbo</td>\n",
              "      <td>2019</td>\n",
              "      <td>0.0</td>\n",
              "      <td>True</td>\n",
              "      <td>['Cerraduras electricas', '4 X 4', 'Ventanas e...</td>\n",
              "      <td>124549.07</td>\n",
              "      <td>0.0</td>\n",
              "    </tr>\n",
              "    <tr>\n",
              "      <th>6</th>\n",
              "      <td>A5</td>\n",
              "      <td>Motor 4.0 Turbo</td>\n",
              "      <td>2019</td>\n",
              "      <td>0.0</td>\n",
              "      <td>True</td>\n",
              "      <td>['Transmisión automática', 'Cámara de estacion...</td>\n",
              "      <td>56445.20</td>\n",
              "      <td>0.0</td>\n",
              "    </tr>\n",
              "    <tr>\n",
              "      <th>13</th>\n",
              "      <td>J5</td>\n",
              "      <td>Motor V6</td>\n",
              "      <td>2019</td>\n",
              "      <td>0.0</td>\n",
              "      <td>True</td>\n",
              "      <td>['Sensor crepuscular', 'Panel digital', 'Llant...</td>\n",
              "      <td>53183.38</td>\n",
              "      <td>0.0</td>\n",
              "    </tr>\n",
              "    <tr>\n",
              "      <th>17</th>\n",
              "      <td>A3</td>\n",
              "      <td>Motor 1.0 8v</td>\n",
              "      <td>2019</td>\n",
              "      <td>0.0</td>\n",
              "      <td>True</td>\n",
              "      <td>['4 X 4', 'Piloto automático', 'Central multim...</td>\n",
              "      <td>88552.39</td>\n",
              "      <td>0.0</td>\n",
              "    </tr>\n",
              "    <tr>\n",
              "      <th>21</th>\n",
              "      <td>Série 1 M</td>\n",
              "      <td>Motor V8</td>\n",
              "      <td>2019</td>\n",
              "      <td>0.0</td>\n",
              "      <td>True</td>\n",
              "      <td>['Control de estabilidad', 'Central multimedia...</td>\n",
              "      <td>94564.40</td>\n",
              "      <td>0.0</td>\n",
              "    </tr>\n",
              "    <tr>\n",
              "      <th>...</th>\n",
              "      <td>...</td>\n",
              "      <td>...</td>\n",
              "      <td>...</td>\n",
              "      <td>...</td>\n",
              "      <td>...</td>\n",
              "      <td>...</td>\n",
              "      <td>...</td>\n",
              "      <td>...</td>\n",
              "    </tr>\n",
              "    <tr>\n",
              "      <th>238</th>\n",
              "      <td>Lamborghini Reventón</td>\n",
              "      <td>Motor 4.0 Turbo</td>\n",
              "      <td>2019</td>\n",
              "      <td>0.0</td>\n",
              "      <td>True</td>\n",
              "      <td>['Control de tracción', 'Aire condicionado', '...</td>\n",
              "      <td>67664.86</td>\n",
              "      <td>0.0</td>\n",
              "    </tr>\n",
              "    <tr>\n",
              "      <th>242</th>\n",
              "      <td>Benni Mini</td>\n",
              "      <td>Motor V8</td>\n",
              "      <td>2019</td>\n",
              "      <td>0.0</td>\n",
              "      <td>True</td>\n",
              "      <td>['Sensor crepuscular', 'Transmisión automática...</td>\n",
              "      <td>126247.84</td>\n",
              "      <td>0.0</td>\n",
              "    </tr>\n",
              "    <tr>\n",
              "      <th>243</th>\n",
              "      <td>Uno</td>\n",
              "      <td>Motor Diesel V6</td>\n",
              "      <td>2019</td>\n",
              "      <td>0.0</td>\n",
              "      <td>True</td>\n",
              "      <td>['Central multimedia', 'Sensor crepuscular', '...</td>\n",
              "      <td>128852.21</td>\n",
              "      <td>0.0</td>\n",
              "    </tr>\n",
              "    <tr>\n",
              "      <th>245</th>\n",
              "      <td>Santa Fe</td>\n",
              "      <td>Motor 3.0 32v</td>\n",
              "      <td>2019</td>\n",
              "      <td>0.0</td>\n",
              "      <td>True</td>\n",
              "      <td>['Cerraduras electricas', 'Aire condicionado',...</td>\n",
              "      <td>129415.33</td>\n",
              "      <td>0.0</td>\n",
              "    </tr>\n",
              "    <tr>\n",
              "      <th>248</th>\n",
              "      <td>XC60</td>\n",
              "      <td>Motor 4.0 Turbo</td>\n",
              "      <td>2019</td>\n",
              "      <td>0.0</td>\n",
              "      <td>True</td>\n",
              "      <td>['Panel digital', 'Piloto automático', 'Centra...</td>\n",
              "      <td>77675.79</td>\n",
              "      <td>0.0</td>\n",
              "    </tr>\n",
              "  </tbody>\n",
              "</table>\n",
              "<p>61 rows × 8 columns</p>\n",
              "</div>\n",
              "      <button class=\"colab-df-convert\" onclick=\"convertToInteractive('df-4824e109-76b3-41d8-8af6-8de5d3fc4697')\"\n",
              "              title=\"Convert this dataframe to an interactive table.\"\n",
              "              style=\"display:none;\">\n",
              "        \n",
              "  <svg xmlns=\"http://www.w3.org/2000/svg\" height=\"24px\"viewBox=\"0 0 24 24\"\n",
              "       width=\"24px\">\n",
              "    <path d=\"M0 0h24v24H0V0z\" fill=\"none\"/>\n",
              "    <path d=\"M18.56 5.44l.94 2.06.94-2.06 2.06-.94-2.06-.94-.94-2.06-.94 2.06-2.06.94zm-11 1L8.5 8.5l.94-2.06 2.06-.94-2.06-.94L8.5 2.5l-.94 2.06-2.06.94zm10 10l.94 2.06.94-2.06 2.06-.94-2.06-.94-.94-2.06-.94 2.06-2.06.94z\"/><path d=\"M17.41 7.96l-1.37-1.37c-.4-.4-.92-.59-1.43-.59-.52 0-1.04.2-1.43.59L10.3 9.45l-7.72 7.72c-.78.78-.78 2.05 0 2.83L4 21.41c.39.39.9.59 1.41.59.51 0 1.02-.2 1.41-.59l7.78-7.78 2.81-2.81c.8-.78.8-2.07 0-2.86zM5.41 20L4 18.59l7.72-7.72 1.47 1.35L5.41 20z\"/>\n",
              "  </svg>\n",
              "      </button>\n",
              "      \n",
              "  <style>\n",
              "    .colab-df-container {\n",
              "      display:flex;\n",
              "      flex-wrap:wrap;\n",
              "      gap: 12px;\n",
              "    }\n",
              "\n",
              "    .colab-df-convert {\n",
              "      background-color: #E8F0FE;\n",
              "      border: none;\n",
              "      border-radius: 50%;\n",
              "      cursor: pointer;\n",
              "      display: none;\n",
              "      fill: #1967D2;\n",
              "      height: 32px;\n",
              "      padding: 0 0 0 0;\n",
              "      width: 32px;\n",
              "    }\n",
              "\n",
              "    .colab-df-convert:hover {\n",
              "      background-color: #E2EBFA;\n",
              "      box-shadow: 0px 1px 2px rgba(60, 64, 67, 0.3), 0px 1px 3px 1px rgba(60, 64, 67, 0.15);\n",
              "      fill: #174EA6;\n",
              "    }\n",
              "\n",
              "    [theme=dark] .colab-df-convert {\n",
              "      background-color: #3B4455;\n",
              "      fill: #D2E3FC;\n",
              "    }\n",
              "\n",
              "    [theme=dark] .colab-df-convert:hover {\n",
              "      background-color: #434B5C;\n",
              "      box-shadow: 0px 1px 3px 1px rgba(0, 0, 0, 0.15);\n",
              "      filter: drop-shadow(0px 1px 2px rgba(0, 0, 0, 0.3));\n",
              "      fill: #FFFFFF;\n",
              "    }\n",
              "  </style>\n",
              "\n",
              "      <script>\n",
              "        const buttonEl =\n",
              "          document.querySelector('#df-4824e109-76b3-41d8-8af6-8de5d3fc4697 button.colab-df-convert');\n",
              "        buttonEl.style.display =\n",
              "          google.colab.kernel.accessAllowed ? 'block' : 'none';\n",
              "\n",
              "        async function convertToInteractive(key) {\n",
              "          const element = document.querySelector('#df-4824e109-76b3-41d8-8af6-8de5d3fc4697');\n",
              "          const dataTable =\n",
              "            await google.colab.kernel.invokeFunction('convertToInteractive',\n",
              "                                                     [key], {});\n",
              "          if (!dataTable) return;\n",
              "\n",
              "          const docLinkHtml = 'Like what you see? Visit the ' +\n",
              "            '<a target=\"_blank\" href=https://colab.research.google.com/notebooks/data_table.ipynb>data table notebook</a>'\n",
              "            + ' to learn more about interactive tables.';\n",
              "          element.innerHTML = '';\n",
              "          dataTable['output_type'] = 'display_data';\n",
              "          await google.colab.output.renderOutput(dataTable, element);\n",
              "          const docLink = document.createElement('div');\n",
              "          docLink.innerHTML = docLinkHtml;\n",
              "          element.appendChild(docLink);\n",
              "        }\n",
              "      </script>\n",
              "    </div>\n",
              "  </div>\n",
              "  "
            ]
          },
          "metadata": {},
          "execution_count": 66
        }
      ],
      "source": [
        "dataset.query('Cero_km == True')"
      ]
    },
    {
      "cell_type": "code",
      "execution_count": null,
      "metadata": {
        "id": "lure2GvpD1Bg"
      },
      "outputs": [],
      "source": [
        "dataset = pd.read_csv('db.csv', sep=';')"
      ]
    },
    {
      "cell_type": "code",
      "execution_count": null,
      "metadata": {
        "id": "4-ZvhXjvD1Bj",
        "colab": {
          "base_uri": "https://localhost:8080/",
          "height": 206
        },
        "outputId": "ae09c9a8-4cc9-464d-e60f-e20f086cf82c"
      },
      "outputs": [
        {
          "output_type": "execute_result",
          "data": {
            "text/plain": [
              "             Nombre            Motor   Año  Kilometraje  Cero_km  \\\n",
              "0     Jetta Variant  Motor 4.0 Turbo  2003      44410.0    False   \n",
              "1            Passat     Motor Diesel  1991       5712.0    False   \n",
              "2          Crossfox  Motor Diesel V8  1990      37123.0    False   \n",
              "3               DS5  Motor 2.4 Turbo  2019          NaN     True   \n",
              "4  Aston Martin DB4  Motor 2.4 Turbo  2006      25757.0    False   \n",
              "\n",
              "                                          Accesorios      Valor  \n",
              "0  ['Llantas de aleación', 'Cerraduras electricas...   88078.64  \n",
              "1  ['Central multimedia', 'Techo panorámico', 'Fr...  106161.94  \n",
              "2  ['Piloto automático', 'Control de estabilidad'...   72832.16  \n",
              "3  ['Cerraduras electricas', '4 X 4', 'Ventanas e...  124549.07  \n",
              "4  ['Llantas de aleación', '4 X 4', 'Central mult...   92612.10  "
            ],
            "text/html": [
              "\n",
              "  <div id=\"df-20dc9fa8-03da-4174-ade3-5e035318dfe9\">\n",
              "    <div class=\"colab-df-container\">\n",
              "      <div>\n",
              "<style scoped>\n",
              "    .dataframe tbody tr th:only-of-type {\n",
              "        vertical-align: middle;\n",
              "    }\n",
              "\n",
              "    .dataframe tbody tr th {\n",
              "        vertical-align: top;\n",
              "    }\n",
              "\n",
              "    .dataframe thead th {\n",
              "        text-align: right;\n",
              "    }\n",
              "</style>\n",
              "<table border=\"1\" class=\"dataframe\">\n",
              "  <thead>\n",
              "    <tr style=\"text-align: right;\">\n",
              "      <th></th>\n",
              "      <th>Nombre</th>\n",
              "      <th>Motor</th>\n",
              "      <th>Año</th>\n",
              "      <th>Kilometraje</th>\n",
              "      <th>Cero_km</th>\n",
              "      <th>Accesorios</th>\n",
              "      <th>Valor</th>\n",
              "    </tr>\n",
              "  </thead>\n",
              "  <tbody>\n",
              "    <tr>\n",
              "      <th>0</th>\n",
              "      <td>Jetta Variant</td>\n",
              "      <td>Motor 4.0 Turbo</td>\n",
              "      <td>2003</td>\n",
              "      <td>44410.0</td>\n",
              "      <td>False</td>\n",
              "      <td>['Llantas de aleación', 'Cerraduras electricas...</td>\n",
              "      <td>88078.64</td>\n",
              "    </tr>\n",
              "    <tr>\n",
              "      <th>1</th>\n",
              "      <td>Passat</td>\n",
              "      <td>Motor Diesel</td>\n",
              "      <td>1991</td>\n",
              "      <td>5712.0</td>\n",
              "      <td>False</td>\n",
              "      <td>['Central multimedia', 'Techo panorámico', 'Fr...</td>\n",
              "      <td>106161.94</td>\n",
              "    </tr>\n",
              "    <tr>\n",
              "      <th>2</th>\n",
              "      <td>Crossfox</td>\n",
              "      <td>Motor Diesel V8</td>\n",
              "      <td>1990</td>\n",
              "      <td>37123.0</td>\n",
              "      <td>False</td>\n",
              "      <td>['Piloto automático', 'Control de estabilidad'...</td>\n",
              "      <td>72832.16</td>\n",
              "    </tr>\n",
              "    <tr>\n",
              "      <th>3</th>\n",
              "      <td>DS5</td>\n",
              "      <td>Motor 2.4 Turbo</td>\n",
              "      <td>2019</td>\n",
              "      <td>NaN</td>\n",
              "      <td>True</td>\n",
              "      <td>['Cerraduras electricas', '4 X 4', 'Ventanas e...</td>\n",
              "      <td>124549.07</td>\n",
              "    </tr>\n",
              "    <tr>\n",
              "      <th>4</th>\n",
              "      <td>Aston Martin DB4</td>\n",
              "      <td>Motor 2.4 Turbo</td>\n",
              "      <td>2006</td>\n",
              "      <td>25757.0</td>\n",
              "      <td>False</td>\n",
              "      <td>['Llantas de aleación', '4 X 4', 'Central mult...</td>\n",
              "      <td>92612.10</td>\n",
              "    </tr>\n",
              "  </tbody>\n",
              "</table>\n",
              "</div>\n",
              "      <button class=\"colab-df-convert\" onclick=\"convertToInteractive('df-20dc9fa8-03da-4174-ade3-5e035318dfe9')\"\n",
              "              title=\"Convert this dataframe to an interactive table.\"\n",
              "              style=\"display:none;\">\n",
              "        \n",
              "  <svg xmlns=\"http://www.w3.org/2000/svg\" height=\"24px\"viewBox=\"0 0 24 24\"\n",
              "       width=\"24px\">\n",
              "    <path d=\"M0 0h24v24H0V0z\" fill=\"none\"/>\n",
              "    <path d=\"M18.56 5.44l.94 2.06.94-2.06 2.06-.94-2.06-.94-.94-2.06-.94 2.06-2.06.94zm-11 1L8.5 8.5l.94-2.06 2.06-.94-2.06-.94L8.5 2.5l-.94 2.06-2.06.94zm10 10l.94 2.06.94-2.06 2.06-.94-2.06-.94-.94-2.06-.94 2.06-2.06.94z\"/><path d=\"M17.41 7.96l-1.37-1.37c-.4-.4-.92-.59-1.43-.59-.52 0-1.04.2-1.43.59L10.3 9.45l-7.72 7.72c-.78.78-.78 2.05 0 2.83L4 21.41c.39.39.9.59 1.41.59.51 0 1.02-.2 1.41-.59l7.78-7.78 2.81-2.81c.8-.78.8-2.07 0-2.86zM5.41 20L4 18.59l7.72-7.72 1.47 1.35L5.41 20z\"/>\n",
              "  </svg>\n",
              "      </button>\n",
              "      \n",
              "  <style>\n",
              "    .colab-df-container {\n",
              "      display:flex;\n",
              "      flex-wrap:wrap;\n",
              "      gap: 12px;\n",
              "    }\n",
              "\n",
              "    .colab-df-convert {\n",
              "      background-color: #E8F0FE;\n",
              "      border: none;\n",
              "      border-radius: 50%;\n",
              "      cursor: pointer;\n",
              "      display: none;\n",
              "      fill: #1967D2;\n",
              "      height: 32px;\n",
              "      padding: 0 0 0 0;\n",
              "      width: 32px;\n",
              "    }\n",
              "\n",
              "    .colab-df-convert:hover {\n",
              "      background-color: #E2EBFA;\n",
              "      box-shadow: 0px 1px 2px rgba(60, 64, 67, 0.3), 0px 1px 3px 1px rgba(60, 64, 67, 0.15);\n",
              "      fill: #174EA6;\n",
              "    }\n",
              "\n",
              "    [theme=dark] .colab-df-convert {\n",
              "      background-color: #3B4455;\n",
              "      fill: #D2E3FC;\n",
              "    }\n",
              "\n",
              "    [theme=dark] .colab-df-convert:hover {\n",
              "      background-color: #434B5C;\n",
              "      box-shadow: 0px 1px 3px 1px rgba(0, 0, 0, 0.15);\n",
              "      filter: drop-shadow(0px 1px 2px rgba(0, 0, 0, 0.3));\n",
              "      fill: #FFFFFF;\n",
              "    }\n",
              "  </style>\n",
              "\n",
              "      <script>\n",
              "        const buttonEl =\n",
              "          document.querySelector('#df-20dc9fa8-03da-4174-ade3-5e035318dfe9 button.colab-df-convert');\n",
              "        buttonEl.style.display =\n",
              "          google.colab.kernel.accessAllowed ? 'block' : 'none';\n",
              "\n",
              "        async function convertToInteractive(key) {\n",
              "          const element = document.querySelector('#df-20dc9fa8-03da-4174-ade3-5e035318dfe9');\n",
              "          const dataTable =\n",
              "            await google.colab.kernel.invokeFunction('convertToInteractive',\n",
              "                                                     [key], {});\n",
              "          if (!dataTable) return;\n",
              "\n",
              "          const docLinkHtml = 'Like what you see? Visit the ' +\n",
              "            '<a target=\"_blank\" href=https://colab.research.google.com/notebooks/data_table.ipynb>data table notebook</a>'\n",
              "            + ' to learn more about interactive tables.';\n",
              "          element.innerHTML = '';\n",
              "          dataTable['output_type'] = 'display_data';\n",
              "          await google.colab.output.renderOutput(dataTable, element);\n",
              "          const docLink = document.createElement('div');\n",
              "          docLink.innerHTML = docLinkHtml;\n",
              "          element.appendChild(docLink);\n",
              "        }\n",
              "      </script>\n",
              "    </div>\n",
              "  </div>\n",
              "  "
            ]
          },
          "metadata": {},
          "execution_count": 69
        }
      ],
      "source": [
        "dataset.head()"
      ]
    },
    {
      "cell_type": "code",
      "execution_count": null,
      "metadata": {
        "id": "MQUw7i1OD1Bk",
        "scrolled": true
      },
      "outputs": [],
      "source": [
        "dataset.dropna(subset='Kilometraje', inplace = True)"
      ]
    },
    {
      "cell_type": "code",
      "execution_count": null,
      "metadata": {
        "id": "U4Cse7miD1Bl",
        "colab": {
          "base_uri": "https://localhost:8080/",
          "height": 206
        },
        "outputId": "a0f7fae2-ec0b-47d6-d387-71ba9e62a443"
      },
      "outputs": [
        {
          "output_type": "execute_result",
          "data": {
            "text/plain": [
              "             Nombre            Motor   Año  Kilometraje  Cero_km  \\\n",
              "0     Jetta Variant  Motor 4.0 Turbo  2003      44410.0    False   \n",
              "1            Passat     Motor Diesel  1991       5712.0    False   \n",
              "2          Crossfox  Motor Diesel V8  1990      37123.0    False   \n",
              "4  Aston Martin DB4  Motor 2.4 Turbo  2006      25757.0    False   \n",
              "5     Palio Weekend    Motor 1.8 16v  2012      10728.0    False   \n",
              "\n",
              "                                          Accesorios      Valor  \n",
              "0  ['Llantas de aleación', 'Cerraduras electricas...   88078.64  \n",
              "1  ['Central multimedia', 'Techo panorámico', 'Fr...  106161.94  \n",
              "2  ['Piloto automático', 'Control de estabilidad'...   72832.16  \n",
              "4  ['Llantas de aleación', '4 X 4', 'Central mult...   92612.10  \n",
              "5  ['Sensor de estacionamiento', 'Techo panorámic...   97497.73  "
            ],
            "text/html": [
              "\n",
              "  <div id=\"df-099d5854-9cfc-4a4a-a470-6a1f5ec03936\">\n",
              "    <div class=\"colab-df-container\">\n",
              "      <div>\n",
              "<style scoped>\n",
              "    .dataframe tbody tr th:only-of-type {\n",
              "        vertical-align: middle;\n",
              "    }\n",
              "\n",
              "    .dataframe tbody tr th {\n",
              "        vertical-align: top;\n",
              "    }\n",
              "\n",
              "    .dataframe thead th {\n",
              "        text-align: right;\n",
              "    }\n",
              "</style>\n",
              "<table border=\"1\" class=\"dataframe\">\n",
              "  <thead>\n",
              "    <tr style=\"text-align: right;\">\n",
              "      <th></th>\n",
              "      <th>Nombre</th>\n",
              "      <th>Motor</th>\n",
              "      <th>Año</th>\n",
              "      <th>Kilometraje</th>\n",
              "      <th>Cero_km</th>\n",
              "      <th>Accesorios</th>\n",
              "      <th>Valor</th>\n",
              "    </tr>\n",
              "  </thead>\n",
              "  <tbody>\n",
              "    <tr>\n",
              "      <th>0</th>\n",
              "      <td>Jetta Variant</td>\n",
              "      <td>Motor 4.0 Turbo</td>\n",
              "      <td>2003</td>\n",
              "      <td>44410.0</td>\n",
              "      <td>False</td>\n",
              "      <td>['Llantas de aleación', 'Cerraduras electricas...</td>\n",
              "      <td>88078.64</td>\n",
              "    </tr>\n",
              "    <tr>\n",
              "      <th>1</th>\n",
              "      <td>Passat</td>\n",
              "      <td>Motor Diesel</td>\n",
              "      <td>1991</td>\n",
              "      <td>5712.0</td>\n",
              "      <td>False</td>\n",
              "      <td>['Central multimedia', 'Techo panorámico', 'Fr...</td>\n",
              "      <td>106161.94</td>\n",
              "    </tr>\n",
              "    <tr>\n",
              "      <th>2</th>\n",
              "      <td>Crossfox</td>\n",
              "      <td>Motor Diesel V8</td>\n",
              "      <td>1990</td>\n",
              "      <td>37123.0</td>\n",
              "      <td>False</td>\n",
              "      <td>['Piloto automático', 'Control de estabilidad'...</td>\n",
              "      <td>72832.16</td>\n",
              "    </tr>\n",
              "    <tr>\n",
              "      <th>4</th>\n",
              "      <td>Aston Martin DB4</td>\n",
              "      <td>Motor 2.4 Turbo</td>\n",
              "      <td>2006</td>\n",
              "      <td>25757.0</td>\n",
              "      <td>False</td>\n",
              "      <td>['Llantas de aleación', '4 X 4', 'Central mult...</td>\n",
              "      <td>92612.10</td>\n",
              "    </tr>\n",
              "    <tr>\n",
              "      <th>5</th>\n",
              "      <td>Palio Weekend</td>\n",
              "      <td>Motor 1.8 16v</td>\n",
              "      <td>2012</td>\n",
              "      <td>10728.0</td>\n",
              "      <td>False</td>\n",
              "      <td>['Sensor de estacionamiento', 'Techo panorámic...</td>\n",
              "      <td>97497.73</td>\n",
              "    </tr>\n",
              "  </tbody>\n",
              "</table>\n",
              "</div>\n",
              "      <button class=\"colab-df-convert\" onclick=\"convertToInteractive('df-099d5854-9cfc-4a4a-a470-6a1f5ec03936')\"\n",
              "              title=\"Convert this dataframe to an interactive table.\"\n",
              "              style=\"display:none;\">\n",
              "        \n",
              "  <svg xmlns=\"http://www.w3.org/2000/svg\" height=\"24px\"viewBox=\"0 0 24 24\"\n",
              "       width=\"24px\">\n",
              "    <path d=\"M0 0h24v24H0V0z\" fill=\"none\"/>\n",
              "    <path d=\"M18.56 5.44l.94 2.06.94-2.06 2.06-.94-2.06-.94-.94-2.06-.94 2.06-2.06.94zm-11 1L8.5 8.5l.94-2.06 2.06-.94-2.06-.94L8.5 2.5l-.94 2.06-2.06.94zm10 10l.94 2.06.94-2.06 2.06-.94-2.06-.94-.94-2.06-.94 2.06-2.06.94z\"/><path d=\"M17.41 7.96l-1.37-1.37c-.4-.4-.92-.59-1.43-.59-.52 0-1.04.2-1.43.59L10.3 9.45l-7.72 7.72c-.78.78-.78 2.05 0 2.83L4 21.41c.39.39.9.59 1.41.59.51 0 1.02-.2 1.41-.59l7.78-7.78 2.81-2.81c.8-.78.8-2.07 0-2.86zM5.41 20L4 18.59l7.72-7.72 1.47 1.35L5.41 20z\"/>\n",
              "  </svg>\n",
              "      </button>\n",
              "      \n",
              "  <style>\n",
              "    .colab-df-container {\n",
              "      display:flex;\n",
              "      flex-wrap:wrap;\n",
              "      gap: 12px;\n",
              "    }\n",
              "\n",
              "    .colab-df-convert {\n",
              "      background-color: #E8F0FE;\n",
              "      border: none;\n",
              "      border-radius: 50%;\n",
              "      cursor: pointer;\n",
              "      display: none;\n",
              "      fill: #1967D2;\n",
              "      height: 32px;\n",
              "      padding: 0 0 0 0;\n",
              "      width: 32px;\n",
              "    }\n",
              "\n",
              "    .colab-df-convert:hover {\n",
              "      background-color: #E2EBFA;\n",
              "      box-shadow: 0px 1px 2px rgba(60, 64, 67, 0.3), 0px 1px 3px 1px rgba(60, 64, 67, 0.15);\n",
              "      fill: #174EA6;\n",
              "    }\n",
              "\n",
              "    [theme=dark] .colab-df-convert {\n",
              "      background-color: #3B4455;\n",
              "      fill: #D2E3FC;\n",
              "    }\n",
              "\n",
              "    [theme=dark] .colab-df-convert:hover {\n",
              "      background-color: #434B5C;\n",
              "      box-shadow: 0px 1px 3px 1px rgba(0, 0, 0, 0.15);\n",
              "      filter: drop-shadow(0px 1px 2px rgba(0, 0, 0, 0.3));\n",
              "      fill: #FFFFFF;\n",
              "    }\n",
              "  </style>\n",
              "\n",
              "      <script>\n",
              "        const buttonEl =\n",
              "          document.querySelector('#df-099d5854-9cfc-4a4a-a470-6a1f5ec03936 button.colab-df-convert');\n",
              "        buttonEl.style.display =\n",
              "          google.colab.kernel.accessAllowed ? 'block' : 'none';\n",
              "\n",
              "        async function convertToInteractive(key) {\n",
              "          const element = document.querySelector('#df-099d5854-9cfc-4a4a-a470-6a1f5ec03936');\n",
              "          const dataTable =\n",
              "            await google.colab.kernel.invokeFunction('convertToInteractive',\n",
              "                                                     [key], {});\n",
              "          if (!dataTable) return;\n",
              "\n",
              "          const docLinkHtml = 'Like what you see? Visit the ' +\n",
              "            '<a target=\"_blank\" href=https://colab.research.google.com/notebooks/data_table.ipynb>data table notebook</a>'\n",
              "            + ' to learn more about interactive tables.';\n",
              "          element.innerHTML = '';\n",
              "          dataTable['output_type'] = 'display_data';\n",
              "          await google.colab.output.renderOutput(dataTable, element);\n",
              "          const docLink = document.createElement('div');\n",
              "          docLink.innerHTML = docLinkHtml;\n",
              "          element.appendChild(docLink);\n",
              "        }\n",
              "      </script>\n",
              "    </div>\n",
              "  </div>\n",
              "  "
            ]
          },
          "metadata": {},
          "execution_count": 71
        }
      ],
      "source": [
        "dataset.head()"
      ]
    },
    {
      "cell_type": "code",
      "execution_count": null,
      "metadata": {
        "id": "8L4wum05D1Bl",
        "scrolled": true
      },
      "outputs": [],
      "source": []
    },
    {
      "cell_type": "code",
      "execution_count": null,
      "metadata": {
        "id": "8iLOc-U3D1Bm"
      },
      "outputs": [],
      "source": []
    }
  ],
  "metadata": {
    "colab": {
      "provenance": [],
      "include_colab_link": true
    },
    "kernelspec": {
      "display_name": "Python 3",
      "language": "python",
      "name": "python3"
    },
    "language_info": {
      "codemirror_mode": {
        "name": "ipython",
        "version": 3
      },
      "file_extension": ".py",
      "mimetype": "text/x-python",
      "name": "python",
      "nbconvert_exporter": "python",
      "pygments_lexer": "ipython3",
      "version": "3.7.1"
    }
  },
  "nbformat": 4,
  "nbformat_minor": 0
}